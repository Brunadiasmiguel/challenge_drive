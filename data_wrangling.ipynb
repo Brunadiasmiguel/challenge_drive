{
 "cells": [
  {
   "cell_type": "markdown",
   "metadata": {},
   "source": [
    "# Driver file"
   ]
  },
  {
   "cell_type": "code",
   "execution_count": 1,
   "metadata": {},
   "outputs": [],
   "source": [
    "\n",
    "#importing libraries\n",
    "\n",
    "import pandas as pd\n",
    "import numpy as np"
   ]
  },
  {
   "cell_type": "code",
   "execution_count": 2,
   "metadata": {},
   "outputs": [],
   "source": [
    "#importing driver id file\n",
    "\n",
    "driverid=pd.read_csv(\"data/driver_ids.csv\")"
   ]
  },
  {
   "cell_type": "code",
   "execution_count": 3,
   "metadata": {},
   "outputs": [
    {
     "data": {
      "text/html": [
       "<div>\n",
       "<style scoped>\n",
       "    .dataframe tbody tr th:only-of-type {\n",
       "        vertical-align: middle;\n",
       "    }\n",
       "\n",
       "    .dataframe tbody tr th {\n",
       "        vertical-align: top;\n",
       "    }\n",
       "\n",
       "    .dataframe thead th {\n",
       "        text-align: right;\n",
       "    }\n",
       "</style>\n",
       "<table border=\"1\" class=\"dataframe\">\n",
       "  <thead>\n",
       "    <tr style=\"text-align: right;\">\n",
       "      <th></th>\n",
       "      <th>driver_id</th>\n",
       "      <th>driver_onboard_date</th>\n",
       "    </tr>\n",
       "  </thead>\n",
       "  <tbody>\n",
       "    <tr>\n",
       "      <th>0</th>\n",
       "      <td>002be0ffdc997bd5c50703158b7c2491</td>\n",
       "      <td>2016-03-29 00:00:00</td>\n",
       "    </tr>\n",
       "    <tr>\n",
       "      <th>1</th>\n",
       "      <td>007f0389f9c7b03ef97098422f902e62</td>\n",
       "      <td>2016-03-29 00:00:00</td>\n",
       "    </tr>\n",
       "    <tr>\n",
       "      <th>2</th>\n",
       "      <td>011e5c5dfc5c2c92501b8b24d47509bc</td>\n",
       "      <td>2016-04-05 00:00:00</td>\n",
       "    </tr>\n",
       "    <tr>\n",
       "      <th>3</th>\n",
       "      <td>0152a2f305e71d26cc964f8d4411add9</td>\n",
       "      <td>2016-04-23 00:00:00</td>\n",
       "    </tr>\n",
       "    <tr>\n",
       "      <th>4</th>\n",
       "      <td>01674381af7edd264113d4e6ed55ecda</td>\n",
       "      <td>2016-04-29 00:00:00</td>\n",
       "    </tr>\n",
       "    <tr>\n",
       "      <th>5</th>\n",
       "      <td>01788cf817698fe68eaecd7eb18b2f72</td>\n",
       "      <td>2016-05-06 00:00:00</td>\n",
       "    </tr>\n",
       "    <tr>\n",
       "      <th>6</th>\n",
       "      <td>0213f8b59219e32142711992ca4ec01f</td>\n",
       "      <td>2016-04-07 00:00:00</td>\n",
       "    </tr>\n",
       "    <tr>\n",
       "      <th>7</th>\n",
       "      <td>021e5cd15ef0bb3ec20a12af99e142b3</td>\n",
       "      <td>2016-05-07 00:00:00</td>\n",
       "    </tr>\n",
       "    <tr>\n",
       "      <th>8</th>\n",
       "      <td>0258e250ca195cc6258cbdc75aecd853</td>\n",
       "      <td>2016-04-26 00:00:00</td>\n",
       "    </tr>\n",
       "    <tr>\n",
       "      <th>9</th>\n",
       "      <td>028b5a4dcd7f4924ebfabcf2e814c014</td>\n",
       "      <td>2016-05-06 00:00:00</td>\n",
       "    </tr>\n",
       "  </tbody>\n",
       "</table>\n",
       "</div>"
      ],
      "text/plain": [
       "                          driver_id  driver_onboard_date\n",
       "0  002be0ffdc997bd5c50703158b7c2491  2016-03-29 00:00:00\n",
       "1  007f0389f9c7b03ef97098422f902e62  2016-03-29 00:00:00\n",
       "2  011e5c5dfc5c2c92501b8b24d47509bc  2016-04-05 00:00:00\n",
       "3  0152a2f305e71d26cc964f8d4411add9  2016-04-23 00:00:00\n",
       "4  01674381af7edd264113d4e6ed55ecda  2016-04-29 00:00:00\n",
       "5  01788cf817698fe68eaecd7eb18b2f72  2016-05-06 00:00:00\n",
       "6  0213f8b59219e32142711992ca4ec01f  2016-04-07 00:00:00\n",
       "7  021e5cd15ef0bb3ec20a12af99e142b3  2016-05-07 00:00:00\n",
       "8  0258e250ca195cc6258cbdc75aecd853  2016-04-26 00:00:00\n",
       "9  028b5a4dcd7f4924ebfabcf2e814c014  2016-05-06 00:00:00"
      ]
     },
     "execution_count": 3,
     "metadata": {},
     "output_type": "execute_result"
    },
    {
     "data": {
      "text/html": [
       "<div>\n",
       "<style scoped>\n",
       "    .dataframe tbody tr th:only-of-type {\n",
       "        vertical-align: middle;\n",
       "    }\n",
       "\n",
       "    .dataframe tbody tr th {\n",
       "        vertical-align: top;\n",
       "    }\n",
       "\n",
       "    .dataframe thead th {\n",
       "        text-align: right;\n",
       "    }\n",
       "</style>\n",
       "<table border=\"1\" class=\"dataframe\">\n",
       "  <thead>\n",
       "    <tr style=\"text-align: right;\">\n",
       "      <th></th>\n",
       "      <th>driver_id</th>\n",
       "      <th>driver_onboard_date</th>\n",
       "    </tr>\n",
       "  </thead>\n",
       "  <tbody>\n",
       "    <tr>\n",
       "      <th>0</th>\n",
       "      <td>002be0ffdc997bd5c50703158b7c2491</td>\n",
       "      <td>2016-03-29 00:00:00</td>\n",
       "    </tr>\n",
       "    <tr>\n",
       "      <th>1</th>\n",
       "      <td>007f0389f9c7b03ef97098422f902e62</td>\n",
       "      <td>2016-03-29 00:00:00</td>\n",
       "    </tr>\n",
       "    <tr>\n",
       "      <th>2</th>\n",
       "      <td>011e5c5dfc5c2c92501b8b24d47509bc</td>\n",
       "      <td>2016-04-05 00:00:00</td>\n",
       "    </tr>\n",
       "    <tr>\n",
       "      <th>3</th>\n",
       "      <td>0152a2f305e71d26cc964f8d4411add9</td>\n",
       "      <td>2016-04-23 00:00:00</td>\n",
       "    </tr>\n",
       "    <tr>\n",
       "      <th>4</th>\n",
       "      <td>01674381af7edd264113d4e6ed55ecda</td>\n",
       "      <td>2016-04-29 00:00:00</td>\n",
       "    </tr>\n",
       "    <tr>\n",
       "      <th>5</th>\n",
       "      <td>01788cf817698fe68eaecd7eb18b2f72</td>\n",
       "      <td>2016-05-06 00:00:00</td>\n",
       "    </tr>\n",
       "    <tr>\n",
       "      <th>6</th>\n",
       "      <td>0213f8b59219e32142711992ca4ec01f</td>\n",
       "      <td>2016-04-07 00:00:00</td>\n",
       "    </tr>\n",
       "    <tr>\n",
       "      <th>7</th>\n",
       "      <td>021e5cd15ef0bb3ec20a12af99e142b3</td>\n",
       "      <td>2016-05-07 00:00:00</td>\n",
       "    </tr>\n",
       "    <tr>\n",
       "      <th>8</th>\n",
       "      <td>0258e250ca195cc6258cbdc75aecd853</td>\n",
       "      <td>2016-04-26 00:00:00</td>\n",
       "    </tr>\n",
       "    <tr>\n",
       "      <th>9</th>\n",
       "      <td>028b5a4dcd7f4924ebfabcf2e814c014</td>\n",
       "      <td>2016-05-06 00:00:00</td>\n",
       "    </tr>\n",
       "  </tbody>\n",
       "</table>\n",
       "</div>"
      ],
      "text/plain": [
       "                          driver_id  driver_onboard_date\n",
       "0  002be0ffdc997bd5c50703158b7c2491  2016-03-29 00:00:00\n",
       "1  007f0389f9c7b03ef97098422f902e62  2016-03-29 00:00:00\n",
       "2  011e5c5dfc5c2c92501b8b24d47509bc  2016-04-05 00:00:00\n",
       "3  0152a2f305e71d26cc964f8d4411add9  2016-04-23 00:00:00\n",
       "4  01674381af7edd264113d4e6ed55ecda  2016-04-29 00:00:00\n",
       "5  01788cf817698fe68eaecd7eb18b2f72  2016-05-06 00:00:00\n",
       "6  0213f8b59219e32142711992ca4ec01f  2016-04-07 00:00:00\n",
       "7  021e5cd15ef0bb3ec20a12af99e142b3  2016-05-07 00:00:00\n",
       "8  0258e250ca195cc6258cbdc75aecd853  2016-04-26 00:00:00\n",
       "9  028b5a4dcd7f4924ebfabcf2e814c014  2016-05-06 00:00:00"
      ]
     },
     "execution_count": 3,
     "metadata": {},
     "output_type": "execute_result"
    }
   ],
   "source": [
    "#check file\n",
    "\n",
    "driverid.head(10)"
   ]
  },
  {
   "cell_type": "code",
   "execution_count": 4,
   "metadata": {},
   "outputs": [
    {
     "data": {
      "text/plain": [
       "driver_id              object\n",
       "driver_onboard_date    object\n",
       "dtype: object"
      ]
     },
     "execution_count": 4,
     "metadata": {},
     "output_type": "execute_result"
    },
    {
     "data": {
      "text/plain": [
       "driver_id              object\n",
       "driver_onboard_date    object\n",
       "dtype: object"
      ]
     },
     "execution_count": 4,
     "metadata": {},
     "output_type": "execute_result"
    }
   ],
   "source": [
    "#check the types\n",
    "\n",
    "driverid.dtypes"
   ]
  },
  {
   "cell_type": "code",
   "execution_count": 5,
   "metadata": {},
   "outputs": [
    {
     "data": {
      "text/plain": [
       "RangeIndex(start=0, stop=937, step=1)"
      ]
     },
     "execution_count": 5,
     "metadata": {},
     "output_type": "execute_result"
    },
    {
     "data": {
      "text/plain": [
       "RangeIndex(start=0, stop=937, step=1)"
      ]
     },
     "execution_count": 5,
     "metadata": {},
     "output_type": "execute_result"
    }
   ],
   "source": [
    "#check dataframe size\n",
    "\n",
    "driverid.index"
   ]
  },
  {
   "cell_type": "code",
   "execution_count": 6,
   "metadata": {},
   "outputs": [
    {
     "data": {
      "text/plain": [
       "driver_id  driver_onboard_date\n",
       "False      False                  937\n",
       "dtype: int64"
      ]
     },
     "execution_count": 6,
     "metadata": {},
     "output_type": "execute_result"
    },
    {
     "data": {
      "text/plain": [
       "driver_id  driver_onboard_date\n",
       "False      False                  937\n",
       "dtype: int64"
      ]
     },
     "execution_count": 6,
     "metadata": {},
     "output_type": "execute_result"
    }
   ],
   "source": [
    "#check nulls\n",
    "\n",
    "driverid.isnull().value_counts()"
   ]
  },
  {
   "cell_type": "code",
   "execution_count": 7,
   "metadata": {},
   "outputs": [
    {
     "data": {
      "text/plain": [
       "afc7a3f83a5e5cc87136bceacceed8af    1\n",
       "38510028b6d34d1b1339fa4e70783563    1\n",
       "370412f2a2747c1fdf8e807374c04a3d    1\n",
       "30e91f4104a6b5b0450588d8febddd93    1\n",
       "557b608dc1196be486e4928b62098895    1\n",
       "                                   ..\n",
       "eeb00fe9de3e348006f6f7128e6cf4e3    1\n",
       "b8df3a1ffca045016321353536ac86cf    1\n",
       "cea2a4389f823240e8dfbc3ea95e42f0    1\n",
       "1936275dcb0942dc60a378839fae4730    1\n",
       "fdbee494c73577d5b1266d1fec5c6c9a    1\n",
       "Name: driver_id, Length: 937, dtype: int64"
      ]
     },
     "execution_count": 7,
     "metadata": {},
     "output_type": "execute_result"
    },
    {
     "data": {
      "text/plain": [
       "afc7a3f83a5e5cc87136bceacceed8af    1\n",
       "38510028b6d34d1b1339fa4e70783563    1\n",
       "370412f2a2747c1fdf8e807374c04a3d    1\n",
       "30e91f4104a6b5b0450588d8febddd93    1\n",
       "557b608dc1196be486e4928b62098895    1\n",
       "                                   ..\n",
       "eeb00fe9de3e348006f6f7128e6cf4e3    1\n",
       "b8df3a1ffca045016321353536ac86cf    1\n",
       "cea2a4389f823240e8dfbc3ea95e42f0    1\n",
       "1936275dcb0942dc60a378839fae4730    1\n",
       "fdbee494c73577d5b1266d1fec5c6c9a    1\n",
       "Name: driver_id, Length: 937, dtype: int64"
      ]
     },
     "execution_count": 7,
     "metadata": {},
     "output_type": "execute_result"
    }
   ],
   "source": [
    "#check if driver is unique\n",
    "\n",
    "\n",
    "driverid['driver_id'].value_counts().sort_values(ascending=False)\n"
   ]
  },
  {
   "cell_type": "code",
   "execution_count": 8,
   "metadata": {},
   "outputs": [],
   "source": [
    "#change to date time\n",
    "\n",
    "driverid['driver_onboard_date']=pd.to_datetime(driverid['driver_onboard_date'],errors='coerce')"
   ]
  },
  {
   "cell_type": "code",
   "execution_count": 9,
   "metadata": {},
   "outputs": [
    {
     "data": {
      "text/plain": [
       "driver_id                      object\n",
       "driver_onboard_date    datetime64[ns]\n",
       "dtype: object"
      ]
     },
     "execution_count": 9,
     "metadata": {},
     "output_type": "execute_result"
    },
    {
     "data": {
      "text/plain": [
       "driver_id                      object\n",
       "driver_onboard_date    datetime64[ns]\n",
       "dtype: object"
      ]
     },
     "execution_count": 9,
     "metadata": {},
     "output_type": "execute_result"
    }
   ],
   "source": [
    "#confirm\n",
    "\n",
    "driverid.dtypes"
   ]
  },
  {
   "cell_type": "code",
   "execution_count": 10,
   "metadata": {},
   "outputs": [
    {
     "data": {
      "text/plain": [
       "2016    937\n",
       "Name: driver_onboard_date, dtype: int64"
      ]
     },
     "execution_count": 10,
     "metadata": {},
     "output_type": "execute_result"
    },
    {
     "data": {
      "text/plain": [
       "2016    937\n",
       "Name: driver_onboard_date, dtype: int64"
      ]
     },
     "execution_count": 10,
     "metadata": {},
     "output_type": "execute_result"
    }
   ],
   "source": [
    "#check the year\n",
    "\n",
    "driverid['driver_onboard_date'].dt.year.value_counts()"
   ]
  },
  {
   "cell_type": "code",
   "execution_count": 11,
   "metadata": {},
   "outputs": [
    {
     "data": {
      "text/plain": [
       "4    591\n",
       "5    239\n",
       "3    107\n",
       "Name: driver_onboard_date, dtype: int64"
      ]
     },
     "execution_count": 11,
     "metadata": {},
     "output_type": "execute_result"
    },
    {
     "data": {
      "text/plain": [
       "4    591\n",
       "5    239\n",
       "3    107\n",
       "Name: driver_onboard_date, dtype: int64"
      ]
     },
     "execution_count": 11,
     "metadata": {},
     "output_type": "execute_result"
    }
   ],
   "source": [
    "#check the month for seasonality\n",
    "\n",
    "driverid['driver_onboard_date'].dt.month.value_counts()"
   ]
  },
  {
   "cell_type": "code",
   "execution_count": 12,
   "metadata": {},
   "outputs": [
    {
     "data": {
      "text/plain": [
       "29    57\n",
       "5     56\n",
       "4     50\n",
       "6     50\n",
       "12    45\n",
       "30    44\n",
       "13    42\n",
       "11    41\n",
       "28    38\n",
       "7     36\n",
       "14    36\n",
       "9     34\n",
       "8     32\n",
       "31    30\n",
       "15    29\n",
       "1     27\n",
       "10    25\n",
       "21    24\n",
       "26    23\n",
       "20    22\n",
       "2     22\n",
       "19    21\n",
       "22    21\n",
       "23    20\n",
       "3     18\n",
       "17    17\n",
       "25    17\n",
       "18    16\n",
       "27    16\n",
       "16    15\n",
       "24    13\n",
       "Name: driver_onboard_date, dtype: int64"
      ]
     },
     "execution_count": 12,
     "metadata": {},
     "output_type": "execute_result"
    },
    {
     "data": {
      "text/plain": [
       "29    57\n",
       "5     56\n",
       "4     50\n",
       "6     50\n",
       "12    45\n",
       "30    44\n",
       "13    42\n",
       "11    41\n",
       "28    38\n",
       "7     36\n",
       "14    36\n",
       "9     34\n",
       "8     32\n",
       "31    30\n",
       "15    29\n",
       "1     27\n",
       "10    25\n",
       "21    24\n",
       "26    23\n",
       "20    22\n",
       "2     22\n",
       "19    21\n",
       "22    21\n",
       "23    20\n",
       "3     18\n",
       "17    17\n",
       "25    17\n",
       "18    16\n",
       "27    16\n",
       "16    15\n",
       "24    13\n",
       "Name: driver_onboard_date, dtype: int64"
      ]
     },
     "execution_count": 12,
     "metadata": {},
     "output_type": "execute_result"
    }
   ],
   "source": [
    "#check the day for seasonality\n",
    "\n",
    "driverid['driver_onboard_date'].dt.day.value_counts()"
   ]
  },
  {
   "cell_type": "markdown",
   "metadata": {},
   "source": [
    "# Rider id"
   ]
  },
  {
   "cell_type": "code",
   "execution_count": 13,
   "metadata": {},
   "outputs": [],
   "source": [
    "#importing driver id file\n",
    "riderid=pd.read_csv(\"data/ride_ids.csv\")"
   ]
  },
  {
   "cell_type": "code",
   "execution_count": 14,
   "metadata": {},
   "outputs": [
    {
     "data": {
      "text/html": [
       "<div>\n",
       "<style scoped>\n",
       "    .dataframe tbody tr th:only-of-type {\n",
       "        vertical-align: middle;\n",
       "    }\n",
       "\n",
       "    .dataframe tbody tr th {\n",
       "        vertical-align: top;\n",
       "    }\n",
       "\n",
       "    .dataframe thead th {\n",
       "        text-align: right;\n",
       "    }\n",
       "</style>\n",
       "<table border=\"1\" class=\"dataframe\">\n",
       "  <thead>\n",
       "    <tr style=\"text-align: right;\">\n",
       "      <th></th>\n",
       "      <th>driver_id</th>\n",
       "      <th>ride_id</th>\n",
       "      <th>ride_distance</th>\n",
       "      <th>ride_duration</th>\n",
       "      <th>ride_prime_time</th>\n",
       "    </tr>\n",
       "  </thead>\n",
       "  <tbody>\n",
       "    <tr>\n",
       "      <th>0</th>\n",
       "      <td>002be0ffdc997bd5c50703158b7c2491</td>\n",
       "      <td>006d61cf7446e682f7bc50b0f8a5bea5</td>\n",
       "      <td>1811</td>\n",
       "      <td>327</td>\n",
       "      <td>50</td>\n",
       "    </tr>\n",
       "    <tr>\n",
       "      <th>1</th>\n",
       "      <td>002be0ffdc997bd5c50703158b7c2491</td>\n",
       "      <td>01b522c5c3a756fbdb12e95e87507eda</td>\n",
       "      <td>3362</td>\n",
       "      <td>809</td>\n",
       "      <td>0</td>\n",
       "    </tr>\n",
       "    <tr>\n",
       "      <th>2</th>\n",
       "      <td>002be0ffdc997bd5c50703158b7c2491</td>\n",
       "      <td>029227c4c2971ce69ff2274dc798ef43</td>\n",
       "      <td>3282</td>\n",
       "      <td>572</td>\n",
       "      <td>0</td>\n",
       "    </tr>\n",
       "    <tr>\n",
       "      <th>3</th>\n",
       "      <td>002be0ffdc997bd5c50703158b7c2491</td>\n",
       "      <td>034e861343a63ac3c18a9ceb1ce0ac69</td>\n",
       "      <td>65283</td>\n",
       "      <td>3338</td>\n",
       "      <td>25</td>\n",
       "    </tr>\n",
       "    <tr>\n",
       "      <th>4</th>\n",
       "      <td>002be0ffdc997bd5c50703158b7c2491</td>\n",
       "      <td>034f2e614a2f9fc7f1c2f77647d1b981</td>\n",
       "      <td>4115</td>\n",
       "      <td>823</td>\n",
       "      <td>100</td>\n",
       "    </tr>\n",
       "    <tr>\n",
       "      <th>5</th>\n",
       "      <td>002be0ffdc997bd5c50703158b7c2491</td>\n",
       "      <td>03d6b9d80b8a96135cb9b25178e9e203</td>\n",
       "      <td>4832</td>\n",
       "      <td>917</td>\n",
       "      <td>100</td>\n",
       "    </tr>\n",
       "    <tr>\n",
       "      <th>6</th>\n",
       "      <td>002be0ffdc997bd5c50703158b7c2491</td>\n",
       "      <td>04053c0ed21761e07f0b869cab5b7dd0</td>\n",
       "      <td>1575</td>\n",
       "      <td>347</td>\n",
       "      <td>0</td>\n",
       "    </tr>\n",
       "    <tr>\n",
       "      <th>7</th>\n",
       "      <td>002be0ffdc997bd5c50703158b7c2491</td>\n",
       "      <td>0534d432e0186625f623aaee57af98be</td>\n",
       "      <td>3056</td>\n",
       "      <td>687</td>\n",
       "      <td>25</td>\n",
       "    </tr>\n",
       "    <tr>\n",
       "      <th>8</th>\n",
       "      <td>002be0ffdc997bd5c50703158b7c2491</td>\n",
       "      <td>053a1621c0affcd2b9c517af5c2bc843</td>\n",
       "      <td>3940</td>\n",
       "      <td>1143</td>\n",
       "      <td>75</td>\n",
       "    </tr>\n",
       "    <tr>\n",
       "      <th>9</th>\n",
       "      <td>002be0ffdc997bd5c50703158b7c2491</td>\n",
       "      <td>066e92c52f59486de56cd7b8716a4ca6</td>\n",
       "      <td>3957</td>\n",
       "      <td>868</td>\n",
       "      <td>50</td>\n",
       "    </tr>\n",
       "  </tbody>\n",
       "</table>\n",
       "</div>"
      ],
      "text/plain": [
       "                          driver_id                           ride_id  \\\n",
       "0  002be0ffdc997bd5c50703158b7c2491  006d61cf7446e682f7bc50b0f8a5bea5   \n",
       "1  002be0ffdc997bd5c50703158b7c2491  01b522c5c3a756fbdb12e95e87507eda   \n",
       "2  002be0ffdc997bd5c50703158b7c2491  029227c4c2971ce69ff2274dc798ef43   \n",
       "3  002be0ffdc997bd5c50703158b7c2491  034e861343a63ac3c18a9ceb1ce0ac69   \n",
       "4  002be0ffdc997bd5c50703158b7c2491  034f2e614a2f9fc7f1c2f77647d1b981   \n",
       "5  002be0ffdc997bd5c50703158b7c2491  03d6b9d80b8a96135cb9b25178e9e203   \n",
       "6  002be0ffdc997bd5c50703158b7c2491  04053c0ed21761e07f0b869cab5b7dd0   \n",
       "7  002be0ffdc997bd5c50703158b7c2491  0534d432e0186625f623aaee57af98be   \n",
       "8  002be0ffdc997bd5c50703158b7c2491  053a1621c0affcd2b9c517af5c2bc843   \n",
       "9  002be0ffdc997bd5c50703158b7c2491  066e92c52f59486de56cd7b8716a4ca6   \n",
       "\n",
       "   ride_distance  ride_duration  ride_prime_time  \n",
       "0           1811            327               50  \n",
       "1           3362            809                0  \n",
       "2           3282            572                0  \n",
       "3          65283           3338               25  \n",
       "4           4115            823              100  \n",
       "5           4832            917              100  \n",
       "6           1575            347                0  \n",
       "7           3056            687               25  \n",
       "8           3940           1143               75  \n",
       "9           3957            868               50  "
      ]
     },
     "execution_count": 14,
     "metadata": {},
     "output_type": "execute_result"
    },
    {
     "data": {
      "text/html": [
       "<div>\n",
       "<style scoped>\n",
       "    .dataframe tbody tr th:only-of-type {\n",
       "        vertical-align: middle;\n",
       "    }\n",
       "\n",
       "    .dataframe tbody tr th {\n",
       "        vertical-align: top;\n",
       "    }\n",
       "\n",
       "    .dataframe thead th {\n",
       "        text-align: right;\n",
       "    }\n",
       "</style>\n",
       "<table border=\"1\" class=\"dataframe\">\n",
       "  <thead>\n",
       "    <tr style=\"text-align: right;\">\n",
       "      <th></th>\n",
       "      <th>driver_id</th>\n",
       "      <th>ride_id</th>\n",
       "      <th>ride_distance</th>\n",
       "      <th>ride_duration</th>\n",
       "      <th>ride_prime_time</th>\n",
       "    </tr>\n",
       "  </thead>\n",
       "  <tbody>\n",
       "    <tr>\n",
       "      <th>0</th>\n",
       "      <td>002be0ffdc997bd5c50703158b7c2491</td>\n",
       "      <td>006d61cf7446e682f7bc50b0f8a5bea5</td>\n",
       "      <td>1811</td>\n",
       "      <td>327</td>\n",
       "      <td>50</td>\n",
       "    </tr>\n",
       "    <tr>\n",
       "      <th>1</th>\n",
       "      <td>002be0ffdc997bd5c50703158b7c2491</td>\n",
       "      <td>01b522c5c3a756fbdb12e95e87507eda</td>\n",
       "      <td>3362</td>\n",
       "      <td>809</td>\n",
       "      <td>0</td>\n",
       "    </tr>\n",
       "    <tr>\n",
       "      <th>2</th>\n",
       "      <td>002be0ffdc997bd5c50703158b7c2491</td>\n",
       "      <td>029227c4c2971ce69ff2274dc798ef43</td>\n",
       "      <td>3282</td>\n",
       "      <td>572</td>\n",
       "      <td>0</td>\n",
       "    </tr>\n",
       "    <tr>\n",
       "      <th>3</th>\n",
       "      <td>002be0ffdc997bd5c50703158b7c2491</td>\n",
       "      <td>034e861343a63ac3c18a9ceb1ce0ac69</td>\n",
       "      <td>65283</td>\n",
       "      <td>3338</td>\n",
       "      <td>25</td>\n",
       "    </tr>\n",
       "    <tr>\n",
       "      <th>4</th>\n",
       "      <td>002be0ffdc997bd5c50703158b7c2491</td>\n",
       "      <td>034f2e614a2f9fc7f1c2f77647d1b981</td>\n",
       "      <td>4115</td>\n",
       "      <td>823</td>\n",
       "      <td>100</td>\n",
       "    </tr>\n",
       "    <tr>\n",
       "      <th>5</th>\n",
       "      <td>002be0ffdc997bd5c50703158b7c2491</td>\n",
       "      <td>03d6b9d80b8a96135cb9b25178e9e203</td>\n",
       "      <td>4832</td>\n",
       "      <td>917</td>\n",
       "      <td>100</td>\n",
       "    </tr>\n",
       "    <tr>\n",
       "      <th>6</th>\n",
       "      <td>002be0ffdc997bd5c50703158b7c2491</td>\n",
       "      <td>04053c0ed21761e07f0b869cab5b7dd0</td>\n",
       "      <td>1575</td>\n",
       "      <td>347</td>\n",
       "      <td>0</td>\n",
       "    </tr>\n",
       "    <tr>\n",
       "      <th>7</th>\n",
       "      <td>002be0ffdc997bd5c50703158b7c2491</td>\n",
       "      <td>0534d432e0186625f623aaee57af98be</td>\n",
       "      <td>3056</td>\n",
       "      <td>687</td>\n",
       "      <td>25</td>\n",
       "    </tr>\n",
       "    <tr>\n",
       "      <th>8</th>\n",
       "      <td>002be0ffdc997bd5c50703158b7c2491</td>\n",
       "      <td>053a1621c0affcd2b9c517af5c2bc843</td>\n",
       "      <td>3940</td>\n",
       "      <td>1143</td>\n",
       "      <td>75</td>\n",
       "    </tr>\n",
       "    <tr>\n",
       "      <th>9</th>\n",
       "      <td>002be0ffdc997bd5c50703158b7c2491</td>\n",
       "      <td>066e92c52f59486de56cd7b8716a4ca6</td>\n",
       "      <td>3957</td>\n",
       "      <td>868</td>\n",
       "      <td>50</td>\n",
       "    </tr>\n",
       "  </tbody>\n",
       "</table>\n",
       "</div>"
      ],
      "text/plain": [
       "                          driver_id                           ride_id  \\\n",
       "0  002be0ffdc997bd5c50703158b7c2491  006d61cf7446e682f7bc50b0f8a5bea5   \n",
       "1  002be0ffdc997bd5c50703158b7c2491  01b522c5c3a756fbdb12e95e87507eda   \n",
       "2  002be0ffdc997bd5c50703158b7c2491  029227c4c2971ce69ff2274dc798ef43   \n",
       "3  002be0ffdc997bd5c50703158b7c2491  034e861343a63ac3c18a9ceb1ce0ac69   \n",
       "4  002be0ffdc997bd5c50703158b7c2491  034f2e614a2f9fc7f1c2f77647d1b981   \n",
       "5  002be0ffdc997bd5c50703158b7c2491  03d6b9d80b8a96135cb9b25178e9e203   \n",
       "6  002be0ffdc997bd5c50703158b7c2491  04053c0ed21761e07f0b869cab5b7dd0   \n",
       "7  002be0ffdc997bd5c50703158b7c2491  0534d432e0186625f623aaee57af98be   \n",
       "8  002be0ffdc997bd5c50703158b7c2491  053a1621c0affcd2b9c517af5c2bc843   \n",
       "9  002be0ffdc997bd5c50703158b7c2491  066e92c52f59486de56cd7b8716a4ca6   \n",
       "\n",
       "   ride_distance  ride_duration  ride_prime_time  \n",
       "0           1811            327               50  \n",
       "1           3362            809                0  \n",
       "2           3282            572                0  \n",
       "3          65283           3338               25  \n",
       "4           4115            823              100  \n",
       "5           4832            917              100  \n",
       "6           1575            347                0  \n",
       "7           3056            687               25  \n",
       "8           3940           1143               75  \n",
       "9           3957            868               50  "
      ]
     },
     "execution_count": 14,
     "metadata": {},
     "output_type": "execute_result"
    }
   ],
   "source": [
    "#check file\n",
    "\n",
    "riderid.head(10)"
   ]
  },
  {
   "cell_type": "code",
   "execution_count": 15,
   "metadata": {},
   "outputs": [
    {
     "data": {
      "text/plain": [
       "driver_id          object\n",
       "ride_id            object\n",
       "ride_distance       int64\n",
       "ride_duration       int64\n",
       "ride_prime_time     int64\n",
       "dtype: object"
      ]
     },
     "execution_count": 15,
     "metadata": {},
     "output_type": "execute_result"
    },
    {
     "data": {
      "text/plain": [
       "driver_id          object\n",
       "ride_id            object\n",
       "ride_distance       int64\n",
       "ride_duration       int64\n",
       "ride_prime_time     int64\n",
       "dtype: object"
      ]
     },
     "execution_count": 15,
     "metadata": {},
     "output_type": "execute_result"
    }
   ],
   "source": [
    "#check the types\n",
    "\n",
    "riderid.dtypes"
   ]
  },
  {
   "cell_type": "code",
   "execution_count": 16,
   "metadata": {},
   "outputs": [],
   "source": [
    "#check null values\n",
    "\n",
    "def ridenulls(column):\n",
    "    return riderid.loc[riderid[column].isnull()]\n",
    "    "
   ]
  },
  {
   "cell_type": "code",
   "execution_count": 17,
   "metadata": {
    "scrolled": true
   },
   "outputs": [
    {
     "data": {
      "text/html": [
       "<div>\n",
       "<style scoped>\n",
       "    .dataframe tbody tr th:only-of-type {\n",
       "        vertical-align: middle;\n",
       "    }\n",
       "\n",
       "    .dataframe tbody tr th {\n",
       "        vertical-align: top;\n",
       "    }\n",
       "\n",
       "    .dataframe thead th {\n",
       "        text-align: right;\n",
       "    }\n",
       "</style>\n",
       "<table border=\"1\" class=\"dataframe\">\n",
       "  <thead>\n",
       "    <tr style=\"text-align: right;\">\n",
       "      <th></th>\n",
       "      <th>driver_id</th>\n",
       "      <th>ride_id</th>\n",
       "      <th>ride_distance</th>\n",
       "      <th>ride_duration</th>\n",
       "      <th>ride_prime_time</th>\n",
       "    </tr>\n",
       "  </thead>\n",
       "  <tbody>\n",
       "  </tbody>\n",
       "</table>\n",
       "</div>"
      ],
      "text/plain": [
       "Empty DataFrame\n",
       "Columns: [driver_id, ride_id, ride_distance, ride_duration, ride_prime_time]\n",
       "Index: []"
      ]
     },
     "execution_count": 17,
     "metadata": {},
     "output_type": "execute_result"
    },
    {
     "data": {
      "text/html": [
       "<div>\n",
       "<style scoped>\n",
       "    .dataframe tbody tr th:only-of-type {\n",
       "        vertical-align: middle;\n",
       "    }\n",
       "\n",
       "    .dataframe tbody tr th {\n",
       "        vertical-align: top;\n",
       "    }\n",
       "\n",
       "    .dataframe thead th {\n",
       "        text-align: right;\n",
       "    }\n",
       "</style>\n",
       "<table border=\"1\" class=\"dataframe\">\n",
       "  <thead>\n",
       "    <tr style=\"text-align: right;\">\n",
       "      <th></th>\n",
       "      <th>driver_id</th>\n",
       "      <th>ride_id</th>\n",
       "      <th>ride_distance</th>\n",
       "      <th>ride_duration</th>\n",
       "      <th>ride_prime_time</th>\n",
       "    </tr>\n",
       "  </thead>\n",
       "  <tbody>\n",
       "  </tbody>\n",
       "</table>\n",
       "</div>"
      ],
      "text/plain": [
       "Empty DataFrame\n",
       "Columns: [driver_id, ride_id, ride_distance, ride_duration, ride_prime_time]\n",
       "Index: []"
      ]
     },
     "execution_count": 17,
     "metadata": {},
     "output_type": "execute_result"
    }
   ],
   "source": [
    "#call function\n",
    "#check!!\n",
    "\n",
    "ridenulls('ride_prime_time')"
   ]
  },
  {
   "cell_type": "code",
   "execution_count": 18,
   "metadata": {},
   "outputs": [],
   "source": [
    "# distance is in meters and duration in seconds, needs conversion"
   ]
  },
  {
   "cell_type": "code",
   "execution_count": 19,
   "metadata": {},
   "outputs": [
    {
     "data": {
      "text/plain": [
       "'Base Fare $2.00\\nCost per Mile $1.15\\nCost per Minute $0.22\\nService Fee $1.75\\nMinimum Fare $5.00\\nMaximum Fare $400.00'"
      ]
     },
     "execution_count": 19,
     "metadata": {},
     "output_type": "execute_result"
    },
    {
     "data": {
      "text/plain": [
       "'Base Fare $2.00\\nCost per Mile $1.15\\nCost per Minute $0.22\\nService Fee $1.75\\nMinimum Fare $5.00\\nMaximum Fare $400.00'"
      ]
     },
     "execution_count": 19,
     "metadata": {},
     "output_type": "execute_result"
    }
   ],
   "source": [
    "\"\"\"Base Fare $2.00\n",
    "Cost per Mile $1.15\n",
    "Cost per Minute $0.22\n",
    "Service Fee $1.75\n",
    "Minimum Fare $5.00\n",
    "Maximum Fare $400.00\"\"\""
   ]
  },
  {
   "cell_type": "code",
   "execution_count": 20,
   "metadata": {},
   "outputs": [
    {
     "data": {
      "text/plain": [
       "Index(['driver_id', 'ride_id', 'ride_distance', 'ride_duration',\n",
       "       'ride_prime_time'],\n",
       "      dtype='object')"
      ]
     },
     "execution_count": 20,
     "metadata": {},
     "output_type": "execute_result"
    },
    {
     "data": {
      "text/plain": [
       "Index(['driver_id', 'ride_id', 'ride_distance', 'ride_duration',\n",
       "       'ride_prime_time'],\n",
       "      dtype='object')"
      ]
     },
     "execution_count": 20,
     "metadata": {},
     "output_type": "execute_result"
    }
   ],
   "source": [
    "#check column names\n",
    "\n",
    "riderid.columns"
   ]
  },
  {
   "cell_type": "code",
   "execution_count": 21,
   "metadata": {
    "scrolled": false
   },
   "outputs": [
    {
     "data": {
      "text/html": [
       "<div>\n",
       "<style scoped>\n",
       "    .dataframe tbody tr th:only-of-type {\n",
       "        vertical-align: middle;\n",
       "    }\n",
       "\n",
       "    .dataframe tbody tr th {\n",
       "        vertical-align: top;\n",
       "    }\n",
       "\n",
       "    .dataframe thead th {\n",
       "        text-align: right;\n",
       "    }\n",
       "</style>\n",
       "<table border=\"1\" class=\"dataframe\">\n",
       "  <thead>\n",
       "    <tr style=\"text-align: right;\">\n",
       "      <th></th>\n",
       "      <th>driver_id</th>\n",
       "      <th>ride_id</th>\n",
       "      <th>ride_distance</th>\n",
       "      <th>ride_duration</th>\n",
       "      <th>ride_prime_time</th>\n",
       "    </tr>\n",
       "  </thead>\n",
       "  <tbody>\n",
       "    <tr>\n",
       "      <th>0</th>\n",
       "      <td>002be0ffdc997bd5c50703158b7c2491</td>\n",
       "      <td>006d61cf7446e682f7bc50b0f8a5bea5</td>\n",
       "      <td>1811</td>\n",
       "      <td>327</td>\n",
       "      <td>50</td>\n",
       "    </tr>\n",
       "    <tr>\n",
       "      <th>1</th>\n",
       "      <td>002be0ffdc997bd5c50703158b7c2491</td>\n",
       "      <td>01b522c5c3a756fbdb12e95e87507eda</td>\n",
       "      <td>3362</td>\n",
       "      <td>809</td>\n",
       "      <td>0</td>\n",
       "    </tr>\n",
       "    <tr>\n",
       "      <th>2</th>\n",
       "      <td>002be0ffdc997bd5c50703158b7c2491</td>\n",
       "      <td>029227c4c2971ce69ff2274dc798ef43</td>\n",
       "      <td>3282</td>\n",
       "      <td>572</td>\n",
       "      <td>0</td>\n",
       "    </tr>\n",
       "    <tr>\n",
       "      <th>3</th>\n",
       "      <td>002be0ffdc997bd5c50703158b7c2491</td>\n",
       "      <td>034e861343a63ac3c18a9ceb1ce0ac69</td>\n",
       "      <td>65283</td>\n",
       "      <td>3338</td>\n",
       "      <td>25</td>\n",
       "    </tr>\n",
       "    <tr>\n",
       "      <th>4</th>\n",
       "      <td>002be0ffdc997bd5c50703158b7c2491</td>\n",
       "      <td>034f2e614a2f9fc7f1c2f77647d1b981</td>\n",
       "      <td>4115</td>\n",
       "      <td>823</td>\n",
       "      <td>100</td>\n",
       "    </tr>\n",
       "  </tbody>\n",
       "</table>\n",
       "</div>"
      ],
      "text/plain": [
       "                          driver_id                           ride_id  \\\n",
       "0  002be0ffdc997bd5c50703158b7c2491  006d61cf7446e682f7bc50b0f8a5bea5   \n",
       "1  002be0ffdc997bd5c50703158b7c2491  01b522c5c3a756fbdb12e95e87507eda   \n",
       "2  002be0ffdc997bd5c50703158b7c2491  029227c4c2971ce69ff2274dc798ef43   \n",
       "3  002be0ffdc997bd5c50703158b7c2491  034e861343a63ac3c18a9ceb1ce0ac69   \n",
       "4  002be0ffdc997bd5c50703158b7c2491  034f2e614a2f9fc7f1c2f77647d1b981   \n",
       "\n",
       "   ride_distance  ride_duration  ride_prime_time  \n",
       "0           1811            327               50  \n",
       "1           3362            809                0  \n",
       "2           3282            572                0  \n",
       "3          65283           3338               25  \n",
       "4           4115            823              100  "
      ]
     },
     "execution_count": 21,
     "metadata": {},
     "output_type": "execute_result"
    },
    {
     "data": {
      "text/html": [
       "<div>\n",
       "<style scoped>\n",
       "    .dataframe tbody tr th:only-of-type {\n",
       "        vertical-align: middle;\n",
       "    }\n",
       "\n",
       "    .dataframe tbody tr th {\n",
       "        vertical-align: top;\n",
       "    }\n",
       "\n",
       "    .dataframe thead th {\n",
       "        text-align: right;\n",
       "    }\n",
       "</style>\n",
       "<table border=\"1\" class=\"dataframe\">\n",
       "  <thead>\n",
       "    <tr style=\"text-align: right;\">\n",
       "      <th></th>\n",
       "      <th>driver_id</th>\n",
       "      <th>ride_id</th>\n",
       "      <th>ride_distance</th>\n",
       "      <th>ride_duration</th>\n",
       "      <th>ride_prime_time</th>\n",
       "    </tr>\n",
       "  </thead>\n",
       "  <tbody>\n",
       "    <tr>\n",
       "      <th>0</th>\n",
       "      <td>002be0ffdc997bd5c50703158b7c2491</td>\n",
       "      <td>006d61cf7446e682f7bc50b0f8a5bea5</td>\n",
       "      <td>1811</td>\n",
       "      <td>327</td>\n",
       "      <td>50</td>\n",
       "    </tr>\n",
       "    <tr>\n",
       "      <th>1</th>\n",
       "      <td>002be0ffdc997bd5c50703158b7c2491</td>\n",
       "      <td>01b522c5c3a756fbdb12e95e87507eda</td>\n",
       "      <td>3362</td>\n",
       "      <td>809</td>\n",
       "      <td>0</td>\n",
       "    </tr>\n",
       "    <tr>\n",
       "      <th>2</th>\n",
       "      <td>002be0ffdc997bd5c50703158b7c2491</td>\n",
       "      <td>029227c4c2971ce69ff2274dc798ef43</td>\n",
       "      <td>3282</td>\n",
       "      <td>572</td>\n",
       "      <td>0</td>\n",
       "    </tr>\n",
       "    <tr>\n",
       "      <th>3</th>\n",
       "      <td>002be0ffdc997bd5c50703158b7c2491</td>\n",
       "      <td>034e861343a63ac3c18a9ceb1ce0ac69</td>\n",
       "      <td>65283</td>\n",
       "      <td>3338</td>\n",
       "      <td>25</td>\n",
       "    </tr>\n",
       "    <tr>\n",
       "      <th>4</th>\n",
       "      <td>002be0ffdc997bd5c50703158b7c2491</td>\n",
       "      <td>034f2e614a2f9fc7f1c2f77647d1b981</td>\n",
       "      <td>4115</td>\n",
       "      <td>823</td>\n",
       "      <td>100</td>\n",
       "    </tr>\n",
       "  </tbody>\n",
       "</table>\n",
       "</div>"
      ],
      "text/plain": [
       "                          driver_id                           ride_id  \\\n",
       "0  002be0ffdc997bd5c50703158b7c2491  006d61cf7446e682f7bc50b0f8a5bea5   \n",
       "1  002be0ffdc997bd5c50703158b7c2491  01b522c5c3a756fbdb12e95e87507eda   \n",
       "2  002be0ffdc997bd5c50703158b7c2491  029227c4c2971ce69ff2274dc798ef43   \n",
       "3  002be0ffdc997bd5c50703158b7c2491  034e861343a63ac3c18a9ceb1ce0ac69   \n",
       "4  002be0ffdc997bd5c50703158b7c2491  034f2e614a2f9fc7f1c2f77647d1b981   \n",
       "\n",
       "   ride_distance  ride_duration  ride_prime_time  \n",
       "0           1811            327               50  \n",
       "1           3362            809                0  \n",
       "2           3282            572                0  \n",
       "3          65283           3338               25  \n",
       "4           4115            823              100  "
      ]
     },
     "execution_count": 21,
     "metadata": {},
     "output_type": "execute_result"
    }
   ],
   "source": [
    "riderid.head()"
   ]
  },
  {
   "cell_type": "code",
   "execution_count": 22,
   "metadata": {},
   "outputs": [],
   "source": [
    "#inser columns with the duration in minutes\n",
    "\n",
    "riderid[\"ride_duration_min\"]=riderid[\"ride_duration\"]/60"
   ]
  },
  {
   "cell_type": "code",
   "execution_count": 23,
   "metadata": {},
   "outputs": [],
   "source": [
    "# insert column with the conversion to miles\n",
    "#1 mile = 1 609.344 meters\n",
    "\n",
    "riderid[\"ride_distance_miles\"]=riderid[\"ride_distance\"]/1609.344\n",
    "\n"
   ]
  },
  {
   "cell_type": "code",
   "execution_count": 24,
   "metadata": {
    "scrolled": true
   },
   "outputs": [
    {
     "data": {
      "text/html": [
       "<div>\n",
       "<style scoped>\n",
       "    .dataframe tbody tr th:only-of-type {\n",
       "        vertical-align: middle;\n",
       "    }\n",
       "\n",
       "    .dataframe tbody tr th {\n",
       "        vertical-align: top;\n",
       "    }\n",
       "\n",
       "    .dataframe thead th {\n",
       "        text-align: right;\n",
       "    }\n",
       "</style>\n",
       "<table border=\"1\" class=\"dataframe\">\n",
       "  <thead>\n",
       "    <tr style=\"text-align: right;\">\n",
       "      <th></th>\n",
       "      <th>driver_id</th>\n",
       "      <th>ride_id</th>\n",
       "      <th>ride_distance</th>\n",
       "      <th>ride_duration</th>\n",
       "      <th>ride_prime_time</th>\n",
       "      <th>ride_duration_min</th>\n",
       "      <th>ride_distance_miles</th>\n",
       "    </tr>\n",
       "  </thead>\n",
       "  <tbody>\n",
       "    <tr>\n",
       "      <th>0</th>\n",
       "      <td>002be0ffdc997bd5c50703158b7c2491</td>\n",
       "      <td>006d61cf7446e682f7bc50b0f8a5bea5</td>\n",
       "      <td>1811</td>\n",
       "      <td>327</td>\n",
       "      <td>50</td>\n",
       "      <td>5.450000</td>\n",
       "      <td>1.125303</td>\n",
       "    </tr>\n",
       "    <tr>\n",
       "      <th>1</th>\n",
       "      <td>002be0ffdc997bd5c50703158b7c2491</td>\n",
       "      <td>01b522c5c3a756fbdb12e95e87507eda</td>\n",
       "      <td>3362</td>\n",
       "      <td>809</td>\n",
       "      <td>0</td>\n",
       "      <td>13.483333</td>\n",
       "      <td>2.089050</td>\n",
       "    </tr>\n",
       "    <tr>\n",
       "      <th>2</th>\n",
       "      <td>002be0ffdc997bd5c50703158b7c2491</td>\n",
       "      <td>029227c4c2971ce69ff2274dc798ef43</td>\n",
       "      <td>3282</td>\n",
       "      <td>572</td>\n",
       "      <td>0</td>\n",
       "      <td>9.533333</td>\n",
       "      <td>2.039340</td>\n",
       "    </tr>\n",
       "    <tr>\n",
       "      <th>3</th>\n",
       "      <td>002be0ffdc997bd5c50703158b7c2491</td>\n",
       "      <td>034e861343a63ac3c18a9ceb1ce0ac69</td>\n",
       "      <td>65283</td>\n",
       "      <td>3338</td>\n",
       "      <td>25</td>\n",
       "      <td>55.633333</td>\n",
       "      <td>40.564976</td>\n",
       "    </tr>\n",
       "    <tr>\n",
       "      <th>4</th>\n",
       "      <td>002be0ffdc997bd5c50703158b7c2491</td>\n",
       "      <td>034f2e614a2f9fc7f1c2f77647d1b981</td>\n",
       "      <td>4115</td>\n",
       "      <td>823</td>\n",
       "      <td>100</td>\n",
       "      <td>13.716667</td>\n",
       "      <td>2.556942</td>\n",
       "    </tr>\n",
       "  </tbody>\n",
       "</table>\n",
       "</div>"
      ],
      "text/plain": [
       "                          driver_id                           ride_id  \\\n",
       "0  002be0ffdc997bd5c50703158b7c2491  006d61cf7446e682f7bc50b0f8a5bea5   \n",
       "1  002be0ffdc997bd5c50703158b7c2491  01b522c5c3a756fbdb12e95e87507eda   \n",
       "2  002be0ffdc997bd5c50703158b7c2491  029227c4c2971ce69ff2274dc798ef43   \n",
       "3  002be0ffdc997bd5c50703158b7c2491  034e861343a63ac3c18a9ceb1ce0ac69   \n",
       "4  002be0ffdc997bd5c50703158b7c2491  034f2e614a2f9fc7f1c2f77647d1b981   \n",
       "\n",
       "   ride_distance  ride_duration  ride_prime_time  ride_duration_min  \\\n",
       "0           1811            327               50           5.450000   \n",
       "1           3362            809                0          13.483333   \n",
       "2           3282            572                0           9.533333   \n",
       "3          65283           3338               25          55.633333   \n",
       "4           4115            823              100          13.716667   \n",
       "\n",
       "   ride_distance_miles  \n",
       "0             1.125303  \n",
       "1             2.089050  \n",
       "2             2.039340  \n",
       "3            40.564976  \n",
       "4             2.556942  "
      ]
     },
     "execution_count": 24,
     "metadata": {},
     "output_type": "execute_result"
    },
    {
     "data": {
      "text/html": [
       "<div>\n",
       "<style scoped>\n",
       "    .dataframe tbody tr th:only-of-type {\n",
       "        vertical-align: middle;\n",
       "    }\n",
       "\n",
       "    .dataframe tbody tr th {\n",
       "        vertical-align: top;\n",
       "    }\n",
       "\n",
       "    .dataframe thead th {\n",
       "        text-align: right;\n",
       "    }\n",
       "</style>\n",
       "<table border=\"1\" class=\"dataframe\">\n",
       "  <thead>\n",
       "    <tr style=\"text-align: right;\">\n",
       "      <th></th>\n",
       "      <th>driver_id</th>\n",
       "      <th>ride_id</th>\n",
       "      <th>ride_distance</th>\n",
       "      <th>ride_duration</th>\n",
       "      <th>ride_prime_time</th>\n",
       "      <th>ride_duration_min</th>\n",
       "      <th>ride_distance_miles</th>\n",
       "    </tr>\n",
       "  </thead>\n",
       "  <tbody>\n",
       "    <tr>\n",
       "      <th>0</th>\n",
       "      <td>002be0ffdc997bd5c50703158b7c2491</td>\n",
       "      <td>006d61cf7446e682f7bc50b0f8a5bea5</td>\n",
       "      <td>1811</td>\n",
       "      <td>327</td>\n",
       "      <td>50</td>\n",
       "      <td>5.450000</td>\n",
       "      <td>1.125303</td>\n",
       "    </tr>\n",
       "    <tr>\n",
       "      <th>1</th>\n",
       "      <td>002be0ffdc997bd5c50703158b7c2491</td>\n",
       "      <td>01b522c5c3a756fbdb12e95e87507eda</td>\n",
       "      <td>3362</td>\n",
       "      <td>809</td>\n",
       "      <td>0</td>\n",
       "      <td>13.483333</td>\n",
       "      <td>2.089050</td>\n",
       "    </tr>\n",
       "    <tr>\n",
       "      <th>2</th>\n",
       "      <td>002be0ffdc997bd5c50703158b7c2491</td>\n",
       "      <td>029227c4c2971ce69ff2274dc798ef43</td>\n",
       "      <td>3282</td>\n",
       "      <td>572</td>\n",
       "      <td>0</td>\n",
       "      <td>9.533333</td>\n",
       "      <td>2.039340</td>\n",
       "    </tr>\n",
       "    <tr>\n",
       "      <th>3</th>\n",
       "      <td>002be0ffdc997bd5c50703158b7c2491</td>\n",
       "      <td>034e861343a63ac3c18a9ceb1ce0ac69</td>\n",
       "      <td>65283</td>\n",
       "      <td>3338</td>\n",
       "      <td>25</td>\n",
       "      <td>55.633333</td>\n",
       "      <td>40.564976</td>\n",
       "    </tr>\n",
       "    <tr>\n",
       "      <th>4</th>\n",
       "      <td>002be0ffdc997bd5c50703158b7c2491</td>\n",
       "      <td>034f2e614a2f9fc7f1c2f77647d1b981</td>\n",
       "      <td>4115</td>\n",
       "      <td>823</td>\n",
       "      <td>100</td>\n",
       "      <td>13.716667</td>\n",
       "      <td>2.556942</td>\n",
       "    </tr>\n",
       "  </tbody>\n",
       "</table>\n",
       "</div>"
      ],
      "text/plain": [
       "                          driver_id                           ride_id  \\\n",
       "0  002be0ffdc997bd5c50703158b7c2491  006d61cf7446e682f7bc50b0f8a5bea5   \n",
       "1  002be0ffdc997bd5c50703158b7c2491  01b522c5c3a756fbdb12e95e87507eda   \n",
       "2  002be0ffdc997bd5c50703158b7c2491  029227c4c2971ce69ff2274dc798ef43   \n",
       "3  002be0ffdc997bd5c50703158b7c2491  034e861343a63ac3c18a9ceb1ce0ac69   \n",
       "4  002be0ffdc997bd5c50703158b7c2491  034f2e614a2f9fc7f1c2f77647d1b981   \n",
       "\n",
       "   ride_distance  ride_duration  ride_prime_time  ride_duration_min  \\\n",
       "0           1811            327               50           5.450000   \n",
       "1           3362            809                0          13.483333   \n",
       "2           3282            572                0           9.533333   \n",
       "3          65283           3338               25          55.633333   \n",
       "4           4115            823              100          13.716667   \n",
       "\n",
       "   ride_distance_miles  \n",
       "0             1.125303  \n",
       "1             2.089050  \n",
       "2             2.039340  \n",
       "3            40.564976  \n",
       "4             2.556942  "
      ]
     },
     "execution_count": 24,
     "metadata": {},
     "output_type": "execute_result"
    }
   ],
   "source": [
    "riderid.head()"
   ]
  },
  {
   "cell_type": "code",
   "execution_count": 25,
   "metadata": {},
   "outputs": [],
   "source": [
    "test=riderid.loc[riderid['ride_id']==\"00003037a262d9ee40e61b5c0718f7f0\"]"
   ]
  },
  {
   "cell_type": "code",
   "execution_count": 26,
   "metadata": {
    "scrolled": true
   },
   "outputs": [
    {
     "data": {
      "text/html": [
       "<div>\n",
       "<style scoped>\n",
       "    .dataframe tbody tr th:only-of-type {\n",
       "        vertical-align: middle;\n",
       "    }\n",
       "\n",
       "    .dataframe tbody tr th {\n",
       "        vertical-align: top;\n",
       "    }\n",
       "\n",
       "    .dataframe thead th {\n",
       "        text-align: right;\n",
       "    }\n",
       "</style>\n",
       "<table border=\"1\" class=\"dataframe\">\n",
       "  <thead>\n",
       "    <tr style=\"text-align: right;\">\n",
       "      <th></th>\n",
       "      <th>driver_id</th>\n",
       "      <th>ride_id</th>\n",
       "      <th>ride_distance</th>\n",
       "      <th>ride_duration</th>\n",
       "      <th>ride_prime_time</th>\n",
       "      <th>ride_duration_min</th>\n",
       "      <th>ride_distance_miles</th>\n",
       "    </tr>\n",
       "  </thead>\n",
       "  <tbody>\n",
       "    <tr>\n",
       "      <th>167241</th>\n",
       "      <td>d967f5296732fa55266b5f1314e7447b</td>\n",
       "      <td>00003037a262d9ee40e61b5c0718f7f0</td>\n",
       "      <td>3698</td>\n",
       "      <td>1112</td>\n",
       "      <td>0</td>\n",
       "      <td>18.533333</td>\n",
       "      <td>2.297831</td>\n",
       "    </tr>\n",
       "  </tbody>\n",
       "</table>\n",
       "</div>"
      ],
      "text/plain": [
       "                               driver_id                           ride_id  \\\n",
       "167241  d967f5296732fa55266b5f1314e7447b  00003037a262d9ee40e61b5c0718f7f0   \n",
       "\n",
       "        ride_distance  ride_duration  ride_prime_time  ride_duration_min  \\\n",
       "167241           3698           1112                0          18.533333   \n",
       "\n",
       "        ride_distance_miles  \n",
       "167241             2.297831  "
      ]
     },
     "execution_count": 26,
     "metadata": {},
     "output_type": "execute_result"
    },
    {
     "data": {
      "text/html": [
       "<div>\n",
       "<style scoped>\n",
       "    .dataframe tbody tr th:only-of-type {\n",
       "        vertical-align: middle;\n",
       "    }\n",
       "\n",
       "    .dataframe tbody tr th {\n",
       "        vertical-align: top;\n",
       "    }\n",
       "\n",
       "    .dataframe thead th {\n",
       "        text-align: right;\n",
       "    }\n",
       "</style>\n",
       "<table border=\"1\" class=\"dataframe\">\n",
       "  <thead>\n",
       "    <tr style=\"text-align: right;\">\n",
       "      <th></th>\n",
       "      <th>driver_id</th>\n",
       "      <th>ride_id</th>\n",
       "      <th>ride_distance</th>\n",
       "      <th>ride_duration</th>\n",
       "      <th>ride_prime_time</th>\n",
       "      <th>ride_duration_min</th>\n",
       "      <th>ride_distance_miles</th>\n",
       "    </tr>\n",
       "  </thead>\n",
       "  <tbody>\n",
       "    <tr>\n",
       "      <th>167241</th>\n",
       "      <td>d967f5296732fa55266b5f1314e7447b</td>\n",
       "      <td>00003037a262d9ee40e61b5c0718f7f0</td>\n",
       "      <td>3698</td>\n",
       "      <td>1112</td>\n",
       "      <td>0</td>\n",
       "      <td>18.533333</td>\n",
       "      <td>2.297831</td>\n",
       "    </tr>\n",
       "  </tbody>\n",
       "</table>\n",
       "</div>"
      ],
      "text/plain": [
       "                               driver_id                           ride_id  \\\n",
       "167241  d967f5296732fa55266b5f1314e7447b  00003037a262d9ee40e61b5c0718f7f0   \n",
       "\n",
       "        ride_distance  ride_duration  ride_prime_time  ride_duration_min  \\\n",
       "167241           3698           1112                0          18.533333   \n",
       "\n",
       "        ride_distance_miles  \n",
       "167241             2.297831  "
      ]
     },
     "execution_count": 26,
     "metadata": {},
     "output_type": "execute_result"
    }
   ],
   "source": [
    "test"
   ]
  },
  {
   "cell_type": "code",
   "execution_count": 27,
   "metadata": {},
   "outputs": [],
   "source": [
    "#the duration is the time difference between picked_up_at and dropped_off_at\n",
    "\n"
   ]
  },
  {
   "cell_type": "code",
   "execution_count": 28,
   "metadata": {},
   "outputs": [
    {
     "data": {
      "text/plain": [
       "array(['fail', 'fail', 'fail', ..., 'fail', 'fail', 'fail'], dtype='<U32')"
      ]
     },
     "execution_count": 28,
     "metadata": {},
     "output_type": "execute_result"
    },
    {
     "data": {
      "text/plain": [
       "array(['fail', 'fail', 'fail', ..., 'fail', 'fail', 'fail'], dtype='<U32')"
      ]
     },
     "execution_count": 28,
     "metadata": {},
     "output_type": "execute_result"
    }
   ],
   "source": [
    "np.where(riderid.ride_id == \"00003037a262d9ee40e61b5c0718f7f0\", riderid.ride_duration_min, \"fail\")"
   ]
  },
  {
   "cell_type": "code",
   "execution_count": 29,
   "metadata": {},
   "outputs": [
    {
     "data": {
      "text/plain": [
       "'Base Fare $2.00\\nCost per Mile $1.15\\nCost per Minute $0.22\\nService Fee $1.75\\nMinimum Fare $5.00\\nMaximum Fare $400.00'"
      ]
     },
     "execution_count": 29,
     "metadata": {},
     "output_type": "execute_result"
    },
    {
     "data": {
      "text/plain": [
       "'Base Fare $2.00\\nCost per Mile $1.15\\nCost per Minute $0.22\\nService Fee $1.75\\nMinimum Fare $5.00\\nMaximum Fare $400.00'"
      ]
     },
     "execution_count": 29,
     "metadata": {},
     "output_type": "execute_result"
    }
   ],
   "source": [
    "\"\"\"Base Fare $2.00\n",
    "Cost per Mile $1.15\n",
    "Cost per Minute $0.22\n",
    "Service Fee $1.75\n",
    "Minimum Fare $5.00\n",
    "Maximum Fare $400.00\"\"\""
   ]
  },
  {
   "cell_type": "code",
   "execution_count": 30,
   "metadata": {},
   "outputs": [],
   "source": [
    "#adding the rates"
   ]
  },
  {
   "cell_type": "code",
   "execution_count": 31,
   "metadata": {},
   "outputs": [],
   "source": [
    "#adding base fare and service fee\n",
    "\n",
    "riderid[\"base_fare$\"]=2"
   ]
  },
  {
   "cell_type": "code",
   "execution_count": 32,
   "metadata": {},
   "outputs": [],
   "source": [
    "riderid[\"duration_ride_revenue$\"]=riderid[\"ride_duration_min\"]*0.22"
   ]
  },
  {
   "cell_type": "code",
   "execution_count": 33,
   "metadata": {
    "scrolled": true
   },
   "outputs": [
    {
     "data": {
      "text/html": [
       "<div>\n",
       "<style scoped>\n",
       "    .dataframe tbody tr th:only-of-type {\n",
       "        vertical-align: middle;\n",
       "    }\n",
       "\n",
       "    .dataframe tbody tr th {\n",
       "        vertical-align: top;\n",
       "    }\n",
       "\n",
       "    .dataframe thead th {\n",
       "        text-align: right;\n",
       "    }\n",
       "</style>\n",
       "<table border=\"1\" class=\"dataframe\">\n",
       "  <thead>\n",
       "    <tr style=\"text-align: right;\">\n",
       "      <th></th>\n",
       "      <th>driver_id</th>\n",
       "      <th>ride_id</th>\n",
       "      <th>ride_distance</th>\n",
       "      <th>ride_duration</th>\n",
       "      <th>ride_prime_time</th>\n",
       "      <th>ride_duration_min</th>\n",
       "      <th>ride_distance_miles</th>\n",
       "      <th>base_fare$</th>\n",
       "      <th>duration_ride_revenue$</th>\n",
       "    </tr>\n",
       "  </thead>\n",
       "  <tbody>\n",
       "    <tr>\n",
       "      <th>0</th>\n",
       "      <td>002be0ffdc997bd5c50703158b7c2491</td>\n",
       "      <td>006d61cf7446e682f7bc50b0f8a5bea5</td>\n",
       "      <td>1811</td>\n",
       "      <td>327</td>\n",
       "      <td>50</td>\n",
       "      <td>5.450000</td>\n",
       "      <td>1.125303</td>\n",
       "      <td>2</td>\n",
       "      <td>1.199000</td>\n",
       "    </tr>\n",
       "    <tr>\n",
       "      <th>1</th>\n",
       "      <td>002be0ffdc997bd5c50703158b7c2491</td>\n",
       "      <td>01b522c5c3a756fbdb12e95e87507eda</td>\n",
       "      <td>3362</td>\n",
       "      <td>809</td>\n",
       "      <td>0</td>\n",
       "      <td>13.483333</td>\n",
       "      <td>2.089050</td>\n",
       "      <td>2</td>\n",
       "      <td>2.966333</td>\n",
       "    </tr>\n",
       "    <tr>\n",
       "      <th>2</th>\n",
       "      <td>002be0ffdc997bd5c50703158b7c2491</td>\n",
       "      <td>029227c4c2971ce69ff2274dc798ef43</td>\n",
       "      <td>3282</td>\n",
       "      <td>572</td>\n",
       "      <td>0</td>\n",
       "      <td>9.533333</td>\n",
       "      <td>2.039340</td>\n",
       "      <td>2</td>\n",
       "      <td>2.097333</td>\n",
       "    </tr>\n",
       "    <tr>\n",
       "      <th>3</th>\n",
       "      <td>002be0ffdc997bd5c50703158b7c2491</td>\n",
       "      <td>034e861343a63ac3c18a9ceb1ce0ac69</td>\n",
       "      <td>65283</td>\n",
       "      <td>3338</td>\n",
       "      <td>25</td>\n",
       "      <td>55.633333</td>\n",
       "      <td>40.564976</td>\n",
       "      <td>2</td>\n",
       "      <td>12.239333</td>\n",
       "    </tr>\n",
       "    <tr>\n",
       "      <th>4</th>\n",
       "      <td>002be0ffdc997bd5c50703158b7c2491</td>\n",
       "      <td>034f2e614a2f9fc7f1c2f77647d1b981</td>\n",
       "      <td>4115</td>\n",
       "      <td>823</td>\n",
       "      <td>100</td>\n",
       "      <td>13.716667</td>\n",
       "      <td>2.556942</td>\n",
       "      <td>2</td>\n",
       "      <td>3.017667</td>\n",
       "    </tr>\n",
       "  </tbody>\n",
       "</table>\n",
       "</div>"
      ],
      "text/plain": [
       "                          driver_id                           ride_id  \\\n",
       "0  002be0ffdc997bd5c50703158b7c2491  006d61cf7446e682f7bc50b0f8a5bea5   \n",
       "1  002be0ffdc997bd5c50703158b7c2491  01b522c5c3a756fbdb12e95e87507eda   \n",
       "2  002be0ffdc997bd5c50703158b7c2491  029227c4c2971ce69ff2274dc798ef43   \n",
       "3  002be0ffdc997bd5c50703158b7c2491  034e861343a63ac3c18a9ceb1ce0ac69   \n",
       "4  002be0ffdc997bd5c50703158b7c2491  034f2e614a2f9fc7f1c2f77647d1b981   \n",
       "\n",
       "   ride_distance  ride_duration  ride_prime_time  ride_duration_min  \\\n",
       "0           1811            327               50           5.450000   \n",
       "1           3362            809                0          13.483333   \n",
       "2           3282            572                0           9.533333   \n",
       "3          65283           3338               25          55.633333   \n",
       "4           4115            823              100          13.716667   \n",
       "\n",
       "   ride_distance_miles  base_fare$  duration_ride_revenue$  \n",
       "0             1.125303           2                1.199000  \n",
       "1             2.089050           2                2.966333  \n",
       "2             2.039340           2                2.097333  \n",
       "3            40.564976           2               12.239333  \n",
       "4             2.556942           2                3.017667  "
      ]
     },
     "execution_count": 33,
     "metadata": {},
     "output_type": "execute_result"
    },
    {
     "data": {
      "text/html": [
       "<div>\n",
       "<style scoped>\n",
       "    .dataframe tbody tr th:only-of-type {\n",
       "        vertical-align: middle;\n",
       "    }\n",
       "\n",
       "    .dataframe tbody tr th {\n",
       "        vertical-align: top;\n",
       "    }\n",
       "\n",
       "    .dataframe thead th {\n",
       "        text-align: right;\n",
       "    }\n",
       "</style>\n",
       "<table border=\"1\" class=\"dataframe\">\n",
       "  <thead>\n",
       "    <tr style=\"text-align: right;\">\n",
       "      <th></th>\n",
       "      <th>driver_id</th>\n",
       "      <th>ride_id</th>\n",
       "      <th>ride_distance</th>\n",
       "      <th>ride_duration</th>\n",
       "      <th>ride_prime_time</th>\n",
       "      <th>ride_duration_min</th>\n",
       "      <th>ride_distance_miles</th>\n",
       "      <th>base_fare$</th>\n",
       "      <th>duration_ride_revenue$</th>\n",
       "    </tr>\n",
       "  </thead>\n",
       "  <tbody>\n",
       "    <tr>\n",
       "      <th>0</th>\n",
       "      <td>002be0ffdc997bd5c50703158b7c2491</td>\n",
       "      <td>006d61cf7446e682f7bc50b0f8a5bea5</td>\n",
       "      <td>1811</td>\n",
       "      <td>327</td>\n",
       "      <td>50</td>\n",
       "      <td>5.450000</td>\n",
       "      <td>1.125303</td>\n",
       "      <td>2</td>\n",
       "      <td>1.199000</td>\n",
       "    </tr>\n",
       "    <tr>\n",
       "      <th>1</th>\n",
       "      <td>002be0ffdc997bd5c50703158b7c2491</td>\n",
       "      <td>01b522c5c3a756fbdb12e95e87507eda</td>\n",
       "      <td>3362</td>\n",
       "      <td>809</td>\n",
       "      <td>0</td>\n",
       "      <td>13.483333</td>\n",
       "      <td>2.089050</td>\n",
       "      <td>2</td>\n",
       "      <td>2.966333</td>\n",
       "    </tr>\n",
       "    <tr>\n",
       "      <th>2</th>\n",
       "      <td>002be0ffdc997bd5c50703158b7c2491</td>\n",
       "      <td>029227c4c2971ce69ff2274dc798ef43</td>\n",
       "      <td>3282</td>\n",
       "      <td>572</td>\n",
       "      <td>0</td>\n",
       "      <td>9.533333</td>\n",
       "      <td>2.039340</td>\n",
       "      <td>2</td>\n",
       "      <td>2.097333</td>\n",
       "    </tr>\n",
       "    <tr>\n",
       "      <th>3</th>\n",
       "      <td>002be0ffdc997bd5c50703158b7c2491</td>\n",
       "      <td>034e861343a63ac3c18a9ceb1ce0ac69</td>\n",
       "      <td>65283</td>\n",
       "      <td>3338</td>\n",
       "      <td>25</td>\n",
       "      <td>55.633333</td>\n",
       "      <td>40.564976</td>\n",
       "      <td>2</td>\n",
       "      <td>12.239333</td>\n",
       "    </tr>\n",
       "    <tr>\n",
       "      <th>4</th>\n",
       "      <td>002be0ffdc997bd5c50703158b7c2491</td>\n",
       "      <td>034f2e614a2f9fc7f1c2f77647d1b981</td>\n",
       "      <td>4115</td>\n",
       "      <td>823</td>\n",
       "      <td>100</td>\n",
       "      <td>13.716667</td>\n",
       "      <td>2.556942</td>\n",
       "      <td>2</td>\n",
       "      <td>3.017667</td>\n",
       "    </tr>\n",
       "  </tbody>\n",
       "</table>\n",
       "</div>"
      ],
      "text/plain": [
       "                          driver_id                           ride_id  \\\n",
       "0  002be0ffdc997bd5c50703158b7c2491  006d61cf7446e682f7bc50b0f8a5bea5   \n",
       "1  002be0ffdc997bd5c50703158b7c2491  01b522c5c3a756fbdb12e95e87507eda   \n",
       "2  002be0ffdc997bd5c50703158b7c2491  029227c4c2971ce69ff2274dc798ef43   \n",
       "3  002be0ffdc997bd5c50703158b7c2491  034e861343a63ac3c18a9ceb1ce0ac69   \n",
       "4  002be0ffdc997bd5c50703158b7c2491  034f2e614a2f9fc7f1c2f77647d1b981   \n",
       "\n",
       "   ride_distance  ride_duration  ride_prime_time  ride_duration_min  \\\n",
       "0           1811            327               50           5.450000   \n",
       "1           3362            809                0          13.483333   \n",
       "2           3282            572                0           9.533333   \n",
       "3          65283           3338               25          55.633333   \n",
       "4           4115            823              100          13.716667   \n",
       "\n",
       "   ride_distance_miles  base_fare$  duration_ride_revenue$  \n",
       "0             1.125303           2                1.199000  \n",
       "1             2.089050           2                2.966333  \n",
       "2             2.039340           2                2.097333  \n",
       "3            40.564976           2               12.239333  \n",
       "4             2.556942           2                3.017667  "
      ]
     },
     "execution_count": 33,
     "metadata": {},
     "output_type": "execute_result"
    }
   ],
   "source": [
    "riderid.head()"
   ]
  },
  {
   "cell_type": "code",
   "execution_count": 34,
   "metadata": {},
   "outputs": [],
   "source": [
    "#put the total of the ride and take the 20% and service fee for the ride and service fee\n",
    "# group by driver id\n",
    "#take off possible outliers check plot\n",
    "#check if the ride id is indeed the unique one\n",
    "#drop some columns \n",
    "#check better the prime time\n"
   ]
  },
  {
   "cell_type": "code",
   "execution_count": 35,
   "metadata": {},
   "outputs": [],
   "source": [
    "# riderid[\"total_price_mile$\"]"
   ]
  },
  {
   "cell_type": "markdown",
   "metadata": {},
   "source": [
    "# Rider Time stamps"
   ]
  },
  {
   "cell_type": "code",
   "execution_count": 36,
   "metadata": {},
   "outputs": [],
   "source": [
    "#importing driver id file\n",
    "\n",
    "ridertime=pd.read_csv(\"data/ride_timestamps.csv\")"
   ]
  },
  {
   "cell_type": "code",
   "execution_count": 37,
   "metadata": {},
   "outputs": [
    {
     "data": {
      "text/html": [
       "<div>\n",
       "<style scoped>\n",
       "    .dataframe tbody tr th:only-of-type {\n",
       "        vertical-align: middle;\n",
       "    }\n",
       "\n",
       "    .dataframe tbody tr th {\n",
       "        vertical-align: top;\n",
       "    }\n",
       "\n",
       "    .dataframe thead th {\n",
       "        text-align: right;\n",
       "    }\n",
       "</style>\n",
       "<table border=\"1\" class=\"dataframe\">\n",
       "  <thead>\n",
       "    <tr style=\"text-align: right;\">\n",
       "      <th></th>\n",
       "      <th>ride_id</th>\n",
       "      <th>event</th>\n",
       "      <th>timestamp</th>\n",
       "    </tr>\n",
       "  </thead>\n",
       "  <tbody>\n",
       "    <tr>\n",
       "      <th>0</th>\n",
       "      <td>00003037a262d9ee40e61b5c0718f7f0</td>\n",
       "      <td>requested_at</td>\n",
       "      <td>2016-06-13 09:39:19</td>\n",
       "    </tr>\n",
       "    <tr>\n",
       "      <th>1</th>\n",
       "      <td>00003037a262d9ee40e61b5c0718f7f0</td>\n",
       "      <td>accepted_at</td>\n",
       "      <td>2016-06-13 09:39:51</td>\n",
       "    </tr>\n",
       "    <tr>\n",
       "      <th>2</th>\n",
       "      <td>00003037a262d9ee40e61b5c0718f7f0</td>\n",
       "      <td>arrived_at</td>\n",
       "      <td>2016-06-13 09:44:31</td>\n",
       "    </tr>\n",
       "    <tr>\n",
       "      <th>3</th>\n",
       "      <td>00003037a262d9ee40e61b5c0718f7f0</td>\n",
       "      <td>picked_up_at</td>\n",
       "      <td>2016-06-13 09:44:33</td>\n",
       "    </tr>\n",
       "    <tr>\n",
       "      <th>4</th>\n",
       "      <td>00003037a262d9ee40e61b5c0718f7f0</td>\n",
       "      <td>dropped_off_at</td>\n",
       "      <td>2016-06-13 10:03:05</td>\n",
       "    </tr>\n",
       "    <tr>\n",
       "      <th>5</th>\n",
       "      <td>00005eae40882760d675da5effb89ae3</td>\n",
       "      <td>requested_at</td>\n",
       "      <td>2016-05-14 05:23:21</td>\n",
       "    </tr>\n",
       "    <tr>\n",
       "      <th>6</th>\n",
       "      <td>00005eae40882760d675da5effb89ae3</td>\n",
       "      <td>accepted_at</td>\n",
       "      <td>2016-05-14 05:23:25</td>\n",
       "    </tr>\n",
       "    <tr>\n",
       "      <th>7</th>\n",
       "      <td>00005eae40882760d675da5effb89ae3</td>\n",
       "      <td>arrived_at</td>\n",
       "      <td>2016-05-14 05:26:17</td>\n",
       "    </tr>\n",
       "    <tr>\n",
       "      <th>8</th>\n",
       "      <td>00005eae40882760d675da5effb89ae3</td>\n",
       "      <td>picked_up_at</td>\n",
       "      <td>2016-05-14 05:26:18</td>\n",
       "    </tr>\n",
       "    <tr>\n",
       "      <th>9</th>\n",
       "      <td>00005eae40882760d675da5effb89ae3</td>\n",
       "      <td>dropped_off_at</td>\n",
       "      <td>2016-05-14 05:34:17</td>\n",
       "    </tr>\n",
       "  </tbody>\n",
       "</table>\n",
       "</div>"
      ],
      "text/plain": [
       "                            ride_id           event            timestamp\n",
       "0  00003037a262d9ee40e61b5c0718f7f0    requested_at  2016-06-13 09:39:19\n",
       "1  00003037a262d9ee40e61b5c0718f7f0     accepted_at  2016-06-13 09:39:51\n",
       "2  00003037a262d9ee40e61b5c0718f7f0      arrived_at  2016-06-13 09:44:31\n",
       "3  00003037a262d9ee40e61b5c0718f7f0    picked_up_at  2016-06-13 09:44:33\n",
       "4  00003037a262d9ee40e61b5c0718f7f0  dropped_off_at  2016-06-13 10:03:05\n",
       "5  00005eae40882760d675da5effb89ae3    requested_at  2016-05-14 05:23:21\n",
       "6  00005eae40882760d675da5effb89ae3     accepted_at  2016-05-14 05:23:25\n",
       "7  00005eae40882760d675da5effb89ae3      arrived_at  2016-05-14 05:26:17\n",
       "8  00005eae40882760d675da5effb89ae3    picked_up_at  2016-05-14 05:26:18\n",
       "9  00005eae40882760d675da5effb89ae3  dropped_off_at  2016-05-14 05:34:17"
      ]
     },
     "execution_count": 37,
     "metadata": {},
     "output_type": "execute_result"
    },
    {
     "data": {
      "text/html": [
       "<div>\n",
       "<style scoped>\n",
       "    .dataframe tbody tr th:only-of-type {\n",
       "        vertical-align: middle;\n",
       "    }\n",
       "\n",
       "    .dataframe tbody tr th {\n",
       "        vertical-align: top;\n",
       "    }\n",
       "\n",
       "    .dataframe thead th {\n",
       "        text-align: right;\n",
       "    }\n",
       "</style>\n",
       "<table border=\"1\" class=\"dataframe\">\n",
       "  <thead>\n",
       "    <tr style=\"text-align: right;\">\n",
       "      <th></th>\n",
       "      <th>ride_id</th>\n",
       "      <th>event</th>\n",
       "      <th>timestamp</th>\n",
       "    </tr>\n",
       "  </thead>\n",
       "  <tbody>\n",
       "    <tr>\n",
       "      <th>0</th>\n",
       "      <td>00003037a262d9ee40e61b5c0718f7f0</td>\n",
       "      <td>requested_at</td>\n",
       "      <td>2016-06-13 09:39:19</td>\n",
       "    </tr>\n",
       "    <tr>\n",
       "      <th>1</th>\n",
       "      <td>00003037a262d9ee40e61b5c0718f7f0</td>\n",
       "      <td>accepted_at</td>\n",
       "      <td>2016-06-13 09:39:51</td>\n",
       "    </tr>\n",
       "    <tr>\n",
       "      <th>2</th>\n",
       "      <td>00003037a262d9ee40e61b5c0718f7f0</td>\n",
       "      <td>arrived_at</td>\n",
       "      <td>2016-06-13 09:44:31</td>\n",
       "    </tr>\n",
       "    <tr>\n",
       "      <th>3</th>\n",
       "      <td>00003037a262d9ee40e61b5c0718f7f0</td>\n",
       "      <td>picked_up_at</td>\n",
       "      <td>2016-06-13 09:44:33</td>\n",
       "    </tr>\n",
       "    <tr>\n",
       "      <th>4</th>\n",
       "      <td>00003037a262d9ee40e61b5c0718f7f0</td>\n",
       "      <td>dropped_off_at</td>\n",
       "      <td>2016-06-13 10:03:05</td>\n",
       "    </tr>\n",
       "    <tr>\n",
       "      <th>5</th>\n",
       "      <td>00005eae40882760d675da5effb89ae3</td>\n",
       "      <td>requested_at</td>\n",
       "      <td>2016-05-14 05:23:21</td>\n",
       "    </tr>\n",
       "    <tr>\n",
       "      <th>6</th>\n",
       "      <td>00005eae40882760d675da5effb89ae3</td>\n",
       "      <td>accepted_at</td>\n",
       "      <td>2016-05-14 05:23:25</td>\n",
       "    </tr>\n",
       "    <tr>\n",
       "      <th>7</th>\n",
       "      <td>00005eae40882760d675da5effb89ae3</td>\n",
       "      <td>arrived_at</td>\n",
       "      <td>2016-05-14 05:26:17</td>\n",
       "    </tr>\n",
       "    <tr>\n",
       "      <th>8</th>\n",
       "      <td>00005eae40882760d675da5effb89ae3</td>\n",
       "      <td>picked_up_at</td>\n",
       "      <td>2016-05-14 05:26:18</td>\n",
       "    </tr>\n",
       "    <tr>\n",
       "      <th>9</th>\n",
       "      <td>00005eae40882760d675da5effb89ae3</td>\n",
       "      <td>dropped_off_at</td>\n",
       "      <td>2016-05-14 05:34:17</td>\n",
       "    </tr>\n",
       "  </tbody>\n",
       "</table>\n",
       "</div>"
      ],
      "text/plain": [
       "                            ride_id           event            timestamp\n",
       "0  00003037a262d9ee40e61b5c0718f7f0    requested_at  2016-06-13 09:39:19\n",
       "1  00003037a262d9ee40e61b5c0718f7f0     accepted_at  2016-06-13 09:39:51\n",
       "2  00003037a262d9ee40e61b5c0718f7f0      arrived_at  2016-06-13 09:44:31\n",
       "3  00003037a262d9ee40e61b5c0718f7f0    picked_up_at  2016-06-13 09:44:33\n",
       "4  00003037a262d9ee40e61b5c0718f7f0  dropped_off_at  2016-06-13 10:03:05\n",
       "5  00005eae40882760d675da5effb89ae3    requested_at  2016-05-14 05:23:21\n",
       "6  00005eae40882760d675da5effb89ae3     accepted_at  2016-05-14 05:23:25\n",
       "7  00005eae40882760d675da5effb89ae3      arrived_at  2016-05-14 05:26:17\n",
       "8  00005eae40882760d675da5effb89ae3    picked_up_at  2016-05-14 05:26:18\n",
       "9  00005eae40882760d675da5effb89ae3  dropped_off_at  2016-05-14 05:34:17"
      ]
     },
     "execution_count": 37,
     "metadata": {},
     "output_type": "execute_result"
    }
   ],
   "source": [
    "#check file\n",
    "\n",
    "ridertime.head(10)"
   ]
  },
  {
   "cell_type": "code",
   "execution_count": 38,
   "metadata": {},
   "outputs": [],
   "source": [
    "#check it out!!! https://stackoverflow.com/questions/58832688/calculate-time-difference-between-two-events-while-disregarding-unmatched-events"
   ]
  },
  {
   "cell_type": "code",
   "execution_count": 39,
   "metadata": {
    "scrolled": false
   },
   "outputs": [
    {
     "data": {
      "text/plain": [
       "ride_id      object\n",
       "event        object\n",
       "timestamp    object\n",
       "dtype: object"
      ]
     },
     "execution_count": 39,
     "metadata": {},
     "output_type": "execute_result"
    },
    {
     "data": {
      "text/plain": [
       "ride_id      object\n",
       "event        object\n",
       "timestamp    object\n",
       "dtype: object"
      ]
     },
     "execution_count": 39,
     "metadata": {},
     "output_type": "execute_result"
    }
   ],
   "source": [
    "# check types\n",
    "\n",
    "ridertime.dtypes"
   ]
  },
  {
   "cell_type": "code",
   "execution_count": 40,
   "metadata": {},
   "outputs": [],
   "source": [
    "#change timestamp to correct type\n",
    "\n",
    "ridertime['timestamp']=pd.to_datetime(ridertime['timestamp'],errors='coerce')"
   ]
  },
  {
   "cell_type": "code",
   "execution_count": 41,
   "metadata": {},
   "outputs": [
    {
     "data": {
      "text/plain": [
       "ride_id              object\n",
       "event                object\n",
       "timestamp    datetime64[ns]\n",
       "dtype: object"
      ]
     },
     "execution_count": 41,
     "metadata": {},
     "output_type": "execute_result"
    },
    {
     "data": {
      "text/plain": [
       "ride_id              object\n",
       "event                object\n",
       "timestamp    datetime64[ns]\n",
       "dtype: object"
      ]
     },
     "execution_count": 41,
     "metadata": {},
     "output_type": "execute_result"
    }
   ],
   "source": [
    "ridertime.dtypes"
   ]
  },
  {
   "cell_type": "code",
   "execution_count": 42,
   "metadata": {},
   "outputs": [],
   "source": [
    "#add month\n",
    "\n",
    "ridertime[\"month\"]=ridertime[\"timestamp\"].dt.month"
   ]
  },
  {
   "cell_type": "code",
   "execution_count": 43,
   "metadata": {},
   "outputs": [
    {
     "data": {
      "text/plain": [
       "5.0    418294\n",
       "6.0    346486\n",
       "4.0    199384\n",
       "3.0      6240\n",
       "Name: month, dtype: int64"
      ]
     },
     "execution_count": 43,
     "metadata": {},
     "output_type": "execute_result"
    },
    {
     "data": {
      "text/plain": [
       "5.0    418294\n",
       "6.0    346486\n",
       "4.0    199384\n",
       "3.0      6240\n",
       "Name: month, dtype: int64"
      ]
     },
     "execution_count": 43,
     "metadata": {},
     "output_type": "execute_result"
    }
   ],
   "source": [
    "# check variation\n",
    "\n",
    "ridertime[\"month\"].value_counts()"
   ]
  },
  {
   "cell_type": "code",
   "execution_count": 44,
   "metadata": {},
   "outputs": [],
   "source": [
    "#add day\n",
    "\n",
    "ridertime[\"day\"]=ridertime[\"timestamp\"].dt.day"
   ]
  },
  {
   "cell_type": "code",
   "execution_count": 45,
   "metadata": {},
   "outputs": [
    {
     "data": {
      "text/plain": [
       "21.0    37040\n",
       "25.0    36783\n",
       "15.0    36674\n",
       "14.0    36555\n",
       "20.0    36346\n",
       "26.0    36057\n",
       "16.0    35572\n",
       "24.0    35458\n",
       "17.0    35308\n",
       "22.0    35098\n",
       "13.0    34828\n",
       "23.0    34293\n",
       "11.0    33543\n",
       "19.0    32878\n",
       "10.0    32777\n",
       "18.0    32595\n",
       "12.0    32518\n",
       "7.0     31627\n",
       "9.0     30766\n",
       "6.0     30721\n",
       "4.0     29479\n",
       "5.0     28832\n",
       "8.0     28702\n",
       "3.0     28685\n",
       "28.0    26637\n",
       "27.0    26557\n",
       "2.0     25821\n",
       "29.0    25775\n",
       "1.0     24408\n",
       "30.0    24026\n",
       "31.0    14045\n",
       "Name: day, dtype: int64"
      ]
     },
     "execution_count": 45,
     "metadata": {},
     "output_type": "execute_result"
    },
    {
     "data": {
      "text/plain": [
       "21.0    37040\n",
       "25.0    36783\n",
       "15.0    36674\n",
       "14.0    36555\n",
       "20.0    36346\n",
       "26.0    36057\n",
       "16.0    35572\n",
       "24.0    35458\n",
       "17.0    35308\n",
       "22.0    35098\n",
       "13.0    34828\n",
       "23.0    34293\n",
       "11.0    33543\n",
       "19.0    32878\n",
       "10.0    32777\n",
       "18.0    32595\n",
       "12.0    32518\n",
       "7.0     31627\n",
       "9.0     30766\n",
       "6.0     30721\n",
       "4.0     29479\n",
       "5.0     28832\n",
       "8.0     28702\n",
       "3.0     28685\n",
       "28.0    26637\n",
       "27.0    26557\n",
       "2.0     25821\n",
       "29.0    25775\n",
       "1.0     24408\n",
       "30.0    24026\n",
       "31.0    14045\n",
       "Name: day, dtype: int64"
      ]
     },
     "execution_count": 45,
     "metadata": {},
     "output_type": "execute_result"
    }
   ],
   "source": [
    "# check variation\n",
    "\n",
    "ridertime[\"day\"].value_counts()"
   ]
  },
  {
   "cell_type": "code",
   "execution_count": 46,
   "metadata": {},
   "outputs": [],
   "source": [
    "#add weekday\n",
    "# Monday=0, Sunday=6\n",
    "\n",
    "ridertime[\"weekday\"]=ridertime[\"timestamp\"].dt.weekday"
   ]
  },
  {
   "cell_type": "code",
   "execution_count": 47,
   "metadata": {},
   "outputs": [
    {
     "data": {
      "text/plain": [
       "4.0    170113\n",
       "5.0    160010\n",
       "3.0    149367\n",
       "2.0    137032\n",
       "1.0    125905\n",
       "6.0    120157\n",
       "0.0    107820\n",
       "Name: weekday, dtype: int64"
      ]
     },
     "execution_count": 47,
     "metadata": {},
     "output_type": "execute_result"
    },
    {
     "data": {
      "text/plain": [
       "4.0    170113\n",
       "5.0    160010\n",
       "3.0    149367\n",
       "2.0    137032\n",
       "1.0    125905\n",
       "6.0    120157\n",
       "0.0    107820\n",
       "Name: weekday, dtype: int64"
      ]
     },
     "execution_count": 47,
     "metadata": {},
     "output_type": "execute_result"
    }
   ],
   "source": [
    "# check variation\n",
    "\n",
    "ridertime[\"weekday\"].value_counts()"
   ]
  },
  {
   "cell_type": "code",
   "execution_count": 48,
   "metadata": {},
   "outputs": [],
   "source": [
    "# 4 and 5, Friday and Saturday"
   ]
  },
  {
   "cell_type": "code",
   "execution_count": 49,
   "metadata": {},
   "outputs": [],
   "source": [
    "#add hour\n",
    "\n",
    "ridertime[\"hour\"]=ridertime[\"timestamp\"].dt.hour"
   ]
  },
  {
   "cell_type": "code",
   "execution_count": 50,
   "metadata": {
    "scrolled": true
   },
   "outputs": [
    {
     "data": {
      "text/plain": [
       "19.0    70891\n",
       "18.0    68947\n",
       "20.0    64591\n",
       "21.0    64444\n",
       "22.0    60147\n",
       "17.0    57222\n",
       "23.0    48933\n",
       "9.0     48835\n",
       "16.0    48074\n",
       "8.0     44248\n",
       "10.0    43713\n",
       "15.0    43087\n",
       "11.0    41531\n",
       "12.0    41165\n",
       "14.0    40080\n",
       "13.0    39577\n",
       "0.0     34220\n",
       "7.0     32742\n",
       "1.0     24602\n",
       "6.0     16653\n",
       "2.0     15173\n",
       "5.0      8174\n",
       "3.0      7371\n",
       "4.0      5984\n",
       "Name: hour, dtype: int64"
      ]
     },
     "execution_count": 50,
     "metadata": {},
     "output_type": "execute_result"
    },
    {
     "data": {
      "text/plain": [
       "19.0    70891\n",
       "18.0    68947\n",
       "20.0    64591\n",
       "21.0    64444\n",
       "22.0    60147\n",
       "17.0    57222\n",
       "23.0    48933\n",
       "9.0     48835\n",
       "16.0    48074\n",
       "8.0     44248\n",
       "10.0    43713\n",
       "15.0    43087\n",
       "11.0    41531\n",
       "12.0    41165\n",
       "14.0    40080\n",
       "13.0    39577\n",
       "0.0     34220\n",
       "7.0     32742\n",
       "1.0     24602\n",
       "6.0     16653\n",
       "2.0     15173\n",
       "5.0      8174\n",
       "3.0      7371\n",
       "4.0      5984\n",
       "Name: hour, dtype: int64"
      ]
     },
     "execution_count": 50,
     "metadata": {},
     "output_type": "execute_result"
    }
   ],
   "source": [
    "# check variation\n",
    "\n",
    "ridertime[\"hour\"].value_counts()"
   ]
  },
  {
   "cell_type": "code",
   "execution_count": 51,
   "metadata": {},
   "outputs": [],
   "source": [
    "#night time more popular "
   ]
  },
  {
   "cell_type": "code",
   "execution_count": 52,
   "metadata": {},
   "outputs": [
    {
     "data": {
      "text/html": [
       "<div>\n",
       "<style scoped>\n",
       "    .dataframe tbody tr th:only-of-type {\n",
       "        vertical-align: middle;\n",
       "    }\n",
       "\n",
       "    .dataframe tbody tr th {\n",
       "        vertical-align: top;\n",
       "    }\n",
       "\n",
       "    .dataframe thead th {\n",
       "        text-align: right;\n",
       "    }\n",
       "</style>\n",
       "<table border=\"1\" class=\"dataframe\">\n",
       "  <thead>\n",
       "    <tr style=\"text-align: right;\">\n",
       "      <th></th>\n",
       "      <th>ride_id</th>\n",
       "      <th>event</th>\n",
       "      <th>timestamp</th>\n",
       "      <th>month</th>\n",
       "      <th>day</th>\n",
       "      <th>weekday</th>\n",
       "      <th>hour</th>\n",
       "    </tr>\n",
       "  </thead>\n",
       "  <tbody>\n",
       "    <tr>\n",
       "      <th>0</th>\n",
       "      <td>00003037a262d9ee40e61b5c0718f7f0</td>\n",
       "      <td>requested_at</td>\n",
       "      <td>2016-06-13 09:39:19</td>\n",
       "      <td>6.0</td>\n",
       "      <td>13.0</td>\n",
       "      <td>0.0</td>\n",
       "      <td>9.0</td>\n",
       "    </tr>\n",
       "    <tr>\n",
       "      <th>1</th>\n",
       "      <td>00003037a262d9ee40e61b5c0718f7f0</td>\n",
       "      <td>accepted_at</td>\n",
       "      <td>2016-06-13 09:39:51</td>\n",
       "      <td>6.0</td>\n",
       "      <td>13.0</td>\n",
       "      <td>0.0</td>\n",
       "      <td>9.0</td>\n",
       "    </tr>\n",
       "    <tr>\n",
       "      <th>2</th>\n",
       "      <td>00003037a262d9ee40e61b5c0718f7f0</td>\n",
       "      <td>arrived_at</td>\n",
       "      <td>2016-06-13 09:44:31</td>\n",
       "      <td>6.0</td>\n",
       "      <td>13.0</td>\n",
       "      <td>0.0</td>\n",
       "      <td>9.0</td>\n",
       "    </tr>\n",
       "    <tr>\n",
       "      <th>3</th>\n",
       "      <td>00003037a262d9ee40e61b5c0718f7f0</td>\n",
       "      <td>picked_up_at</td>\n",
       "      <td>2016-06-13 09:44:33</td>\n",
       "      <td>6.0</td>\n",
       "      <td>13.0</td>\n",
       "      <td>0.0</td>\n",
       "      <td>9.0</td>\n",
       "    </tr>\n",
       "    <tr>\n",
       "      <th>4</th>\n",
       "      <td>00003037a262d9ee40e61b5c0718f7f0</td>\n",
       "      <td>dropped_off_at</td>\n",
       "      <td>2016-06-13 10:03:05</td>\n",
       "      <td>6.0</td>\n",
       "      <td>13.0</td>\n",
       "      <td>0.0</td>\n",
       "      <td>10.0</td>\n",
       "    </tr>\n",
       "  </tbody>\n",
       "</table>\n",
       "</div>"
      ],
      "text/plain": [
       "                            ride_id           event           timestamp  \\\n",
       "0  00003037a262d9ee40e61b5c0718f7f0    requested_at 2016-06-13 09:39:19   \n",
       "1  00003037a262d9ee40e61b5c0718f7f0     accepted_at 2016-06-13 09:39:51   \n",
       "2  00003037a262d9ee40e61b5c0718f7f0      arrived_at 2016-06-13 09:44:31   \n",
       "3  00003037a262d9ee40e61b5c0718f7f0    picked_up_at 2016-06-13 09:44:33   \n",
       "4  00003037a262d9ee40e61b5c0718f7f0  dropped_off_at 2016-06-13 10:03:05   \n",
       "\n",
       "   month   day  weekday  hour  \n",
       "0    6.0  13.0      0.0   9.0  \n",
       "1    6.0  13.0      0.0   9.0  \n",
       "2    6.0  13.0      0.0   9.0  \n",
       "3    6.0  13.0      0.0   9.0  \n",
       "4    6.0  13.0      0.0  10.0  "
      ]
     },
     "execution_count": 52,
     "metadata": {},
     "output_type": "execute_result"
    },
    {
     "data": {
      "text/html": [
       "<div>\n",
       "<style scoped>\n",
       "    .dataframe tbody tr th:only-of-type {\n",
       "        vertical-align: middle;\n",
       "    }\n",
       "\n",
       "    .dataframe tbody tr th {\n",
       "        vertical-align: top;\n",
       "    }\n",
       "\n",
       "    .dataframe thead th {\n",
       "        text-align: right;\n",
       "    }\n",
       "</style>\n",
       "<table border=\"1\" class=\"dataframe\">\n",
       "  <thead>\n",
       "    <tr style=\"text-align: right;\">\n",
       "      <th></th>\n",
       "      <th>ride_id</th>\n",
       "      <th>event</th>\n",
       "      <th>timestamp</th>\n",
       "      <th>month</th>\n",
       "      <th>day</th>\n",
       "      <th>weekday</th>\n",
       "      <th>hour</th>\n",
       "    </tr>\n",
       "  </thead>\n",
       "  <tbody>\n",
       "    <tr>\n",
       "      <th>0</th>\n",
       "      <td>00003037a262d9ee40e61b5c0718f7f0</td>\n",
       "      <td>requested_at</td>\n",
       "      <td>2016-06-13 09:39:19</td>\n",
       "      <td>6.0</td>\n",
       "      <td>13.0</td>\n",
       "      <td>0.0</td>\n",
       "      <td>9.0</td>\n",
       "    </tr>\n",
       "    <tr>\n",
       "      <th>1</th>\n",
       "      <td>00003037a262d9ee40e61b5c0718f7f0</td>\n",
       "      <td>accepted_at</td>\n",
       "      <td>2016-06-13 09:39:51</td>\n",
       "      <td>6.0</td>\n",
       "      <td>13.0</td>\n",
       "      <td>0.0</td>\n",
       "      <td>9.0</td>\n",
       "    </tr>\n",
       "    <tr>\n",
       "      <th>2</th>\n",
       "      <td>00003037a262d9ee40e61b5c0718f7f0</td>\n",
       "      <td>arrived_at</td>\n",
       "      <td>2016-06-13 09:44:31</td>\n",
       "      <td>6.0</td>\n",
       "      <td>13.0</td>\n",
       "      <td>0.0</td>\n",
       "      <td>9.0</td>\n",
       "    </tr>\n",
       "    <tr>\n",
       "      <th>3</th>\n",
       "      <td>00003037a262d9ee40e61b5c0718f7f0</td>\n",
       "      <td>picked_up_at</td>\n",
       "      <td>2016-06-13 09:44:33</td>\n",
       "      <td>6.0</td>\n",
       "      <td>13.0</td>\n",
       "      <td>0.0</td>\n",
       "      <td>9.0</td>\n",
       "    </tr>\n",
       "    <tr>\n",
       "      <th>4</th>\n",
       "      <td>00003037a262d9ee40e61b5c0718f7f0</td>\n",
       "      <td>dropped_off_at</td>\n",
       "      <td>2016-06-13 10:03:05</td>\n",
       "      <td>6.0</td>\n",
       "      <td>13.0</td>\n",
       "      <td>0.0</td>\n",
       "      <td>10.0</td>\n",
       "    </tr>\n",
       "  </tbody>\n",
       "</table>\n",
       "</div>"
      ],
      "text/plain": [
       "                            ride_id           event           timestamp  \\\n",
       "0  00003037a262d9ee40e61b5c0718f7f0    requested_at 2016-06-13 09:39:19   \n",
       "1  00003037a262d9ee40e61b5c0718f7f0     accepted_at 2016-06-13 09:39:51   \n",
       "2  00003037a262d9ee40e61b5c0718f7f0      arrived_at 2016-06-13 09:44:31   \n",
       "3  00003037a262d9ee40e61b5c0718f7f0    picked_up_at 2016-06-13 09:44:33   \n",
       "4  00003037a262d9ee40e61b5c0718f7f0  dropped_off_at 2016-06-13 10:03:05   \n",
       "\n",
       "   month   day  weekday  hour  \n",
       "0    6.0  13.0      0.0   9.0  \n",
       "1    6.0  13.0      0.0   9.0  \n",
       "2    6.0  13.0      0.0   9.0  \n",
       "3    6.0  13.0      0.0   9.0  \n",
       "4    6.0  13.0      0.0  10.0  "
      ]
     },
     "execution_count": 52,
     "metadata": {},
     "output_type": "execute_result"
    }
   ],
   "source": [
    "ridertime.head()"
   ]
  },
  {
   "cell_type": "code",
   "execution_count": 53,
   "metadata": {},
   "outputs": [],
   "source": [
    "#create a groupby to have the total ride time , or a merge for the event time since request and drop off can be different hours"
   ]
  },
  {
   "cell_type": "markdown",
   "metadata": {},
   "source": [
    "## 3.1: checking time between events"
   ]
  },
  {
   "cell_type": "code",
   "execution_count": 156,
   "metadata": {},
   "outputs": [],
   "source": [
    "timedif=ridertime.copy()"
   ]
  },
  {
   "cell_type": "code",
   "execution_count": 157,
   "metadata": {},
   "outputs": [
    {
     "data": {
      "text/html": [
       "<div>\n",
       "<style scoped>\n",
       "    .dataframe tbody tr th:only-of-type {\n",
       "        vertical-align: middle;\n",
       "    }\n",
       "\n",
       "    .dataframe tbody tr th {\n",
       "        vertical-align: top;\n",
       "    }\n",
       "\n",
       "    .dataframe thead th {\n",
       "        text-align: right;\n",
       "    }\n",
       "</style>\n",
       "<table border=\"1\" class=\"dataframe\">\n",
       "  <thead>\n",
       "    <tr style=\"text-align: right;\">\n",
       "      <th></th>\n",
       "      <th>ride_id</th>\n",
       "      <th>event</th>\n",
       "      <th>timestamp</th>\n",
       "      <th>month</th>\n",
       "      <th>day</th>\n",
       "      <th>weekday</th>\n",
       "      <th>hour</th>\n",
       "    </tr>\n",
       "  </thead>\n",
       "  <tbody>\n",
       "    <tr>\n",
       "      <th>0</th>\n",
       "      <td>00003037a262d9ee40e61b5c0718f7f0</td>\n",
       "      <td>requested_at</td>\n",
       "      <td>2016-06-13 09:39:19</td>\n",
       "      <td>6.0</td>\n",
       "      <td>13.0</td>\n",
       "      <td>0.0</td>\n",
       "      <td>9.0</td>\n",
       "    </tr>\n",
       "    <tr>\n",
       "      <th>1</th>\n",
       "      <td>00003037a262d9ee40e61b5c0718f7f0</td>\n",
       "      <td>accepted_at</td>\n",
       "      <td>2016-06-13 09:39:51</td>\n",
       "      <td>6.0</td>\n",
       "      <td>13.0</td>\n",
       "      <td>0.0</td>\n",
       "      <td>9.0</td>\n",
       "    </tr>\n",
       "    <tr>\n",
       "      <th>2</th>\n",
       "      <td>00003037a262d9ee40e61b5c0718f7f0</td>\n",
       "      <td>arrived_at</td>\n",
       "      <td>2016-06-13 09:44:31</td>\n",
       "      <td>6.0</td>\n",
       "      <td>13.0</td>\n",
       "      <td>0.0</td>\n",
       "      <td>9.0</td>\n",
       "    </tr>\n",
       "    <tr>\n",
       "      <th>3</th>\n",
       "      <td>00003037a262d9ee40e61b5c0718f7f0</td>\n",
       "      <td>picked_up_at</td>\n",
       "      <td>2016-06-13 09:44:33</td>\n",
       "      <td>6.0</td>\n",
       "      <td>13.0</td>\n",
       "      <td>0.0</td>\n",
       "      <td>9.0</td>\n",
       "    </tr>\n",
       "    <tr>\n",
       "      <th>4</th>\n",
       "      <td>00003037a262d9ee40e61b5c0718f7f0</td>\n",
       "      <td>dropped_off_at</td>\n",
       "      <td>2016-06-13 10:03:05</td>\n",
       "      <td>6.0</td>\n",
       "      <td>13.0</td>\n",
       "      <td>0.0</td>\n",
       "      <td>10.0</td>\n",
       "    </tr>\n",
       "  </tbody>\n",
       "</table>\n",
       "</div>"
      ],
      "text/plain": [
       "                            ride_id           event           timestamp  \\\n",
       "0  00003037a262d9ee40e61b5c0718f7f0    requested_at 2016-06-13 09:39:19   \n",
       "1  00003037a262d9ee40e61b5c0718f7f0     accepted_at 2016-06-13 09:39:51   \n",
       "2  00003037a262d9ee40e61b5c0718f7f0      arrived_at 2016-06-13 09:44:31   \n",
       "3  00003037a262d9ee40e61b5c0718f7f0    picked_up_at 2016-06-13 09:44:33   \n",
       "4  00003037a262d9ee40e61b5c0718f7f0  dropped_off_at 2016-06-13 10:03:05   \n",
       "\n",
       "   month   day  weekday  hour  \n",
       "0    6.0  13.0      0.0   9.0  \n",
       "1    6.0  13.0      0.0   9.0  \n",
       "2    6.0  13.0      0.0   9.0  \n",
       "3    6.0  13.0      0.0   9.0  \n",
       "4    6.0  13.0      0.0  10.0  "
      ]
     },
     "execution_count": 157,
     "metadata": {},
     "output_type": "execute_result"
    },
    {
     "data": {
      "text/html": [
       "<div>\n",
       "<style scoped>\n",
       "    .dataframe tbody tr th:only-of-type {\n",
       "        vertical-align: middle;\n",
       "    }\n",
       "\n",
       "    .dataframe tbody tr th {\n",
       "        vertical-align: top;\n",
       "    }\n",
       "\n",
       "    .dataframe thead th {\n",
       "        text-align: right;\n",
       "    }\n",
       "</style>\n",
       "<table border=\"1\" class=\"dataframe\">\n",
       "  <thead>\n",
       "    <tr style=\"text-align: right;\">\n",
       "      <th></th>\n",
       "      <th>ride_id</th>\n",
       "      <th>event</th>\n",
       "      <th>timestamp</th>\n",
       "      <th>month</th>\n",
       "      <th>day</th>\n",
       "      <th>weekday</th>\n",
       "      <th>hour</th>\n",
       "    </tr>\n",
       "  </thead>\n",
       "  <tbody>\n",
       "    <tr>\n",
       "      <th>0</th>\n",
       "      <td>00003037a262d9ee40e61b5c0718f7f0</td>\n",
       "      <td>requested_at</td>\n",
       "      <td>2016-06-13 09:39:19</td>\n",
       "      <td>6.0</td>\n",
       "      <td>13.0</td>\n",
       "      <td>0.0</td>\n",
       "      <td>9.0</td>\n",
       "    </tr>\n",
       "    <tr>\n",
       "      <th>1</th>\n",
       "      <td>00003037a262d9ee40e61b5c0718f7f0</td>\n",
       "      <td>accepted_at</td>\n",
       "      <td>2016-06-13 09:39:51</td>\n",
       "      <td>6.0</td>\n",
       "      <td>13.0</td>\n",
       "      <td>0.0</td>\n",
       "      <td>9.0</td>\n",
       "    </tr>\n",
       "    <tr>\n",
       "      <th>2</th>\n",
       "      <td>00003037a262d9ee40e61b5c0718f7f0</td>\n",
       "      <td>arrived_at</td>\n",
       "      <td>2016-06-13 09:44:31</td>\n",
       "      <td>6.0</td>\n",
       "      <td>13.0</td>\n",
       "      <td>0.0</td>\n",
       "      <td>9.0</td>\n",
       "    </tr>\n",
       "    <tr>\n",
       "      <th>3</th>\n",
       "      <td>00003037a262d9ee40e61b5c0718f7f0</td>\n",
       "      <td>picked_up_at</td>\n",
       "      <td>2016-06-13 09:44:33</td>\n",
       "      <td>6.0</td>\n",
       "      <td>13.0</td>\n",
       "      <td>0.0</td>\n",
       "      <td>9.0</td>\n",
       "    </tr>\n",
       "    <tr>\n",
       "      <th>4</th>\n",
       "      <td>00003037a262d9ee40e61b5c0718f7f0</td>\n",
       "      <td>dropped_off_at</td>\n",
       "      <td>2016-06-13 10:03:05</td>\n",
       "      <td>6.0</td>\n",
       "      <td>13.0</td>\n",
       "      <td>0.0</td>\n",
       "      <td>10.0</td>\n",
       "    </tr>\n",
       "  </tbody>\n",
       "</table>\n",
       "</div>"
      ],
      "text/plain": [
       "                            ride_id           event           timestamp  \\\n",
       "0  00003037a262d9ee40e61b5c0718f7f0    requested_at 2016-06-13 09:39:19   \n",
       "1  00003037a262d9ee40e61b5c0718f7f0     accepted_at 2016-06-13 09:39:51   \n",
       "2  00003037a262d9ee40e61b5c0718f7f0      arrived_at 2016-06-13 09:44:31   \n",
       "3  00003037a262d9ee40e61b5c0718f7f0    picked_up_at 2016-06-13 09:44:33   \n",
       "4  00003037a262d9ee40e61b5c0718f7f0  dropped_off_at 2016-06-13 10:03:05   \n",
       "\n",
       "   month   day  weekday  hour  \n",
       "0    6.0  13.0      0.0   9.0  \n",
       "1    6.0  13.0      0.0   9.0  \n",
       "2    6.0  13.0      0.0   9.0  \n",
       "3    6.0  13.0      0.0   9.0  \n",
       "4    6.0  13.0      0.0  10.0  "
      ]
     },
     "execution_count": 157,
     "metadata": {},
     "output_type": "execute_result"
    }
   ],
   "source": [
    "timedif.head()"
   ]
  },
  {
   "cell_type": "code",
   "execution_count": 158,
   "metadata": {},
   "outputs": [],
   "source": [
    "#most_recent_per_code = timedif.sort_values('timestamp').groupby(['ride_id'], as_index=False).last()\n"
   ]
  },
  {
   "cell_type": "code",
   "execution_count": 159,
   "metadata": {},
   "outputs": [],
   "source": [
    "# driver pay includes time spent waiting, starting one minute after arrival is confirmed\n",
    "# check difference arrived at and picked up at\n",
    "\n",
    "waiting_time=timedif.groupby(['ride_id'], as_index=False).nth([2,3])"
   ]
  },
  {
   "cell_type": "code",
   "execution_count": 160,
   "metadata": {},
   "outputs": [
    {
     "data": {
      "text/html": [
       "<div>\n",
       "<style scoped>\n",
       "    .dataframe tbody tr th:only-of-type {\n",
       "        vertical-align: middle;\n",
       "    }\n",
       "\n",
       "    .dataframe tbody tr th {\n",
       "        vertical-align: top;\n",
       "    }\n",
       "\n",
       "    .dataframe thead th {\n",
       "        text-align: right;\n",
       "    }\n",
       "</style>\n",
       "<table border=\"1\" class=\"dataframe\">\n",
       "  <thead>\n",
       "    <tr style=\"text-align: right;\">\n",
       "      <th></th>\n",
       "      <th>ride_id</th>\n",
       "      <th>event</th>\n",
       "      <th>timestamp</th>\n",
       "      <th>month</th>\n",
       "      <th>day</th>\n",
       "      <th>weekday</th>\n",
       "      <th>hour</th>\n",
       "    </tr>\n",
       "  </thead>\n",
       "  <tbody>\n",
       "    <tr>\n",
       "      <th>2</th>\n",
       "      <td>00003037a262d9ee40e61b5c0718f7f0</td>\n",
       "      <td>arrived_at</td>\n",
       "      <td>2016-06-13 09:44:31</td>\n",
       "      <td>6.0</td>\n",
       "      <td>13.0</td>\n",
       "      <td>0.0</td>\n",
       "      <td>9.0</td>\n",
       "    </tr>\n",
       "    <tr>\n",
       "      <th>3</th>\n",
       "      <td>00003037a262d9ee40e61b5c0718f7f0</td>\n",
       "      <td>picked_up_at</td>\n",
       "      <td>2016-06-13 09:44:33</td>\n",
       "      <td>6.0</td>\n",
       "      <td>13.0</td>\n",
       "      <td>0.0</td>\n",
       "      <td>9.0</td>\n",
       "    </tr>\n",
       "    <tr>\n",
       "      <th>7</th>\n",
       "      <td>00005eae40882760d675da5effb89ae3</td>\n",
       "      <td>arrived_at</td>\n",
       "      <td>2016-05-14 05:26:17</td>\n",
       "      <td>5.0</td>\n",
       "      <td>14.0</td>\n",
       "      <td>5.0</td>\n",
       "      <td>5.0</td>\n",
       "    </tr>\n",
       "    <tr>\n",
       "      <th>8</th>\n",
       "      <td>00005eae40882760d675da5effb89ae3</td>\n",
       "      <td>picked_up_at</td>\n",
       "      <td>2016-05-14 05:26:18</td>\n",
       "      <td>5.0</td>\n",
       "      <td>14.0</td>\n",
       "      <td>5.0</td>\n",
       "      <td>5.0</td>\n",
       "    </tr>\n",
       "    <tr>\n",
       "      <th>12</th>\n",
       "      <td>000061d42cf29f73b591041d9a1b2973</td>\n",
       "      <td>arrived_at</td>\n",
       "      <td>2016-05-16 15:47:29</td>\n",
       "      <td>5.0</td>\n",
       "      <td>16.0</td>\n",
       "      <td>0.0</td>\n",
       "      <td>15.0</td>\n",
       "    </tr>\n",
       "  </tbody>\n",
       "</table>\n",
       "</div>"
      ],
      "text/plain": [
       "                             ride_id         event           timestamp  month  \\\n",
       "2   00003037a262d9ee40e61b5c0718f7f0    arrived_at 2016-06-13 09:44:31    6.0   \n",
       "3   00003037a262d9ee40e61b5c0718f7f0  picked_up_at 2016-06-13 09:44:33    6.0   \n",
       "7   00005eae40882760d675da5effb89ae3    arrived_at 2016-05-14 05:26:17    5.0   \n",
       "8   00005eae40882760d675da5effb89ae3  picked_up_at 2016-05-14 05:26:18    5.0   \n",
       "12  000061d42cf29f73b591041d9a1b2973    arrived_at 2016-05-16 15:47:29    5.0   \n",
       "\n",
       "     day  weekday  hour  \n",
       "2   13.0      0.0   9.0  \n",
       "3   13.0      0.0   9.0  \n",
       "7   14.0      5.0   5.0  \n",
       "8   14.0      5.0   5.0  \n",
       "12  16.0      0.0  15.0  "
      ]
     },
     "execution_count": 160,
     "metadata": {},
     "output_type": "execute_result"
    },
    {
     "data": {
      "text/html": [
       "<div>\n",
       "<style scoped>\n",
       "    .dataframe tbody tr th:only-of-type {\n",
       "        vertical-align: middle;\n",
       "    }\n",
       "\n",
       "    .dataframe tbody tr th {\n",
       "        vertical-align: top;\n",
       "    }\n",
       "\n",
       "    .dataframe thead th {\n",
       "        text-align: right;\n",
       "    }\n",
       "</style>\n",
       "<table border=\"1\" class=\"dataframe\">\n",
       "  <thead>\n",
       "    <tr style=\"text-align: right;\">\n",
       "      <th></th>\n",
       "      <th>ride_id</th>\n",
       "      <th>event</th>\n",
       "      <th>timestamp</th>\n",
       "      <th>month</th>\n",
       "      <th>day</th>\n",
       "      <th>weekday</th>\n",
       "      <th>hour</th>\n",
       "    </tr>\n",
       "  </thead>\n",
       "  <tbody>\n",
       "    <tr>\n",
       "      <th>2</th>\n",
       "      <td>00003037a262d9ee40e61b5c0718f7f0</td>\n",
       "      <td>arrived_at</td>\n",
       "      <td>2016-06-13 09:44:31</td>\n",
       "      <td>6.0</td>\n",
       "      <td>13.0</td>\n",
       "      <td>0.0</td>\n",
       "      <td>9.0</td>\n",
       "    </tr>\n",
       "    <tr>\n",
       "      <th>3</th>\n",
       "      <td>00003037a262d9ee40e61b5c0718f7f0</td>\n",
       "      <td>picked_up_at</td>\n",
       "      <td>2016-06-13 09:44:33</td>\n",
       "      <td>6.0</td>\n",
       "      <td>13.0</td>\n",
       "      <td>0.0</td>\n",
       "      <td>9.0</td>\n",
       "    </tr>\n",
       "    <tr>\n",
       "      <th>7</th>\n",
       "      <td>00005eae40882760d675da5effb89ae3</td>\n",
       "      <td>arrived_at</td>\n",
       "      <td>2016-05-14 05:26:17</td>\n",
       "      <td>5.0</td>\n",
       "      <td>14.0</td>\n",
       "      <td>5.0</td>\n",
       "      <td>5.0</td>\n",
       "    </tr>\n",
       "    <tr>\n",
       "      <th>8</th>\n",
       "      <td>00005eae40882760d675da5effb89ae3</td>\n",
       "      <td>picked_up_at</td>\n",
       "      <td>2016-05-14 05:26:18</td>\n",
       "      <td>5.0</td>\n",
       "      <td>14.0</td>\n",
       "      <td>5.0</td>\n",
       "      <td>5.0</td>\n",
       "    </tr>\n",
       "    <tr>\n",
       "      <th>12</th>\n",
       "      <td>000061d42cf29f73b591041d9a1b2973</td>\n",
       "      <td>arrived_at</td>\n",
       "      <td>2016-05-16 15:47:29</td>\n",
       "      <td>5.0</td>\n",
       "      <td>16.0</td>\n",
       "      <td>0.0</td>\n",
       "      <td>15.0</td>\n",
       "    </tr>\n",
       "  </tbody>\n",
       "</table>\n",
       "</div>"
      ],
      "text/plain": [
       "                             ride_id         event           timestamp  month  \\\n",
       "2   00003037a262d9ee40e61b5c0718f7f0    arrived_at 2016-06-13 09:44:31    6.0   \n",
       "3   00003037a262d9ee40e61b5c0718f7f0  picked_up_at 2016-06-13 09:44:33    6.0   \n",
       "7   00005eae40882760d675da5effb89ae3    arrived_at 2016-05-14 05:26:17    5.0   \n",
       "8   00005eae40882760d675da5effb89ae3  picked_up_at 2016-05-14 05:26:18    5.0   \n",
       "12  000061d42cf29f73b591041d9a1b2973    arrived_at 2016-05-16 15:47:29    5.0   \n",
       "\n",
       "     day  weekday  hour  \n",
       "2   13.0      0.0   9.0  \n",
       "3   13.0      0.0   9.0  \n",
       "7   14.0      5.0   5.0  \n",
       "8   14.0      5.0   5.0  \n",
       "12  16.0      0.0  15.0  "
      ]
     },
     "execution_count": 160,
     "metadata": {},
     "output_type": "execute_result"
    }
   ],
   "source": [
    "#check if right\n",
    "\n",
    "waiting_time.head()"
   ]
  },
  {
   "cell_type": "code",
   "execution_count": 161,
   "metadata": {},
   "outputs": [],
   "source": [
    "#check time difference between requested and dropped of\n",
    "\n",
    "waiting_time2=waiting_time.groupby(['ride_id'], as_index=False).timestamp.diff()"
   ]
  },
  {
   "cell_type": "code",
   "execution_count": 162,
   "metadata": {},
   "outputs": [],
   "source": [
    "# introduce the ride id again\n",
    "\n",
    "waiting_time2['rideid']=waiting_time['ride_id']"
   ]
  },
  {
   "cell_type": "code",
   "execution_count": 163,
   "metadata": {},
   "outputs": [
    {
     "data": {
      "text/html": [
       "<div>\n",
       "<style scoped>\n",
       "    .dataframe tbody tr th:only-of-type {\n",
       "        vertical-align: middle;\n",
       "    }\n",
       "\n",
       "    .dataframe tbody tr th {\n",
       "        vertical-align: top;\n",
       "    }\n",
       "\n",
       "    .dataframe thead th {\n",
       "        text-align: right;\n",
       "    }\n",
       "</style>\n",
       "<table border=\"1\" class=\"dataframe\">\n",
       "  <thead>\n",
       "    <tr style=\"text-align: right;\">\n",
       "      <th></th>\n",
       "      <th>timestamp</th>\n",
       "      <th>rideid</th>\n",
       "    </tr>\n",
       "  </thead>\n",
       "  <tbody>\n",
       "    <tr>\n",
       "      <th>2</th>\n",
       "      <td>NaT</td>\n",
       "      <td>00003037a262d9ee40e61b5c0718f7f0</td>\n",
       "    </tr>\n",
       "    <tr>\n",
       "      <th>3</th>\n",
       "      <td>0 days 00:00:02</td>\n",
       "      <td>00003037a262d9ee40e61b5c0718f7f0</td>\n",
       "    </tr>\n",
       "    <tr>\n",
       "      <th>7</th>\n",
       "      <td>NaT</td>\n",
       "      <td>00005eae40882760d675da5effb89ae3</td>\n",
       "    </tr>\n",
       "    <tr>\n",
       "      <th>8</th>\n",
       "      <td>0 days 00:00:01</td>\n",
       "      <td>00005eae40882760d675da5effb89ae3</td>\n",
       "    </tr>\n",
       "    <tr>\n",
       "      <th>12</th>\n",
       "      <td>NaT</td>\n",
       "      <td>000061d42cf29f73b591041d9a1b2973</td>\n",
       "    </tr>\n",
       "  </tbody>\n",
       "</table>\n",
       "</div>"
      ],
      "text/plain": [
       "         timestamp                            rideid\n",
       "2              NaT  00003037a262d9ee40e61b5c0718f7f0\n",
       "3  0 days 00:00:02  00003037a262d9ee40e61b5c0718f7f0\n",
       "7              NaT  00005eae40882760d675da5effb89ae3\n",
       "8  0 days 00:00:01  00005eae40882760d675da5effb89ae3\n",
       "12             NaT  000061d42cf29f73b591041d9a1b2973"
      ]
     },
     "execution_count": 163,
     "metadata": {},
     "output_type": "execute_result"
    },
    {
     "data": {
      "text/html": [
       "<div>\n",
       "<style scoped>\n",
       "    .dataframe tbody tr th:only-of-type {\n",
       "        vertical-align: middle;\n",
       "    }\n",
       "\n",
       "    .dataframe tbody tr th {\n",
       "        vertical-align: top;\n",
       "    }\n",
       "\n",
       "    .dataframe thead th {\n",
       "        text-align: right;\n",
       "    }\n",
       "</style>\n",
       "<table border=\"1\" class=\"dataframe\">\n",
       "  <thead>\n",
       "    <tr style=\"text-align: right;\">\n",
       "      <th></th>\n",
       "      <th>timestamp</th>\n",
       "      <th>rideid</th>\n",
       "    </tr>\n",
       "  </thead>\n",
       "  <tbody>\n",
       "    <tr>\n",
       "      <th>2</th>\n",
       "      <td>NaT</td>\n",
       "      <td>00003037a262d9ee40e61b5c0718f7f0</td>\n",
       "    </tr>\n",
       "    <tr>\n",
       "      <th>3</th>\n",
       "      <td>0 days 00:00:02</td>\n",
       "      <td>00003037a262d9ee40e61b5c0718f7f0</td>\n",
       "    </tr>\n",
       "    <tr>\n",
       "      <th>7</th>\n",
       "      <td>NaT</td>\n",
       "      <td>00005eae40882760d675da5effb89ae3</td>\n",
       "    </tr>\n",
       "    <tr>\n",
       "      <th>8</th>\n",
       "      <td>0 days 00:00:01</td>\n",
       "      <td>00005eae40882760d675da5effb89ae3</td>\n",
       "    </tr>\n",
       "    <tr>\n",
       "      <th>12</th>\n",
       "      <td>NaT</td>\n",
       "      <td>000061d42cf29f73b591041d9a1b2973</td>\n",
       "    </tr>\n",
       "  </tbody>\n",
       "</table>\n",
       "</div>"
      ],
      "text/plain": [
       "         timestamp                            rideid\n",
       "2              NaT  00003037a262d9ee40e61b5c0718f7f0\n",
       "3  0 days 00:00:02  00003037a262d9ee40e61b5c0718f7f0\n",
       "7              NaT  00005eae40882760d675da5effb89ae3\n",
       "8  0 days 00:00:01  00005eae40882760d675da5effb89ae3\n",
       "12             NaT  000061d42cf29f73b591041d9a1b2973"
      ]
     },
     "execution_count": 163,
     "metadata": {},
     "output_type": "execute_result"
    }
   ],
   "source": [
    "waiting_time2.head()"
   ]
  },
  {
   "cell_type": "code",
   "execution_count": 164,
   "metadata": {},
   "outputs": [],
   "source": [
    "#waiting_time2[\"timestamp\"]=pd.to_datetime(waiting_time2[\"timestamp\"],errors='coerce')"
   ]
  },
  {
   "cell_type": "code",
   "execution_count": 165,
   "metadata": {
    "scrolled": true
   },
   "outputs": [],
   "source": [
    "#waiting_time2[\"timestamp\"].sort_values(ascending=False)"
   ]
  },
  {
   "cell_type": "code",
   "execution_count": 166,
   "metadata": {},
   "outputs": [],
   "source": [
    "#waiting_time2['timestamp']=drop_cols = list(null_columns[null_columns > 5392].index)\n",
    "#csharks = csharks.drop(drop_cols, axis=1)\n",
    "#waiting_time2=waiting_time2.drop(waiting_time2[waiting_time2[\"timestamp\"] == \"NaT\"].index, inplace=True)"
   ]
  },
  {
   "cell_type": "code",
   "execution_count": 167,
   "metadata": {},
   "outputs": [],
   "source": [
    "waiting_time2=waiting_time2.dropna() "
   ]
  },
  {
   "cell_type": "code",
   "execution_count": 168,
   "metadata": {},
   "outputs": [
    {
     "data": {
      "text/html": [
       "<div>\n",
       "<style scoped>\n",
       "    .dataframe tbody tr th:only-of-type {\n",
       "        vertical-align: middle;\n",
       "    }\n",
       "\n",
       "    .dataframe tbody tr th {\n",
       "        vertical-align: top;\n",
       "    }\n",
       "\n",
       "    .dataframe thead th {\n",
       "        text-align: right;\n",
       "    }\n",
       "</style>\n",
       "<table border=\"1\" class=\"dataframe\">\n",
       "  <thead>\n",
       "    <tr style=\"text-align: right;\">\n",
       "      <th></th>\n",
       "      <th>timestamp</th>\n",
       "      <th>rideid</th>\n",
       "    </tr>\n",
       "  </thead>\n",
       "  <tbody>\n",
       "    <tr>\n",
       "      <th>3</th>\n",
       "      <td>0 days 00:00:02</td>\n",
       "      <td>00003037a262d9ee40e61b5c0718f7f0</td>\n",
       "    </tr>\n",
       "    <tr>\n",
       "      <th>8</th>\n",
       "      <td>0 days 00:00:01</td>\n",
       "      <td>00005eae40882760d675da5effb89ae3</td>\n",
       "    </tr>\n",
       "    <tr>\n",
       "      <th>13</th>\n",
       "      <td>0 days 00:00:03</td>\n",
       "      <td>000061d42cf29f73b591041d9a1b2973</td>\n",
       "    </tr>\n",
       "    <tr>\n",
       "      <th>18</th>\n",
       "      <td>0 days 00:00:04</td>\n",
       "      <td>00006efeb0d5e3ccad7d921ddeee9900</td>\n",
       "    </tr>\n",
       "    <tr>\n",
       "      <th>23</th>\n",
       "      <td>0 days 00:00:03</td>\n",
       "      <td>0000d9b24d8ccdd991b76258e616fa01</td>\n",
       "    </tr>\n",
       "    <tr>\n",
       "      <th>...</th>\n",
       "      <td>...</td>\n",
       "      <td>...</td>\n",
       "    </tr>\n",
       "    <tr>\n",
       "      <th>970383</th>\n",
       "      <td>0 days 00:00:03</td>\n",
       "      <td>fffebb46effb90ce758fdff68b569355</td>\n",
       "    </tr>\n",
       "    <tr>\n",
       "      <th>970388</th>\n",
       "      <td>0 days 00:00:02</td>\n",
       "      <td>ffff9c38173ddfa17bdd115c463e329f</td>\n",
       "    </tr>\n",
       "    <tr>\n",
       "      <th>970393</th>\n",
       "      <td>0 days 00:00:02</td>\n",
       "      <td>ffff9e431f7fade54b2550ac19ab6e64</td>\n",
       "    </tr>\n",
       "    <tr>\n",
       "      <th>970398</th>\n",
       "      <td>0 days 00:00:01</td>\n",
       "      <td>ffffa07f48f2f885f714765d794ad596</td>\n",
       "    </tr>\n",
       "    <tr>\n",
       "      <th>970403</th>\n",
       "      <td>0 days 00:00:06</td>\n",
       "      <td>ffffccd77f47a3de26dfed9a851464b4</td>\n",
       "    </tr>\n",
       "  </tbody>\n",
       "</table>\n",
       "<p>194081 rows × 2 columns</p>\n",
       "</div>"
      ],
      "text/plain": [
       "             timestamp                            rideid\n",
       "3      0 days 00:00:02  00003037a262d9ee40e61b5c0718f7f0\n",
       "8      0 days 00:00:01  00005eae40882760d675da5effb89ae3\n",
       "13     0 days 00:00:03  000061d42cf29f73b591041d9a1b2973\n",
       "18     0 days 00:00:04  00006efeb0d5e3ccad7d921ddeee9900\n",
       "23     0 days 00:00:03  0000d9b24d8ccdd991b76258e616fa01\n",
       "...                ...                               ...\n",
       "970383 0 days 00:00:03  fffebb46effb90ce758fdff68b569355\n",
       "970388 0 days 00:00:02  ffff9c38173ddfa17bdd115c463e329f\n",
       "970393 0 days 00:00:02  ffff9e431f7fade54b2550ac19ab6e64\n",
       "970398 0 days 00:00:01  ffffa07f48f2f885f714765d794ad596\n",
       "970403 0 days 00:00:06  ffffccd77f47a3de26dfed9a851464b4\n",
       "\n",
       "[194081 rows x 2 columns]"
      ]
     },
     "execution_count": 168,
     "metadata": {},
     "output_type": "execute_result"
    },
    {
     "data": {
      "text/html": [
       "<div>\n",
       "<style scoped>\n",
       "    .dataframe tbody tr th:only-of-type {\n",
       "        vertical-align: middle;\n",
       "    }\n",
       "\n",
       "    .dataframe tbody tr th {\n",
       "        vertical-align: top;\n",
       "    }\n",
       "\n",
       "    .dataframe thead th {\n",
       "        text-align: right;\n",
       "    }\n",
       "</style>\n",
       "<table border=\"1\" class=\"dataframe\">\n",
       "  <thead>\n",
       "    <tr style=\"text-align: right;\">\n",
       "      <th></th>\n",
       "      <th>timestamp</th>\n",
       "      <th>rideid</th>\n",
       "    </tr>\n",
       "  </thead>\n",
       "  <tbody>\n",
       "    <tr>\n",
       "      <th>3</th>\n",
       "      <td>0 days 00:00:02</td>\n",
       "      <td>00003037a262d9ee40e61b5c0718f7f0</td>\n",
       "    </tr>\n",
       "    <tr>\n",
       "      <th>8</th>\n",
       "      <td>0 days 00:00:01</td>\n",
       "      <td>00005eae40882760d675da5effb89ae3</td>\n",
       "    </tr>\n",
       "    <tr>\n",
       "      <th>13</th>\n",
       "      <td>0 days 00:00:03</td>\n",
       "      <td>000061d42cf29f73b591041d9a1b2973</td>\n",
       "    </tr>\n",
       "    <tr>\n",
       "      <th>18</th>\n",
       "      <td>0 days 00:00:04</td>\n",
       "      <td>00006efeb0d5e3ccad7d921ddeee9900</td>\n",
       "    </tr>\n",
       "    <tr>\n",
       "      <th>23</th>\n",
       "      <td>0 days 00:00:03</td>\n",
       "      <td>0000d9b24d8ccdd991b76258e616fa01</td>\n",
       "    </tr>\n",
       "    <tr>\n",
       "      <th>...</th>\n",
       "      <td>...</td>\n",
       "      <td>...</td>\n",
       "    </tr>\n",
       "    <tr>\n",
       "      <th>970383</th>\n",
       "      <td>0 days 00:00:03</td>\n",
       "      <td>fffebb46effb90ce758fdff68b569355</td>\n",
       "    </tr>\n",
       "    <tr>\n",
       "      <th>970388</th>\n",
       "      <td>0 days 00:00:02</td>\n",
       "      <td>ffff9c38173ddfa17bdd115c463e329f</td>\n",
       "    </tr>\n",
       "    <tr>\n",
       "      <th>970393</th>\n",
       "      <td>0 days 00:00:02</td>\n",
       "      <td>ffff9e431f7fade54b2550ac19ab6e64</td>\n",
       "    </tr>\n",
       "    <tr>\n",
       "      <th>970398</th>\n",
       "      <td>0 days 00:00:01</td>\n",
       "      <td>ffffa07f48f2f885f714765d794ad596</td>\n",
       "    </tr>\n",
       "    <tr>\n",
       "      <th>970403</th>\n",
       "      <td>0 days 00:00:06</td>\n",
       "      <td>ffffccd77f47a3de26dfed9a851464b4</td>\n",
       "    </tr>\n",
       "  </tbody>\n",
       "</table>\n",
       "<p>194081 rows × 2 columns</p>\n",
       "</div>"
      ],
      "text/plain": [
       "             timestamp                            rideid\n",
       "3      0 days 00:00:02  00003037a262d9ee40e61b5c0718f7f0\n",
       "8      0 days 00:00:01  00005eae40882760d675da5effb89ae3\n",
       "13     0 days 00:00:03  000061d42cf29f73b591041d9a1b2973\n",
       "18     0 days 00:00:04  00006efeb0d5e3ccad7d921ddeee9900\n",
       "23     0 days 00:00:03  0000d9b24d8ccdd991b76258e616fa01\n",
       "...                ...                               ...\n",
       "970383 0 days 00:00:03  fffebb46effb90ce758fdff68b569355\n",
       "970388 0 days 00:00:02  ffff9c38173ddfa17bdd115c463e329f\n",
       "970393 0 days 00:00:02  ffff9e431f7fade54b2550ac19ab6e64\n",
       "970398 0 days 00:00:01  ffffa07f48f2f885f714765d794ad596\n",
       "970403 0 days 00:00:06  ffffccd77f47a3de26dfed9a851464b4\n",
       "\n",
       "[194081 rows x 2 columns]"
      ]
     },
     "execution_count": 168,
     "metadata": {},
     "output_type": "execute_result"
    }
   ],
   "source": [
    "waiting_time2"
   ]
  },
  {
   "cell_type": "code",
   "execution_count": 169,
   "metadata": {
    "scrolled": true
   },
   "outputs": [],
   "source": [
    "waiting_time2['waiting_minutes'] = waiting_time2['timestamp'].dt.total_seconds().div(60).astype(int)"
   ]
  },
  {
   "cell_type": "code",
   "execution_count": 170,
   "metadata": {},
   "outputs": [
    {
     "data": {
      "text/html": [
       "<div>\n",
       "<style scoped>\n",
       "    .dataframe tbody tr th:only-of-type {\n",
       "        vertical-align: middle;\n",
       "    }\n",
       "\n",
       "    .dataframe tbody tr th {\n",
       "        vertical-align: top;\n",
       "    }\n",
       "\n",
       "    .dataframe thead th {\n",
       "        text-align: right;\n",
       "    }\n",
       "</style>\n",
       "<table border=\"1\" class=\"dataframe\">\n",
       "  <thead>\n",
       "    <tr style=\"text-align: right;\">\n",
       "      <th></th>\n",
       "      <th>timestamp</th>\n",
       "      <th>rideid</th>\n",
       "      <th>waiting_minutes</th>\n",
       "    </tr>\n",
       "  </thead>\n",
       "  <tbody>\n",
       "    <tr>\n",
       "      <th>775388</th>\n",
       "      <td>0 days 00:13:51</td>\n",
       "      <td>ccc322deb9027f2652c5b784f46301b7</td>\n",
       "      <td>13</td>\n",
       "    </tr>\n",
       "    <tr>\n",
       "      <th>500398</th>\n",
       "      <td>0 days 00:11:23</td>\n",
       "      <td>845063fbad82733755a21d025b3da831</td>\n",
       "      <td>11</td>\n",
       "    </tr>\n",
       "    <tr>\n",
       "      <th>864318</th>\n",
       "      <td>0 days 00:07:06</td>\n",
       "      <td>e40251551258dc1c387039892e3bd277</td>\n",
       "      <td>7</td>\n",
       "    </tr>\n",
       "    <tr>\n",
       "      <th>30883</th>\n",
       "      <td>0 days 00:05:11</td>\n",
       "      <td>0812d4aa653b5ca9d32a360c9d9f68b9</td>\n",
       "      <td>5</td>\n",
       "    </tr>\n",
       "    <tr>\n",
       "      <th>179278</th>\n",
       "      <td>0 days 00:05:10</td>\n",
       "      <td>2f7a5d23e08e6042e3e8efb11d3e4701</td>\n",
       "      <td>5</td>\n",
       "    </tr>\n",
       "    <tr>\n",
       "      <th>...</th>\n",
       "      <td>...</td>\n",
       "      <td>...</td>\n",
       "      <td>...</td>\n",
       "    </tr>\n",
       "    <tr>\n",
       "      <th>755538</th>\n",
       "      <td>-1 days +23:16:22</td>\n",
       "      <td>c7975399543ee7bf0a1f9cd869d0d80f</td>\n",
       "      <td>-43</td>\n",
       "    </tr>\n",
       "    <tr>\n",
       "      <th>513378</th>\n",
       "      <td>-1 days +23:15:24</td>\n",
       "      <td>87b6e22b8618d40283d93802698fdcbf</td>\n",
       "      <td>-44</td>\n",
       "    </tr>\n",
       "    <tr>\n",
       "      <th>175918</th>\n",
       "      <td>-1 days +23:09:11</td>\n",
       "      <td>2e8b3bf2654e9ea4787d8efd2f2291bd</td>\n",
       "      <td>-50</td>\n",
       "    </tr>\n",
       "    <tr>\n",
       "      <th>692263</th>\n",
       "      <td>-1 days +23:02:04</td>\n",
       "      <td>b6c1bfcb6a1bacfc3733fc24847803f2</td>\n",
       "      <td>-57</td>\n",
       "    </tr>\n",
       "    <tr>\n",
       "      <th>434223</th>\n",
       "      <td>-89841 days +12:15:03.145224192</td>\n",
       "      <td>72f0fa0bd86800e9da5c4dced32c8735</td>\n",
       "      <td>-129370304</td>\n",
       "    </tr>\n",
       "  </tbody>\n",
       "</table>\n",
       "<p>194081 rows × 3 columns</p>\n",
       "</div>"
      ],
      "text/plain": [
       "                             timestamp                            rideid  \\\n",
       "775388                 0 days 00:13:51  ccc322deb9027f2652c5b784f46301b7   \n",
       "500398                 0 days 00:11:23  845063fbad82733755a21d025b3da831   \n",
       "864318                 0 days 00:07:06  e40251551258dc1c387039892e3bd277   \n",
       "30883                  0 days 00:05:11  0812d4aa653b5ca9d32a360c9d9f68b9   \n",
       "179278                 0 days 00:05:10  2f7a5d23e08e6042e3e8efb11d3e4701   \n",
       "...                                ...                               ...   \n",
       "755538               -1 days +23:16:22  c7975399543ee7bf0a1f9cd869d0d80f   \n",
       "513378               -1 days +23:15:24  87b6e22b8618d40283d93802698fdcbf   \n",
       "175918               -1 days +23:09:11  2e8b3bf2654e9ea4787d8efd2f2291bd   \n",
       "692263               -1 days +23:02:04  b6c1bfcb6a1bacfc3733fc24847803f2   \n",
       "434223 -89841 days +12:15:03.145224192  72f0fa0bd86800e9da5c4dced32c8735   \n",
       "\n",
       "        waiting_minutes  \n",
       "775388               13  \n",
       "500398               11  \n",
       "864318                7  \n",
       "30883                 5  \n",
       "179278                5  \n",
       "...                 ...  \n",
       "755538              -43  \n",
       "513378              -44  \n",
       "175918              -50  \n",
       "692263              -57  \n",
       "434223       -129370304  \n",
       "\n",
       "[194081 rows x 3 columns]"
      ]
     },
     "execution_count": 170,
     "metadata": {},
     "output_type": "execute_result"
    },
    {
     "data": {
      "text/html": [
       "<div>\n",
       "<style scoped>\n",
       "    .dataframe tbody tr th:only-of-type {\n",
       "        vertical-align: middle;\n",
       "    }\n",
       "\n",
       "    .dataframe tbody tr th {\n",
       "        vertical-align: top;\n",
       "    }\n",
       "\n",
       "    .dataframe thead th {\n",
       "        text-align: right;\n",
       "    }\n",
       "</style>\n",
       "<table border=\"1\" class=\"dataframe\">\n",
       "  <thead>\n",
       "    <tr style=\"text-align: right;\">\n",
       "      <th></th>\n",
       "      <th>timestamp</th>\n",
       "      <th>rideid</th>\n",
       "      <th>waiting_minutes</th>\n",
       "    </tr>\n",
       "  </thead>\n",
       "  <tbody>\n",
       "    <tr>\n",
       "      <th>775388</th>\n",
       "      <td>0 days 00:13:51</td>\n",
       "      <td>ccc322deb9027f2652c5b784f46301b7</td>\n",
       "      <td>13</td>\n",
       "    </tr>\n",
       "    <tr>\n",
       "      <th>500398</th>\n",
       "      <td>0 days 00:11:23</td>\n",
       "      <td>845063fbad82733755a21d025b3da831</td>\n",
       "      <td>11</td>\n",
       "    </tr>\n",
       "    <tr>\n",
       "      <th>864318</th>\n",
       "      <td>0 days 00:07:06</td>\n",
       "      <td>e40251551258dc1c387039892e3bd277</td>\n",
       "      <td>7</td>\n",
       "    </tr>\n",
       "    <tr>\n",
       "      <th>30883</th>\n",
       "      <td>0 days 00:05:11</td>\n",
       "      <td>0812d4aa653b5ca9d32a360c9d9f68b9</td>\n",
       "      <td>5</td>\n",
       "    </tr>\n",
       "    <tr>\n",
       "      <th>179278</th>\n",
       "      <td>0 days 00:05:10</td>\n",
       "      <td>2f7a5d23e08e6042e3e8efb11d3e4701</td>\n",
       "      <td>5</td>\n",
       "    </tr>\n",
       "    <tr>\n",
       "      <th>...</th>\n",
       "      <td>...</td>\n",
       "      <td>...</td>\n",
       "      <td>...</td>\n",
       "    </tr>\n",
       "    <tr>\n",
       "      <th>755538</th>\n",
       "      <td>-1 days +23:16:22</td>\n",
       "      <td>c7975399543ee7bf0a1f9cd869d0d80f</td>\n",
       "      <td>-43</td>\n",
       "    </tr>\n",
       "    <tr>\n",
       "      <th>513378</th>\n",
       "      <td>-1 days +23:15:24</td>\n",
       "      <td>87b6e22b8618d40283d93802698fdcbf</td>\n",
       "      <td>-44</td>\n",
       "    </tr>\n",
       "    <tr>\n",
       "      <th>175918</th>\n",
       "      <td>-1 days +23:09:11</td>\n",
       "      <td>2e8b3bf2654e9ea4787d8efd2f2291bd</td>\n",
       "      <td>-50</td>\n",
       "    </tr>\n",
       "    <tr>\n",
       "      <th>692263</th>\n",
       "      <td>-1 days +23:02:04</td>\n",
       "      <td>b6c1bfcb6a1bacfc3733fc24847803f2</td>\n",
       "      <td>-57</td>\n",
       "    </tr>\n",
       "    <tr>\n",
       "      <th>434223</th>\n",
       "      <td>-89841 days +12:15:03.145224192</td>\n",
       "      <td>72f0fa0bd86800e9da5c4dced32c8735</td>\n",
       "      <td>-129370304</td>\n",
       "    </tr>\n",
       "  </tbody>\n",
       "</table>\n",
       "<p>194081 rows × 3 columns</p>\n",
       "</div>"
      ],
      "text/plain": [
       "                             timestamp                            rideid  \\\n",
       "775388                 0 days 00:13:51  ccc322deb9027f2652c5b784f46301b7   \n",
       "500398                 0 days 00:11:23  845063fbad82733755a21d025b3da831   \n",
       "864318                 0 days 00:07:06  e40251551258dc1c387039892e3bd277   \n",
       "30883                  0 days 00:05:11  0812d4aa653b5ca9d32a360c9d9f68b9   \n",
       "179278                 0 days 00:05:10  2f7a5d23e08e6042e3e8efb11d3e4701   \n",
       "...                                ...                               ...   \n",
       "755538               -1 days +23:16:22  c7975399543ee7bf0a1f9cd869d0d80f   \n",
       "513378               -1 days +23:15:24  87b6e22b8618d40283d93802698fdcbf   \n",
       "175918               -1 days +23:09:11  2e8b3bf2654e9ea4787d8efd2f2291bd   \n",
       "692263               -1 days +23:02:04  b6c1bfcb6a1bacfc3733fc24847803f2   \n",
       "434223 -89841 days +12:15:03.145224192  72f0fa0bd86800e9da5c4dced32c8735   \n",
       "\n",
       "        waiting_minutes  \n",
       "775388               13  \n",
       "500398               11  \n",
       "864318                7  \n",
       "30883                 5  \n",
       "179278                5  \n",
       "...                 ...  \n",
       "755538              -43  \n",
       "513378              -44  \n",
       "175918              -50  \n",
       "692263              -57  \n",
       "434223       -129370304  \n",
       "\n",
       "[194081 rows x 3 columns]"
      ]
     },
     "execution_count": 170,
     "metadata": {},
     "output_type": "execute_result"
    }
   ],
   "source": [
    "waiting_time2.sort_values(by=['waiting_minutes'], ascending=False)"
   ]
  },
  {
   "cell_type": "code",
   "execution_count": 171,
   "metadata": {},
   "outputs": [],
   "source": [
    "#only keep minutes >=1\n",
    "\n",
    "waiting_time2['waiting_minutes'] = np.where(waiting_time2['waiting_minutes'] >= 1, waiting_time2['waiting_minutes'], \"Not relevant\")\n",
    "\n",
    "#csharks.drop(csharks[csharks['Year'] == 'Not relevant'].index, inplace=True)"
   ]
  },
  {
   "cell_type": "code",
   "execution_count": 172,
   "metadata": {},
   "outputs": [],
   "source": [
    "#drop non relevant\n",
    "\n",
    "waiting_time2.drop(waiting_time2[waiting_time2['waiting_minutes'] == 'Not relevant'].index, inplace=True)"
   ]
  },
  {
   "cell_type": "code",
   "execution_count": 173,
   "metadata": {},
   "outputs": [
    {
     "data": {
      "text/plain": [
       "1     3780\n",
       "2       19\n",
       "3        8\n",
       "5        5\n",
       "11       1\n",
       "7        1\n",
       "13       1\n",
       "Name: waiting_minutes, dtype: int64"
      ]
     },
     "execution_count": 173,
     "metadata": {},
     "output_type": "execute_result"
    },
    {
     "data": {
      "text/plain": [
       "1     3780\n",
       "2       19\n",
       "3        8\n",
       "5        5\n",
       "11       1\n",
       "7        1\n",
       "13       1\n",
       "Name: waiting_minutes, dtype: int64"
      ]
     },
     "execution_count": 173,
     "metadata": {},
     "output_type": "execute_result"
    }
   ],
   "source": [
    "waiting_time2[\"waiting_minutes\"].value_counts()"
   ]
  },
  {
   "cell_type": "code",
   "execution_count": 174,
   "metadata": {},
   "outputs": [
    {
     "data": {
      "text/html": [
       "<div>\n",
       "<style scoped>\n",
       "    .dataframe tbody tr th:only-of-type {\n",
       "        vertical-align: middle;\n",
       "    }\n",
       "\n",
       "    .dataframe tbody tr th {\n",
       "        vertical-align: top;\n",
       "    }\n",
       "\n",
       "    .dataframe thead th {\n",
       "        text-align: right;\n",
       "    }\n",
       "</style>\n",
       "<table border=\"1\" class=\"dataframe\">\n",
       "  <thead>\n",
       "    <tr style=\"text-align: right;\">\n",
       "      <th></th>\n",
       "      <th>timestamp</th>\n",
       "      <th>rideid</th>\n",
       "      <th>waiting_minutes</th>\n",
       "    </tr>\n",
       "  </thead>\n",
       "  <tbody>\n",
       "    <tr>\n",
       "      <th>78</th>\n",
       "      <td>0 days 00:01:00</td>\n",
       "      <td>000399d2e73490f5ac5e65eae391f6f8</td>\n",
       "      <td>1</td>\n",
       "    </tr>\n",
       "    <tr>\n",
       "      <th>608</th>\n",
       "      <td>0 days 00:01:00</td>\n",
       "      <td>002a1cf462fee4f6c9d8da11fca4830a</td>\n",
       "      <td>1</td>\n",
       "    </tr>\n",
       "    <tr>\n",
       "      <th>708</th>\n",
       "      <td>0 days 00:01:00</td>\n",
       "      <td>003115b37c952878769e2f2a585cf664</td>\n",
       "      <td>1</td>\n",
       "    </tr>\n",
       "    <tr>\n",
       "      <th>1033</th>\n",
       "      <td>0 days 00:01:00</td>\n",
       "      <td>0046dbc3563e3f59405c1a5360863942</td>\n",
       "      <td>1</td>\n",
       "    </tr>\n",
       "    <tr>\n",
       "      <th>1183</th>\n",
       "      <td>0 days 00:01:00</td>\n",
       "      <td>004edbe47f7b98f0ceb65dd3f40b60c3</td>\n",
       "      <td>1</td>\n",
       "    </tr>\n",
       "  </tbody>\n",
       "</table>\n",
       "</div>"
      ],
      "text/plain": [
       "           timestamp                            rideid waiting_minutes\n",
       "78   0 days 00:01:00  000399d2e73490f5ac5e65eae391f6f8               1\n",
       "608  0 days 00:01:00  002a1cf462fee4f6c9d8da11fca4830a               1\n",
       "708  0 days 00:01:00  003115b37c952878769e2f2a585cf664               1\n",
       "1033 0 days 00:01:00  0046dbc3563e3f59405c1a5360863942               1\n",
       "1183 0 days 00:01:00  004edbe47f7b98f0ceb65dd3f40b60c3               1"
      ]
     },
     "execution_count": 174,
     "metadata": {},
     "output_type": "execute_result"
    },
    {
     "data": {
      "text/html": [
       "<div>\n",
       "<style scoped>\n",
       "    .dataframe tbody tr th:only-of-type {\n",
       "        vertical-align: middle;\n",
       "    }\n",
       "\n",
       "    .dataframe tbody tr th {\n",
       "        vertical-align: top;\n",
       "    }\n",
       "\n",
       "    .dataframe thead th {\n",
       "        text-align: right;\n",
       "    }\n",
       "</style>\n",
       "<table border=\"1\" class=\"dataframe\">\n",
       "  <thead>\n",
       "    <tr style=\"text-align: right;\">\n",
       "      <th></th>\n",
       "      <th>timestamp</th>\n",
       "      <th>rideid</th>\n",
       "      <th>waiting_minutes</th>\n",
       "    </tr>\n",
       "  </thead>\n",
       "  <tbody>\n",
       "    <tr>\n",
       "      <th>78</th>\n",
       "      <td>0 days 00:01:00</td>\n",
       "      <td>000399d2e73490f5ac5e65eae391f6f8</td>\n",
       "      <td>1</td>\n",
       "    </tr>\n",
       "    <tr>\n",
       "      <th>608</th>\n",
       "      <td>0 days 00:01:00</td>\n",
       "      <td>002a1cf462fee4f6c9d8da11fca4830a</td>\n",
       "      <td>1</td>\n",
       "    </tr>\n",
       "    <tr>\n",
       "      <th>708</th>\n",
       "      <td>0 days 00:01:00</td>\n",
       "      <td>003115b37c952878769e2f2a585cf664</td>\n",
       "      <td>1</td>\n",
       "    </tr>\n",
       "    <tr>\n",
       "      <th>1033</th>\n",
       "      <td>0 days 00:01:00</td>\n",
       "      <td>0046dbc3563e3f59405c1a5360863942</td>\n",
       "      <td>1</td>\n",
       "    </tr>\n",
       "    <tr>\n",
       "      <th>1183</th>\n",
       "      <td>0 days 00:01:00</td>\n",
       "      <td>004edbe47f7b98f0ceb65dd3f40b60c3</td>\n",
       "      <td>1</td>\n",
       "    </tr>\n",
       "  </tbody>\n",
       "</table>\n",
       "</div>"
      ],
      "text/plain": [
       "           timestamp                            rideid waiting_minutes\n",
       "78   0 days 00:01:00  000399d2e73490f5ac5e65eae391f6f8               1\n",
       "608  0 days 00:01:00  002a1cf462fee4f6c9d8da11fca4830a               1\n",
       "708  0 days 00:01:00  003115b37c952878769e2f2a585cf664               1\n",
       "1033 0 days 00:01:00  0046dbc3563e3f59405c1a5360863942               1\n",
       "1183 0 days 00:01:00  004edbe47f7b98f0ceb65dd3f40b60c3               1"
      ]
     },
     "execution_count": 174,
     "metadata": {},
     "output_type": "execute_result"
    }
   ],
   "source": [
    "waiting_time2.head()"
   ]
  },
  {
   "cell_type": "code",
   "execution_count": null,
   "metadata": {},
   "outputs": [],
   "source": [
    "#waiting_time2['timestamp'] = np.where(waiting_time2['timestamp']==np.timedelta64('NaT'), \"Not relevant\", waiting_time2['timestamp'])\n",
    "\n",
    "#eliminating the Not relevant \n",
    "\n",
    "#test=waiting_time2.drop(waiting_time2[waiting_time2['timestamp'] == \"Not relevant\"].index, inplace=True)"
   ]
  },
  {
   "cell_type": "code",
   "execution_count": 67,
   "metadata": {},
   "outputs": [],
   "source": [
    "test"
   ]
  },
  {
   "cell_type": "code",
   "execution_count": null,
   "metadata": {},
   "outputs": [],
   "source": [
    "waiting_time3=pd.DataFrame(data=waiting_time2)"
   ]
  },
  {
   "cell_type": "code",
   "execution_count": null,
   "metadata": {},
   "outputs": [],
   "source": [
    "waiting_time3.dtypes"
   ]
  },
  {
   "cell_type": "code",
   "execution_count": null,
   "metadata": {},
   "outputs": [],
   "source": [
    "# take the minutes\n",
    "\n",
    "#waiting_time3['timestamp']=pd.to_datetime(waiting_time3['timestamp'],errors='coerce')\n",
    "#waiting_time3[\"minutes\"]=waiting_time3[\"timestamp\"].dt.minute"
   ]
  },
  {
   "cell_type": "code",
   "execution_count": null,
   "metadata": {},
   "outputs": [],
   "source": [
    "waiting_time3"
   ]
  },
  {
   "cell_type": "code",
   "execution_count": null,
   "metadata": {},
   "outputs": [],
   "source": [
    "#check\n",
    "\n",
    "waiting_time3[\"minutes\"].value_counts()"
   ]
  },
  {
   "cell_type": "markdown",
   "metadata": {},
   "source": [
    "# BREAK"
   ]
  },
  {
   "cell_type": "code",
   "execution_count": null,
   "metadata": {},
   "outputs": [],
   "source": [
    "#keeping first and last event of the same ride\n",
    "\n",
    "first_last_code = timedif.groupby(['ride_id'], as_index=False).nth([0,-1])"
   ]
  },
  {
   "cell_type": "code",
   "execution_count": null,
   "metadata": {},
   "outputs": [],
   "source": [
    "first_last_code"
   ]
  },
  {
   "cell_type": "code",
   "execution_count": null,
   "metadata": {},
   "outputs": [],
   "source": [
    "first_last_code.dtypes"
   ]
  },
  {
   "cell_type": "code",
   "execution_count": null,
   "metadata": {},
   "outputs": [],
   "source": [
    "#check time difference between requested and dropped of\n",
    "\n",
    "attempt=first_last_code.groupby(['ride_id'], as_index=False).timestamp.diff()"
   ]
  },
  {
   "cell_type": "code",
   "execution_count": null,
   "metadata": {},
   "outputs": [],
   "source": [
    "attempt['new_ride_id']=first_last_code['ride_id']"
   ]
  },
  {
   "cell_type": "code",
   "execution_count": null,
   "metadata": {},
   "outputs": [],
   "source": [
    "attempt"
   ]
  },
  {
   "cell_type": "code",
   "execution_count": null,
   "metadata": {},
   "outputs": [],
   "source": [
    "attempt1=pd.DataFrame(data=attempt)"
   ]
  },
  {
   "cell_type": "code",
   "execution_count": null,
   "metadata": {},
   "outputs": [],
   "source": [
    "attempt1.head()"
   ]
  },
  {
   "cell_type": "code",
   "execution_count": null,
   "metadata": {},
   "outputs": [],
   "source": [
    "attempt1.dtypes"
   ]
  },
  {
   "cell_type": "code",
   "execution_count": null,
   "metadata": {},
   "outputs": [],
   "source": [
    "first_last_code['time_diff_dropoff_req'] = pd.to_datetime(first_last_code['timestamp'].astype(str)).diff(-1).dt.total_seconds().div(60)"
   ]
  },
  {
   "cell_type": "code",
   "execution_count": null,
   "metadata": {},
   "outputs": [],
   "source": [
    "first_last_code.head()"
   ]
  },
  {
   "cell_type": "code",
   "execution_count": null,
   "metadata": {},
   "outputs": [],
   "source": [
    "#need to transform\n",
    "#if there is an ideal time difference between requested and accepted OR accepted OR arrived at etc\n",
    "# also generic from requested to dropped off"
   ]
  }
 ],
 "metadata": {
  "kernelspec": {
   "display_name": "Python 3",
   "language": "python",
   "name": "python3"
  },
  "language_info": {
   "codemirror_mode": {
    "name": "ipython",
    "version": 3
   },
   "file_extension": ".py",
   "mimetype": "text/x-python",
   "name": "python",
   "nbconvert_exporter": "python",
   "pygments_lexer": "ipython3",
   "version": "3.8.5"
  }
 },
 "nbformat": 4,
 "nbformat_minor": 4
}
