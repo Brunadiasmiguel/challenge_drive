{
 "cells": [
  {
   "cell_type": "markdown",
   "metadata": {},
   "source": [
    "# Driver file"
   ]
  },
  {
   "cell_type": "code",
   "execution_count": 1,
   "metadata": {},
   "outputs": [],
   "source": [
    "\n",
    "#importing libraries\n",
    "\n",
    "import pandas as pd\n",
    "import numpy as np"
   ]
  },
  {
   "cell_type": "code",
   "execution_count": 2,
   "metadata": {},
   "outputs": [],
   "source": [
    "#importing driver id file\n",
    "\n",
    "driverid=pd.read_csv(\"data/driver_ids.csv\")"
   ]
  },
  {
   "cell_type": "code",
   "execution_count": 3,
   "metadata": {},
   "outputs": [
    {
     "data": {
      "text/html": [
       "<div>\n",
       "<style scoped>\n",
       "    .dataframe tbody tr th:only-of-type {\n",
       "        vertical-align: middle;\n",
       "    }\n",
       "\n",
       "    .dataframe tbody tr th {\n",
       "        vertical-align: top;\n",
       "    }\n",
       "\n",
       "    .dataframe thead th {\n",
       "        text-align: right;\n",
       "    }\n",
       "</style>\n",
       "<table border=\"1\" class=\"dataframe\">\n",
       "  <thead>\n",
       "    <tr style=\"text-align: right;\">\n",
       "      <th></th>\n",
       "      <th>driver_id</th>\n",
       "      <th>driver_onboard_date</th>\n",
       "    </tr>\n",
       "  </thead>\n",
       "  <tbody>\n",
       "    <tr>\n",
       "      <th>0</th>\n",
       "      <td>002be0ffdc997bd5c50703158b7c2491</td>\n",
       "      <td>2016-03-29 00:00:00</td>\n",
       "    </tr>\n",
       "    <tr>\n",
       "      <th>1</th>\n",
       "      <td>007f0389f9c7b03ef97098422f902e62</td>\n",
       "      <td>2016-03-29 00:00:00</td>\n",
       "    </tr>\n",
       "    <tr>\n",
       "      <th>2</th>\n",
       "      <td>011e5c5dfc5c2c92501b8b24d47509bc</td>\n",
       "      <td>2016-04-05 00:00:00</td>\n",
       "    </tr>\n",
       "    <tr>\n",
       "      <th>3</th>\n",
       "      <td>0152a2f305e71d26cc964f8d4411add9</td>\n",
       "      <td>2016-04-23 00:00:00</td>\n",
       "    </tr>\n",
       "    <tr>\n",
       "      <th>4</th>\n",
       "      <td>01674381af7edd264113d4e6ed55ecda</td>\n",
       "      <td>2016-04-29 00:00:00</td>\n",
       "    </tr>\n",
       "    <tr>\n",
       "      <th>5</th>\n",
       "      <td>01788cf817698fe68eaecd7eb18b2f72</td>\n",
       "      <td>2016-05-06 00:00:00</td>\n",
       "    </tr>\n",
       "    <tr>\n",
       "      <th>6</th>\n",
       "      <td>0213f8b59219e32142711992ca4ec01f</td>\n",
       "      <td>2016-04-07 00:00:00</td>\n",
       "    </tr>\n",
       "    <tr>\n",
       "      <th>7</th>\n",
       "      <td>021e5cd15ef0bb3ec20a12af99e142b3</td>\n",
       "      <td>2016-05-07 00:00:00</td>\n",
       "    </tr>\n",
       "    <tr>\n",
       "      <th>8</th>\n",
       "      <td>0258e250ca195cc6258cbdc75aecd853</td>\n",
       "      <td>2016-04-26 00:00:00</td>\n",
       "    </tr>\n",
       "    <tr>\n",
       "      <th>9</th>\n",
       "      <td>028b5a4dcd7f4924ebfabcf2e814c014</td>\n",
       "      <td>2016-05-06 00:00:00</td>\n",
       "    </tr>\n",
       "  </tbody>\n",
       "</table>\n",
       "</div>"
      ],
      "text/plain": [
       "                          driver_id  driver_onboard_date\n",
       "0  002be0ffdc997bd5c50703158b7c2491  2016-03-29 00:00:00\n",
       "1  007f0389f9c7b03ef97098422f902e62  2016-03-29 00:00:00\n",
       "2  011e5c5dfc5c2c92501b8b24d47509bc  2016-04-05 00:00:00\n",
       "3  0152a2f305e71d26cc964f8d4411add9  2016-04-23 00:00:00\n",
       "4  01674381af7edd264113d4e6ed55ecda  2016-04-29 00:00:00\n",
       "5  01788cf817698fe68eaecd7eb18b2f72  2016-05-06 00:00:00\n",
       "6  0213f8b59219e32142711992ca4ec01f  2016-04-07 00:00:00\n",
       "7  021e5cd15ef0bb3ec20a12af99e142b3  2016-05-07 00:00:00\n",
       "8  0258e250ca195cc6258cbdc75aecd853  2016-04-26 00:00:00\n",
       "9  028b5a4dcd7f4924ebfabcf2e814c014  2016-05-06 00:00:00"
      ]
     },
     "execution_count": 3,
     "metadata": {},
     "output_type": "execute_result"
    }
   ],
   "source": [
    "#check file\n",
    "\n",
    "driverid.head(10)"
   ]
  },
  {
   "cell_type": "code",
   "execution_count": 4,
   "metadata": {},
   "outputs": [
    {
     "data": {
      "text/plain": [
       "driver_id              object\n",
       "driver_onboard_date    object\n",
       "dtype: object"
      ]
     },
     "execution_count": 4,
     "metadata": {},
     "output_type": "execute_result"
    }
   ],
   "source": [
    "#check the types\n",
    "\n",
    "driverid.dtypes"
   ]
  },
  {
   "cell_type": "code",
   "execution_count": 5,
   "metadata": {},
   "outputs": [
    {
     "data": {
      "text/plain": [
       "RangeIndex(start=0, stop=937, step=1)"
      ]
     },
     "execution_count": 5,
     "metadata": {},
     "output_type": "execute_result"
    }
   ],
   "source": [
    "#check dataframe size\n",
    "\n",
    "driverid.index"
   ]
  },
  {
   "cell_type": "code",
   "execution_count": 6,
   "metadata": {},
   "outputs": [
    {
     "data": {
      "text/plain": [
       "driver_id  driver_onboard_date\n",
       "False      False                  937\n",
       "dtype: int64"
      ]
     },
     "execution_count": 6,
     "metadata": {},
     "output_type": "execute_result"
    }
   ],
   "source": [
    "#check nulls\n",
    "\n",
    "driverid.isnull().value_counts()"
   ]
  },
  {
   "cell_type": "code",
   "execution_count": 7,
   "metadata": {},
   "outputs": [
    {
     "data": {
      "text/plain": [
       "16cd1e08be52741e1516cade45ae7754    1\n",
       "d3121b735af2bb94568c8070aaf05110    1\n",
       "93587c4ead63454c615f4651e2841ba2    1\n",
       "01674381af7edd264113d4e6ed55ecda    1\n",
       "7481015e6b377191f3b1531bc74e6908    1\n",
       "                                   ..\n",
       "24b79c598cb070bf049057bd529d3c86    1\n",
       "67771fd10458c38391b55774826e4c34    1\n",
       "456467f01492ee1aeb7707de5c725f1c    1\n",
       "a60115fe0ec8c0e2d4fb8958a28567f6    1\n",
       "922214b02f8dfbde50e8cdaa187dfd47    1\n",
       "Name: driver_id, Length: 937, dtype: int64"
      ]
     },
     "execution_count": 7,
     "metadata": {},
     "output_type": "execute_result"
    }
   ],
   "source": [
    "#check if driver is unique\n",
    "\n",
    "\n",
    "driverid['driver_id'].value_counts().sort_values(ascending=False)\n"
   ]
  },
  {
   "cell_type": "code",
   "execution_count": 8,
   "metadata": {},
   "outputs": [],
   "source": [
    "#change to date time\n",
    "\n",
    "driverid['driver_onboard_date']=pd.to_datetime(driverid['driver_onboard_date'],errors='coerce')"
   ]
  },
  {
   "cell_type": "code",
   "execution_count": 9,
   "metadata": {},
   "outputs": [
    {
     "data": {
      "text/plain": [
       "driver_id                      object\n",
       "driver_onboard_date    datetime64[ns]\n",
       "dtype: object"
      ]
     },
     "execution_count": 9,
     "metadata": {},
     "output_type": "execute_result"
    }
   ],
   "source": [
    "#confirm\n",
    "\n",
    "driverid.dtypes"
   ]
  },
  {
   "cell_type": "code",
   "execution_count": 10,
   "metadata": {},
   "outputs": [
    {
     "data": {
      "text/plain": [
       "2016    937\n",
       "Name: driver_onboard_date, dtype: int64"
      ]
     },
     "execution_count": 10,
     "metadata": {},
     "output_type": "execute_result"
    }
   ],
   "source": [
    "#check the year\n",
    "\n",
    "driverid['driver_onboard_date'].dt.year.value_counts()"
   ]
  },
  {
   "cell_type": "code",
   "execution_count": 11,
   "metadata": {},
   "outputs": [
    {
     "data": {
      "text/plain": [
       "4    591\n",
       "5    239\n",
       "3    107\n",
       "Name: driver_onboard_date, dtype: int64"
      ]
     },
     "execution_count": 11,
     "metadata": {},
     "output_type": "execute_result"
    }
   ],
   "source": [
    "#check the month for seasonality\n",
    "\n",
    "driverid['driver_onboard_date'].dt.month.value_counts()"
   ]
  },
  {
   "cell_type": "code",
   "execution_count": 12,
   "metadata": {},
   "outputs": [
    {
     "data": {
      "text/plain": [
       "29    57\n",
       "5     56\n",
       "4     50\n",
       "6     50\n",
       "12    45\n",
       "30    44\n",
       "13    42\n",
       "11    41\n",
       "28    38\n",
       "7     36\n",
       "14    36\n",
       "9     34\n",
       "8     32\n",
       "31    30\n",
       "15    29\n",
       "1     27\n",
       "10    25\n",
       "21    24\n",
       "26    23\n",
       "20    22\n",
       "2     22\n",
       "19    21\n",
       "22    21\n",
       "23    20\n",
       "3     18\n",
       "17    17\n",
       "25    17\n",
       "18    16\n",
       "27    16\n",
       "16    15\n",
       "24    13\n",
       "Name: driver_onboard_date, dtype: int64"
      ]
     },
     "execution_count": 12,
     "metadata": {},
     "output_type": "execute_result"
    }
   ],
   "source": [
    "#check the day for seasonality\n",
    "\n",
    "driverid['driver_onboard_date'].dt.day.value_counts()"
   ]
  },
  {
   "cell_type": "markdown",
   "metadata": {},
   "source": [
    "# Rider id"
   ]
  },
  {
   "cell_type": "code",
   "execution_count": 13,
   "metadata": {},
   "outputs": [],
   "source": [
    "#importing driver id file\n",
    "riderid=pd.read_csv(\"data/ride_ids.csv\")"
   ]
  },
  {
   "cell_type": "code",
   "execution_count": 14,
   "metadata": {},
   "outputs": [
    {
     "data": {
      "text/html": [
       "<div>\n",
       "<style scoped>\n",
       "    .dataframe tbody tr th:only-of-type {\n",
       "        vertical-align: middle;\n",
       "    }\n",
       "\n",
       "    .dataframe tbody tr th {\n",
       "        vertical-align: top;\n",
       "    }\n",
       "\n",
       "    .dataframe thead th {\n",
       "        text-align: right;\n",
       "    }\n",
       "</style>\n",
       "<table border=\"1\" class=\"dataframe\">\n",
       "  <thead>\n",
       "    <tr style=\"text-align: right;\">\n",
       "      <th></th>\n",
       "      <th>driver_id</th>\n",
       "      <th>ride_id</th>\n",
       "      <th>ride_distance</th>\n",
       "      <th>ride_duration</th>\n",
       "      <th>ride_prime_time</th>\n",
       "    </tr>\n",
       "  </thead>\n",
       "  <tbody>\n",
       "    <tr>\n",
       "      <th>0</th>\n",
       "      <td>002be0ffdc997bd5c50703158b7c2491</td>\n",
       "      <td>006d61cf7446e682f7bc50b0f8a5bea5</td>\n",
       "      <td>1811</td>\n",
       "      <td>327</td>\n",
       "      <td>50</td>\n",
       "    </tr>\n",
       "    <tr>\n",
       "      <th>1</th>\n",
       "      <td>002be0ffdc997bd5c50703158b7c2491</td>\n",
       "      <td>01b522c5c3a756fbdb12e95e87507eda</td>\n",
       "      <td>3362</td>\n",
       "      <td>809</td>\n",
       "      <td>0</td>\n",
       "    </tr>\n",
       "    <tr>\n",
       "      <th>2</th>\n",
       "      <td>002be0ffdc997bd5c50703158b7c2491</td>\n",
       "      <td>029227c4c2971ce69ff2274dc798ef43</td>\n",
       "      <td>3282</td>\n",
       "      <td>572</td>\n",
       "      <td>0</td>\n",
       "    </tr>\n",
       "    <tr>\n",
       "      <th>3</th>\n",
       "      <td>002be0ffdc997bd5c50703158b7c2491</td>\n",
       "      <td>034e861343a63ac3c18a9ceb1ce0ac69</td>\n",
       "      <td>65283</td>\n",
       "      <td>3338</td>\n",
       "      <td>25</td>\n",
       "    </tr>\n",
       "    <tr>\n",
       "      <th>4</th>\n",
       "      <td>002be0ffdc997bd5c50703158b7c2491</td>\n",
       "      <td>034f2e614a2f9fc7f1c2f77647d1b981</td>\n",
       "      <td>4115</td>\n",
       "      <td>823</td>\n",
       "      <td>100</td>\n",
       "    </tr>\n",
       "    <tr>\n",
       "      <th>5</th>\n",
       "      <td>002be0ffdc997bd5c50703158b7c2491</td>\n",
       "      <td>03d6b9d80b8a96135cb9b25178e9e203</td>\n",
       "      <td>4832</td>\n",
       "      <td>917</td>\n",
       "      <td>100</td>\n",
       "    </tr>\n",
       "    <tr>\n",
       "      <th>6</th>\n",
       "      <td>002be0ffdc997bd5c50703158b7c2491</td>\n",
       "      <td>04053c0ed21761e07f0b869cab5b7dd0</td>\n",
       "      <td>1575</td>\n",
       "      <td>347</td>\n",
       "      <td>0</td>\n",
       "    </tr>\n",
       "    <tr>\n",
       "      <th>7</th>\n",
       "      <td>002be0ffdc997bd5c50703158b7c2491</td>\n",
       "      <td>0534d432e0186625f623aaee57af98be</td>\n",
       "      <td>3056</td>\n",
       "      <td>687</td>\n",
       "      <td>25</td>\n",
       "    </tr>\n",
       "    <tr>\n",
       "      <th>8</th>\n",
       "      <td>002be0ffdc997bd5c50703158b7c2491</td>\n",
       "      <td>053a1621c0affcd2b9c517af5c2bc843</td>\n",
       "      <td>3940</td>\n",
       "      <td>1143</td>\n",
       "      <td>75</td>\n",
       "    </tr>\n",
       "    <tr>\n",
       "      <th>9</th>\n",
       "      <td>002be0ffdc997bd5c50703158b7c2491</td>\n",
       "      <td>066e92c52f59486de56cd7b8716a4ca6</td>\n",
       "      <td>3957</td>\n",
       "      <td>868</td>\n",
       "      <td>50</td>\n",
       "    </tr>\n",
       "  </tbody>\n",
       "</table>\n",
       "</div>"
      ],
      "text/plain": [
       "                          driver_id                           ride_id  \\\n",
       "0  002be0ffdc997bd5c50703158b7c2491  006d61cf7446e682f7bc50b0f8a5bea5   \n",
       "1  002be0ffdc997bd5c50703158b7c2491  01b522c5c3a756fbdb12e95e87507eda   \n",
       "2  002be0ffdc997bd5c50703158b7c2491  029227c4c2971ce69ff2274dc798ef43   \n",
       "3  002be0ffdc997bd5c50703158b7c2491  034e861343a63ac3c18a9ceb1ce0ac69   \n",
       "4  002be0ffdc997bd5c50703158b7c2491  034f2e614a2f9fc7f1c2f77647d1b981   \n",
       "5  002be0ffdc997bd5c50703158b7c2491  03d6b9d80b8a96135cb9b25178e9e203   \n",
       "6  002be0ffdc997bd5c50703158b7c2491  04053c0ed21761e07f0b869cab5b7dd0   \n",
       "7  002be0ffdc997bd5c50703158b7c2491  0534d432e0186625f623aaee57af98be   \n",
       "8  002be0ffdc997bd5c50703158b7c2491  053a1621c0affcd2b9c517af5c2bc843   \n",
       "9  002be0ffdc997bd5c50703158b7c2491  066e92c52f59486de56cd7b8716a4ca6   \n",
       "\n",
       "   ride_distance  ride_duration  ride_prime_time  \n",
       "0           1811            327               50  \n",
       "1           3362            809                0  \n",
       "2           3282            572                0  \n",
       "3          65283           3338               25  \n",
       "4           4115            823              100  \n",
       "5           4832            917              100  \n",
       "6           1575            347                0  \n",
       "7           3056            687               25  \n",
       "8           3940           1143               75  \n",
       "9           3957            868               50  "
      ]
     },
     "execution_count": 14,
     "metadata": {},
     "output_type": "execute_result"
    }
   ],
   "source": [
    "#check file\n",
    "\n",
    "riderid.head(10)"
   ]
  },
  {
   "cell_type": "code",
   "execution_count": 15,
   "metadata": {},
   "outputs": [
    {
     "data": {
      "text/plain": [
       "driver_id          object\n",
       "ride_id            object\n",
       "ride_distance       int64\n",
       "ride_duration       int64\n",
       "ride_prime_time     int64\n",
       "dtype: object"
      ]
     },
     "execution_count": 15,
     "metadata": {},
     "output_type": "execute_result"
    }
   ],
   "source": [
    "#check the types\n",
    "\n",
    "riderid.dtypes"
   ]
  },
  {
   "cell_type": "code",
   "execution_count": 16,
   "metadata": {},
   "outputs": [],
   "source": [
    "#check null values\n",
    "\n",
    "def ridenulls(column):\n",
    "    return riderid.loc[riderid[column].isnull()]\n",
    "    "
   ]
  },
  {
   "cell_type": "code",
   "execution_count": 17,
   "metadata": {
    "scrolled": true
   },
   "outputs": [
    {
     "data": {
      "text/html": [
       "<div>\n",
       "<style scoped>\n",
       "    .dataframe tbody tr th:only-of-type {\n",
       "        vertical-align: middle;\n",
       "    }\n",
       "\n",
       "    .dataframe tbody tr th {\n",
       "        vertical-align: top;\n",
       "    }\n",
       "\n",
       "    .dataframe thead th {\n",
       "        text-align: right;\n",
       "    }\n",
       "</style>\n",
       "<table border=\"1\" class=\"dataframe\">\n",
       "  <thead>\n",
       "    <tr style=\"text-align: right;\">\n",
       "      <th></th>\n",
       "      <th>driver_id</th>\n",
       "      <th>ride_id</th>\n",
       "      <th>ride_distance</th>\n",
       "      <th>ride_duration</th>\n",
       "      <th>ride_prime_time</th>\n",
       "    </tr>\n",
       "  </thead>\n",
       "  <tbody>\n",
       "  </tbody>\n",
       "</table>\n",
       "</div>"
      ],
      "text/plain": [
       "Empty DataFrame\n",
       "Columns: [driver_id, ride_id, ride_distance, ride_duration, ride_prime_time]\n",
       "Index: []"
      ]
     },
     "execution_count": 17,
     "metadata": {},
     "output_type": "execute_result"
    }
   ],
   "source": [
    "#call function\n",
    "#check!!\n",
    "\n",
    "ridenulls('ride_prime_time')"
   ]
  },
  {
   "cell_type": "code",
   "execution_count": 18,
   "metadata": {},
   "outputs": [],
   "source": [
    "# distance is in meters and duration in seconds, needs conversion"
   ]
  },
  {
   "cell_type": "code",
   "execution_count": 19,
   "metadata": {},
   "outputs": [
    {
     "data": {
      "text/plain": [
       "'Base Fare $2.00\\nCost per Mile $1.15\\nCost per Minute $0.22\\nService Fee $1.75\\nMinimum Fare $5.00\\nMaximum Fare $400.00'"
      ]
     },
     "execution_count": 19,
     "metadata": {},
     "output_type": "execute_result"
    }
   ],
   "source": [
    "\"\"\"Base Fare $2.00\n",
    "Cost per Mile $1.15\n",
    "Cost per Minute $0.22\n",
    "Service Fee $1.75\n",
    "Minimum Fare $5.00\n",
    "Maximum Fare $400.00\"\"\""
   ]
  },
  {
   "cell_type": "code",
   "execution_count": 20,
   "metadata": {},
   "outputs": [
    {
     "data": {
      "text/plain": [
       "Index(['driver_id', 'ride_id', 'ride_distance', 'ride_duration',\n",
       "       'ride_prime_time'],\n",
       "      dtype='object')"
      ]
     },
     "execution_count": 20,
     "metadata": {},
     "output_type": "execute_result"
    }
   ],
   "source": [
    "#check column names\n",
    "\n",
    "riderid.columns"
   ]
  },
  {
   "cell_type": "code",
   "execution_count": 21,
   "metadata": {
    "scrolled": false
   },
   "outputs": [
    {
     "data": {
      "text/html": [
       "<div>\n",
       "<style scoped>\n",
       "    .dataframe tbody tr th:only-of-type {\n",
       "        vertical-align: middle;\n",
       "    }\n",
       "\n",
       "    .dataframe tbody tr th {\n",
       "        vertical-align: top;\n",
       "    }\n",
       "\n",
       "    .dataframe thead th {\n",
       "        text-align: right;\n",
       "    }\n",
       "</style>\n",
       "<table border=\"1\" class=\"dataframe\">\n",
       "  <thead>\n",
       "    <tr style=\"text-align: right;\">\n",
       "      <th></th>\n",
       "      <th>driver_id</th>\n",
       "      <th>ride_id</th>\n",
       "      <th>ride_distance</th>\n",
       "      <th>ride_duration</th>\n",
       "      <th>ride_prime_time</th>\n",
       "    </tr>\n",
       "  </thead>\n",
       "  <tbody>\n",
       "    <tr>\n",
       "      <th>0</th>\n",
       "      <td>002be0ffdc997bd5c50703158b7c2491</td>\n",
       "      <td>006d61cf7446e682f7bc50b0f8a5bea5</td>\n",
       "      <td>1811</td>\n",
       "      <td>327</td>\n",
       "      <td>50</td>\n",
       "    </tr>\n",
       "    <tr>\n",
       "      <th>1</th>\n",
       "      <td>002be0ffdc997bd5c50703158b7c2491</td>\n",
       "      <td>01b522c5c3a756fbdb12e95e87507eda</td>\n",
       "      <td>3362</td>\n",
       "      <td>809</td>\n",
       "      <td>0</td>\n",
       "    </tr>\n",
       "    <tr>\n",
       "      <th>2</th>\n",
       "      <td>002be0ffdc997bd5c50703158b7c2491</td>\n",
       "      <td>029227c4c2971ce69ff2274dc798ef43</td>\n",
       "      <td>3282</td>\n",
       "      <td>572</td>\n",
       "      <td>0</td>\n",
       "    </tr>\n",
       "    <tr>\n",
       "      <th>3</th>\n",
       "      <td>002be0ffdc997bd5c50703158b7c2491</td>\n",
       "      <td>034e861343a63ac3c18a9ceb1ce0ac69</td>\n",
       "      <td>65283</td>\n",
       "      <td>3338</td>\n",
       "      <td>25</td>\n",
       "    </tr>\n",
       "    <tr>\n",
       "      <th>4</th>\n",
       "      <td>002be0ffdc997bd5c50703158b7c2491</td>\n",
       "      <td>034f2e614a2f9fc7f1c2f77647d1b981</td>\n",
       "      <td>4115</td>\n",
       "      <td>823</td>\n",
       "      <td>100</td>\n",
       "    </tr>\n",
       "  </tbody>\n",
       "</table>\n",
       "</div>"
      ],
      "text/plain": [
       "                          driver_id                           ride_id  \\\n",
       "0  002be0ffdc997bd5c50703158b7c2491  006d61cf7446e682f7bc50b0f8a5bea5   \n",
       "1  002be0ffdc997bd5c50703158b7c2491  01b522c5c3a756fbdb12e95e87507eda   \n",
       "2  002be0ffdc997bd5c50703158b7c2491  029227c4c2971ce69ff2274dc798ef43   \n",
       "3  002be0ffdc997bd5c50703158b7c2491  034e861343a63ac3c18a9ceb1ce0ac69   \n",
       "4  002be0ffdc997bd5c50703158b7c2491  034f2e614a2f9fc7f1c2f77647d1b981   \n",
       "\n",
       "   ride_distance  ride_duration  ride_prime_time  \n",
       "0           1811            327               50  \n",
       "1           3362            809                0  \n",
       "2           3282            572                0  \n",
       "3          65283           3338               25  \n",
       "4           4115            823              100  "
      ]
     },
     "execution_count": 21,
     "metadata": {},
     "output_type": "execute_result"
    }
   ],
   "source": [
    "riderid.head()"
   ]
  },
  {
   "cell_type": "code",
   "execution_count": 22,
   "metadata": {},
   "outputs": [],
   "source": [
    "#inser columns with the duration in minutes\n",
    "\n",
    "riderid[\"ride_duration_min\"]=riderid[\"ride_duration\"]/60"
   ]
  },
  {
   "cell_type": "code",
   "execution_count": 23,
   "metadata": {},
   "outputs": [],
   "source": [
    "# insert column with the conversion to miles\n",
    "#1 mile = 1 609.344 meters\n",
    "\n",
    "riderid[\"ride_distance_miles\"]=riderid[\"ride_distance\"]/1609.344\n",
    "\n"
   ]
  },
  {
   "cell_type": "code",
   "execution_count": 24,
   "metadata": {},
   "outputs": [
    {
     "data": {
      "text/html": [
       "<div>\n",
       "<style scoped>\n",
       "    .dataframe tbody tr th:only-of-type {\n",
       "        vertical-align: middle;\n",
       "    }\n",
       "\n",
       "    .dataframe tbody tr th {\n",
       "        vertical-align: top;\n",
       "    }\n",
       "\n",
       "    .dataframe thead th {\n",
       "        text-align: right;\n",
       "    }\n",
       "</style>\n",
       "<table border=\"1\" class=\"dataframe\">\n",
       "  <thead>\n",
       "    <tr style=\"text-align: right;\">\n",
       "      <th></th>\n",
       "      <th>driver_id</th>\n",
       "      <th>ride_id</th>\n",
       "      <th>ride_distance</th>\n",
       "      <th>ride_duration</th>\n",
       "      <th>ride_prime_time</th>\n",
       "      <th>ride_duration_min</th>\n",
       "      <th>ride_distance_miles</th>\n",
       "    </tr>\n",
       "  </thead>\n",
       "  <tbody>\n",
       "    <tr>\n",
       "      <th>0</th>\n",
       "      <td>002be0ffdc997bd5c50703158b7c2491</td>\n",
       "      <td>006d61cf7446e682f7bc50b0f8a5bea5</td>\n",
       "      <td>1811</td>\n",
       "      <td>327</td>\n",
       "      <td>50</td>\n",
       "      <td>5.450000</td>\n",
       "      <td>1.125303</td>\n",
       "    </tr>\n",
       "    <tr>\n",
       "      <th>1</th>\n",
       "      <td>002be0ffdc997bd5c50703158b7c2491</td>\n",
       "      <td>01b522c5c3a756fbdb12e95e87507eda</td>\n",
       "      <td>3362</td>\n",
       "      <td>809</td>\n",
       "      <td>0</td>\n",
       "      <td>13.483333</td>\n",
       "      <td>2.089050</td>\n",
       "    </tr>\n",
       "    <tr>\n",
       "      <th>2</th>\n",
       "      <td>002be0ffdc997bd5c50703158b7c2491</td>\n",
       "      <td>029227c4c2971ce69ff2274dc798ef43</td>\n",
       "      <td>3282</td>\n",
       "      <td>572</td>\n",
       "      <td>0</td>\n",
       "      <td>9.533333</td>\n",
       "      <td>2.039340</td>\n",
       "    </tr>\n",
       "    <tr>\n",
       "      <th>3</th>\n",
       "      <td>002be0ffdc997bd5c50703158b7c2491</td>\n",
       "      <td>034e861343a63ac3c18a9ceb1ce0ac69</td>\n",
       "      <td>65283</td>\n",
       "      <td>3338</td>\n",
       "      <td>25</td>\n",
       "      <td>55.633333</td>\n",
       "      <td>40.564976</td>\n",
       "    </tr>\n",
       "    <tr>\n",
       "      <th>4</th>\n",
       "      <td>002be0ffdc997bd5c50703158b7c2491</td>\n",
       "      <td>034f2e614a2f9fc7f1c2f77647d1b981</td>\n",
       "      <td>4115</td>\n",
       "      <td>823</td>\n",
       "      <td>100</td>\n",
       "      <td>13.716667</td>\n",
       "      <td>2.556942</td>\n",
       "    </tr>\n",
       "  </tbody>\n",
       "</table>\n",
       "</div>"
      ],
      "text/plain": [
       "                          driver_id                           ride_id  \\\n",
       "0  002be0ffdc997bd5c50703158b7c2491  006d61cf7446e682f7bc50b0f8a5bea5   \n",
       "1  002be0ffdc997bd5c50703158b7c2491  01b522c5c3a756fbdb12e95e87507eda   \n",
       "2  002be0ffdc997bd5c50703158b7c2491  029227c4c2971ce69ff2274dc798ef43   \n",
       "3  002be0ffdc997bd5c50703158b7c2491  034e861343a63ac3c18a9ceb1ce0ac69   \n",
       "4  002be0ffdc997bd5c50703158b7c2491  034f2e614a2f9fc7f1c2f77647d1b981   \n",
       "\n",
       "   ride_distance  ride_duration  ride_prime_time  ride_duration_min  \\\n",
       "0           1811            327               50           5.450000   \n",
       "1           3362            809                0          13.483333   \n",
       "2           3282            572                0           9.533333   \n",
       "3          65283           3338               25          55.633333   \n",
       "4           4115            823              100          13.716667   \n",
       "\n",
       "   ride_distance_miles  \n",
       "0             1.125303  \n",
       "1             2.089050  \n",
       "2             2.039340  \n",
       "3            40.564976  \n",
       "4             2.556942  "
      ]
     },
     "execution_count": 24,
     "metadata": {},
     "output_type": "execute_result"
    }
   ],
   "source": [
    "riderid.head()"
   ]
  },
  {
   "cell_type": "code",
   "execution_count": 25,
   "metadata": {},
   "outputs": [
    {
     "data": {
      "text/plain": [
       "'Base Fare $2.00\\nCost per Mile $1.15\\nCost per Minute $0.22\\nService Fee $1.75\\nMinimum Fare $5.00\\nMaximum Fare $400.00'"
      ]
     },
     "execution_count": 25,
     "metadata": {},
     "output_type": "execute_result"
    }
   ],
   "source": [
    "\"\"\"Base Fare $2.00\n",
    "Cost per Mile $1.15\n",
    "Cost per Minute $0.22\n",
    "Service Fee $1.75\n",
    "Minimum Fare $5.00\n",
    "Maximum Fare $400.00\"\"\""
   ]
  },
  {
   "cell_type": "code",
   "execution_count": 26,
   "metadata": {},
   "outputs": [],
   "source": [
    "#adding the rates"
   ]
  },
  {
   "cell_type": "code",
   "execution_count": 27,
   "metadata": {},
   "outputs": [],
   "source": [
    "#adding base fare and service fee\n",
    "\n",
    "riderid[\"base_fare$\"]=2"
   ]
  },
  {
   "cell_type": "code",
   "execution_count": 33,
   "metadata": {},
   "outputs": [],
   "source": [
    "riderid[\"duration_ride_revenue$\"]=riderid[\"ride_duration_min\"]*0.22"
   ]
  },
  {
   "cell_type": "code",
   "execution_count": 34,
   "metadata": {
    "scrolled": true
   },
   "outputs": [
    {
     "data": {
      "text/html": [
       "<div>\n",
       "<style scoped>\n",
       "    .dataframe tbody tr th:only-of-type {\n",
       "        vertical-align: middle;\n",
       "    }\n",
       "\n",
       "    .dataframe tbody tr th {\n",
       "        vertical-align: top;\n",
       "    }\n",
       "\n",
       "    .dataframe thead th {\n",
       "        text-align: right;\n",
       "    }\n",
       "</style>\n",
       "<table border=\"1\" class=\"dataframe\">\n",
       "  <thead>\n",
       "    <tr style=\"text-align: right;\">\n",
       "      <th></th>\n",
       "      <th>driver_id</th>\n",
       "      <th>ride_id</th>\n",
       "      <th>ride_distance</th>\n",
       "      <th>ride_duration</th>\n",
       "      <th>ride_prime_time</th>\n",
       "      <th>ride_duration_min</th>\n",
       "      <th>ride_distance_miles</th>\n",
       "      <th>base_fare$</th>\n",
       "      <th>duration_ride_revenue$</th>\n",
       "    </tr>\n",
       "  </thead>\n",
       "  <tbody>\n",
       "    <tr>\n",
       "      <th>0</th>\n",
       "      <td>002be0ffdc997bd5c50703158b7c2491</td>\n",
       "      <td>006d61cf7446e682f7bc50b0f8a5bea5</td>\n",
       "      <td>1811</td>\n",
       "      <td>327</td>\n",
       "      <td>50</td>\n",
       "      <td>5.450000</td>\n",
       "      <td>1.125303</td>\n",
       "      <td>2</td>\n",
       "      <td>1.199000</td>\n",
       "    </tr>\n",
       "    <tr>\n",
       "      <th>1</th>\n",
       "      <td>002be0ffdc997bd5c50703158b7c2491</td>\n",
       "      <td>01b522c5c3a756fbdb12e95e87507eda</td>\n",
       "      <td>3362</td>\n",
       "      <td>809</td>\n",
       "      <td>0</td>\n",
       "      <td>13.483333</td>\n",
       "      <td>2.089050</td>\n",
       "      <td>2</td>\n",
       "      <td>2.966333</td>\n",
       "    </tr>\n",
       "    <tr>\n",
       "      <th>2</th>\n",
       "      <td>002be0ffdc997bd5c50703158b7c2491</td>\n",
       "      <td>029227c4c2971ce69ff2274dc798ef43</td>\n",
       "      <td>3282</td>\n",
       "      <td>572</td>\n",
       "      <td>0</td>\n",
       "      <td>9.533333</td>\n",
       "      <td>2.039340</td>\n",
       "      <td>2</td>\n",
       "      <td>2.097333</td>\n",
       "    </tr>\n",
       "    <tr>\n",
       "      <th>3</th>\n",
       "      <td>002be0ffdc997bd5c50703158b7c2491</td>\n",
       "      <td>034e861343a63ac3c18a9ceb1ce0ac69</td>\n",
       "      <td>65283</td>\n",
       "      <td>3338</td>\n",
       "      <td>25</td>\n",
       "      <td>55.633333</td>\n",
       "      <td>40.564976</td>\n",
       "      <td>2</td>\n",
       "      <td>12.239333</td>\n",
       "    </tr>\n",
       "    <tr>\n",
       "      <th>4</th>\n",
       "      <td>002be0ffdc997bd5c50703158b7c2491</td>\n",
       "      <td>034f2e614a2f9fc7f1c2f77647d1b981</td>\n",
       "      <td>4115</td>\n",
       "      <td>823</td>\n",
       "      <td>100</td>\n",
       "      <td>13.716667</td>\n",
       "      <td>2.556942</td>\n",
       "      <td>2</td>\n",
       "      <td>3.017667</td>\n",
       "    </tr>\n",
       "  </tbody>\n",
       "</table>\n",
       "</div>"
      ],
      "text/plain": [
       "                          driver_id                           ride_id  \\\n",
       "0  002be0ffdc997bd5c50703158b7c2491  006d61cf7446e682f7bc50b0f8a5bea5   \n",
       "1  002be0ffdc997bd5c50703158b7c2491  01b522c5c3a756fbdb12e95e87507eda   \n",
       "2  002be0ffdc997bd5c50703158b7c2491  029227c4c2971ce69ff2274dc798ef43   \n",
       "3  002be0ffdc997bd5c50703158b7c2491  034e861343a63ac3c18a9ceb1ce0ac69   \n",
       "4  002be0ffdc997bd5c50703158b7c2491  034f2e614a2f9fc7f1c2f77647d1b981   \n",
       "\n",
       "   ride_distance  ride_duration  ride_prime_time  ride_duration_min  \\\n",
       "0           1811            327               50           5.450000   \n",
       "1           3362            809                0          13.483333   \n",
       "2           3282            572                0           9.533333   \n",
       "3          65283           3338               25          55.633333   \n",
       "4           4115            823              100          13.716667   \n",
       "\n",
       "   ride_distance_miles  base_fare$  duration_ride_revenue$  \n",
       "0             1.125303           2                1.199000  \n",
       "1             2.089050           2                2.966333  \n",
       "2             2.039340           2                2.097333  \n",
       "3            40.564976           2               12.239333  \n",
       "4             2.556942           2                3.017667  "
      ]
     },
     "execution_count": 34,
     "metadata": {},
     "output_type": "execute_result"
    }
   ],
   "source": [
    "riderid.head()"
   ]
  },
  {
   "cell_type": "code",
   "execution_count": null,
   "metadata": {},
   "outputs": [],
   "source": [
    "#put the total of the ride and take the 20% and service fee for the ride and service fee\n",
    "# group by driver id\n",
    "#take off possible outliers check plot\n",
    "#check if the ride id is indeed the unique one\n",
    "#drop some columns \n",
    "#check better the prime time\n"
   ]
  },
  {
   "cell_type": "code",
   "execution_count": 28,
   "metadata": {},
   "outputs": [],
   "source": [
    "# riderid[\"total_price_mile$\"]"
   ]
  },
  {
   "cell_type": "markdown",
   "metadata": {},
   "source": [
    "# Rider Time stamps"
   ]
  },
  {
   "cell_type": "code",
   "execution_count": 29,
   "metadata": {},
   "outputs": [],
   "source": [
    "#importing driver id file\n",
    "\n",
    "ridertime=pd.read_csv(\"data/ride_timestamps.csv\")"
   ]
  },
  {
   "cell_type": "code",
   "execution_count": 31,
   "metadata": {},
   "outputs": [
    {
     "data": {
      "text/html": [
       "<div>\n",
       "<style scoped>\n",
       "    .dataframe tbody tr th:only-of-type {\n",
       "        vertical-align: middle;\n",
       "    }\n",
       "\n",
       "    .dataframe tbody tr th {\n",
       "        vertical-align: top;\n",
       "    }\n",
       "\n",
       "    .dataframe thead th {\n",
       "        text-align: right;\n",
       "    }\n",
       "</style>\n",
       "<table border=\"1\" class=\"dataframe\">\n",
       "  <thead>\n",
       "    <tr style=\"text-align: right;\">\n",
       "      <th></th>\n",
       "      <th>ride_id</th>\n",
       "      <th>event</th>\n",
       "      <th>timestamp</th>\n",
       "    </tr>\n",
       "  </thead>\n",
       "  <tbody>\n",
       "    <tr>\n",
       "      <th>0</th>\n",
       "      <td>00003037a262d9ee40e61b5c0718f7f0</td>\n",
       "      <td>requested_at</td>\n",
       "      <td>2016-06-13 09:39:19</td>\n",
       "    </tr>\n",
       "    <tr>\n",
       "      <th>1</th>\n",
       "      <td>00003037a262d9ee40e61b5c0718f7f0</td>\n",
       "      <td>accepted_at</td>\n",
       "      <td>2016-06-13 09:39:51</td>\n",
       "    </tr>\n",
       "    <tr>\n",
       "      <th>2</th>\n",
       "      <td>00003037a262d9ee40e61b5c0718f7f0</td>\n",
       "      <td>arrived_at</td>\n",
       "      <td>2016-06-13 09:44:31</td>\n",
       "    </tr>\n",
       "    <tr>\n",
       "      <th>3</th>\n",
       "      <td>00003037a262d9ee40e61b5c0718f7f0</td>\n",
       "      <td>picked_up_at</td>\n",
       "      <td>2016-06-13 09:44:33</td>\n",
       "    </tr>\n",
       "    <tr>\n",
       "      <th>4</th>\n",
       "      <td>00003037a262d9ee40e61b5c0718f7f0</td>\n",
       "      <td>dropped_off_at</td>\n",
       "      <td>2016-06-13 10:03:05</td>\n",
       "    </tr>\n",
       "    <tr>\n",
       "      <th>5</th>\n",
       "      <td>00005eae40882760d675da5effb89ae3</td>\n",
       "      <td>requested_at</td>\n",
       "      <td>2016-05-14 05:23:21</td>\n",
       "    </tr>\n",
       "    <tr>\n",
       "      <th>6</th>\n",
       "      <td>00005eae40882760d675da5effb89ae3</td>\n",
       "      <td>accepted_at</td>\n",
       "      <td>2016-05-14 05:23:25</td>\n",
       "    </tr>\n",
       "    <tr>\n",
       "      <th>7</th>\n",
       "      <td>00005eae40882760d675da5effb89ae3</td>\n",
       "      <td>arrived_at</td>\n",
       "      <td>2016-05-14 05:26:17</td>\n",
       "    </tr>\n",
       "    <tr>\n",
       "      <th>8</th>\n",
       "      <td>00005eae40882760d675da5effb89ae3</td>\n",
       "      <td>picked_up_at</td>\n",
       "      <td>2016-05-14 05:26:18</td>\n",
       "    </tr>\n",
       "    <tr>\n",
       "      <th>9</th>\n",
       "      <td>00005eae40882760d675da5effb89ae3</td>\n",
       "      <td>dropped_off_at</td>\n",
       "      <td>2016-05-14 05:34:17</td>\n",
       "    </tr>\n",
       "  </tbody>\n",
       "</table>\n",
       "</div>"
      ],
      "text/plain": [
       "                            ride_id           event            timestamp\n",
       "0  00003037a262d9ee40e61b5c0718f7f0    requested_at  2016-06-13 09:39:19\n",
       "1  00003037a262d9ee40e61b5c0718f7f0     accepted_at  2016-06-13 09:39:51\n",
       "2  00003037a262d9ee40e61b5c0718f7f0      arrived_at  2016-06-13 09:44:31\n",
       "3  00003037a262d9ee40e61b5c0718f7f0    picked_up_at  2016-06-13 09:44:33\n",
       "4  00003037a262d9ee40e61b5c0718f7f0  dropped_off_at  2016-06-13 10:03:05\n",
       "5  00005eae40882760d675da5effb89ae3    requested_at  2016-05-14 05:23:21\n",
       "6  00005eae40882760d675da5effb89ae3     accepted_at  2016-05-14 05:23:25\n",
       "7  00005eae40882760d675da5effb89ae3      arrived_at  2016-05-14 05:26:17\n",
       "8  00005eae40882760d675da5effb89ae3    picked_up_at  2016-05-14 05:26:18\n",
       "9  00005eae40882760d675da5effb89ae3  dropped_off_at  2016-05-14 05:34:17"
      ]
     },
     "execution_count": 31,
     "metadata": {},
     "output_type": "execute_result"
    }
   ],
   "source": [
    "#check file\n",
    "\n",
    "ridertime.head(10)"
   ]
  },
  {
   "cell_type": "code",
   "execution_count": null,
   "metadata": {},
   "outputs": [],
   "source": [
    "#check it out!!! https://stackoverflow.com/questions/58832688/calculate-time-difference-between-two-events-while-disregarding-unmatched-events"
   ]
  },
  {
   "cell_type": "code",
   "execution_count": 35,
   "metadata": {},
   "outputs": [
    {
     "data": {
      "text/plain": [
       "ride_id      object\n",
       "event        object\n",
       "timestamp    object\n",
       "dtype: object"
      ]
     },
     "execution_count": 35,
     "metadata": {},
     "output_type": "execute_result"
    }
   ],
   "source": [
    "# check types\n",
    "\n",
    "ridertime.dtypes"
   ]
  },
  {
   "cell_type": "code",
   "execution_count": null,
   "metadata": {},
   "outputs": [],
   "source": [
    "#need to transform\n",
    "#if there is an ideal time difference between requested and accepted OR accepted OR arrived at etc\n",
    "# also generic from requested to dropped off"
   ]
  }
 ],
 "metadata": {
  "kernelspec": {
   "display_name": "Python 3",
   "language": "python",
   "name": "python3"
  },
  "language_info": {
   "codemirror_mode": {
    "name": "ipython",
    "version": 3
   },
   "file_extension": ".py",
   "mimetype": "text/x-python",
   "name": "python",
   "nbconvert_exporter": "python",
   "pygments_lexer": "ipython3",
   "version": "3.8.5"
  }
 },
 "nbformat": 4,
 "nbformat_minor": 4
}
