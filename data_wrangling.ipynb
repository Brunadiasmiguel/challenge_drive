{
 "cells": [
  {
   "cell_type": "markdown",
   "metadata": {},
   "source": [
    "# 1. FILES' EXPLORATION"
   ]
  },
  {
   "cell_type": "markdown",
   "metadata": {},
   "source": [
    "# 1.1. Driver file"
   ]
  },
  {
   "cell_type": "code",
   "execution_count": 1,
   "metadata": {},
   "outputs": [],
   "source": [
    "#importing libraries\n",
    "\n",
    "import pandas as pd\n",
    "import numpy as np"
   ]
  },
  {
   "cell_type": "code",
   "execution_count": 2,
   "metadata": {},
   "outputs": [],
   "source": [
    "#importing driver id file\n",
    "\n",
    "driverid=pd.read_csv(\"data/driver_ids.csv\")"
   ]
  },
  {
   "cell_type": "code",
   "execution_count": 3,
   "metadata": {},
   "outputs": [
    {
     "data": {
      "text/html": [
       "<div>\n",
       "<style scoped>\n",
       "    .dataframe tbody tr th:only-of-type {\n",
       "        vertical-align: middle;\n",
       "    }\n",
       "\n",
       "    .dataframe tbody tr th {\n",
       "        vertical-align: top;\n",
       "    }\n",
       "\n",
       "    .dataframe thead th {\n",
       "        text-align: right;\n",
       "    }\n",
       "</style>\n",
       "<table border=\"1\" class=\"dataframe\">\n",
       "  <thead>\n",
       "    <tr style=\"text-align: right;\">\n",
       "      <th></th>\n",
       "      <th>driver_id</th>\n",
       "      <th>driver_onboard_date</th>\n",
       "    </tr>\n",
       "  </thead>\n",
       "  <tbody>\n",
       "    <tr>\n",
       "      <th>0</th>\n",
       "      <td>002be0ffdc997bd5c50703158b7c2491</td>\n",
       "      <td>2016-03-29 00:00:00</td>\n",
       "    </tr>\n",
       "    <tr>\n",
       "      <th>1</th>\n",
       "      <td>007f0389f9c7b03ef97098422f902e62</td>\n",
       "      <td>2016-03-29 00:00:00</td>\n",
       "    </tr>\n",
       "    <tr>\n",
       "      <th>2</th>\n",
       "      <td>011e5c5dfc5c2c92501b8b24d47509bc</td>\n",
       "      <td>2016-04-05 00:00:00</td>\n",
       "    </tr>\n",
       "    <tr>\n",
       "      <th>3</th>\n",
       "      <td>0152a2f305e71d26cc964f8d4411add9</td>\n",
       "      <td>2016-04-23 00:00:00</td>\n",
       "    </tr>\n",
       "    <tr>\n",
       "      <th>4</th>\n",
       "      <td>01674381af7edd264113d4e6ed55ecda</td>\n",
       "      <td>2016-04-29 00:00:00</td>\n",
       "    </tr>\n",
       "  </tbody>\n",
       "</table>\n",
       "</div>"
      ],
      "text/plain": [
       "                          driver_id  driver_onboard_date\n",
       "0  002be0ffdc997bd5c50703158b7c2491  2016-03-29 00:00:00\n",
       "1  007f0389f9c7b03ef97098422f902e62  2016-03-29 00:00:00\n",
       "2  011e5c5dfc5c2c92501b8b24d47509bc  2016-04-05 00:00:00\n",
       "3  0152a2f305e71d26cc964f8d4411add9  2016-04-23 00:00:00\n",
       "4  01674381af7edd264113d4e6ed55ecda  2016-04-29 00:00:00"
      ]
     },
     "execution_count": 3,
     "metadata": {},
     "output_type": "execute_result"
    }
   ],
   "source": [
    "#check file\n",
    "\n",
    "driverid.head()"
   ]
  },
  {
   "cell_type": "code",
   "execution_count": 4,
   "metadata": {
    "scrolled": true
   },
   "outputs": [
    {
     "data": {
      "text/plain": [
       "driver_id              object\n",
       "driver_onboard_date    object\n",
       "dtype: object"
      ]
     },
     "execution_count": 4,
     "metadata": {},
     "output_type": "execute_result"
    }
   ],
   "source": [
    "#check the types\n",
    "\n",
    "driverid.dtypes"
   ]
  },
  {
   "cell_type": "code",
   "execution_count": 5,
   "metadata": {},
   "outputs": [
    {
     "data": {
      "text/plain": [
       "RangeIndex(start=0, stop=937, step=1)"
      ]
     },
     "execution_count": 5,
     "metadata": {},
     "output_type": "execute_result"
    }
   ],
   "source": [
    "#check dataframe size to know the amount of drivers\n",
    "\n",
    "driverid.index"
   ]
  },
  {
   "cell_type": "code",
   "execution_count": 6,
   "metadata": {},
   "outputs": [
    {
     "data": {
      "text/plain": [
       "driver_id  driver_onboard_date\n",
       "False      False                  937\n",
       "dtype: int64"
      ]
     },
     "execution_count": 6,
     "metadata": {},
     "output_type": "execute_result"
    }
   ],
   "source": [
    "#check if there are nulls\n",
    "\n",
    "driverid.isnull().value_counts()"
   ]
  },
  {
   "cell_type": "code",
   "execution_count": 7,
   "metadata": {},
   "outputs": [
    {
     "data": {
      "text/plain": [
       "2b1f99b4f3360623da8fdcd39828122e    1\n",
       "da8f13b0ebc53fe1147d982f087b5806    1\n",
       "a12d788b7cd01f696bb5ebf28fa739cc    1\n",
       "363f684a638dac345e67fbb78e492efc    1\n",
       "762db27fc4dd1e53dd4fa982ae2162b4    1\n",
       "                                   ..\n",
       "6c0555804ebade45096a199f932e949e    1\n",
       "26efe85697b050171e2ac92d11f75605    1\n",
       "e246b5012a29db02ad24ce4b7e332b9b    1\n",
       "bf0a8a6ddc179a9466082343c5862904    1\n",
       "2aa41b072dc16081ebe60ad5b17f5a4c    1\n",
       "Name: driver_id, Length: 937, dtype: int64"
      ]
     },
     "execution_count": 7,
     "metadata": {},
     "output_type": "execute_result"
    }
   ],
   "source": [
    "#check if driver is unique\n",
    "\n",
    "\n",
    "driverid['driver_id'].value_counts().sort_values(ascending=False)\n"
   ]
  },
  {
   "cell_type": "code",
   "execution_count": 8,
   "metadata": {},
   "outputs": [],
   "source": [
    "#change to date time, on board date in the wrong format\n",
    "\n",
    "driverid['driver_onboard_date']=pd.to_datetime(driverid['driver_onboard_date'],errors='coerce')"
   ]
  },
  {
   "cell_type": "code",
   "execution_count": 9,
   "metadata": {},
   "outputs": [
    {
     "data": {
      "text/plain": [
       "driver_id                      object\n",
       "driver_onboard_date    datetime64[ns]\n",
       "dtype: object"
      ]
     },
     "execution_count": 9,
     "metadata": {},
     "output_type": "execute_result"
    }
   ],
   "source": [
    "#confirm\n",
    "\n",
    "driverid.dtypes"
   ]
  },
  {
   "cell_type": "code",
   "execution_count": 10,
   "metadata": {},
   "outputs": [
    {
     "data": {
      "text/plain": [
       "2016    937\n",
       "Name: driver_onboard_date, dtype: int64"
      ]
     },
     "execution_count": 10,
     "metadata": {},
     "output_type": "execute_result"
    }
   ],
   "source": [
    "#check the year\n",
    "\n",
    "driverid['driver_onboard_date'].dt.year.value_counts()"
   ]
  },
  {
   "cell_type": "code",
   "execution_count": 11,
   "metadata": {},
   "outputs": [
    {
     "data": {
      "text/plain": [
       "4    591\n",
       "5    239\n",
       "3    107\n",
       "Name: driver_onboard_date, dtype: int64"
      ]
     },
     "execution_count": 11,
     "metadata": {},
     "output_type": "execute_result"
    }
   ],
   "source": [
    "#check the month for seasonality\n",
    "\n",
    "driverid['driver_onboard_date'].dt.month.value_counts()"
   ]
  },
  {
   "cell_type": "markdown",
   "metadata": {},
   "source": [
    "Only 3 months for analysis according to data, 3 months will be the basis for lifetime analysis"
   ]
  },
  {
   "cell_type": "code",
   "execution_count": 12,
   "metadata": {},
   "outputs": [
    {
     "data": {
      "text/plain": [
       "29    57\n",
       "5     56\n",
       "4     50\n",
       "6     50\n",
       "12    45\n",
       "30    44\n",
       "13    42\n",
       "11    41\n",
       "28    38\n",
       "7     36\n",
       "14    36\n",
       "9     34\n",
       "8     32\n",
       "31    30\n",
       "15    29\n",
       "1     27\n",
       "10    25\n",
       "21    24\n",
       "26    23\n",
       "20    22\n",
       "2     22\n",
       "19    21\n",
       "22    21\n",
       "23    20\n",
       "3     18\n",
       "17    17\n",
       "25    17\n",
       "18    16\n",
       "27    16\n",
       "16    15\n",
       "24    13\n",
       "Name: driver_onboard_date, dtype: int64"
      ]
     },
     "execution_count": 12,
     "metadata": {},
     "output_type": "execute_result"
    }
   ],
   "source": [
    "#check if there will be a possible day influence, for instance end of the month with more onboardings\n",
    "\n",
    "driverid['driver_onboard_date'].dt.day.value_counts()"
   ]
  },
  {
   "cell_type": "markdown",
   "metadata": {},
   "source": [
    "# 1.2. Rider id"
   ]
  },
  {
   "cell_type": "code",
   "execution_count": 13,
   "metadata": {},
   "outputs": [],
   "source": [
    "#importing driver id file\n",
    "\n",
    "riderid=pd.read_csv(\"data/ride_ids.csv\")"
   ]
  },
  {
   "cell_type": "code",
   "execution_count": 14,
   "metadata": {},
   "outputs": [
    {
     "data": {
      "text/html": [
       "<div>\n",
       "<style scoped>\n",
       "    .dataframe tbody tr th:only-of-type {\n",
       "        vertical-align: middle;\n",
       "    }\n",
       "\n",
       "    .dataframe tbody tr th {\n",
       "        vertical-align: top;\n",
       "    }\n",
       "\n",
       "    .dataframe thead th {\n",
       "        text-align: right;\n",
       "    }\n",
       "</style>\n",
       "<table border=\"1\" class=\"dataframe\">\n",
       "  <thead>\n",
       "    <tr style=\"text-align: right;\">\n",
       "      <th></th>\n",
       "      <th>driver_id</th>\n",
       "      <th>ride_id</th>\n",
       "      <th>ride_distance</th>\n",
       "      <th>ride_duration</th>\n",
       "      <th>ride_prime_time</th>\n",
       "    </tr>\n",
       "  </thead>\n",
       "  <tbody>\n",
       "    <tr>\n",
       "      <th>0</th>\n",
       "      <td>002be0ffdc997bd5c50703158b7c2491</td>\n",
       "      <td>006d61cf7446e682f7bc50b0f8a5bea5</td>\n",
       "      <td>1811</td>\n",
       "      <td>327</td>\n",
       "      <td>50</td>\n",
       "    </tr>\n",
       "    <tr>\n",
       "      <th>1</th>\n",
       "      <td>002be0ffdc997bd5c50703158b7c2491</td>\n",
       "      <td>01b522c5c3a756fbdb12e95e87507eda</td>\n",
       "      <td>3362</td>\n",
       "      <td>809</td>\n",
       "      <td>0</td>\n",
       "    </tr>\n",
       "    <tr>\n",
       "      <th>2</th>\n",
       "      <td>002be0ffdc997bd5c50703158b7c2491</td>\n",
       "      <td>029227c4c2971ce69ff2274dc798ef43</td>\n",
       "      <td>3282</td>\n",
       "      <td>572</td>\n",
       "      <td>0</td>\n",
       "    </tr>\n",
       "    <tr>\n",
       "      <th>3</th>\n",
       "      <td>002be0ffdc997bd5c50703158b7c2491</td>\n",
       "      <td>034e861343a63ac3c18a9ceb1ce0ac69</td>\n",
       "      <td>65283</td>\n",
       "      <td>3338</td>\n",
       "      <td>25</td>\n",
       "    </tr>\n",
       "    <tr>\n",
       "      <th>4</th>\n",
       "      <td>002be0ffdc997bd5c50703158b7c2491</td>\n",
       "      <td>034f2e614a2f9fc7f1c2f77647d1b981</td>\n",
       "      <td>4115</td>\n",
       "      <td>823</td>\n",
       "      <td>100</td>\n",
       "    </tr>\n",
       "  </tbody>\n",
       "</table>\n",
       "</div>"
      ],
      "text/plain": [
       "                          driver_id                           ride_id  \\\n",
       "0  002be0ffdc997bd5c50703158b7c2491  006d61cf7446e682f7bc50b0f8a5bea5   \n",
       "1  002be0ffdc997bd5c50703158b7c2491  01b522c5c3a756fbdb12e95e87507eda   \n",
       "2  002be0ffdc997bd5c50703158b7c2491  029227c4c2971ce69ff2274dc798ef43   \n",
       "3  002be0ffdc997bd5c50703158b7c2491  034e861343a63ac3c18a9ceb1ce0ac69   \n",
       "4  002be0ffdc997bd5c50703158b7c2491  034f2e614a2f9fc7f1c2f77647d1b981   \n",
       "\n",
       "   ride_distance  ride_duration  ride_prime_time  \n",
       "0           1811            327               50  \n",
       "1           3362            809                0  \n",
       "2           3282            572                0  \n",
       "3          65283           3338               25  \n",
       "4           4115            823              100  "
      ]
     },
     "execution_count": 14,
     "metadata": {},
     "output_type": "execute_result"
    }
   ],
   "source": [
    "#check file\n",
    "\n",
    "riderid.head()"
   ]
  },
  {
   "cell_type": "code",
   "execution_count": 15,
   "metadata": {},
   "outputs": [
    {
     "data": {
      "text/plain": [
       "driver_id          object\n",
       "ride_id            object\n",
       "ride_distance       int64\n",
       "ride_duration       int64\n",
       "ride_prime_time     int64\n",
       "dtype: object"
      ]
     },
     "execution_count": 15,
     "metadata": {},
     "output_type": "execute_result"
    }
   ],
   "source": [
    "#check the types\n",
    "\n",
    "riderid.dtypes"
   ]
  },
  {
   "cell_type": "code",
   "execution_count": 16,
   "metadata": {},
   "outputs": [],
   "source": [
    "#confirm if there anre missing values\n",
    "\n",
    "def ridenulls(column):\n",
    "    return riderid.loc[riderid[column].isnull()]\n",
    "    "
   ]
  },
  {
   "cell_type": "code",
   "execution_count": 17,
   "metadata": {
    "scrolled": true
   },
   "outputs": [
    {
     "data": {
      "text/html": [
       "<div>\n",
       "<style scoped>\n",
       "    .dataframe tbody tr th:only-of-type {\n",
       "        vertical-align: middle;\n",
       "    }\n",
       "\n",
       "    .dataframe tbody tr th {\n",
       "        vertical-align: top;\n",
       "    }\n",
       "\n",
       "    .dataframe thead th {\n",
       "        text-align: right;\n",
       "    }\n",
       "</style>\n",
       "<table border=\"1\" class=\"dataframe\">\n",
       "  <thead>\n",
       "    <tr style=\"text-align: right;\">\n",
       "      <th></th>\n",
       "      <th>driver_id</th>\n",
       "      <th>ride_id</th>\n",
       "      <th>ride_distance</th>\n",
       "      <th>ride_duration</th>\n",
       "      <th>ride_prime_time</th>\n",
       "    </tr>\n",
       "  </thead>\n",
       "  <tbody>\n",
       "  </tbody>\n",
       "</table>\n",
       "</div>"
      ],
      "text/plain": [
       "Empty DataFrame\n",
       "Columns: [driver_id, ride_id, ride_distance, ride_duration, ride_prime_time]\n",
       "Index: []"
      ]
     },
     "execution_count": 17,
     "metadata": {},
     "output_type": "execute_result"
    }
   ],
   "source": [
    "#call function\n",
    "\n",
    "ridenulls('ride_prime_time')"
   ]
  },
  {
   "cell_type": "markdown",
   "metadata": {},
   "source": [
    "The dataframe seems complete"
   ]
  },
  {
   "cell_type": "markdown",
   "metadata": {},
   "source": [
    "Distance is in meters and duration in seconds. Both need conversion since the rate card will be in minutes and miles\n",
    "1 minute = 60 seconds\n",
    "1 mile = 1609.344 meters"
   ]
  },
  {
   "cell_type": "code",
   "execution_count": 18,
   "metadata": {},
   "outputs": [],
   "source": [
    "#inser column with the duration in minutes\n",
    "\n",
    "riderid[\"ride_duration_min\"]=riderid[\"ride_duration\"]/60"
   ]
  },
  {
   "cell_type": "code",
   "execution_count": 19,
   "metadata": {},
   "outputs": [],
   "source": [
    "# insert column with the distance in miles\n",
    "\n",
    "riderid[\"ride_distance_miles\"]=riderid[\"ride_distance\"]/1609.344"
   ]
  },
  {
   "cell_type": "code",
   "execution_count": 20,
   "metadata": {},
   "outputs": [],
   "source": [
    "#inser columns with the duration in minutes\n",
    "\n",
    "riderid[\"ride_primetime_min\"]=riderid[\"ride_prime_time\"]/60"
   ]
  },
  {
   "cell_type": "code",
   "execution_count": 21,
   "metadata": {
    "scrolled": true
   },
   "outputs": [
    {
     "data": {
      "text/html": [
       "<div>\n",
       "<style scoped>\n",
       "    .dataframe tbody tr th:only-of-type {\n",
       "        vertical-align: middle;\n",
       "    }\n",
       "\n",
       "    .dataframe tbody tr th {\n",
       "        vertical-align: top;\n",
       "    }\n",
       "\n",
       "    .dataframe thead th {\n",
       "        text-align: right;\n",
       "    }\n",
       "</style>\n",
       "<table border=\"1\" class=\"dataframe\">\n",
       "  <thead>\n",
       "    <tr style=\"text-align: right;\">\n",
       "      <th></th>\n",
       "      <th>driver_id</th>\n",
       "      <th>ride_id</th>\n",
       "      <th>ride_distance</th>\n",
       "      <th>ride_duration</th>\n",
       "      <th>ride_prime_time</th>\n",
       "      <th>ride_duration_min</th>\n",
       "      <th>ride_distance_miles</th>\n",
       "      <th>ride_primetime_min</th>\n",
       "    </tr>\n",
       "  </thead>\n",
       "  <tbody>\n",
       "    <tr>\n",
       "      <th>0</th>\n",
       "      <td>002be0ffdc997bd5c50703158b7c2491</td>\n",
       "      <td>006d61cf7446e682f7bc50b0f8a5bea5</td>\n",
       "      <td>1811</td>\n",
       "      <td>327</td>\n",
       "      <td>50</td>\n",
       "      <td>5.450000</td>\n",
       "      <td>1.125303</td>\n",
       "      <td>0.833333</td>\n",
       "    </tr>\n",
       "    <tr>\n",
       "      <th>1</th>\n",
       "      <td>002be0ffdc997bd5c50703158b7c2491</td>\n",
       "      <td>01b522c5c3a756fbdb12e95e87507eda</td>\n",
       "      <td>3362</td>\n",
       "      <td>809</td>\n",
       "      <td>0</td>\n",
       "      <td>13.483333</td>\n",
       "      <td>2.089050</td>\n",
       "      <td>0.000000</td>\n",
       "    </tr>\n",
       "    <tr>\n",
       "      <th>2</th>\n",
       "      <td>002be0ffdc997bd5c50703158b7c2491</td>\n",
       "      <td>029227c4c2971ce69ff2274dc798ef43</td>\n",
       "      <td>3282</td>\n",
       "      <td>572</td>\n",
       "      <td>0</td>\n",
       "      <td>9.533333</td>\n",
       "      <td>2.039340</td>\n",
       "      <td>0.000000</td>\n",
       "    </tr>\n",
       "    <tr>\n",
       "      <th>3</th>\n",
       "      <td>002be0ffdc997bd5c50703158b7c2491</td>\n",
       "      <td>034e861343a63ac3c18a9ceb1ce0ac69</td>\n",
       "      <td>65283</td>\n",
       "      <td>3338</td>\n",
       "      <td>25</td>\n",
       "      <td>55.633333</td>\n",
       "      <td>40.564976</td>\n",
       "      <td>0.416667</td>\n",
       "    </tr>\n",
       "    <tr>\n",
       "      <th>4</th>\n",
       "      <td>002be0ffdc997bd5c50703158b7c2491</td>\n",
       "      <td>034f2e614a2f9fc7f1c2f77647d1b981</td>\n",
       "      <td>4115</td>\n",
       "      <td>823</td>\n",
       "      <td>100</td>\n",
       "      <td>13.716667</td>\n",
       "      <td>2.556942</td>\n",
       "      <td>1.666667</td>\n",
       "    </tr>\n",
       "  </tbody>\n",
       "</table>\n",
       "</div>"
      ],
      "text/plain": [
       "                          driver_id                           ride_id  \\\n",
       "0  002be0ffdc997bd5c50703158b7c2491  006d61cf7446e682f7bc50b0f8a5bea5   \n",
       "1  002be0ffdc997bd5c50703158b7c2491  01b522c5c3a756fbdb12e95e87507eda   \n",
       "2  002be0ffdc997bd5c50703158b7c2491  029227c4c2971ce69ff2274dc798ef43   \n",
       "3  002be0ffdc997bd5c50703158b7c2491  034e861343a63ac3c18a9ceb1ce0ac69   \n",
       "4  002be0ffdc997bd5c50703158b7c2491  034f2e614a2f9fc7f1c2f77647d1b981   \n",
       "\n",
       "   ride_distance  ride_duration  ride_prime_time  ride_duration_min  \\\n",
       "0           1811            327               50           5.450000   \n",
       "1           3362            809                0          13.483333   \n",
       "2           3282            572                0           9.533333   \n",
       "3          65283           3338               25          55.633333   \n",
       "4           4115            823              100          13.716667   \n",
       "\n",
       "   ride_distance_miles  ride_primetime_min  \n",
       "0             1.125303            0.833333  \n",
       "1             2.089050            0.000000  \n",
       "2             2.039340            0.000000  \n",
       "3            40.564976            0.416667  \n",
       "4             2.556942            1.666667  "
      ]
     },
     "execution_count": 21,
     "metadata": {},
     "output_type": "execute_result"
    }
   ],
   "source": [
    "#confirm both are correct\n",
    "\n",
    "riderid.head()"
   ]
  },
  {
   "cell_type": "code",
   "execution_count": 22,
   "metadata": {},
   "outputs": [
    {
     "data": {
      "text/html": [
       "<div>\n",
       "<style scoped>\n",
       "    .dataframe tbody tr th:only-of-type {\n",
       "        vertical-align: middle;\n",
       "    }\n",
       "\n",
       "    .dataframe tbody tr th {\n",
       "        vertical-align: top;\n",
       "    }\n",
       "\n",
       "    .dataframe thead th {\n",
       "        text-align: right;\n",
       "    }\n",
       "</style>\n",
       "<table border=\"1\" class=\"dataframe\">\n",
       "  <thead>\n",
       "    <tr style=\"text-align: right;\">\n",
       "      <th></th>\n",
       "      <th>driver_id</th>\n",
       "      <th>ride_id</th>\n",
       "      <th>ride_distance</th>\n",
       "      <th>ride_duration</th>\n",
       "      <th>ride_prime_time</th>\n",
       "      <th>ride_duration_min</th>\n",
       "      <th>ride_distance_miles</th>\n",
       "      <th>ride_primetime_min</th>\n",
       "    </tr>\n",
       "  </thead>\n",
       "  <tbody>\n",
       "    <tr>\n",
       "      <th>167241</th>\n",
       "      <td>d967f5296732fa55266b5f1314e7447b</td>\n",
       "      <td>00003037a262d9ee40e61b5c0718f7f0</td>\n",
       "      <td>3698</td>\n",
       "      <td>1112</td>\n",
       "      <td>0</td>\n",
       "      <td>18.533333</td>\n",
       "      <td>2.297831</td>\n",
       "      <td>0.0</td>\n",
       "    </tr>\n",
       "  </tbody>\n",
       "</table>\n",
       "</div>"
      ],
      "text/plain": [
       "                               driver_id                           ride_id  \\\n",
       "167241  d967f5296732fa55266b5f1314e7447b  00003037a262d9ee40e61b5c0718f7f0   \n",
       "\n",
       "        ride_distance  ride_duration  ride_prime_time  ride_duration_min  \\\n",
       "167241           3698           1112                0          18.533333   \n",
       "\n",
       "        ride_distance_miles  ride_primetime_min  \n",
       "167241             2.297831                 0.0  "
      ]
     },
     "execution_count": 22,
     "metadata": {},
     "output_type": "execute_result"
    }
   ],
   "source": [
    "#testing a result as reference\n",
    "\n",
    "test=riderid.loc[riderid['ride_id']==\"00003037a262d9ee40e61b5c0718f7f0\"]\n",
    "test"
   ]
  },
  {
   "cell_type": "markdown",
   "metadata": {},
   "source": [
    "The duration is the time difference between picked_up_at and dropped_off_at from another table"
   ]
  },
  {
   "cell_type": "markdown",
   "metadata": {},
   "source": [
    "## 1.2.1. Adding rates"
   ]
  },
  {
   "cell_type": "markdown",
   "metadata": {},
   "source": [
    "- **Base Fare** \\$2.00\n",
    "- **Cost per Mile** \\$1.15\n",
    "- **Cost per Minute** \\$0.22\n",
    "- **Service Fee** \\$1.75\n",
    "- **Minimum Fare** \\$5.00\n",
    "- **Maximum Fare** \\$400.00"
   ]
  },
  {
   "cell_type": "code",
   "execution_count": 23,
   "metadata": {},
   "outputs": [],
   "source": [
    "#add base fare\n",
    "\n",
    "riderid[\"base_fare$\"]=2"
   ]
  },
  {
   "cell_type": "code",
   "execution_count": 24,
   "metadata": {},
   "outputs": [],
   "source": [
    "#add cost per mile\n",
    "\n",
    "riderid[\"distance_ride_revenue$\"]=riderid[\"ride_distance_miles\"]*1.15"
   ]
  },
  {
   "cell_type": "code",
   "execution_count": 25,
   "metadata": {},
   "outputs": [],
   "source": [
    "#add cost per minute\n",
    "\n",
    "riderid[\"duration_ride_revenue$\"]=riderid[\"ride_duration_min\"]*0.22"
   ]
  },
  {
   "cell_type": "code",
   "execution_count": 26,
   "metadata": {},
   "outputs": [],
   "source": [
    "#add service fee\n",
    "\n",
    "riderid[\"service_fee$\"]=1.75"
   ]
  },
  {
   "cell_type": "code",
   "execution_count": 27,
   "metadata": {},
   "outputs": [],
   "source": [
    "# sum the ride value before the service fee, so base fare plus duration revenue plus distance revenue\n",
    "\n",
    "riderid[\"driver_revenue_before_commission$\"]=riderid[\"base_fare$\"]+riderid[\"distance_ride_revenue$\"]+riderid[\"duration_ride_revenue$\"]"
   ]
  },
  {
   "cell_type": "code",
   "execution_count": 28,
   "metadata": {
    "scrolled": false
   },
   "outputs": [
    {
     "data": {
      "text/html": [
       "<div>\n",
       "<style scoped>\n",
       "    .dataframe tbody tr th:only-of-type {\n",
       "        vertical-align: middle;\n",
       "    }\n",
       "\n",
       "    .dataframe tbody tr th {\n",
       "        vertical-align: top;\n",
       "    }\n",
       "\n",
       "    .dataframe thead th {\n",
       "        text-align: right;\n",
       "    }\n",
       "</style>\n",
       "<table border=\"1\" class=\"dataframe\">\n",
       "  <thead>\n",
       "    <tr style=\"text-align: right;\">\n",
       "      <th></th>\n",
       "      <th>driver_id</th>\n",
       "      <th>ride_id</th>\n",
       "      <th>ride_distance</th>\n",
       "      <th>ride_duration</th>\n",
       "      <th>ride_prime_time</th>\n",
       "      <th>ride_duration_min</th>\n",
       "      <th>ride_distance_miles</th>\n",
       "      <th>ride_primetime_min</th>\n",
       "      <th>base_fare$</th>\n",
       "      <th>distance_ride_revenue$</th>\n",
       "      <th>duration_ride_revenue$</th>\n",
       "      <th>service_fee$</th>\n",
       "      <th>driver_revenue_before_commission$</th>\n",
       "    </tr>\n",
       "  </thead>\n",
       "  <tbody>\n",
       "    <tr>\n",
       "      <th>0</th>\n",
       "      <td>002be0ffdc997bd5c50703158b7c2491</td>\n",
       "      <td>006d61cf7446e682f7bc50b0f8a5bea5</td>\n",
       "      <td>1811</td>\n",
       "      <td>327</td>\n",
       "      <td>50</td>\n",
       "      <td>5.450000</td>\n",
       "      <td>1.125303</td>\n",
       "      <td>0.833333</td>\n",
       "      <td>2</td>\n",
       "      <td>1.294099</td>\n",
       "      <td>1.199000</td>\n",
       "      <td>1.75</td>\n",
       "      <td>4.493099</td>\n",
       "    </tr>\n",
       "    <tr>\n",
       "      <th>1</th>\n",
       "      <td>002be0ffdc997bd5c50703158b7c2491</td>\n",
       "      <td>01b522c5c3a756fbdb12e95e87507eda</td>\n",
       "      <td>3362</td>\n",
       "      <td>809</td>\n",
       "      <td>0</td>\n",
       "      <td>13.483333</td>\n",
       "      <td>2.089050</td>\n",
       "      <td>0.000000</td>\n",
       "      <td>2</td>\n",
       "      <td>2.402407</td>\n",
       "      <td>2.966333</td>\n",
       "      <td>1.75</td>\n",
       "      <td>7.368741</td>\n",
       "    </tr>\n",
       "    <tr>\n",
       "      <th>2</th>\n",
       "      <td>002be0ffdc997bd5c50703158b7c2491</td>\n",
       "      <td>029227c4c2971ce69ff2274dc798ef43</td>\n",
       "      <td>3282</td>\n",
       "      <td>572</td>\n",
       "      <td>0</td>\n",
       "      <td>9.533333</td>\n",
       "      <td>2.039340</td>\n",
       "      <td>0.000000</td>\n",
       "      <td>2</td>\n",
       "      <td>2.345241</td>\n",
       "      <td>2.097333</td>\n",
       "      <td>1.75</td>\n",
       "      <td>6.442575</td>\n",
       "    </tr>\n",
       "    <tr>\n",
       "      <th>3</th>\n",
       "      <td>002be0ffdc997bd5c50703158b7c2491</td>\n",
       "      <td>034e861343a63ac3c18a9ceb1ce0ac69</td>\n",
       "      <td>65283</td>\n",
       "      <td>3338</td>\n",
       "      <td>25</td>\n",
       "      <td>55.633333</td>\n",
       "      <td>40.564976</td>\n",
       "      <td>0.416667</td>\n",
       "      <td>2</td>\n",
       "      <td>46.649722</td>\n",
       "      <td>12.239333</td>\n",
       "      <td>1.75</td>\n",
       "      <td>60.889055</td>\n",
       "    </tr>\n",
       "    <tr>\n",
       "      <th>4</th>\n",
       "      <td>002be0ffdc997bd5c50703158b7c2491</td>\n",
       "      <td>034f2e614a2f9fc7f1c2f77647d1b981</td>\n",
       "      <td>4115</td>\n",
       "      <td>823</td>\n",
       "      <td>100</td>\n",
       "      <td>13.716667</td>\n",
       "      <td>2.556942</td>\n",
       "      <td>1.666667</td>\n",
       "      <td>2</td>\n",
       "      <td>2.940484</td>\n",
       "      <td>3.017667</td>\n",
       "      <td>1.75</td>\n",
       "      <td>7.958150</td>\n",
       "    </tr>\n",
       "  </tbody>\n",
       "</table>\n",
       "</div>"
      ],
      "text/plain": [
       "                          driver_id                           ride_id  \\\n",
       "0  002be0ffdc997bd5c50703158b7c2491  006d61cf7446e682f7bc50b0f8a5bea5   \n",
       "1  002be0ffdc997bd5c50703158b7c2491  01b522c5c3a756fbdb12e95e87507eda   \n",
       "2  002be0ffdc997bd5c50703158b7c2491  029227c4c2971ce69ff2274dc798ef43   \n",
       "3  002be0ffdc997bd5c50703158b7c2491  034e861343a63ac3c18a9ceb1ce0ac69   \n",
       "4  002be0ffdc997bd5c50703158b7c2491  034f2e614a2f9fc7f1c2f77647d1b981   \n",
       "\n",
       "   ride_distance  ride_duration  ride_prime_time  ride_duration_min  \\\n",
       "0           1811            327               50           5.450000   \n",
       "1           3362            809                0          13.483333   \n",
       "2           3282            572                0           9.533333   \n",
       "3          65283           3338               25          55.633333   \n",
       "4           4115            823              100          13.716667   \n",
       "\n",
       "   ride_distance_miles  ride_primetime_min  base_fare$  \\\n",
       "0             1.125303            0.833333           2   \n",
       "1             2.089050            0.000000           2   \n",
       "2             2.039340            0.000000           2   \n",
       "3            40.564976            0.416667           2   \n",
       "4             2.556942            1.666667           2   \n",
       "\n",
       "   distance_ride_revenue$  duration_ride_revenue$  service_fee$  \\\n",
       "0                1.294099                1.199000          1.75   \n",
       "1                2.402407                2.966333          1.75   \n",
       "2                2.345241                2.097333          1.75   \n",
       "3               46.649722               12.239333          1.75   \n",
       "4                2.940484                3.017667          1.75   \n",
       "\n",
       "   driver_revenue_before_commission$  \n",
       "0                           4.493099  \n",
       "1                           7.368741  \n",
       "2                           6.442575  \n",
       "3                          60.889055  \n",
       "4                           7.958150  "
      ]
     },
     "execution_count": 28,
     "metadata": {},
     "output_type": "execute_result"
    }
   ],
   "source": [
    "#confirm\n",
    "\n",
    "riderid.head()"
   ]
  },
  {
   "cell_type": "markdown",
   "metadata": {},
   "source": [
    "# 1.3. Rider Time stamps"
   ]
  },
  {
   "cell_type": "code",
   "execution_count": 29,
   "metadata": {},
   "outputs": [],
   "source": [
    "#importing driver id file\n",
    "\n",
    "ridertime=pd.read_csv(\"data/ride_timestamps.csv\")"
   ]
  },
  {
   "cell_type": "code",
   "execution_count": 30,
   "metadata": {},
   "outputs": [
    {
     "data": {
      "text/html": [
       "<div>\n",
       "<style scoped>\n",
       "    .dataframe tbody tr th:only-of-type {\n",
       "        vertical-align: middle;\n",
       "    }\n",
       "\n",
       "    .dataframe tbody tr th {\n",
       "        vertical-align: top;\n",
       "    }\n",
       "\n",
       "    .dataframe thead th {\n",
       "        text-align: right;\n",
       "    }\n",
       "</style>\n",
       "<table border=\"1\" class=\"dataframe\">\n",
       "  <thead>\n",
       "    <tr style=\"text-align: right;\">\n",
       "      <th></th>\n",
       "      <th>ride_id</th>\n",
       "      <th>event</th>\n",
       "      <th>timestamp</th>\n",
       "    </tr>\n",
       "  </thead>\n",
       "  <tbody>\n",
       "    <tr>\n",
       "      <th>0</th>\n",
       "      <td>00003037a262d9ee40e61b5c0718f7f0</td>\n",
       "      <td>requested_at</td>\n",
       "      <td>2016-06-13 09:39:19</td>\n",
       "    </tr>\n",
       "    <tr>\n",
       "      <th>1</th>\n",
       "      <td>00003037a262d9ee40e61b5c0718f7f0</td>\n",
       "      <td>accepted_at</td>\n",
       "      <td>2016-06-13 09:39:51</td>\n",
       "    </tr>\n",
       "    <tr>\n",
       "      <th>2</th>\n",
       "      <td>00003037a262d9ee40e61b5c0718f7f0</td>\n",
       "      <td>arrived_at</td>\n",
       "      <td>2016-06-13 09:44:31</td>\n",
       "    </tr>\n",
       "    <tr>\n",
       "      <th>3</th>\n",
       "      <td>00003037a262d9ee40e61b5c0718f7f0</td>\n",
       "      <td>picked_up_at</td>\n",
       "      <td>2016-06-13 09:44:33</td>\n",
       "    </tr>\n",
       "    <tr>\n",
       "      <th>4</th>\n",
       "      <td>00003037a262d9ee40e61b5c0718f7f0</td>\n",
       "      <td>dropped_off_at</td>\n",
       "      <td>2016-06-13 10:03:05</td>\n",
       "    </tr>\n",
       "  </tbody>\n",
       "</table>\n",
       "</div>"
      ],
      "text/plain": [
       "                            ride_id           event            timestamp\n",
       "0  00003037a262d9ee40e61b5c0718f7f0    requested_at  2016-06-13 09:39:19\n",
       "1  00003037a262d9ee40e61b5c0718f7f0     accepted_at  2016-06-13 09:39:51\n",
       "2  00003037a262d9ee40e61b5c0718f7f0      arrived_at  2016-06-13 09:44:31\n",
       "3  00003037a262d9ee40e61b5c0718f7f0    picked_up_at  2016-06-13 09:44:33\n",
       "4  00003037a262d9ee40e61b5c0718f7f0  dropped_off_at  2016-06-13 10:03:05"
      ]
     },
     "execution_count": 30,
     "metadata": {},
     "output_type": "execute_result"
    }
   ],
   "source": [
    "#check file\n",
    "\n",
    "ridertime.head()"
   ]
  },
  {
   "cell_type": "code",
   "execution_count": 31,
   "metadata": {
    "scrolled": false
   },
   "outputs": [
    {
     "data": {
      "text/plain": [
       "ride_id      object\n",
       "event        object\n",
       "timestamp    object\n",
       "dtype: object"
      ]
     },
     "execution_count": 31,
     "metadata": {},
     "output_type": "execute_result"
    }
   ],
   "source": [
    "# check types\n",
    "\n",
    "ridertime.dtypes"
   ]
  },
  {
   "cell_type": "code",
   "execution_count": 32,
   "metadata": {},
   "outputs": [],
   "source": [
    "#change timestamp to correct type\n",
    "\n",
    "ridertime['timestamp']=pd.to_datetime(ridertime['timestamp'],errors='coerce')"
   ]
  },
  {
   "cell_type": "code",
   "execution_count": 33,
   "metadata": {},
   "outputs": [
    {
     "data": {
      "text/plain": [
       "ride_id              object\n",
       "event                object\n",
       "timestamp    datetime64[ns]\n",
       "dtype: object"
      ]
     },
     "execution_count": 33,
     "metadata": {},
     "output_type": "execute_result"
    }
   ],
   "source": [
    "# check types\n",
    "\n",
    "ridertime.dtypes"
   ]
  },
  {
   "cell_type": "code",
   "execution_count": 34,
   "metadata": {},
   "outputs": [],
   "source": [
    "#add month\n",
    "\n",
    "ridertime[\"month\"]=ridertime[\"timestamp\"].dt.month"
   ]
  },
  {
   "cell_type": "code",
   "execution_count": 35,
   "metadata": {},
   "outputs": [
    {
     "data": {
      "text/plain": [
       "5.0    418294\n",
       "6.0    346486\n",
       "4.0    199384\n",
       "3.0      6240\n",
       "Name: month, dtype: int64"
      ]
     },
     "execution_count": 35,
     "metadata": {},
     "output_type": "execute_result"
    }
   ],
   "source": [
    "# check variation\n",
    "\n",
    "ridertime[\"month\"].value_counts()"
   ]
  },
  {
   "cell_type": "code",
   "execution_count": 36,
   "metadata": {},
   "outputs": [],
   "source": [
    "#add day\n",
    "\n",
    "ridertime[\"day\"]=ridertime[\"timestamp\"].dt.day"
   ]
  },
  {
   "cell_type": "code",
   "execution_count": 37,
   "metadata": {
    "scrolled": true
   },
   "outputs": [
    {
     "data": {
      "text/plain": [
       "21.0    37040\n",
       "25.0    36783\n",
       "15.0    36674\n",
       "14.0    36555\n",
       "20.0    36346\n",
       "26.0    36057\n",
       "16.0    35572\n",
       "24.0    35458\n",
       "17.0    35308\n",
       "22.0    35098\n",
       "13.0    34828\n",
       "23.0    34293\n",
       "11.0    33543\n",
       "19.0    32878\n",
       "10.0    32777\n",
       "18.0    32595\n",
       "12.0    32518\n",
       "7.0     31627\n",
       "9.0     30766\n",
       "6.0     30721\n",
       "4.0     29479\n",
       "5.0     28832\n",
       "8.0     28702\n",
       "3.0     28685\n",
       "28.0    26637\n",
       "27.0    26557\n",
       "2.0     25821\n",
       "29.0    25775\n",
       "1.0     24408\n",
       "30.0    24026\n",
       "31.0    14045\n",
       "Name: day, dtype: int64"
      ]
     },
     "execution_count": 37,
     "metadata": {},
     "output_type": "execute_result"
    }
   ],
   "source": [
    "# check variation\n",
    "\n",
    "ridertime[\"day\"].value_counts()"
   ]
  },
  {
   "cell_type": "code",
   "execution_count": 38,
   "metadata": {},
   "outputs": [],
   "source": [
    "# add weekday\n",
    "\n",
    "ridertime[\"weekday\"]=ridertime[\"timestamp\"].dt.weekday"
   ]
  },
  {
   "cell_type": "markdown",
   "metadata": {},
   "source": [
    "Monday=0, Sunday=6"
   ]
  },
  {
   "cell_type": "code",
   "execution_count": 39,
   "metadata": {},
   "outputs": [
    {
     "data": {
      "text/plain": [
       "4.0    170113\n",
       "5.0    160010\n",
       "3.0    149367\n",
       "2.0    137032\n",
       "1.0    125905\n",
       "6.0    120157\n",
       "0.0    107820\n",
       "Name: weekday, dtype: int64"
      ]
     },
     "execution_count": 39,
     "metadata": {},
     "output_type": "execute_result"
    }
   ],
   "source": [
    "# check variation\n",
    "\n",
    "ridertime[\"weekday\"].value_counts()"
   ]
  },
  {
   "cell_type": "markdown",
   "metadata": {},
   "source": [
    "It seems weekdays more popular are 4 and 5, Friday and Saturday. Further analysis will be performed next"
   ]
  },
  {
   "cell_type": "code",
   "execution_count": 40,
   "metadata": {},
   "outputs": [],
   "source": [
    "# add hour\n",
    "\n",
    "ridertime[\"hour\"]=ridertime[\"timestamp\"].dt.hour"
   ]
  },
  {
   "cell_type": "code",
   "execution_count": 41,
   "metadata": {
    "scrolled": true
   },
   "outputs": [
    {
     "data": {
      "text/plain": [
       "19.0    70891\n",
       "18.0    68947\n",
       "20.0    64591\n",
       "21.0    64444\n",
       "22.0    60147\n",
       "17.0    57222\n",
       "23.0    48933\n",
       "9.0     48835\n",
       "16.0    48074\n",
       "8.0     44248\n",
       "10.0    43713\n",
       "15.0    43087\n",
       "11.0    41531\n",
       "12.0    41165\n",
       "14.0    40080\n",
       "13.0    39577\n",
       "0.0     34220\n",
       "7.0     32742\n",
       "1.0     24602\n",
       "6.0     16653\n",
       "2.0     15173\n",
       "5.0      8174\n",
       "3.0      7371\n",
       "4.0      5984\n",
       "Name: hour, dtype: int64"
      ]
     },
     "execution_count": 41,
     "metadata": {},
     "output_type": "execute_result"
    }
   ],
   "source": [
    "# check variation\n",
    "\n",
    "ridertime[\"hour\"].value_counts()"
   ]
  },
  {
   "cell_type": "markdown",
   "metadata": {},
   "source": [
    "Night time seems more popular. Further analysis will be performed next"
   ]
  },
  {
   "cell_type": "markdown",
   "metadata": {},
   "source": [
    "# 1.3.1: Checking time between events"
   ]
  },
  {
   "cell_type": "code",
   "execution_count": 42,
   "metadata": {},
   "outputs": [],
   "source": [
    "# create a copy\n",
    "\n",
    "timedif=ridertime.copy()"
   ]
  },
  {
   "cell_type": "markdown",
   "metadata": {},
   "source": [
    "The driver pay includes time spend waiting, starting one minute after arrival is confirmed according to Lyft's website.\n",
    "Therefore, the difference between the events arrived at and picked up at should be taken into consideration."
   ]
  },
  {
   "cell_type": "code",
   "execution_count": 43,
   "metadata": {},
   "outputs": [],
   "source": [
    "# create dataframe with the two events only\n",
    "\n",
    "waiting_time=timedif.groupby(['ride_id'], as_index=False).nth([2,3])"
   ]
  },
  {
   "cell_type": "code",
   "execution_count": 44,
   "metadata": {},
   "outputs": [
    {
     "data": {
      "text/html": [
       "<div>\n",
       "<style scoped>\n",
       "    .dataframe tbody tr th:only-of-type {\n",
       "        vertical-align: middle;\n",
       "    }\n",
       "\n",
       "    .dataframe tbody tr th {\n",
       "        vertical-align: top;\n",
       "    }\n",
       "\n",
       "    .dataframe thead th {\n",
       "        text-align: right;\n",
       "    }\n",
       "</style>\n",
       "<table border=\"1\" class=\"dataframe\">\n",
       "  <thead>\n",
       "    <tr style=\"text-align: right;\">\n",
       "      <th></th>\n",
       "      <th>ride_id</th>\n",
       "      <th>event</th>\n",
       "      <th>timestamp</th>\n",
       "      <th>month</th>\n",
       "      <th>day</th>\n",
       "      <th>weekday</th>\n",
       "      <th>hour</th>\n",
       "    </tr>\n",
       "  </thead>\n",
       "  <tbody>\n",
       "    <tr>\n",
       "      <th>2</th>\n",
       "      <td>00003037a262d9ee40e61b5c0718f7f0</td>\n",
       "      <td>arrived_at</td>\n",
       "      <td>2016-06-13 09:44:31</td>\n",
       "      <td>6.0</td>\n",
       "      <td>13.0</td>\n",
       "      <td>0.0</td>\n",
       "      <td>9.0</td>\n",
       "    </tr>\n",
       "    <tr>\n",
       "      <th>3</th>\n",
       "      <td>00003037a262d9ee40e61b5c0718f7f0</td>\n",
       "      <td>picked_up_at</td>\n",
       "      <td>2016-06-13 09:44:33</td>\n",
       "      <td>6.0</td>\n",
       "      <td>13.0</td>\n",
       "      <td>0.0</td>\n",
       "      <td>9.0</td>\n",
       "    </tr>\n",
       "    <tr>\n",
       "      <th>7</th>\n",
       "      <td>00005eae40882760d675da5effb89ae3</td>\n",
       "      <td>arrived_at</td>\n",
       "      <td>2016-05-14 05:26:17</td>\n",
       "      <td>5.0</td>\n",
       "      <td>14.0</td>\n",
       "      <td>5.0</td>\n",
       "      <td>5.0</td>\n",
       "    </tr>\n",
       "    <tr>\n",
       "      <th>8</th>\n",
       "      <td>00005eae40882760d675da5effb89ae3</td>\n",
       "      <td>picked_up_at</td>\n",
       "      <td>2016-05-14 05:26:18</td>\n",
       "      <td>5.0</td>\n",
       "      <td>14.0</td>\n",
       "      <td>5.0</td>\n",
       "      <td>5.0</td>\n",
       "    </tr>\n",
       "    <tr>\n",
       "      <th>12</th>\n",
       "      <td>000061d42cf29f73b591041d9a1b2973</td>\n",
       "      <td>arrived_at</td>\n",
       "      <td>2016-05-16 15:47:29</td>\n",
       "      <td>5.0</td>\n",
       "      <td>16.0</td>\n",
       "      <td>0.0</td>\n",
       "      <td>15.0</td>\n",
       "    </tr>\n",
       "  </tbody>\n",
       "</table>\n",
       "</div>"
      ],
      "text/plain": [
       "                             ride_id         event           timestamp  month  \\\n",
       "2   00003037a262d9ee40e61b5c0718f7f0    arrived_at 2016-06-13 09:44:31    6.0   \n",
       "3   00003037a262d9ee40e61b5c0718f7f0  picked_up_at 2016-06-13 09:44:33    6.0   \n",
       "7   00005eae40882760d675da5effb89ae3    arrived_at 2016-05-14 05:26:17    5.0   \n",
       "8   00005eae40882760d675da5effb89ae3  picked_up_at 2016-05-14 05:26:18    5.0   \n",
       "12  000061d42cf29f73b591041d9a1b2973    arrived_at 2016-05-16 15:47:29    5.0   \n",
       "\n",
       "     day  weekday  hour  \n",
       "2   13.0      0.0   9.0  \n",
       "3   13.0      0.0   9.0  \n",
       "7   14.0      5.0   5.0  \n",
       "8   14.0      5.0   5.0  \n",
       "12  16.0      0.0  15.0  "
      ]
     },
     "execution_count": 44,
     "metadata": {},
     "output_type": "execute_result"
    }
   ],
   "source": [
    "# confirm dataframe\n",
    "\n",
    "waiting_time.head()"
   ]
  },
  {
   "cell_type": "code",
   "execution_count": null,
   "metadata": {},
   "outputs": [],
   "source": [
    "#check time difference between requested and dropped of\n",
    "\n",
    "waiting_time2=waiting_time.groupby(['ride_id'], as_index=False).timestamp.diff()"
   ]
  },
  {
   "cell_type": "code",
   "execution_count": null,
   "metadata": {},
   "outputs": [],
   "source": [
    "# introduce the ride id again\n",
    "\n",
    "waiting_time2['rideid']=waiting_time['ride_id']"
   ]
  },
  {
   "cell_type": "code",
   "execution_count": null,
   "metadata": {},
   "outputs": [],
   "source": [
    "#confirm\n",
    "\n",
    "waiting_time2.head()"
   ]
  },
  {
   "cell_type": "code",
   "execution_count": null,
   "metadata": {},
   "outputs": [],
   "source": [
    "#drop nulls\n",
    "\n",
    "waiting_time2=waiting_time2.dropna() "
   ]
  },
  {
   "cell_type": "code",
   "execution_count": null,
   "metadata": {},
   "outputs": [],
   "source": [
    "#confirm\n",
    "\n",
    "waiting_time2"
   ]
  },
  {
   "cell_type": "code",
   "execution_count": null,
   "metadata": {
    "scrolled": true
   },
   "outputs": [],
   "source": [
    "# convert the timestamp difference to minutes\n",
    "\n",
    "waiting_time2['waiting_minutes'] = waiting_time2['timestamp'].dt.total_seconds().div(60).astype(int)"
   ]
  },
  {
   "cell_type": "code",
   "execution_count": null,
   "metadata": {},
   "outputs": [],
   "source": [
    "# check sorted values\n",
    "\n",
    "waiting_time2.sort_values(by=['waiting_minutes'], ascending=False)"
   ]
  },
  {
   "cell_type": "code",
   "execution_count": null,
   "metadata": {},
   "outputs": [],
   "source": [
    "# only keep minutes >=1, that influences lyft revenue\n",
    "\n",
    "waiting_time2['waiting_minutes'] = np.where(waiting_time2['waiting_minutes'] >= 1, waiting_time2['waiting_minutes'], \"Not relevant\")\n"
   ]
  },
  {
   "cell_type": "code",
   "execution_count": null,
   "metadata": {},
   "outputs": [],
   "source": [
    "# drop non relevant\n",
    "\n",
    "waiting_time2.drop(waiting_time2[waiting_time2['waiting_minutes'] == 'Not relevant'].index, inplace=True)"
   ]
  },
  {
   "cell_type": "code",
   "execution_count": null,
   "metadata": {},
   "outputs": [],
   "source": [
    "# check\n",
    "\n",
    "waiting_time2[\"waiting_minutes\"].value_counts()"
   ]
  },
  {
   "cell_type": "code",
   "execution_count": null,
   "metadata": {},
   "outputs": [],
   "source": [
    "# change type\n",
    "\n",
    "waiting_time2[\"waiting_minutes\"] = waiting_time2[\"waiting_minutes\"].astype(float)"
   ]
  },
  {
   "cell_type": "code",
   "execution_count": null,
   "metadata": {},
   "outputs": [],
   "source": [
    "# confirm\n",
    "\n",
    "waiting_time2.dtypes"
   ]
  },
  {
   "cell_type": "markdown",
   "metadata": {},
   "source": [
    "Cost per Minute $0.22"
   ]
  },
  {
   "cell_type": "code",
   "execution_count": null,
   "metadata": {},
   "outputs": [],
   "source": [
    "# add the cost for waiting time\n",
    "\n",
    "waiting_time2[\"cost_waiting_time$\"]=waiting_time2[\"waiting_minutes\"]*0.22"
   ]
  },
  {
   "cell_type": "code",
   "execution_count": null,
   "metadata": {},
   "outputs": [],
   "source": [
    "# confirm\n",
    "\n",
    "waiting_time2.head()"
   ]
  },
  {
   "cell_type": "markdown",
   "metadata": {},
   "source": [
    "# 2. ANALYSIS"
   ]
  },
  {
   "cell_type": "markdown",
   "metadata": {},
   "source": [
    "In this section, the actual data analysis will be performed. \n",
    "It is an attemp to answer the questions of the challenge and dig deeper into additional questions"
   ]
  },
  {
   "cell_type": "markdown",
   "metadata": {},
   "source": [
    "# 2.1. Driver's  Lifetime Value Analysis"
   ]
  },
  {
   "cell_type": "markdown",
   "metadata": {},
   "source": [
    "The goal of this section is to understand the driver's lifetime value and possible driver clusters"
   ]
  },
  {
   "cell_type": "markdown",
   "metadata": {},
   "source": [
    "Some assumptions were made, additionally to the 20% commission that Lyft takes from the driver revenue\n",
    "\n",
    "Minimum fare assumption according to website\n",
    "If the commission is less that 1 ( minimum fare $5 * 0.2), then it has a decrease commission of 0.8*(5 - drivers revenue before commission taken)\n",
    "It seems lyft pays the driver if the minimum fare is not reached\n",
    "\n",
    "Maximum fare assumption according to website\n",
    "If the commission of lyft is more than 80 ( maximum fare $400 * 0.2), since the max is 400, the revenue is 80 + (driver_revenue_before_commission$-$400)\n",
    "\n",
    "Lyft gets the total amount of the service fee per ride\n",
    "\n",
    "Waiting time is added to the revenue"
   ]
  },
  {
   "cell_type": "code",
   "execution_count": null,
   "metadata": {
    "scrolled": true
   },
   "outputs": [],
   "source": [
    "# check tables to merge\n",
    "\n",
    "waiting_time2.head()"
   ]
  },
  {
   "cell_type": "code",
   "execution_count": null,
   "metadata": {},
   "outputs": [],
   "source": [
    "riderid.head()"
   ]
  },
  {
   "cell_type": "code",
   "execution_count": null,
   "metadata": {},
   "outputs": [],
   "source": [
    "# in order to add the waiting time, df with waiting time information needs to be merged with ride information\n",
    "\n",
    "total_revenue_df=riderid.merge(waiting_time2, how=\"left\", left_on=\"ride_id\", right_on=\"rideid\")"
   ]
  },
  {
   "cell_type": "code",
   "execution_count": null,
   "metadata": {},
   "outputs": [],
   "source": [
    "# the nulls from the merge should be replaced with zero\n",
    "\n",
    "total_revenue_df[\"cost_waiting_time$\"]=total_revenue_df[\"cost_waiting_time$\"].fillna(0)"
   ]
  },
  {
   "cell_type": "code",
   "execution_count": null,
   "metadata": {
    "scrolled": true
   },
   "outputs": [],
   "source": [
    "#confirm \n",
    "\n",
    "total_revenue_df.head()"
   ]
  },
  {
   "cell_type": "code",
   "execution_count": null,
   "metadata": {},
   "outputs": [],
   "source": [
    "# add waiting time revenue to the driver_revenue_before_commission\n",
    "\n",
    "total_revenue_df[\"final_driver_revenue_before_commission$\"]=total_revenue_df[\"driver_revenue_before_commission$\"]+total_revenue_df[\"cost_waiting_time$\"]"
   ]
  },
  {
   "cell_type": "code",
   "execution_count": null,
   "metadata": {},
   "outputs": [],
   "source": [
    "# check for correlations that can influence the drivers revenue\n",
    "# investigate possible relations with drivers revenue,as prime time, that can be associated to the satisfaction\n",
    "\n",
    "total_revenue_df.corr()['final_driver_revenue_before_commission$']"
   ]
  },
  {
   "cell_type": "code",
   "execution_count": null,
   "metadata": {},
   "outputs": [],
   "source": [
    "# to calculate Lyft revenue some columns are not needed\n",
    "\n",
    "coldrop=[\"ride_distance\",\"ride_duration\",\"ride_prime_time\",\"ride_duration_min\",\"ride_distance_miles\",\"timestamp\",\"rideid\",\"waiting_minutes\",\"driver_revenue_before_commission$\"]\n",
    "lifetime_revenue_df=total_revenue_df.drop(coldrop, axis=1)"
   ]
  },
  {
   "cell_type": "code",
   "execution_count": null,
   "metadata": {},
   "outputs": [],
   "source": [
    "# confirm\n",
    "\n",
    "lifetime_revenue_df.head()"
   ]
  },
  {
   "cell_type": "code",
   "execution_count": null,
   "metadata": {},
   "outputs": [],
   "source": [
    "# add column with the 20% commission for Lyft\n",
    "\n",
    "lifetime_revenue_df[\"lyft_20_revenue\"]=lifetime_revenue_df[\"final_driver_revenue_before_commission$\"]*0.2"
   ]
  },
  {
   "cell_type": "code",
   "execution_count": null,
   "metadata": {},
   "outputs": [],
   "source": [
    "# add the minimum fare condition\n",
    "\n",
    "lifetime_revenue_df[\"lyft_20_revenue_min\"] = np.where(lifetime_revenue_df[\"lyft_20_revenue\"] < 1,(lifetime_revenue_df[\"lyft_20_revenue\"]-(0.8*(5-lifetime_revenue_df[\"final_driver_revenue_before_commission$\"]))) , lifetime_revenue_df[\"lyft_20_revenue\"])"
   ]
  },
  {
   "cell_type": "code",
   "execution_count": null,
   "metadata": {},
   "outputs": [],
   "source": [
    "# add the maximum fare condition\n",
    "\n",
    "lifetime_revenue_df[\"lyft_20_revenue_final\"]= np.where(lifetime_revenue_df[\"lyft_20_revenue\"] > 80, (80 + (lifetime_revenue_df[\"final_driver_revenue_before_commission$\"]-400)),lifetime_revenue_df[\"lyft_20_revenue_min\"])\n",
    "                                                                                                                                                                             "
   ]
  },
  {
   "cell_type": "code",
   "execution_count": null,
   "metadata": {},
   "outputs": [],
   "source": [
    "# check an example\n",
    "\n",
    "lifetime_revenue_df[lifetime_revenue_df[\"lyft_20_revenue\"]>80]"
   ]
  },
  {
   "cell_type": "code",
   "execution_count": null,
   "metadata": {},
   "outputs": [],
   "source": [
    "# one last fee needs to be added, the service fee\n",
    "\n",
    "lifetime_revenue_df[\"lyft_total_revenue_ride$\"]=lifetime_revenue_df[\"lyft_20_revenue_final\"]+lifetime_revenue_df[\"service_fee$\"]"
   ]
  },
  {
   "cell_type": "code",
   "execution_count": null,
   "metadata": {},
   "outputs": [],
   "source": [
    "# check\n",
    "\n",
    "lifetime_revenue_df.head()"
   ]
  },
  {
   "cell_type": "code",
   "execution_count": null,
   "metadata": {},
   "outputs": [],
   "source": [
    "# calculate the average rides per driver and revenue per ride\n",
    "\n",
    "driver_mean_df = lifetime_revenue_df.groupby(['driver_id'], as_index = False).agg({ 'ride_id':'count','lyft_total_revenue_ride$': 'mean'}).sort_values(by='lyft_total_revenue_ride$', ascending = False)\n"
   ]
  },
  {
   "cell_type": "code",
   "execution_count": null,
   "metadata": {},
   "outputs": [],
   "source": [
    "# check\n",
    "\n",
    "driver_mean_df"
   ]
  },
  {
   "cell_type": "code",
   "execution_count": null,
   "metadata": {},
   "outputs": [],
   "source": [
    "# average earnings per ride per driver\n",
    "\n",
    "driver_mean_df[\"lyft_total_revenue_ride$\"].mean()"
   ]
  },
  {
   "cell_type": "code",
   "execution_count": null,
   "metadata": {},
   "outputs": [],
   "source": [
    "# average rides per driver\n",
    "\n",
    "driver_mean_df[\"ride_id\"].mean()"
   ]
  },
  {
   "cell_type": "markdown",
   "metadata": {},
   "source": [
    "Further analysis to cluster the drivers as occasional, average and frequent drivers"
   ]
  },
  {
   "cell_type": "code",
   "execution_count": null,
   "metadata": {},
   "outputs": [],
   "source": [
    "# create a cluster for occasional, average and frequent drivers\n",
    "\n",
    "driver_frequency_lifetime_df = lifetime_revenue_df.groupby(['driver_id'], as_index = False).agg({ 'ride_id':'count','lyft_total_revenue_ride$': 'mean'}).sort_values(by='ride_id', ascending = False)"
   ]
  },
  {
   "cell_type": "code",
   "execution_count": null,
   "metadata": {},
   "outputs": [],
   "source": [
    "# check\n",
    "\n",
    "driver_frequency_lifetime_df"
   ]
  },
  {
   "cell_type": "code",
   "execution_count": null,
   "metadata": {},
   "outputs": [],
   "source": [
    "# for the lifetime average, check average count of rides and revenue per ride\n",
    "\n",
    "lifetime_stats=driver_frequency_lifetime_df.describe().transpose()\n",
    "lifetime_stats"
   ]
  },
  {
   "cell_type": "code",
   "execution_count": null,
   "metadata": {},
   "outputs": [],
   "source": [
    "# average driver's lifetime value\n",
    "\n",
    "total_avg_lifetime_value=206.512273*3.708748\n",
    "total_avg_lifetime_value"
   ]
  },
  {
   "cell_type": "code",
   "execution_count": null,
   "metadata": {
    "scrolled": true
   },
   "outputs": [],
   "source": [
    "# check the descriptive statistics in order to create the clusters\n",
    "\n",
    "descriptive=driver_frequency_lifetime_df[\"ride_id\"].describe().transpose()\n",
    "\n",
    "descriptive"
   ]
  },
  {
   "cell_type": "code",
   "execution_count": null,
   "metadata": {},
   "outputs": [],
   "source": [
    "# segmentation\n",
    "\n",
    "print(\"25 percentil:\", descriptive[\"25%\"])\n",
    "print(\"75 percentil:\", descriptive[\"75%\"])"
   ]
  },
  {
   "cell_type": "markdown",
   "metadata": {},
   "source": [
    "Decided to create the driver segments using the 25th and 75th percentil \n",
    "Outliers were kept due to nature of the business"
   ]
  },
  {
   "cell_type": "markdown",
   "metadata": {},
   "source": [
    "Driver`s lifetime value for each segment of drivers will be calculated, based on:\n",
    "- Occasional driver =< 47 rides\n",
    "- 47 < Average driver < 316\n",
    "- Frequent driver >= 316"
   ]
  },
  {
   "cell_type": "code",
   "execution_count": null,
   "metadata": {},
   "outputs": [],
   "source": [
    "# occasional drivers\n",
    "\n",
    "occasional_df=driver_frequency_lifetime_df.loc[(driver_frequency_lifetime_df[\"ride_id\"]<=47)]\n"
   ]
  },
  {
   "cell_type": "code",
   "execution_count": null,
   "metadata": {},
   "outputs": [],
   "source": [
    "# confirm\n",
    "\n",
    "occasional_df"
   ]
  },
  {
   "cell_type": "code",
   "execution_count": null,
   "metadata": {},
   "outputs": [],
   "source": [
    "# check the average lifetime value of an occasional driver\n",
    "\n",
    "occasional_df_stats=occasional_df.describe().transpose()\n",
    "occasional_df_stats"
   ]
  },
  {
   "cell_type": "code",
   "execution_count": null,
   "metadata": {},
   "outputs": [],
   "source": [
    "# occasional driver lifetime value taken into consideration the average amount of rides and the average revenue per ride\n",
    "\n",
    "occasional_avg_lifetime=35.987755*3.698817\n",
    "occasional_avg_lifetime"
   ]
  },
  {
   "cell_type": "code",
   "execution_count": null,
   "metadata": {},
   "outputs": [],
   "source": [
    "# average driver\n",
    "\n",
    "average_df=driver_frequency_lifetime_df.loc[(driver_frequency_lifetime_df[\"ride_id\"]>47)&(driver_frequency_lifetime_df[\"ride_id\"]<316)]"
   ]
  },
  {
   "cell_type": "code",
   "execution_count": null,
   "metadata": {},
   "outputs": [],
   "source": [
    "# check the average lifetime value of an average driver\n",
    "\n",
    "average_df_stats=average_df.describe().transpose()\n",
    "average_df_stats"
   ]
  },
  {
   "cell_type": "code",
   "execution_count": null,
   "metadata": {},
   "outputs": [],
   "source": [
    "# average driver lifetime value taken into consideration the average amount of rides and the average revenue per ride\n",
    "\n",
    "average_avg_lifetime=173.419780*3.740202\n",
    "average_avg_lifetime"
   ]
  },
  {
   "cell_type": "code",
   "execution_count": null,
   "metadata": {},
   "outputs": [],
   "source": [
    "# frequent drivers\n",
    "\n",
    "frequent_df=driver_frequency_lifetime_df.loc[(driver_frequency_lifetime_df[\"ride_id\"]>316)]"
   ]
  },
  {
   "cell_type": "code",
   "execution_count": null,
   "metadata": {},
   "outputs": [],
   "source": [
    "# check the average lifetime value of a frequent driver\n",
    "\n",
    "frequent_df_stats=frequent_df.describe().transpose()\n",
    "frequent_df_stats"
   ]
  },
  {
   "cell_type": "code",
   "execution_count": null,
   "metadata": {},
   "outputs": [],
   "source": [
    "# average driver lifetime value taken into consideration the average amount of rides and the average revenue per ride\n",
    "\n",
    "frequent_avg_lifetime=447.995726*3.656184\n",
    "frequent_avg_lifetime"
   ]
  },
  {
   "cell_type": "markdown",
   "metadata": {},
   "source": [
    "# 2.2. Projected lifetime - days/time analysis"
   ]
  },
  {
   "cell_type": "markdown",
   "metadata": {},
   "source": [
    "The goal is to understand how many days tend to pass by from onboarding until last ride"
   ]
  },
  {
   "cell_type": "code",
   "execution_count": null,
   "metadata": {},
   "outputs": [],
   "source": [
    "# merge tables to get the orboarded time until last recorded drive\n",
    "\n",
    "mergeids=driverid.merge(riderid, left_on=\"driver_id\", right_on=\"driver_id\")"
   ]
  },
  {
   "cell_type": "code",
   "execution_count": null,
   "metadata": {},
   "outputs": [],
   "source": [
    "# check\n",
    "\n",
    "mergeids.head()"
   ]
  },
  {
   "cell_type": "code",
   "execution_count": null,
   "metadata": {},
   "outputs": [],
   "source": [
    "# further merge needed\n",
    "\n",
    "mergeids2=mergeids.merge(timedif, left_on=\"ride_id\", right_on=\"ride_id\")"
   ]
  },
  {
   "cell_type": "code",
   "execution_count": null,
   "metadata": {},
   "outputs": [],
   "source": [
    "# check\n",
    "\n",
    "mergeids2.head()"
   ]
  },
  {
   "cell_type": "code",
   "execution_count": null,
   "metadata": {},
   "outputs": [],
   "source": [
    "# drop unnecessary columns \n",
    "\n",
    "onboarding_lastridedf = mergeids2.drop([\"ride_distance\",\"ride_duration\",\"ride_prime_time\",\"ride_duration_min\",\"ride_distance_miles\",\"base_fare$\",\"duration_ride_revenue$\",\"distance_ride_revenue$\",\"service_fee$\",\"driver_revenue_before_commission$\",\"month\",\"day\",\"weekday\",\"hour\"], axis=1)\n",
    "\n",
    "onboarding_lastridedf.head()"
   ]
  },
  {
   "cell_type": "code",
   "execution_count": null,
   "metadata": {},
   "outputs": [],
   "source": [
    "# check the date difference, only last timestamp needed for this goal\n",
    "\n",
    "last_ride = onboarding_lastridedf.sort_values('timestamp').groupby(['driver_id'], as_index=False).last()"
   ]
  },
  {
   "cell_type": "code",
   "execution_count": null,
   "metadata": {},
   "outputs": [],
   "source": [
    "# confirm only dropped off stayed\n",
    "\n",
    "last_ride.head()"
   ]
  },
  {
   "cell_type": "code",
   "execution_count": null,
   "metadata": {},
   "outputs": [],
   "source": [
    "# check the types for calculation\n",
    "\n",
    "last_ride.dtypes"
   ]
  },
  {
   "cell_type": "code",
   "execution_count": null,
   "metadata": {},
   "outputs": [],
   "source": [
    "# put in the same type\n",
    "\n",
    "last_ride['timestamp'] = last_ride['timestamp'].dt.date\n",
    "last_ride['driver_onboard_date'] = last_ride['driver_onboard_date'].dt.date\n"
   ]
  },
  {
   "cell_type": "code",
   "execution_count": null,
   "metadata": {},
   "outputs": [],
   "source": [
    "# calculate \n",
    "\n",
    "last_ride[\"time_onboard_to_last_ride\"]=last_ride[\"timestamp\"]-last_ride[\"driver_onboard_date\"]"
   ]
  },
  {
   "cell_type": "code",
   "execution_count": null,
   "metadata": {},
   "outputs": [],
   "source": [
    "last_ride.head(5)"
   ]
  },
  {
   "cell_type": "code",
   "execution_count": null,
   "metadata": {},
   "outputs": [],
   "source": [
    "# import libraries for plotting and stats\n",
    "\n",
    "import matplotlib.pyplot as plt\n",
    "import seaborn as sns\n",
    "import statsmodels.api as sm"
   ]
  },
  {
   "cell_type": "code",
   "execution_count": null,
   "metadata": {},
   "outputs": [],
   "source": [
    "# convert the time from onboard until last ride into int to plot\n",
    "\n",
    "last_ride[\"time_onboard_to_last_ride\"]=last_ride[\"time_onboard_to_last_ride\"].dt.days"
   ]
  },
  {
   "cell_type": "code",
   "execution_count": null,
   "metadata": {},
   "outputs": [],
   "source": [
    "# confirm\n",
    "\n",
    "last_ride.dtypes"
   ]
  },
  {
   "cell_type": "code",
   "execution_count": null,
   "metadata": {},
   "outputs": [],
   "source": [
    "# check average for reference\n",
    "\n",
    "meanline=last_ride[\"time_onboard_to_last_ride\"].mean()\n",
    "meanline"
   ]
  },
  {
   "cell_type": "code",
   "execution_count": null,
   "metadata": {
    "scrolled": true
   },
   "outputs": [],
   "source": [
    "#plot checking for trends\n",
    "\n",
    "fig, ax = plt.subplots(figsize=(8,4))\n",
    "sns.barplot(data=last_ride,\n",
    "                x=\"driver_id\",\n",
    "                y=\"time_onboard_to_last_ride\",\n",
    "                order=last_ride.sort_values('time_onboard_to_last_ride').driver_id,\n",
    "                palette=\"rocket\",\n",
    "                ax=ax);\n",
    "ax.axhline (meanline, color=\"black\")\n",
    "plt.xlabel(\"Drivers\", size=10)\n",
    "plt.ylabel(\"Time from onboarding until last ride (days)\", size=10)\n",
    "plt.title(\"Driver`s Lifetime\", size=15)"
   ]
  },
  {
   "cell_type": "code",
   "execution_count": null,
   "metadata": {},
   "outputs": [],
   "source": [
    "# create a dataframe just with days\n",
    "\n",
    "driver_onboarding_df=last_ride[[\"driver_id\",\"time_onboard_to_last_ride\"]]"
   ]
  },
  {
   "cell_type": "code",
   "execution_count": null,
   "metadata": {},
   "outputs": [],
   "source": [
    "# new merged dataframe to check for correlation between amount of rides and time staying on board\n",
    "\n",
    "avg_nr_rides_df=driver_onboarding_df.merge(driver_frequency_lifetime_df, left_on=\"driver_id\", right_on=\"driver_id\")\n",
    "avg_nr_rides_df.columns=[\"driver_id\",\"time_onboard_to_last_ride\",\"number_of_rides\",\"lyft_total_revenue_ride$\"]\n",
    "avg_nr_rides_df.head()"
   ]
  },
  {
   "cell_type": "code",
   "execution_count": null,
   "metadata": {},
   "outputs": [],
   "source": [
    "# correlation\n",
    "\n",
    "avg_nr_rides_df.corr()['time_onboard_to_last_ride']"
   ]
  },
  {
   "cell_type": "code",
   "execution_count": null,
   "metadata": {},
   "outputs": [],
   "source": [
    "# scatter plot number of rides and working days\n",
    "\n",
    "fig, ax = plt.subplots(figsize=(10,6))\n",
    "sns.scatterplot(data=avg_nr_rides_df,\n",
    "                x=\"time_onboard_to_last_ride\",\n",
    "                y=\"number_of_rides\",\n",
    "                color=\"magenta\",\n",
    "                ax=ax);\n",
    "\n",
    "plt.xlabel(\"Number of days from onboard until last ride\", size=10)\n",
    "plt.ylabel(\"Number of rides\", size=10)\n",
    "plt.title(\"Relationship Between Number of Active Days and Rides per Driver\", size=15)"
   ]
  },
  {
   "cell_type": "code",
   "execution_count": null,
   "metadata": {},
   "outputs": [],
   "source": [
    "# scatter plot for revenue and number of rides\n",
    "\n",
    "fig, ax = plt.subplots(figsize=(10,6))\n",
    "sns.scatterplot(data=avg_nr_rides_df,\n",
    "                x=\"time_onboard_to_last_ride\",\n",
    "                y=\"lyft_total_revenue_ride$\",\n",
    "                color=\"magenta\",\n",
    "                ax=ax);\n",
    "\n",
    "plt.xlabel(\"Number of days from onboard until last ride\", size=10)\n",
    "plt.ylabel(\"Lyft revenue\", size=10)\n",
    "plt.title(\"Relationship between number of days working and rides per driver\", size=15)"
   ]
  },
  {
   "cell_type": "code",
   "execution_count": null,
   "metadata": {},
   "outputs": [],
   "source": [
    "# check linear regression with both\n",
    "\n",
    "avg_nr_rides_df2=avg_nr_rides_df.copy()\n",
    "\n",
    "avg_nr_rides_df2=sm.add_constant(avg_nr_rides_df2)\n",
    "y=avg_nr_rides_df2[\"time_onboard_to_last_ride\"]\n",
    "X=avg_nr_rides_df2[[\"const\", \"number_of_rides\",\"lyft_total_revenue_ride$\"]]\n",
    "\n",
    "reg=sm.OLS(y, X).fit()\n",
    "\n",
    "reg.summary()"
   ]
  },
  {
   "cell_type": "markdown",
   "metadata": {},
   "source": [
    "Not a strong correlation in general, some clusters would probably have stronger correlations"
   ]
  },
  {
   "cell_type": "markdown",
   "metadata": {},
   "source": [
    "# 2.3. Churn Analysis"
   ]
  },
  {
   "cell_type": "markdown",
   "metadata": {},
   "source": [
    "The goal is to have a deeper understanding of the driver's churn and potential predictive indications. \n",
    "Critical churn weeks are checked in the section."
   ]
  },
  {
   "cell_type": "code",
   "execution_count": null,
   "metadata": {},
   "outputs": [],
   "source": [
    "# check dataframe\n",
    "\n",
    "avg_nr_rides_df.head()"
   ]
  },
  {
   "cell_type": "code",
   "execution_count": null,
   "metadata": {},
   "outputs": [],
   "source": [
    "# check types\n",
    "\n",
    "avg_nr_rides_df.dtypes"
   ]
  },
  {
   "cell_type": "code",
   "execution_count": null,
   "metadata": {},
   "outputs": [],
   "source": [
    "# check number of drivers for the total\n",
    "\n",
    "length=len(avg_nr_rides_df.index)\n",
    "length"
   ]
  },
  {
   "cell_type": "code",
   "execution_count": null,
   "metadata": {},
   "outputs": [],
   "source": [
    "# function to check dataframe\n",
    "\n",
    "def df_final_drive(days):\n",
    "    return avg_nr_rides_df.loc[(avg_nr_rides_df[\"time_onboard_to_last_ride\"]<=days)]\n",
    "\n",
    "df_final_drive(7)"
   ]
  },
  {
   "cell_type": "code",
   "execution_count": null,
   "metadata": {},
   "outputs": [],
   "source": [
    "# function to check how many drivers stopped driving after X days\n",
    "\n",
    "def time_rider(days):\n",
    "    time_rider_df=avg_nr_rides_df.loc[(avg_nr_rides_df[\"time_onboard_to_last_ride\"]<=days)]\n",
    "    return len(time_rider_df.index)"
   ]
  },
  {
   "cell_type": "code",
   "execution_count": null,
   "metadata": {},
   "outputs": [],
   "source": [
    "# call function\n",
    "\n",
    "time_rider(7)"
   ]
  },
  {
   "cell_type": "code",
   "execution_count": null,
   "metadata": {},
   "outputs": [],
   "source": [
    "# import library to round\n",
    "\n",
    "import math"
   ]
  },
  {
   "cell_type": "markdown",
   "metadata": {},
   "source": [
    "Check some churn rates for reference"
   ]
  },
  {
   "cell_type": "code",
   "execution_count": null,
   "metadata": {
    "scrolled": true
   },
   "outputs": [],
   "source": [
    "# after 7 days\n",
    "\n",
    "churn=math.floor((time_rider(7)/length)*100)\n",
    "print (\"churn:\", churn, \"%\")"
   ]
  },
  {
   "cell_type": "code",
   "execution_count": null,
   "metadata": {},
   "outputs": [],
   "source": [
    "# after 28 days\n",
    "\n",
    "churn=math.floor((time_rider(28)/length)*100)\n",
    "print (\"churn:\", churn, \"%\")"
   ]
  },
  {
   "cell_type": "code",
   "execution_count": null,
   "metadata": {},
   "outputs": [],
   "source": [
    "# after 42 days\n",
    "\n",
    "churn=math.floor((time_rider(42)/length)*100)\n",
    "print (\"churn:\", churn, \"%\")"
   ]
  },
  {
   "cell_type": "code",
   "execution_count": null,
   "metadata": {},
   "outputs": [],
   "source": [
    "# after 56 days\n",
    "\n",
    "churn=math.floor((time_rider(56)/length)*100)\n",
    "print (\"churn:\", churn, \"%\")"
   ]
  },
  {
   "cell_type": "code",
   "execution_count": null,
   "metadata": {},
   "outputs": [],
   "source": [
    "# after 63 days\n",
    "\n",
    "churn=math.floor((time_rider(63)/length)*100)\n",
    "print (\"churn:\", churn, \"%\")"
   ]
  },
  {
   "cell_type": "code",
   "execution_count": null,
   "metadata": {},
   "outputs": [],
   "source": [
    "# after 70 days\n",
    "\n",
    "churn=math.floor((time_rider(70)/length)*100)\n",
    "print (\"churn:\", churn, \"%\")"
   ]
  },
  {
   "cell_type": "code",
   "execution_count": null,
   "metadata": {},
   "outputs": [],
   "source": [
    "# after 90 days\n",
    "\n",
    "churn=math.floor((time_rider(90)/length)*100)\n",
    "print (\"churn:\", churn, \"%\")"
   ]
  },
  {
   "cell_type": "code",
   "execution_count": null,
   "metadata": {},
   "outputs": [],
   "source": [
    "# set conditions looking into the data to look at critical weeks\n",
    "\n",
    "conditions = [\n",
    "    (avg_nr_rides_df['time_onboard_to_last_ride'] <= 7),\n",
    "    ((avg_nr_rides_df['time_onboard_to_last_ride']<= 14)),\n",
    "    ((avg_nr_rides_df['time_onboard_to_last_ride'] <= 21)),\n",
    "    ((avg_nr_rides_df['time_onboard_to_last_ride'] <= 28)),\n",
    "    ((avg_nr_rides_df['time_onboard_to_last_ride'] <= 35)),\n",
    "    ((avg_nr_rides_df['time_onboard_to_last_ride'] <= 42)),\n",
    "    ((avg_nr_rides_df['time_onboard_to_last_ride'] <= 49)),\n",
    "    ((avg_nr_rides_df['time_onboard_to_last_ride'] <= 56)),\n",
    "    ((avg_nr_rides_df['time_onboard_to_last_ride'] <= 63)),\n",
    "    ((avg_nr_rides_df['time_onboard_to_last_ride'] <= 70)),\n",
    "    ((avg_nr_rides_df['time_onboard_to_last_ride'] <= 77)),\n",
    "    ((avg_nr_rides_df['time_onboard_to_last_ride'] <= 84)),\n",
    "    (avg_nr_rides_df['time_onboard_to_last_ride'] > 84)\n",
    "]\n",
    "\n",
    "choices = [\n",
    "    '1',\n",
    "    '2',\n",
    "    '3',\n",
    "    '4',\n",
    "    '5',\n",
    "    '6',\n",
    "    '7',\n",
    "    '8',\n",
    "    '9',\n",
    "    '10',\n",
    "    '11',\n",
    "    '12',\n",
    "    '12+'\n",
    "]\n",
    "\n",
    "avg_nr_rides_df[\"number_weeks_leaving\"] = np.select(conditions, choices, \"error\")"
   ]
  },
  {
   "cell_type": "code",
   "execution_count": null,
   "metadata": {},
   "outputs": [],
   "source": [
    "# confirm new column\n",
    "\n",
    "avg_nr_rides_df.head()"
   ]
  },
  {
   "cell_type": "code",
   "execution_count": null,
   "metadata": {},
   "outputs": [],
   "source": [
    "# plot to check number of drivers leaving after X weeks from onboard\n",
    "\n",
    "sns.countplot(data=avg_nr_rides_df,\n",
    "                y=\"number_weeks_leaving\",\n",
    "                order=avg_nr_rides_df[\"number_weeks_leaving\"].value_counts().index,\n",
    "                palette=\"rocket\");\n",
    "\n",
    "plt.xlabel(\"Number of drivers off-boarding\", size=10)\n",
    "plt.ylabel(\"Week of off-boarding\", size=10)\n",
    "plt.title(\"Driver's Churn\", size=15)\n",
    "                \n",
    "               \n",
    "            "
   ]
  },
  {
   "cell_type": "markdown",
   "metadata": {},
   "source": [
    "# 2.4. Weekday, day and hour analysis"
   ]
  },
  {
   "cell_type": "markdown",
   "metadata": {},
   "source": [
    "The goal is to check if there are weekdays, days and hours with more demand"
   ]
  },
  {
   "cell_type": "code",
   "execution_count": null,
   "metadata": {},
   "outputs": [],
   "source": [
    "# call df\n",
    "\n",
    "ridertime.head()"
   ]
  },
  {
   "cell_type": "code",
   "execution_count": null,
   "metadata": {},
   "outputs": [],
   "source": [
    "# count just the drop off, to count just one ride\n",
    "\n",
    "time_per_ride_df = ridertime.sort_values('timestamp').groupby(['ride_id'], as_index=False).last()"
   ]
  },
  {
   "cell_type": "code",
   "execution_count": null,
   "metadata": {},
   "outputs": [],
   "source": [
    "# merge to have it with revenue and time\n",
    "\n",
    "time_driver_ride_df=lifetime_revenue_df.merge(time_per_ride_df, left_on=\"ride_id\", right_on=\"ride_id\")"
   ]
  },
  {
   "cell_type": "code",
   "execution_count": null,
   "metadata": {
    "scrolled": false
   },
   "outputs": [],
   "source": [
    "# check all info\n",
    "\n",
    "time_driver_ride_df.head()"
   ]
  },
  {
   "cell_type": "code",
   "execution_count": null,
   "metadata": {},
   "outputs": [],
   "source": [
    "# analyse weekday and time\n",
    "\n",
    "weekday_time_df=time_driver_ride_df.groupby([\"driver_id\",\"weekday\",\"hour\"], as_index = False).agg({\"ride_id\":\"count\"}).sort_values(by=\"ride_id\", ascending=False)\n",
    "\n"
   ]
  },
  {
   "cell_type": "code",
   "execution_count": null,
   "metadata": {},
   "outputs": [],
   "source": [
    "#confirm\n",
    "\n",
    "weekday_time_df.head(10)"
   ]
  },
  {
   "cell_type": "code",
   "execution_count": null,
   "metadata": {
    "scrolled": true
   },
   "outputs": [],
   "source": [
    "# further analyse weekday and time, with correct weekday and hours\n",
    "\n",
    "weekday_time_df2=time_driver_ride_df.groupby([\"weekday\",\"hour\"], as_index = False).agg({\"ride_id\":\"count\"}).sort_values(by=\"ride_id\", ascending=False)\n",
    "weekday_time_df2[\"hour\"]=weekday_time_df2[\"hour\"].astype(\"int\")\n",
    "weekday_time_df2[\"weekday\"]=weekday_time_df2[\"weekday\"].replace([0, 1, 2, 3, 4, 5, 6], [\"Monday\", \"Tuesday\", \"Wednesday\", \"Thursday\",\"Friday\",\"Saturday\",\"Sunday\"])\n",
    "\n",
    "\n"
   ]
  },
  {
   "cell_type": "code",
   "execution_count": null,
   "metadata": {},
   "outputs": [],
   "source": [
    "# check dataframe\n",
    "\n",
    "weekday_time_df2.head()"
   ]
  },
  {
   "cell_type": "code",
   "execution_count": null,
   "metadata": {},
   "outputs": [],
   "source": [
    "# plot checking for trends\n",
    "\n",
    "\n",
    "g=sns.catplot(data=weekday_time_df2,\n",
    "                x=\"weekday\",\n",
    "                y=\"ride_id\",\n",
    "                hue=\"hour\",\n",
    "                kind=\"swarm\",\n",
    "                palette=\"rocket\");\n",
    "g.set_xticklabels(rotation=45)\n",
    "plt.xlabel(\"Weekday\", size=10)\n",
    "plt.ylabel(\"Number of rides\", size=10)\n",
    "plt.title(\"Number of  Rides per Weekday and Hour\", size=15)"
   ]
  },
  {
   "cell_type": "markdown",
   "metadata": {},
   "source": [
    "Friday and Saturday evenings seem like the most popular times"
   ]
  },
  {
   "cell_type": "code",
   "execution_count": null,
   "metadata": {},
   "outputs": [],
   "source": [
    "# does it pay off for the driver? check the times are usually\n",
    "\n",
    "weekday_time_df3=time_driver_ride_df.groupby([\"weekday\",\"hour\"], as_index = False).agg({\"ride_id\":\"count\",\"final_driver_revenue_before_commission$\":\"mean\"}).sort_values(by=\"final_driver_revenue_before_commission$\", ascending=False)\n",
    "\n",
    "weekday_time_df3.head(10)"
   ]
  },
  {
   "cell_type": "markdown",
   "metadata": {},
   "source": [
    "Late night/ early mornings are the ones where the revenue for the driver is higher in average, but there are less rides happening as expected"
   ]
  },
  {
   "cell_type": "code",
   "execution_count": null,
   "metadata": {},
   "outputs": [],
   "source": [
    "# does it pay off for lyft? analysis of the average revenue per ride\n",
    "\n",
    "weekday_time_df4=time_driver_ride_df.groupby([\"weekday\",\"hour\"], as_index = False).agg({\"ride_id\":\"count\",\"lyft_total_revenue_ride$\":\"mean\"}).sort_values(by=\"lyft_total_revenue_ride$\", ascending=False)\n",
    "\n",
    "weekday_time_df4.head(10)"
   ]
  },
  {
   "cell_type": "markdown",
   "metadata": {},
   "source": [
    "As expected, similar to the driver's revenue"
   ]
  },
  {
   "cell_type": "code",
   "execution_count": null,
   "metadata": {},
   "outputs": [],
   "source": [
    "# check predictive total revenues at a certain time with the total amout of rides and the average earning per ride\n",
    "\n",
    "weekday_rev_df=weekday_time_df4.copy()\n",
    "\n",
    "weekday_rev_df[\"hour\"]=weekday_rev_df[\"hour\"].astype(\"int\")\n",
    "weekday_rev_df[\"weekday\"]=weekday_rev_df[\"weekday\"].replace([0, 1, 2, 3, 4, 5, 6], [\"Monday\", \"Tuesday\", \"Wednesday\", \"Thursday\",\"Friday\",\"Saturday\",\"Sunday\"])\n",
    "weekday_rev_df[\"total_predicted_revenue\"]=weekday_rev_df[\"ride_id\"]*weekday_rev_df[\"lyft_total_revenue_ride$\"]\n",
    "weekday_rev_df.sort_values(by=\"total_predicted_revenue\", ascending=False)\n"
   ]
  },
  {
   "cell_type": "markdown",
   "metadata": {},
   "source": [
    "The results are very similar to the demand of rides per hour.\n",
    "It makeses sense given the margins that the fact that there are much more rides brings higher revenue"
   ]
  },
  {
   "cell_type": "code",
   "execution_count": null,
   "metadata": {},
   "outputs": [],
   "source": [
    "# plot checking for trends, looking into the total count per hour and weekday\n",
    "\n",
    "\n",
    "g=sns.catplot(data=weekday_time_df2,\n",
    "                x=\"weekday\",\n",
    "                y=\"ride_id\",\n",
    "                hue=\"hour\",\n",
    "                kind=\"swarm\",\n",
    "                palette=\"rocket\");\n",
    "g.set_xticklabels(rotation=45)\n",
    "plt.xlabel(\"Weekday\", size=10)\n",
    "plt.ylabel(\"Number of rides\", size=10)\n",
    "plt.title(\"Number of  Rides per Weekday and Hour\", size=15)"
   ]
  },
  {
   "cell_type": "code",
   "execution_count": null,
   "metadata": {},
   "outputs": [],
   "source": [
    "# further analyses with day and time, check if some holiday could influence it for instance\n",
    "\n",
    "weekday_time_df5=time_driver_ride_df.groupby([\"month\",\"day\",\"hour\"], as_index = False).agg({\"ride_id\":\"count\"}).sort_values(by=\"ride_id\", ascending=False)\n",
    "\n",
    "weekday_time_df5.head()"
   ]
  },
  {
   "cell_type": "code",
   "execution_count": null,
   "metadata": {},
   "outputs": [],
   "source": [
    "#check deeper without the hour to see overall trend\n",
    "\n",
    "weekday_time_df6=time_driver_ride_df.groupby([\"month\",\"day\"], as_index = False).agg({\"ride_id\":\"count\"}).sort_values(by=\"ride_id\", ascending=False)\n",
    "\n",
    "weekday_time_df6.head(10)"
   ]
  },
  {
   "cell_type": "markdown",
   "metadata": {},
   "source": [
    "No major events that could explain higher demand found"
   ]
  },
  {
   "cell_type": "code",
   "execution_count": null,
   "metadata": {},
   "outputs": [],
   "source": [
    "#check if there were events that could explain lack of demand\n",
    "\n",
    "weekday_time_df6.tail()"
   ]
  },
  {
   "cell_type": "markdown",
   "metadata": {},
   "source": [
    "Again, no major events. A potential gun shot found but probably not significant affect demaind by the end of March.\n",
    "There was a tornado in the end of March in some US regions, but not enough information about location to correlate with this."
   ]
  },
  {
   "cell_type": "code",
   "execution_count": null,
   "metadata": {},
   "outputs": [],
   "source": [
    "# Prime time analysis - are there hours that more driver`s should be incentivised to be available?\n",
    "\n",
    "weekday_time_df7=time_driver_ride_df.groupby([\"weekday\",\"hour\"], as_index = False).agg({\"ride_primetime_min\":\"sum\"}).sort_values(by=\"ride_primetime_min\", ascending=False)"
   ]
  },
  {
   "cell_type": "code",
   "execution_count": null,
   "metadata": {},
   "outputs": [],
   "source": [
    "# prepare to plot\n",
    "\n",
    "weekday_time_df7[\"hour\"]=weekday_time_df7[\"hour\"].astype(\"int\")\n",
    "weekday_time_df7[\"weekday\"]=weekday_time_df7[\"weekday\"].replace([0, 1, 2, 3, 4, 5, 6], [\"Monday\", \"Tuesday\", \"Wednesday\", \"Thursday\",\"Friday\",\"Saturday\",\"Sunday\"])"
   ]
  },
  {
   "cell_type": "code",
   "execution_count": null,
   "metadata": {},
   "outputs": [],
   "source": [
    "# check\n",
    "\n",
    "weekday_time_df7.head(10)"
   ]
  },
  {
   "cell_type": "code",
   "execution_count": null,
   "metadata": {},
   "outputs": [],
   "source": [
    "# plot checking for trends, looking into the total count per hour and weekday\n",
    "\n",
    "\n",
    "g=sns.catplot(data=weekday_time_df7,\n",
    "                x=\"weekday\",\n",
    "                y=\"ride_primetime_min\",\n",
    "                hue=\"hour\",\n",
    "                kind=\"swarm\",\n",
    "                palette=\"rocket\");\n",
    "g.set_xticklabels(rotation=45)\n",
    "plt.xlabel(\"Weekday\", size=10)\n",
    "plt.ylabel(\"Prime Time (min)\", size=10)\n",
    "plt.title(\"Total Prime Time per Weekday and Hour\", size=15)"
   ]
  },
  {
   "cell_type": "code",
   "execution_count": null,
   "metadata": {},
   "outputs": [],
   "source": []
  },
  {
   "cell_type": "markdown",
   "metadata": {},
   "source": [
    "# 2.5. Timeseries and Churn Analysis"
   ]
  },
  {
   "cell_type": "code",
   "execution_count": null,
   "metadata": {},
   "outputs": [],
   "source": [
    "# create copy\n",
    "\n",
    "churn_predictdf=onboarding_lastridedf.copy()"
   ]
  },
  {
   "cell_type": "code",
   "execution_count": null,
   "metadata": {},
   "outputs": [],
   "source": [
    "# put the timestamp in the best format\n",
    "\n",
    "churn_predictdf['date']=churn_predictdf['timestamp'].dt.date"
   ]
  },
  {
   "cell_type": "code",
   "execution_count": null,
   "metadata": {},
   "outputs": [],
   "source": [
    "# select only one even of the ride\n",
    "\n",
    "churn_predictdf=churn_predictdf.loc[churn_predictdf[\"event\"]==\"dropped_off_at\"]\n",
    "\n",
    "churn_predictdf.head()"
   ]
  },
  {
   "cell_type": "code",
   "execution_count": null,
   "metadata": {},
   "outputs": [],
   "source": [
    "churn_predictdf2=churn_predictdf.groupby([\"driver_id\",\"driver_onboard_date\",\"date\"], as_index=False).agg({'ride_id':'count'})"
   ]
  },
  {
   "cell_type": "code",
   "execution_count": null,
   "metadata": {},
   "outputs": [],
   "source": [
    "# confirm dataframe\n",
    "\n",
    "churn_predictdf2"
   ]
  },
  {
   "cell_type": "code",
   "execution_count": null,
   "metadata": {},
   "outputs": [],
   "source": [
    "# check one random driver\n",
    "\n",
    "churn_predictdf2.loc[churn_predictdf2[\"driver_id\"]==\"002be0ffdc997bd5c50703158b7c2491\"]\n"
   ]
  },
  {
   "cell_type": "code",
   "execution_count": null,
   "metadata": {},
   "outputs": [],
   "source": [
    "# check another driver\n",
    "\n",
    "churn_predictdf2.loc[churn_predictdf2[\"driver_id\"]==\"ffff51a71f2f185ec5e97d59dbcd7a78\"]"
   ]
  },
  {
   "cell_type": "markdown",
   "metadata": {},
   "source": [
    "It would be interesting to check deeper the number of ride drops closer to offboarding"
   ]
  }
 ],
 "metadata": {
  "kernelspec": {
   "display_name": "Python 3",
   "language": "python",
   "name": "python3"
  },
  "language_info": {
   "codemirror_mode": {
    "name": "ipython",
    "version": 3
   },
   "file_extension": ".py",
   "mimetype": "text/x-python",
   "name": "python",
   "nbconvert_exporter": "python",
   "pygments_lexer": "ipython3",
   "version": "3.8.5"
  }
 },
 "nbformat": 4,
 "nbformat_minor": 4
}
