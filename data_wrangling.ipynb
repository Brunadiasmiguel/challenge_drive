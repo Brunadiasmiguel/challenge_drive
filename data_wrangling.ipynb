{
 "cells": [
  {
   "cell_type": "code",
   "execution_count": 1,
   "metadata": {},
   "outputs": [],
   "source": [
    "\n",
    "#importing libraries\n",
    "\n",
    "import pandas as pd\n",
    "import numpy as np"
   ]
  },
  {
   "cell_type": "code",
   "execution_count": 3,
   "metadata": {},
   "outputs": [],
   "source": [
    "#importing driver id file\n",
    "\n",
    "driverid=pd.read_csv(\"data/driver_ids.csv\")"
   ]
  },
  {
   "cell_type": "code",
   "execution_count": 6,
   "metadata": {},
   "outputs": [
    {
     "data": {
      "text/html": [
       "<div>\n",
       "<style scoped>\n",
       "    .dataframe tbody tr th:only-of-type {\n",
       "        vertical-align: middle;\n",
       "    }\n",
       "\n",
       "    .dataframe tbody tr th {\n",
       "        vertical-align: top;\n",
       "    }\n",
       "\n",
       "    .dataframe thead th {\n",
       "        text-align: right;\n",
       "    }\n",
       "</style>\n",
       "<table border=\"1\" class=\"dataframe\">\n",
       "  <thead>\n",
       "    <tr style=\"text-align: right;\">\n",
       "      <th></th>\n",
       "      <th>driver_id</th>\n",
       "      <th>driver_onboard_date</th>\n",
       "    </tr>\n",
       "  </thead>\n",
       "  <tbody>\n",
       "    <tr>\n",
       "      <th>0</th>\n",
       "      <td>002be0ffdc997bd5c50703158b7c2491</td>\n",
       "      <td>2016-03-29 00:00:00</td>\n",
       "    </tr>\n",
       "    <tr>\n",
       "      <th>1</th>\n",
       "      <td>007f0389f9c7b03ef97098422f902e62</td>\n",
       "      <td>2016-03-29 00:00:00</td>\n",
       "    </tr>\n",
       "    <tr>\n",
       "      <th>2</th>\n",
       "      <td>011e5c5dfc5c2c92501b8b24d47509bc</td>\n",
       "      <td>2016-04-05 00:00:00</td>\n",
       "    </tr>\n",
       "    <tr>\n",
       "      <th>3</th>\n",
       "      <td>0152a2f305e71d26cc964f8d4411add9</td>\n",
       "      <td>2016-04-23 00:00:00</td>\n",
       "    </tr>\n",
       "    <tr>\n",
       "      <th>4</th>\n",
       "      <td>01674381af7edd264113d4e6ed55ecda</td>\n",
       "      <td>2016-04-29 00:00:00</td>\n",
       "    </tr>\n",
       "    <tr>\n",
       "      <th>5</th>\n",
       "      <td>01788cf817698fe68eaecd7eb18b2f72</td>\n",
       "      <td>2016-05-06 00:00:00</td>\n",
       "    </tr>\n",
       "    <tr>\n",
       "      <th>6</th>\n",
       "      <td>0213f8b59219e32142711992ca4ec01f</td>\n",
       "      <td>2016-04-07 00:00:00</td>\n",
       "    </tr>\n",
       "    <tr>\n",
       "      <th>7</th>\n",
       "      <td>021e5cd15ef0bb3ec20a12af99e142b3</td>\n",
       "      <td>2016-05-07 00:00:00</td>\n",
       "    </tr>\n",
       "    <tr>\n",
       "      <th>8</th>\n",
       "      <td>0258e250ca195cc6258cbdc75aecd853</td>\n",
       "      <td>2016-04-26 00:00:00</td>\n",
       "    </tr>\n",
       "    <tr>\n",
       "      <th>9</th>\n",
       "      <td>028b5a4dcd7f4924ebfabcf2e814c014</td>\n",
       "      <td>2016-05-06 00:00:00</td>\n",
       "    </tr>\n",
       "  </tbody>\n",
       "</table>\n",
       "</div>"
      ],
      "text/plain": [
       "                          driver_id  driver_onboard_date\n",
       "0  002be0ffdc997bd5c50703158b7c2491  2016-03-29 00:00:00\n",
       "1  007f0389f9c7b03ef97098422f902e62  2016-03-29 00:00:00\n",
       "2  011e5c5dfc5c2c92501b8b24d47509bc  2016-04-05 00:00:00\n",
       "3  0152a2f305e71d26cc964f8d4411add9  2016-04-23 00:00:00\n",
       "4  01674381af7edd264113d4e6ed55ecda  2016-04-29 00:00:00\n",
       "5  01788cf817698fe68eaecd7eb18b2f72  2016-05-06 00:00:00\n",
       "6  0213f8b59219e32142711992ca4ec01f  2016-04-07 00:00:00\n",
       "7  021e5cd15ef0bb3ec20a12af99e142b3  2016-05-07 00:00:00\n",
       "8  0258e250ca195cc6258cbdc75aecd853  2016-04-26 00:00:00\n",
       "9  028b5a4dcd7f4924ebfabcf2e814c014  2016-05-06 00:00:00"
      ]
     },
     "execution_count": 6,
     "metadata": {},
     "output_type": "execute_result"
    }
   ],
   "source": [
    "#check file\n",
    "\n",
    "driverid.head(10)"
   ]
  },
  {
   "cell_type": "code",
   "execution_count": 8,
   "metadata": {},
   "outputs": [
    {
     "data": {
      "text/plain": [
       "driver_id              object\n",
       "driver_onboard_date    object\n",
       "dtype: object"
      ]
     },
     "execution_count": 8,
     "metadata": {},
     "output_type": "execute_result"
    }
   ],
   "source": [
    "#check the types\n",
    "\n",
    "driverid.dtypes"
   ]
  },
  {
   "cell_type": "code",
   "execution_count": 11,
   "metadata": {},
   "outputs": [
    {
     "data": {
      "text/plain": [
       "RangeIndex(start=0, stop=937, step=1)"
      ]
     },
     "execution_count": 11,
     "metadata": {},
     "output_type": "execute_result"
    }
   ],
   "source": [
    "#check dataframe size\n",
    "\n",
    "driverid.index"
   ]
  },
  {
   "cell_type": "code",
   "execution_count": 13,
   "metadata": {},
   "outputs": [
    {
     "data": {
      "text/plain": [
       "driver_id  driver_onboard_date\n",
       "False      False                  937\n",
       "dtype: int64"
      ]
     },
     "execution_count": 13,
     "metadata": {},
     "output_type": "execute_result"
    }
   ],
   "source": [
    "#check nulls\n",
    "\n",
    "driverid.isnull().value_counts()"
   ]
  },
  {
   "cell_type": "code",
   "execution_count": 14,
   "metadata": {},
   "outputs": [
    {
     "data": {
      "text/plain": [
       "9c8968198038d0ce08f8066275480e62    1\n",
       "7470e87e7621f0e68c728a0431788a58    1\n",
       "eedb2d3b82cd4276804c339cae45fef4    1\n",
       "794a74f41f18a115252fd26bbd16882b    1\n",
       "1674103b16c39ab56a76884b7c2ca83e    1\n",
       "                                   ..\n",
       "dd64221e3c3d2f0078f4903cabc16bad    1\n",
       "bde37c58877c64b6ce4b309dc2154bad    1\n",
       "d967f5296732fa55266b5f1314e7447b    1\n",
       "cea2a4389f823240e8dfbc3ea95e42f0    1\n",
       "762db27fc4dd1e53dd4fa982ae2162b4    1\n",
       "Name: driver_id, Length: 937, dtype: int64"
      ]
     },
     "execution_count": 14,
     "metadata": {},
     "output_type": "execute_result"
    }
   ],
   "source": [
    "#check if driver is unique\n",
    "\n",
    "\n",
    "driverid['driver_id'].value_counts().sort_values(ascending=False)\n"
   ]
  },
  {
   "cell_type": "code",
   "execution_count": 15,
   "metadata": {},
   "outputs": [],
   "source": [
    "#change to date time\n",
    "\n",
    "driverid['driver_onboard_date']=pd.to_datetime(driverid['driver_onboard_date'],errors='coerce')"
   ]
  },
  {
   "cell_type": "code",
   "execution_count": 16,
   "metadata": {},
   "outputs": [
    {
     "data": {
      "text/plain": [
       "driver_id                      object\n",
       "driver_onboard_date    datetime64[ns]\n",
       "dtype: object"
      ]
     },
     "execution_count": 16,
     "metadata": {},
     "output_type": "execute_result"
    }
   ],
   "source": [
    "#confirm\n",
    "\n",
    "driverid.dtypes"
   ]
  },
  {
   "cell_type": "code",
   "execution_count": 18,
   "metadata": {},
   "outputs": [
    {
     "data": {
      "text/plain": [
       "2016    937\n",
       "Name: driver_onboard_date, dtype: int64"
      ]
     },
     "execution_count": 18,
     "metadata": {},
     "output_type": "execute_result"
    }
   ],
   "source": [
    "#check the year\n",
    "\n",
    "driverid['driver_onboard_date'].dt.year.value_counts()"
   ]
  },
  {
   "cell_type": "code",
   "execution_count": 19,
   "metadata": {},
   "outputs": [
    {
     "data": {
      "text/plain": [
       "4    591\n",
       "5    239\n",
       "3    107\n",
       "Name: driver_onboard_date, dtype: int64"
      ]
     },
     "execution_count": 19,
     "metadata": {},
     "output_type": "execute_result"
    }
   ],
   "source": [
    "#check the month for seasonality\n",
    "\n",
    "driverid['driver_onboard_date'].dt.month.value_counts()"
   ]
  },
  {
   "cell_type": "code",
   "execution_count": 21,
   "metadata": {},
   "outputs": [
    {
     "data": {
      "text/plain": [
       "29    57\n",
       "5     56\n",
       "4     50\n",
       "6     50\n",
       "12    45\n",
       "30    44\n",
       "13    42\n",
       "11    41\n",
       "28    38\n",
       "7     36\n",
       "14    36\n",
       "9     34\n",
       "8     32\n",
       "31    30\n",
       "15    29\n",
       "1     27\n",
       "10    25\n",
       "21    24\n",
       "26    23\n",
       "20    22\n",
       "2     22\n",
       "19    21\n",
       "22    21\n",
       "23    20\n",
       "3     18\n",
       "17    17\n",
       "25    17\n",
       "18    16\n",
       "27    16\n",
       "16    15\n",
       "24    13\n",
       "Name: driver_onboard_date, dtype: int64"
      ]
     },
     "execution_count": 21,
     "metadata": {},
     "output_type": "execute_result"
    }
   ],
   "source": [
    "#check the day for seasonality\n",
    "\n",
    "driverid['driver_onboard_date'].dt.day.value_counts()"
   ]
  },
  {
   "cell_type": "code",
   "execution_count": null,
   "metadata": {},
   "outputs": [],
   "source": []
  }
 ],
 "metadata": {
  "kernelspec": {
   "display_name": "Python 3",
   "language": "python",
   "name": "python3"
  },
  "language_info": {
   "codemirror_mode": {
    "name": "ipython",
    "version": 3
   },
   "file_extension": ".py",
   "mimetype": "text/x-python",
   "name": "python",
   "nbconvert_exporter": "python",
   "pygments_lexer": "ipython3",
   "version": "3.8.5"
  }
 },
 "nbformat": 4,
 "nbformat_minor": 4
}
