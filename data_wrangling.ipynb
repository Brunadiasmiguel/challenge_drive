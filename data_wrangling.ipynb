{
 "cells": [
  {
   "cell_type": "markdown",
   "metadata": {},
   "source": [
    "# Driver file"
   ]
  },
  {
   "cell_type": "code",
   "execution_count": 1,
   "metadata": {},
   "outputs": [],
   "source": [
    "\n",
    "#importing libraries\n",
    "\n",
    "import pandas as pd\n",
    "import numpy as np"
   ]
  },
  {
   "cell_type": "code",
   "execution_count": 2,
   "metadata": {},
   "outputs": [],
   "source": [
    "#importing driver id file\n",
    "\n",
    "driverid=pd.read_csv(\"data/driver_ids.csv\")"
   ]
  },
  {
   "cell_type": "code",
   "execution_count": 3,
   "metadata": {},
   "outputs": [
    {
     "data": {
      "text/html": [
       "<div>\n",
       "<style scoped>\n",
       "    .dataframe tbody tr th:only-of-type {\n",
       "        vertical-align: middle;\n",
       "    }\n",
       "\n",
       "    .dataframe tbody tr th {\n",
       "        vertical-align: top;\n",
       "    }\n",
       "\n",
       "    .dataframe thead th {\n",
       "        text-align: right;\n",
       "    }\n",
       "</style>\n",
       "<table border=\"1\" class=\"dataframe\">\n",
       "  <thead>\n",
       "    <tr style=\"text-align: right;\">\n",
       "      <th></th>\n",
       "      <th>driver_id</th>\n",
       "      <th>driver_onboard_date</th>\n",
       "    </tr>\n",
       "  </thead>\n",
       "  <tbody>\n",
       "    <tr>\n",
       "      <th>0</th>\n",
       "      <td>002be0ffdc997bd5c50703158b7c2491</td>\n",
       "      <td>2016-03-29 00:00:00</td>\n",
       "    </tr>\n",
       "    <tr>\n",
       "      <th>1</th>\n",
       "      <td>007f0389f9c7b03ef97098422f902e62</td>\n",
       "      <td>2016-03-29 00:00:00</td>\n",
       "    </tr>\n",
       "    <tr>\n",
       "      <th>2</th>\n",
       "      <td>011e5c5dfc5c2c92501b8b24d47509bc</td>\n",
       "      <td>2016-04-05 00:00:00</td>\n",
       "    </tr>\n",
       "    <tr>\n",
       "      <th>3</th>\n",
       "      <td>0152a2f305e71d26cc964f8d4411add9</td>\n",
       "      <td>2016-04-23 00:00:00</td>\n",
       "    </tr>\n",
       "    <tr>\n",
       "      <th>4</th>\n",
       "      <td>01674381af7edd264113d4e6ed55ecda</td>\n",
       "      <td>2016-04-29 00:00:00</td>\n",
       "    </tr>\n",
       "    <tr>\n",
       "      <th>5</th>\n",
       "      <td>01788cf817698fe68eaecd7eb18b2f72</td>\n",
       "      <td>2016-05-06 00:00:00</td>\n",
       "    </tr>\n",
       "    <tr>\n",
       "      <th>6</th>\n",
       "      <td>0213f8b59219e32142711992ca4ec01f</td>\n",
       "      <td>2016-04-07 00:00:00</td>\n",
       "    </tr>\n",
       "    <tr>\n",
       "      <th>7</th>\n",
       "      <td>021e5cd15ef0bb3ec20a12af99e142b3</td>\n",
       "      <td>2016-05-07 00:00:00</td>\n",
       "    </tr>\n",
       "    <tr>\n",
       "      <th>8</th>\n",
       "      <td>0258e250ca195cc6258cbdc75aecd853</td>\n",
       "      <td>2016-04-26 00:00:00</td>\n",
       "    </tr>\n",
       "    <tr>\n",
       "      <th>9</th>\n",
       "      <td>028b5a4dcd7f4924ebfabcf2e814c014</td>\n",
       "      <td>2016-05-06 00:00:00</td>\n",
       "    </tr>\n",
       "  </tbody>\n",
       "</table>\n",
       "</div>"
      ],
      "text/plain": [
       "                          driver_id  driver_onboard_date\n",
       "0  002be0ffdc997bd5c50703158b7c2491  2016-03-29 00:00:00\n",
       "1  007f0389f9c7b03ef97098422f902e62  2016-03-29 00:00:00\n",
       "2  011e5c5dfc5c2c92501b8b24d47509bc  2016-04-05 00:00:00\n",
       "3  0152a2f305e71d26cc964f8d4411add9  2016-04-23 00:00:00\n",
       "4  01674381af7edd264113d4e6ed55ecda  2016-04-29 00:00:00\n",
       "5  01788cf817698fe68eaecd7eb18b2f72  2016-05-06 00:00:00\n",
       "6  0213f8b59219e32142711992ca4ec01f  2016-04-07 00:00:00\n",
       "7  021e5cd15ef0bb3ec20a12af99e142b3  2016-05-07 00:00:00\n",
       "8  0258e250ca195cc6258cbdc75aecd853  2016-04-26 00:00:00\n",
       "9  028b5a4dcd7f4924ebfabcf2e814c014  2016-05-06 00:00:00"
      ]
     },
     "execution_count": 3,
     "metadata": {},
     "output_type": "execute_result"
    }
   ],
   "source": [
    "#check file\n",
    "\n",
    "driverid.head(10)"
   ]
  },
  {
   "cell_type": "code",
   "execution_count": 4,
   "metadata": {
    "scrolled": true
   },
   "outputs": [
    {
     "data": {
      "text/plain": [
       "driver_id              object\n",
       "driver_onboard_date    object\n",
       "dtype: object"
      ]
     },
     "execution_count": 4,
     "metadata": {},
     "output_type": "execute_result"
    }
   ],
   "source": [
    "#check the types\n",
    "\n",
    "driverid.dtypes"
   ]
  },
  {
   "cell_type": "code",
   "execution_count": 5,
   "metadata": {},
   "outputs": [
    {
     "data": {
      "text/plain": [
       "RangeIndex(start=0, stop=937, step=1)"
      ]
     },
     "execution_count": 5,
     "metadata": {},
     "output_type": "execute_result"
    }
   ],
   "source": [
    "#check dataframe size\n",
    "\n",
    "driverid.index"
   ]
  },
  {
   "cell_type": "code",
   "execution_count": 6,
   "metadata": {},
   "outputs": [
    {
     "data": {
      "text/plain": [
       "driver_id  driver_onboard_date\n",
       "False      False                  937\n",
       "dtype: int64"
      ]
     },
     "execution_count": 6,
     "metadata": {},
     "output_type": "execute_result"
    }
   ],
   "source": [
    "#check nulls\n",
    "\n",
    "driverid.isnull().value_counts()"
   ]
  },
  {
   "cell_type": "code",
   "execution_count": 7,
   "metadata": {},
   "outputs": [
    {
     "data": {
      "text/plain": [
       "94d5f7697a40886a8723f6015fe47841    1\n",
       "6f107d977e357e3d22036cc447b354b0    1\n",
       "2a4afd4ab156dd0a6a0dc48bdf5d8db7    1\n",
       "581129294fc7d1f43a4d1a372515dfaa    1\n",
       "630559dc85053c746beafacbd590e8f0    1\n",
       "                                   ..\n",
       "6241b9c147df1d0c7027321d4e1d53cf    1\n",
       "c826130d392023b4c535431e2616e88b    1\n",
       "881527a718b502bacbd04b6f45fcc2fc    1\n",
       "74d1c00ab5098202337a91c936b6e080    1\n",
       "9494350df132e6748afca3bc5d138dcc    1\n",
       "Name: driver_id, Length: 937, dtype: int64"
      ]
     },
     "execution_count": 7,
     "metadata": {},
     "output_type": "execute_result"
    }
   ],
   "source": [
    "#check if driver is unique\n",
    "\n",
    "\n",
    "driverid['driver_id'].value_counts().sort_values(ascending=False)\n"
   ]
  },
  {
   "cell_type": "code",
   "execution_count": 8,
   "metadata": {},
   "outputs": [],
   "source": [
    "#change to date time\n",
    "\n",
    "driverid['driver_onboard_date']=pd.to_datetime(driverid['driver_onboard_date'],errors='coerce')"
   ]
  },
  {
   "cell_type": "code",
   "execution_count": 9,
   "metadata": {},
   "outputs": [
    {
     "data": {
      "text/plain": [
       "driver_id                      object\n",
       "driver_onboard_date    datetime64[ns]\n",
       "dtype: object"
      ]
     },
     "execution_count": 9,
     "metadata": {},
     "output_type": "execute_result"
    }
   ],
   "source": [
    "#confirm\n",
    "\n",
    "driverid.dtypes"
   ]
  },
  {
   "cell_type": "code",
   "execution_count": 10,
   "metadata": {},
   "outputs": [
    {
     "data": {
      "text/plain": [
       "2016    937\n",
       "Name: driver_onboard_date, dtype: int64"
      ]
     },
     "execution_count": 10,
     "metadata": {},
     "output_type": "execute_result"
    }
   ],
   "source": [
    "#check the year\n",
    "\n",
    "driverid['driver_onboard_date'].dt.year.value_counts()"
   ]
  },
  {
   "cell_type": "code",
   "execution_count": 11,
   "metadata": {},
   "outputs": [
    {
     "data": {
      "text/plain": [
       "4    591\n",
       "5    239\n",
       "3    107\n",
       "Name: driver_onboard_date, dtype: int64"
      ]
     },
     "execution_count": 11,
     "metadata": {},
     "output_type": "execute_result"
    }
   ],
   "source": [
    "#check the month for seasonality\n",
    "\n",
    "driverid['driver_onboard_date'].dt.month.value_counts()"
   ]
  },
  {
   "cell_type": "code",
   "execution_count": 12,
   "metadata": {},
   "outputs": [
    {
     "data": {
      "text/plain": [
       "29    57\n",
       "5     56\n",
       "4     50\n",
       "6     50\n",
       "12    45\n",
       "30    44\n",
       "13    42\n",
       "11    41\n",
       "28    38\n",
       "7     36\n",
       "14    36\n",
       "9     34\n",
       "8     32\n",
       "31    30\n",
       "15    29\n",
       "1     27\n",
       "10    25\n",
       "21    24\n",
       "26    23\n",
       "20    22\n",
       "2     22\n",
       "19    21\n",
       "22    21\n",
       "23    20\n",
       "3     18\n",
       "17    17\n",
       "25    17\n",
       "18    16\n",
       "27    16\n",
       "16    15\n",
       "24    13\n",
       "Name: driver_onboard_date, dtype: int64"
      ]
     },
     "execution_count": 12,
     "metadata": {},
     "output_type": "execute_result"
    }
   ],
   "source": [
    "#check the day for seasonality\n",
    "\n",
    "driverid['driver_onboard_date'].dt.day.value_counts()"
   ]
  },
  {
   "cell_type": "markdown",
   "metadata": {},
   "source": [
    "# Rider id"
   ]
  },
  {
   "cell_type": "code",
   "execution_count": 13,
   "metadata": {},
   "outputs": [],
   "source": [
    "#importing driver id file\n",
    "riderid=pd.read_csv(\"data/ride_ids.csv\")"
   ]
  },
  {
   "cell_type": "code",
   "execution_count": 14,
   "metadata": {},
   "outputs": [
    {
     "data": {
      "text/html": [
       "<div>\n",
       "<style scoped>\n",
       "    .dataframe tbody tr th:only-of-type {\n",
       "        vertical-align: middle;\n",
       "    }\n",
       "\n",
       "    .dataframe tbody tr th {\n",
       "        vertical-align: top;\n",
       "    }\n",
       "\n",
       "    .dataframe thead th {\n",
       "        text-align: right;\n",
       "    }\n",
       "</style>\n",
       "<table border=\"1\" class=\"dataframe\">\n",
       "  <thead>\n",
       "    <tr style=\"text-align: right;\">\n",
       "      <th></th>\n",
       "      <th>driver_id</th>\n",
       "      <th>ride_id</th>\n",
       "      <th>ride_distance</th>\n",
       "      <th>ride_duration</th>\n",
       "      <th>ride_prime_time</th>\n",
       "    </tr>\n",
       "  </thead>\n",
       "  <tbody>\n",
       "    <tr>\n",
       "      <th>0</th>\n",
       "      <td>002be0ffdc997bd5c50703158b7c2491</td>\n",
       "      <td>006d61cf7446e682f7bc50b0f8a5bea5</td>\n",
       "      <td>1811</td>\n",
       "      <td>327</td>\n",
       "      <td>50</td>\n",
       "    </tr>\n",
       "    <tr>\n",
       "      <th>1</th>\n",
       "      <td>002be0ffdc997bd5c50703158b7c2491</td>\n",
       "      <td>01b522c5c3a756fbdb12e95e87507eda</td>\n",
       "      <td>3362</td>\n",
       "      <td>809</td>\n",
       "      <td>0</td>\n",
       "    </tr>\n",
       "    <tr>\n",
       "      <th>2</th>\n",
       "      <td>002be0ffdc997bd5c50703158b7c2491</td>\n",
       "      <td>029227c4c2971ce69ff2274dc798ef43</td>\n",
       "      <td>3282</td>\n",
       "      <td>572</td>\n",
       "      <td>0</td>\n",
       "    </tr>\n",
       "    <tr>\n",
       "      <th>3</th>\n",
       "      <td>002be0ffdc997bd5c50703158b7c2491</td>\n",
       "      <td>034e861343a63ac3c18a9ceb1ce0ac69</td>\n",
       "      <td>65283</td>\n",
       "      <td>3338</td>\n",
       "      <td>25</td>\n",
       "    </tr>\n",
       "    <tr>\n",
       "      <th>4</th>\n",
       "      <td>002be0ffdc997bd5c50703158b7c2491</td>\n",
       "      <td>034f2e614a2f9fc7f1c2f77647d1b981</td>\n",
       "      <td>4115</td>\n",
       "      <td>823</td>\n",
       "      <td>100</td>\n",
       "    </tr>\n",
       "    <tr>\n",
       "      <th>5</th>\n",
       "      <td>002be0ffdc997bd5c50703158b7c2491</td>\n",
       "      <td>03d6b9d80b8a96135cb9b25178e9e203</td>\n",
       "      <td>4832</td>\n",
       "      <td>917</td>\n",
       "      <td>100</td>\n",
       "    </tr>\n",
       "    <tr>\n",
       "      <th>6</th>\n",
       "      <td>002be0ffdc997bd5c50703158b7c2491</td>\n",
       "      <td>04053c0ed21761e07f0b869cab5b7dd0</td>\n",
       "      <td>1575</td>\n",
       "      <td>347</td>\n",
       "      <td>0</td>\n",
       "    </tr>\n",
       "    <tr>\n",
       "      <th>7</th>\n",
       "      <td>002be0ffdc997bd5c50703158b7c2491</td>\n",
       "      <td>0534d432e0186625f623aaee57af98be</td>\n",
       "      <td>3056</td>\n",
       "      <td>687</td>\n",
       "      <td>25</td>\n",
       "    </tr>\n",
       "    <tr>\n",
       "      <th>8</th>\n",
       "      <td>002be0ffdc997bd5c50703158b7c2491</td>\n",
       "      <td>053a1621c0affcd2b9c517af5c2bc843</td>\n",
       "      <td>3940</td>\n",
       "      <td>1143</td>\n",
       "      <td>75</td>\n",
       "    </tr>\n",
       "    <tr>\n",
       "      <th>9</th>\n",
       "      <td>002be0ffdc997bd5c50703158b7c2491</td>\n",
       "      <td>066e92c52f59486de56cd7b8716a4ca6</td>\n",
       "      <td>3957</td>\n",
       "      <td>868</td>\n",
       "      <td>50</td>\n",
       "    </tr>\n",
       "  </tbody>\n",
       "</table>\n",
       "</div>"
      ],
      "text/plain": [
       "                          driver_id                           ride_id  \\\n",
       "0  002be0ffdc997bd5c50703158b7c2491  006d61cf7446e682f7bc50b0f8a5bea5   \n",
       "1  002be0ffdc997bd5c50703158b7c2491  01b522c5c3a756fbdb12e95e87507eda   \n",
       "2  002be0ffdc997bd5c50703158b7c2491  029227c4c2971ce69ff2274dc798ef43   \n",
       "3  002be0ffdc997bd5c50703158b7c2491  034e861343a63ac3c18a9ceb1ce0ac69   \n",
       "4  002be0ffdc997bd5c50703158b7c2491  034f2e614a2f9fc7f1c2f77647d1b981   \n",
       "5  002be0ffdc997bd5c50703158b7c2491  03d6b9d80b8a96135cb9b25178e9e203   \n",
       "6  002be0ffdc997bd5c50703158b7c2491  04053c0ed21761e07f0b869cab5b7dd0   \n",
       "7  002be0ffdc997bd5c50703158b7c2491  0534d432e0186625f623aaee57af98be   \n",
       "8  002be0ffdc997bd5c50703158b7c2491  053a1621c0affcd2b9c517af5c2bc843   \n",
       "9  002be0ffdc997bd5c50703158b7c2491  066e92c52f59486de56cd7b8716a4ca6   \n",
       "\n",
       "   ride_distance  ride_duration  ride_prime_time  \n",
       "0           1811            327               50  \n",
       "1           3362            809                0  \n",
       "2           3282            572                0  \n",
       "3          65283           3338               25  \n",
       "4           4115            823              100  \n",
       "5           4832            917              100  \n",
       "6           1575            347                0  \n",
       "7           3056            687               25  \n",
       "8           3940           1143               75  \n",
       "9           3957            868               50  "
      ]
     },
     "execution_count": 14,
     "metadata": {},
     "output_type": "execute_result"
    }
   ],
   "source": [
    "#check file\n",
    "\n",
    "riderid.head(10)"
   ]
  },
  {
   "cell_type": "code",
   "execution_count": 15,
   "metadata": {},
   "outputs": [
    {
     "data": {
      "text/plain": [
       "driver_id          object\n",
       "ride_id            object\n",
       "ride_distance       int64\n",
       "ride_duration       int64\n",
       "ride_prime_time     int64\n",
       "dtype: object"
      ]
     },
     "execution_count": 15,
     "metadata": {},
     "output_type": "execute_result"
    }
   ],
   "source": [
    "#check the types\n",
    "\n",
    "riderid.dtypes"
   ]
  },
  {
   "cell_type": "code",
   "execution_count": 16,
   "metadata": {},
   "outputs": [],
   "source": [
    "#check null values\n",
    "\n",
    "def ridenulls(column):\n",
    "    return riderid.loc[riderid[column].isnull()]\n",
    "    "
   ]
  },
  {
   "cell_type": "code",
   "execution_count": 17,
   "metadata": {
    "scrolled": true
   },
   "outputs": [
    {
     "data": {
      "text/html": [
       "<div>\n",
       "<style scoped>\n",
       "    .dataframe tbody tr th:only-of-type {\n",
       "        vertical-align: middle;\n",
       "    }\n",
       "\n",
       "    .dataframe tbody tr th {\n",
       "        vertical-align: top;\n",
       "    }\n",
       "\n",
       "    .dataframe thead th {\n",
       "        text-align: right;\n",
       "    }\n",
       "</style>\n",
       "<table border=\"1\" class=\"dataframe\">\n",
       "  <thead>\n",
       "    <tr style=\"text-align: right;\">\n",
       "      <th></th>\n",
       "      <th>driver_id</th>\n",
       "      <th>ride_id</th>\n",
       "      <th>ride_distance</th>\n",
       "      <th>ride_duration</th>\n",
       "      <th>ride_prime_time</th>\n",
       "    </tr>\n",
       "  </thead>\n",
       "  <tbody>\n",
       "  </tbody>\n",
       "</table>\n",
       "</div>"
      ],
      "text/plain": [
       "Empty DataFrame\n",
       "Columns: [driver_id, ride_id, ride_distance, ride_duration, ride_prime_time]\n",
       "Index: []"
      ]
     },
     "execution_count": 17,
     "metadata": {},
     "output_type": "execute_result"
    }
   ],
   "source": [
    "#call function\n",
    "#check!!\n",
    "\n",
    "ridenulls('ride_prime_time')"
   ]
  },
  {
   "cell_type": "code",
   "execution_count": 18,
   "metadata": {},
   "outputs": [],
   "source": [
    "# distance is in meters and duration in seconds, needs conversion"
   ]
  },
  {
   "cell_type": "code",
   "execution_count": 19,
   "metadata": {},
   "outputs": [
    {
     "data": {
      "text/plain": [
       "Index(['driver_id', 'ride_id', 'ride_distance', 'ride_duration',\n",
       "       'ride_prime_time'],\n",
       "      dtype='object')"
      ]
     },
     "execution_count": 19,
     "metadata": {},
     "output_type": "execute_result"
    }
   ],
   "source": [
    "#check column names\n",
    "\n",
    "riderid.columns"
   ]
  },
  {
   "cell_type": "code",
   "execution_count": 20,
   "metadata": {},
   "outputs": [],
   "source": [
    "#inser columns with the duration in minutes\n",
    "\n",
    "riderid[\"ride_duration_min\"]=riderid[\"ride_duration\"]/60"
   ]
  },
  {
   "cell_type": "code",
   "execution_count": 21,
   "metadata": {},
   "outputs": [],
   "source": [
    "# insert column with the conversion to miles\n",
    "#1 mile = 1 609.344 meters\n",
    "\n",
    "riderid[\"ride_distance_miles\"]=riderid[\"ride_distance\"]/1609.344\n",
    "\n"
   ]
  },
  {
   "cell_type": "code",
   "execution_count": 22,
   "metadata": {
    "scrolled": true
   },
   "outputs": [
    {
     "data": {
      "text/html": [
       "<div>\n",
       "<style scoped>\n",
       "    .dataframe tbody tr th:only-of-type {\n",
       "        vertical-align: middle;\n",
       "    }\n",
       "\n",
       "    .dataframe tbody tr th {\n",
       "        vertical-align: top;\n",
       "    }\n",
       "\n",
       "    .dataframe thead th {\n",
       "        text-align: right;\n",
       "    }\n",
       "</style>\n",
       "<table border=\"1\" class=\"dataframe\">\n",
       "  <thead>\n",
       "    <tr style=\"text-align: right;\">\n",
       "      <th></th>\n",
       "      <th>driver_id</th>\n",
       "      <th>ride_id</th>\n",
       "      <th>ride_distance</th>\n",
       "      <th>ride_duration</th>\n",
       "      <th>ride_prime_time</th>\n",
       "      <th>ride_duration_min</th>\n",
       "      <th>ride_distance_miles</th>\n",
       "    </tr>\n",
       "  </thead>\n",
       "  <tbody>\n",
       "    <tr>\n",
       "      <th>0</th>\n",
       "      <td>002be0ffdc997bd5c50703158b7c2491</td>\n",
       "      <td>006d61cf7446e682f7bc50b0f8a5bea5</td>\n",
       "      <td>1811</td>\n",
       "      <td>327</td>\n",
       "      <td>50</td>\n",
       "      <td>5.450000</td>\n",
       "      <td>1.125303</td>\n",
       "    </tr>\n",
       "    <tr>\n",
       "      <th>1</th>\n",
       "      <td>002be0ffdc997bd5c50703158b7c2491</td>\n",
       "      <td>01b522c5c3a756fbdb12e95e87507eda</td>\n",
       "      <td>3362</td>\n",
       "      <td>809</td>\n",
       "      <td>0</td>\n",
       "      <td>13.483333</td>\n",
       "      <td>2.089050</td>\n",
       "    </tr>\n",
       "    <tr>\n",
       "      <th>2</th>\n",
       "      <td>002be0ffdc997bd5c50703158b7c2491</td>\n",
       "      <td>029227c4c2971ce69ff2274dc798ef43</td>\n",
       "      <td>3282</td>\n",
       "      <td>572</td>\n",
       "      <td>0</td>\n",
       "      <td>9.533333</td>\n",
       "      <td>2.039340</td>\n",
       "    </tr>\n",
       "    <tr>\n",
       "      <th>3</th>\n",
       "      <td>002be0ffdc997bd5c50703158b7c2491</td>\n",
       "      <td>034e861343a63ac3c18a9ceb1ce0ac69</td>\n",
       "      <td>65283</td>\n",
       "      <td>3338</td>\n",
       "      <td>25</td>\n",
       "      <td>55.633333</td>\n",
       "      <td>40.564976</td>\n",
       "    </tr>\n",
       "    <tr>\n",
       "      <th>4</th>\n",
       "      <td>002be0ffdc997bd5c50703158b7c2491</td>\n",
       "      <td>034f2e614a2f9fc7f1c2f77647d1b981</td>\n",
       "      <td>4115</td>\n",
       "      <td>823</td>\n",
       "      <td>100</td>\n",
       "      <td>13.716667</td>\n",
       "      <td>2.556942</td>\n",
       "    </tr>\n",
       "  </tbody>\n",
       "</table>\n",
       "</div>"
      ],
      "text/plain": [
       "                          driver_id                           ride_id  \\\n",
       "0  002be0ffdc997bd5c50703158b7c2491  006d61cf7446e682f7bc50b0f8a5bea5   \n",
       "1  002be0ffdc997bd5c50703158b7c2491  01b522c5c3a756fbdb12e95e87507eda   \n",
       "2  002be0ffdc997bd5c50703158b7c2491  029227c4c2971ce69ff2274dc798ef43   \n",
       "3  002be0ffdc997bd5c50703158b7c2491  034e861343a63ac3c18a9ceb1ce0ac69   \n",
       "4  002be0ffdc997bd5c50703158b7c2491  034f2e614a2f9fc7f1c2f77647d1b981   \n",
       "\n",
       "   ride_distance  ride_duration  ride_prime_time  ride_duration_min  \\\n",
       "0           1811            327               50           5.450000   \n",
       "1           3362            809                0          13.483333   \n",
       "2           3282            572                0           9.533333   \n",
       "3          65283           3338               25          55.633333   \n",
       "4           4115            823              100          13.716667   \n",
       "\n",
       "   ride_distance_miles  \n",
       "0             1.125303  \n",
       "1             2.089050  \n",
       "2             2.039340  \n",
       "3            40.564976  \n",
       "4             2.556942  "
      ]
     },
     "execution_count": 22,
     "metadata": {},
     "output_type": "execute_result"
    }
   ],
   "source": [
    "#confirm\n",
    "\n",
    "riderid.head()"
   ]
  },
  {
   "cell_type": "code",
   "execution_count": 23,
   "metadata": {},
   "outputs": [
    {
     "data": {
      "text/html": [
       "<div>\n",
       "<style scoped>\n",
       "    .dataframe tbody tr th:only-of-type {\n",
       "        vertical-align: middle;\n",
       "    }\n",
       "\n",
       "    .dataframe tbody tr th {\n",
       "        vertical-align: top;\n",
       "    }\n",
       "\n",
       "    .dataframe thead th {\n",
       "        text-align: right;\n",
       "    }\n",
       "</style>\n",
       "<table border=\"1\" class=\"dataframe\">\n",
       "  <thead>\n",
       "    <tr style=\"text-align: right;\">\n",
       "      <th></th>\n",
       "      <th>driver_id</th>\n",
       "      <th>ride_id</th>\n",
       "      <th>ride_distance</th>\n",
       "      <th>ride_duration</th>\n",
       "      <th>ride_prime_time</th>\n",
       "      <th>ride_duration_min</th>\n",
       "      <th>ride_distance_miles</th>\n",
       "    </tr>\n",
       "  </thead>\n",
       "  <tbody>\n",
       "    <tr>\n",
       "      <th>167241</th>\n",
       "      <td>d967f5296732fa55266b5f1314e7447b</td>\n",
       "      <td>00003037a262d9ee40e61b5c0718f7f0</td>\n",
       "      <td>3698</td>\n",
       "      <td>1112</td>\n",
       "      <td>0</td>\n",
       "      <td>18.533333</td>\n",
       "      <td>2.297831</td>\n",
       "    </tr>\n",
       "  </tbody>\n",
       "</table>\n",
       "</div>"
      ],
      "text/plain": [
       "                               driver_id                           ride_id  \\\n",
       "167241  d967f5296732fa55266b5f1314e7447b  00003037a262d9ee40e61b5c0718f7f0   \n",
       "\n",
       "        ride_distance  ride_duration  ride_prime_time  ride_duration_min  \\\n",
       "167241           3698           1112                0          18.533333   \n",
       "\n",
       "        ride_distance_miles  \n",
       "167241             2.297831  "
      ]
     },
     "execution_count": 23,
     "metadata": {},
     "output_type": "execute_result"
    }
   ],
   "source": [
    "#testing a result\n",
    "\n",
    "test=riderid.loc[riderid['ride_id']==\"00003037a262d9ee40e61b5c0718f7f0\"]\n",
    "test"
   ]
  },
  {
   "cell_type": "code",
   "execution_count": 24,
   "metadata": {},
   "outputs": [],
   "source": [
    "#the duration is the time difference between picked_up_at and dropped_off_at\n",
    "\n"
   ]
  },
  {
   "cell_type": "markdown",
   "metadata": {},
   "source": [
    "# adding the rates"
   ]
  },
  {
   "cell_type": "code",
   "execution_count": 25,
   "metadata": {},
   "outputs": [
    {
     "data": {
      "text/plain": [
       "'Base Fare $2.00\\nCost per Mile $1.15\\nCost per Minute $0.22\\nService Fee $1.75\\nMinimum Fare $5.00\\nMaximum Fare $400.00'"
      ]
     },
     "execution_count": 25,
     "metadata": {},
     "output_type": "execute_result"
    }
   ],
   "source": [
    "\"\"\"Base Fare $2.00\n",
    "Cost per Mile $1.15\n",
    "Cost per Minute $0.22\n",
    "Service Fee $1.75\n",
    "Minimum Fare $5.00\n",
    "Maximum Fare $400.00\"\"\""
   ]
  },
  {
   "cell_type": "code",
   "execution_count": 26,
   "metadata": {},
   "outputs": [],
   "source": [
    "#add base fare\n",
    "\n",
    "riderid[\"base_fare$\"]=2"
   ]
  },
  {
   "cell_type": "code",
   "execution_count": 27,
   "metadata": {},
   "outputs": [],
   "source": [
    "#add cost per mile\n",
    "\n",
    "riderid[\"distance_ride_revenue$\"]=riderid[\"ride_distance_miles\"]*1.15"
   ]
  },
  {
   "cell_type": "code",
   "execution_count": 28,
   "metadata": {},
   "outputs": [],
   "source": [
    "#add cost per minute\n",
    "\n",
    "riderid[\"duration_ride_revenue$\"]=riderid[\"ride_duration_min\"]*0.22"
   ]
  },
  {
   "cell_type": "code",
   "execution_count": 29,
   "metadata": {},
   "outputs": [],
   "source": [
    "#add service fee\n",
    "\n",
    "riderid[\"service_fee$\"]=1.75"
   ]
  },
  {
   "cell_type": "code",
   "execution_count": 30,
   "metadata": {},
   "outputs": [],
   "source": [
    "# sum the ride value before the service fee, so base fare plus duration revenue plus distance revenue\n",
    "\n",
    "riderid[\"driver_revenue_before_commission$\"]=riderid[\"base_fare$\"]+riderid[\"distance_ride_revenue$\"]+riderid[\"duration_ride_revenue$\"]"
   ]
  },
  {
   "cell_type": "code",
   "execution_count": 31,
   "metadata": {},
   "outputs": [],
   "source": [
    "# IMPORTANT\n",
    "\n",
    "# if the commission of lyft is less that 1 (minimum fare 5* 0.2), then it has a decrease commission of 5 - driver_revenue_before_commission$\n",
    "#it seems lyft pays the driver if the minimum is not reached\n",
    "# if if the commission of lyft is more than 80 ( maximum fare 400 * 0.2), since the max is 400, the revenue is 80 + (driver_revenue_before_commission$-80)"
   ]
  },
  {
   "cell_type": "code",
   "execution_count": 32,
   "metadata": {
    "scrolled": true
   },
   "outputs": [
    {
     "data": {
      "text/html": [
       "<div>\n",
       "<style scoped>\n",
       "    .dataframe tbody tr th:only-of-type {\n",
       "        vertical-align: middle;\n",
       "    }\n",
       "\n",
       "    .dataframe tbody tr th {\n",
       "        vertical-align: top;\n",
       "    }\n",
       "\n",
       "    .dataframe thead th {\n",
       "        text-align: right;\n",
       "    }\n",
       "</style>\n",
       "<table border=\"1\" class=\"dataframe\">\n",
       "  <thead>\n",
       "    <tr style=\"text-align: right;\">\n",
       "      <th></th>\n",
       "      <th>driver_id</th>\n",
       "      <th>ride_id</th>\n",
       "      <th>ride_distance</th>\n",
       "      <th>ride_duration</th>\n",
       "      <th>ride_prime_time</th>\n",
       "      <th>ride_duration_min</th>\n",
       "      <th>ride_distance_miles</th>\n",
       "      <th>base_fare$</th>\n",
       "      <th>distance_ride_revenue$</th>\n",
       "      <th>duration_ride_revenue$</th>\n",
       "      <th>service_fee$</th>\n",
       "      <th>driver_revenue_before_commission$</th>\n",
       "    </tr>\n",
       "  </thead>\n",
       "  <tbody>\n",
       "    <tr>\n",
       "      <th>0</th>\n",
       "      <td>002be0ffdc997bd5c50703158b7c2491</td>\n",
       "      <td>006d61cf7446e682f7bc50b0f8a5bea5</td>\n",
       "      <td>1811</td>\n",
       "      <td>327</td>\n",
       "      <td>50</td>\n",
       "      <td>5.450000</td>\n",
       "      <td>1.125303</td>\n",
       "      <td>2</td>\n",
       "      <td>1.294099</td>\n",
       "      <td>1.199000</td>\n",
       "      <td>1.75</td>\n",
       "      <td>4.493099</td>\n",
       "    </tr>\n",
       "    <tr>\n",
       "      <th>1</th>\n",
       "      <td>002be0ffdc997bd5c50703158b7c2491</td>\n",
       "      <td>01b522c5c3a756fbdb12e95e87507eda</td>\n",
       "      <td>3362</td>\n",
       "      <td>809</td>\n",
       "      <td>0</td>\n",
       "      <td>13.483333</td>\n",
       "      <td>2.089050</td>\n",
       "      <td>2</td>\n",
       "      <td>2.402407</td>\n",
       "      <td>2.966333</td>\n",
       "      <td>1.75</td>\n",
       "      <td>7.368741</td>\n",
       "    </tr>\n",
       "    <tr>\n",
       "      <th>2</th>\n",
       "      <td>002be0ffdc997bd5c50703158b7c2491</td>\n",
       "      <td>029227c4c2971ce69ff2274dc798ef43</td>\n",
       "      <td>3282</td>\n",
       "      <td>572</td>\n",
       "      <td>0</td>\n",
       "      <td>9.533333</td>\n",
       "      <td>2.039340</td>\n",
       "      <td>2</td>\n",
       "      <td>2.345241</td>\n",
       "      <td>2.097333</td>\n",
       "      <td>1.75</td>\n",
       "      <td>6.442575</td>\n",
       "    </tr>\n",
       "    <tr>\n",
       "      <th>3</th>\n",
       "      <td>002be0ffdc997bd5c50703158b7c2491</td>\n",
       "      <td>034e861343a63ac3c18a9ceb1ce0ac69</td>\n",
       "      <td>65283</td>\n",
       "      <td>3338</td>\n",
       "      <td>25</td>\n",
       "      <td>55.633333</td>\n",
       "      <td>40.564976</td>\n",
       "      <td>2</td>\n",
       "      <td>46.649722</td>\n",
       "      <td>12.239333</td>\n",
       "      <td>1.75</td>\n",
       "      <td>60.889055</td>\n",
       "    </tr>\n",
       "    <tr>\n",
       "      <th>4</th>\n",
       "      <td>002be0ffdc997bd5c50703158b7c2491</td>\n",
       "      <td>034f2e614a2f9fc7f1c2f77647d1b981</td>\n",
       "      <td>4115</td>\n",
       "      <td>823</td>\n",
       "      <td>100</td>\n",
       "      <td>13.716667</td>\n",
       "      <td>2.556942</td>\n",
       "      <td>2</td>\n",
       "      <td>2.940484</td>\n",
       "      <td>3.017667</td>\n",
       "      <td>1.75</td>\n",
       "      <td>7.958150</td>\n",
       "    </tr>\n",
       "  </tbody>\n",
       "</table>\n",
       "</div>"
      ],
      "text/plain": [
       "                          driver_id                           ride_id  \\\n",
       "0  002be0ffdc997bd5c50703158b7c2491  006d61cf7446e682f7bc50b0f8a5bea5   \n",
       "1  002be0ffdc997bd5c50703158b7c2491  01b522c5c3a756fbdb12e95e87507eda   \n",
       "2  002be0ffdc997bd5c50703158b7c2491  029227c4c2971ce69ff2274dc798ef43   \n",
       "3  002be0ffdc997bd5c50703158b7c2491  034e861343a63ac3c18a9ceb1ce0ac69   \n",
       "4  002be0ffdc997bd5c50703158b7c2491  034f2e614a2f9fc7f1c2f77647d1b981   \n",
       "\n",
       "   ride_distance  ride_duration  ride_prime_time  ride_duration_min  \\\n",
       "0           1811            327               50           5.450000   \n",
       "1           3362            809                0          13.483333   \n",
       "2           3282            572                0           9.533333   \n",
       "3          65283           3338               25          55.633333   \n",
       "4           4115            823              100          13.716667   \n",
       "\n",
       "   ride_distance_miles  base_fare$  distance_ride_revenue$  \\\n",
       "0             1.125303           2                1.294099   \n",
       "1             2.089050           2                2.402407   \n",
       "2             2.039340           2                2.345241   \n",
       "3            40.564976           2               46.649722   \n",
       "4             2.556942           2                2.940484   \n",
       "\n",
       "   duration_ride_revenue$  service_fee$  driver_revenue_before_commission$  \n",
       "0                1.199000          1.75                           4.493099  \n",
       "1                2.966333          1.75                           7.368741  \n",
       "2                2.097333          1.75                           6.442575  \n",
       "3               12.239333          1.75                          60.889055  \n",
       "4                3.017667          1.75                           7.958150  "
      ]
     },
     "execution_count": 32,
     "metadata": {},
     "output_type": "execute_result"
    }
   ],
   "source": [
    "riderid.head()"
   ]
  },
  {
   "cell_type": "code",
   "execution_count": 33,
   "metadata": {},
   "outputs": [],
   "source": [
    "#put the total of the ride and take the 20% and service fee for the ride and service fee\n",
    "# group by driver id\n",
    "#take off possible outliers check plot\n",
    "#check if the ride id is indeed the unique one\n",
    "#drop some columns \n",
    "#check better the prime time\n"
   ]
  },
  {
   "cell_type": "code",
   "execution_count": 34,
   "metadata": {},
   "outputs": [],
   "source": [
    "# riderid[\"total_price_mile$\"]"
   ]
  },
  {
   "cell_type": "markdown",
   "metadata": {},
   "source": [
    "# Rider Time stamps"
   ]
  },
  {
   "cell_type": "code",
   "execution_count": 35,
   "metadata": {},
   "outputs": [],
   "source": [
    "#importing driver id file\n",
    "\n",
    "ridertime=pd.read_csv(\"data/ride_timestamps.csv\")"
   ]
  },
  {
   "cell_type": "code",
   "execution_count": 36,
   "metadata": {},
   "outputs": [
    {
     "data": {
      "text/html": [
       "<div>\n",
       "<style scoped>\n",
       "    .dataframe tbody tr th:only-of-type {\n",
       "        vertical-align: middle;\n",
       "    }\n",
       "\n",
       "    .dataframe tbody tr th {\n",
       "        vertical-align: top;\n",
       "    }\n",
       "\n",
       "    .dataframe thead th {\n",
       "        text-align: right;\n",
       "    }\n",
       "</style>\n",
       "<table border=\"1\" class=\"dataframe\">\n",
       "  <thead>\n",
       "    <tr style=\"text-align: right;\">\n",
       "      <th></th>\n",
       "      <th>ride_id</th>\n",
       "      <th>event</th>\n",
       "      <th>timestamp</th>\n",
       "    </tr>\n",
       "  </thead>\n",
       "  <tbody>\n",
       "    <tr>\n",
       "      <th>0</th>\n",
       "      <td>00003037a262d9ee40e61b5c0718f7f0</td>\n",
       "      <td>requested_at</td>\n",
       "      <td>2016-06-13 09:39:19</td>\n",
       "    </tr>\n",
       "    <tr>\n",
       "      <th>1</th>\n",
       "      <td>00003037a262d9ee40e61b5c0718f7f0</td>\n",
       "      <td>accepted_at</td>\n",
       "      <td>2016-06-13 09:39:51</td>\n",
       "    </tr>\n",
       "    <tr>\n",
       "      <th>2</th>\n",
       "      <td>00003037a262d9ee40e61b5c0718f7f0</td>\n",
       "      <td>arrived_at</td>\n",
       "      <td>2016-06-13 09:44:31</td>\n",
       "    </tr>\n",
       "    <tr>\n",
       "      <th>3</th>\n",
       "      <td>00003037a262d9ee40e61b5c0718f7f0</td>\n",
       "      <td>picked_up_at</td>\n",
       "      <td>2016-06-13 09:44:33</td>\n",
       "    </tr>\n",
       "    <tr>\n",
       "      <th>4</th>\n",
       "      <td>00003037a262d9ee40e61b5c0718f7f0</td>\n",
       "      <td>dropped_off_at</td>\n",
       "      <td>2016-06-13 10:03:05</td>\n",
       "    </tr>\n",
       "    <tr>\n",
       "      <th>5</th>\n",
       "      <td>00005eae40882760d675da5effb89ae3</td>\n",
       "      <td>requested_at</td>\n",
       "      <td>2016-05-14 05:23:21</td>\n",
       "    </tr>\n",
       "    <tr>\n",
       "      <th>6</th>\n",
       "      <td>00005eae40882760d675da5effb89ae3</td>\n",
       "      <td>accepted_at</td>\n",
       "      <td>2016-05-14 05:23:25</td>\n",
       "    </tr>\n",
       "    <tr>\n",
       "      <th>7</th>\n",
       "      <td>00005eae40882760d675da5effb89ae3</td>\n",
       "      <td>arrived_at</td>\n",
       "      <td>2016-05-14 05:26:17</td>\n",
       "    </tr>\n",
       "    <tr>\n",
       "      <th>8</th>\n",
       "      <td>00005eae40882760d675da5effb89ae3</td>\n",
       "      <td>picked_up_at</td>\n",
       "      <td>2016-05-14 05:26:18</td>\n",
       "    </tr>\n",
       "    <tr>\n",
       "      <th>9</th>\n",
       "      <td>00005eae40882760d675da5effb89ae3</td>\n",
       "      <td>dropped_off_at</td>\n",
       "      <td>2016-05-14 05:34:17</td>\n",
       "    </tr>\n",
       "  </tbody>\n",
       "</table>\n",
       "</div>"
      ],
      "text/plain": [
       "                            ride_id           event            timestamp\n",
       "0  00003037a262d9ee40e61b5c0718f7f0    requested_at  2016-06-13 09:39:19\n",
       "1  00003037a262d9ee40e61b5c0718f7f0     accepted_at  2016-06-13 09:39:51\n",
       "2  00003037a262d9ee40e61b5c0718f7f0      arrived_at  2016-06-13 09:44:31\n",
       "3  00003037a262d9ee40e61b5c0718f7f0    picked_up_at  2016-06-13 09:44:33\n",
       "4  00003037a262d9ee40e61b5c0718f7f0  dropped_off_at  2016-06-13 10:03:05\n",
       "5  00005eae40882760d675da5effb89ae3    requested_at  2016-05-14 05:23:21\n",
       "6  00005eae40882760d675da5effb89ae3     accepted_at  2016-05-14 05:23:25\n",
       "7  00005eae40882760d675da5effb89ae3      arrived_at  2016-05-14 05:26:17\n",
       "8  00005eae40882760d675da5effb89ae3    picked_up_at  2016-05-14 05:26:18\n",
       "9  00005eae40882760d675da5effb89ae3  dropped_off_at  2016-05-14 05:34:17"
      ]
     },
     "execution_count": 36,
     "metadata": {},
     "output_type": "execute_result"
    }
   ],
   "source": [
    "#check file\n",
    "\n",
    "ridertime.head(10)"
   ]
  },
  {
   "cell_type": "code",
   "execution_count": 37,
   "metadata": {
    "scrolled": false
   },
   "outputs": [
    {
     "data": {
      "text/plain": [
       "ride_id      object\n",
       "event        object\n",
       "timestamp    object\n",
       "dtype: object"
      ]
     },
     "execution_count": 37,
     "metadata": {},
     "output_type": "execute_result"
    }
   ],
   "source": [
    "# check types\n",
    "\n",
    "ridertime.dtypes"
   ]
  },
  {
   "cell_type": "code",
   "execution_count": 38,
   "metadata": {},
   "outputs": [],
   "source": [
    "#change timestamp to correct type\n",
    "\n",
    "ridertime['timestamp']=pd.to_datetime(ridertime['timestamp'],errors='coerce')"
   ]
  },
  {
   "cell_type": "code",
   "execution_count": 39,
   "metadata": {},
   "outputs": [
    {
     "data": {
      "text/plain": [
       "ride_id              object\n",
       "event                object\n",
       "timestamp    datetime64[ns]\n",
       "dtype: object"
      ]
     },
     "execution_count": 39,
     "metadata": {},
     "output_type": "execute_result"
    }
   ],
   "source": [
    "ridertime.dtypes"
   ]
  },
  {
   "cell_type": "code",
   "execution_count": 40,
   "metadata": {},
   "outputs": [],
   "source": [
    "#add month\n",
    "\n",
    "ridertime[\"month\"]=ridertime[\"timestamp\"].dt.month"
   ]
  },
  {
   "cell_type": "code",
   "execution_count": 41,
   "metadata": {},
   "outputs": [
    {
     "data": {
      "text/plain": [
       "5.0    418294\n",
       "6.0    346486\n",
       "4.0    199384\n",
       "3.0      6240\n",
       "Name: month, dtype: int64"
      ]
     },
     "execution_count": 41,
     "metadata": {},
     "output_type": "execute_result"
    }
   ],
   "source": [
    "# check variation\n",
    "\n",
    "ridertime[\"month\"].value_counts()"
   ]
  },
  {
   "cell_type": "code",
   "execution_count": 42,
   "metadata": {},
   "outputs": [],
   "source": [
    "#add day\n",
    "\n",
    "ridertime[\"day\"]=ridertime[\"timestamp\"].dt.day"
   ]
  },
  {
   "cell_type": "code",
   "execution_count": 43,
   "metadata": {
    "scrolled": true
   },
   "outputs": [
    {
     "data": {
      "text/plain": [
       "21.0    37040\n",
       "25.0    36783\n",
       "15.0    36674\n",
       "14.0    36555\n",
       "20.0    36346\n",
       "26.0    36057\n",
       "16.0    35572\n",
       "24.0    35458\n",
       "17.0    35308\n",
       "22.0    35098\n",
       "13.0    34828\n",
       "23.0    34293\n",
       "11.0    33543\n",
       "19.0    32878\n",
       "10.0    32777\n",
       "18.0    32595\n",
       "12.0    32518\n",
       "7.0     31627\n",
       "9.0     30766\n",
       "6.0     30721\n",
       "4.0     29479\n",
       "5.0     28832\n",
       "8.0     28702\n",
       "3.0     28685\n",
       "28.0    26637\n",
       "27.0    26557\n",
       "2.0     25821\n",
       "29.0    25775\n",
       "1.0     24408\n",
       "30.0    24026\n",
       "31.0    14045\n",
       "Name: day, dtype: int64"
      ]
     },
     "execution_count": 43,
     "metadata": {},
     "output_type": "execute_result"
    }
   ],
   "source": [
    "# check variation\n",
    "\n",
    "ridertime[\"day\"].value_counts()"
   ]
  },
  {
   "cell_type": "code",
   "execution_count": 44,
   "metadata": {},
   "outputs": [],
   "source": [
    "#add weekday\n",
    "# Monday=0, Sunday=6\n",
    "\n",
    "ridertime[\"weekday\"]=ridertime[\"timestamp\"].dt.weekday"
   ]
  },
  {
   "cell_type": "code",
   "execution_count": 45,
   "metadata": {},
   "outputs": [
    {
     "data": {
      "text/plain": [
       "4.0    170113\n",
       "5.0    160010\n",
       "3.0    149367\n",
       "2.0    137032\n",
       "1.0    125905\n",
       "6.0    120157\n",
       "0.0    107820\n",
       "Name: weekday, dtype: int64"
      ]
     },
     "execution_count": 45,
     "metadata": {},
     "output_type": "execute_result"
    }
   ],
   "source": [
    "# check variation\n",
    "\n",
    "ridertime[\"weekday\"].value_counts()"
   ]
  },
  {
   "cell_type": "code",
   "execution_count": 46,
   "metadata": {},
   "outputs": [],
   "source": [
    "# 4 and 5, Friday and Saturday"
   ]
  },
  {
   "cell_type": "code",
   "execution_count": 47,
   "metadata": {},
   "outputs": [],
   "source": [
    "#add hour\n",
    "\n",
    "ridertime[\"hour\"]=ridertime[\"timestamp\"].dt.hour"
   ]
  },
  {
   "cell_type": "code",
   "execution_count": 48,
   "metadata": {
    "scrolled": true
   },
   "outputs": [
    {
     "data": {
      "text/plain": [
       "19.0    70891\n",
       "18.0    68947\n",
       "20.0    64591\n",
       "21.0    64444\n",
       "22.0    60147\n",
       "17.0    57222\n",
       "23.0    48933\n",
       "9.0     48835\n",
       "16.0    48074\n",
       "8.0     44248\n",
       "10.0    43713\n",
       "15.0    43087\n",
       "11.0    41531\n",
       "12.0    41165\n",
       "14.0    40080\n",
       "13.0    39577\n",
       "0.0     34220\n",
       "7.0     32742\n",
       "1.0     24602\n",
       "6.0     16653\n",
       "2.0     15173\n",
       "5.0      8174\n",
       "3.0      7371\n",
       "4.0      5984\n",
       "Name: hour, dtype: int64"
      ]
     },
     "execution_count": 48,
     "metadata": {},
     "output_type": "execute_result"
    }
   ],
   "source": [
    "# check variation\n",
    "\n",
    "ridertime[\"hour\"].value_counts()"
   ]
  },
  {
   "cell_type": "code",
   "execution_count": 49,
   "metadata": {},
   "outputs": [],
   "source": [
    "#night time more popular "
   ]
  },
  {
   "cell_type": "code",
   "execution_count": 50,
   "metadata": {},
   "outputs": [
    {
     "data": {
      "text/html": [
       "<div>\n",
       "<style scoped>\n",
       "    .dataframe tbody tr th:only-of-type {\n",
       "        vertical-align: middle;\n",
       "    }\n",
       "\n",
       "    .dataframe tbody tr th {\n",
       "        vertical-align: top;\n",
       "    }\n",
       "\n",
       "    .dataframe thead th {\n",
       "        text-align: right;\n",
       "    }\n",
       "</style>\n",
       "<table border=\"1\" class=\"dataframe\">\n",
       "  <thead>\n",
       "    <tr style=\"text-align: right;\">\n",
       "      <th></th>\n",
       "      <th>ride_id</th>\n",
       "      <th>event</th>\n",
       "      <th>timestamp</th>\n",
       "      <th>month</th>\n",
       "      <th>day</th>\n",
       "      <th>weekday</th>\n",
       "      <th>hour</th>\n",
       "    </tr>\n",
       "  </thead>\n",
       "  <tbody>\n",
       "    <tr>\n",
       "      <th>0</th>\n",
       "      <td>00003037a262d9ee40e61b5c0718f7f0</td>\n",
       "      <td>requested_at</td>\n",
       "      <td>2016-06-13 09:39:19</td>\n",
       "      <td>6.0</td>\n",
       "      <td>13.0</td>\n",
       "      <td>0.0</td>\n",
       "      <td>9.0</td>\n",
       "    </tr>\n",
       "    <tr>\n",
       "      <th>1</th>\n",
       "      <td>00003037a262d9ee40e61b5c0718f7f0</td>\n",
       "      <td>accepted_at</td>\n",
       "      <td>2016-06-13 09:39:51</td>\n",
       "      <td>6.0</td>\n",
       "      <td>13.0</td>\n",
       "      <td>0.0</td>\n",
       "      <td>9.0</td>\n",
       "    </tr>\n",
       "    <tr>\n",
       "      <th>2</th>\n",
       "      <td>00003037a262d9ee40e61b5c0718f7f0</td>\n",
       "      <td>arrived_at</td>\n",
       "      <td>2016-06-13 09:44:31</td>\n",
       "      <td>6.0</td>\n",
       "      <td>13.0</td>\n",
       "      <td>0.0</td>\n",
       "      <td>9.0</td>\n",
       "    </tr>\n",
       "    <tr>\n",
       "      <th>3</th>\n",
       "      <td>00003037a262d9ee40e61b5c0718f7f0</td>\n",
       "      <td>picked_up_at</td>\n",
       "      <td>2016-06-13 09:44:33</td>\n",
       "      <td>6.0</td>\n",
       "      <td>13.0</td>\n",
       "      <td>0.0</td>\n",
       "      <td>9.0</td>\n",
       "    </tr>\n",
       "    <tr>\n",
       "      <th>4</th>\n",
       "      <td>00003037a262d9ee40e61b5c0718f7f0</td>\n",
       "      <td>dropped_off_at</td>\n",
       "      <td>2016-06-13 10:03:05</td>\n",
       "      <td>6.0</td>\n",
       "      <td>13.0</td>\n",
       "      <td>0.0</td>\n",
       "      <td>10.0</td>\n",
       "    </tr>\n",
       "  </tbody>\n",
       "</table>\n",
       "</div>"
      ],
      "text/plain": [
       "                            ride_id           event           timestamp  \\\n",
       "0  00003037a262d9ee40e61b5c0718f7f0    requested_at 2016-06-13 09:39:19   \n",
       "1  00003037a262d9ee40e61b5c0718f7f0     accepted_at 2016-06-13 09:39:51   \n",
       "2  00003037a262d9ee40e61b5c0718f7f0      arrived_at 2016-06-13 09:44:31   \n",
       "3  00003037a262d9ee40e61b5c0718f7f0    picked_up_at 2016-06-13 09:44:33   \n",
       "4  00003037a262d9ee40e61b5c0718f7f0  dropped_off_at 2016-06-13 10:03:05   \n",
       "\n",
       "   month   day  weekday  hour  \n",
       "0    6.0  13.0      0.0   9.0  \n",
       "1    6.0  13.0      0.0   9.0  \n",
       "2    6.0  13.0      0.0   9.0  \n",
       "3    6.0  13.0      0.0   9.0  \n",
       "4    6.0  13.0      0.0  10.0  "
      ]
     },
     "execution_count": 50,
     "metadata": {},
     "output_type": "execute_result"
    }
   ],
   "source": [
    "ridertime.head()"
   ]
  },
  {
   "cell_type": "code",
   "execution_count": 51,
   "metadata": {},
   "outputs": [],
   "source": [
    "#create a groupby to have the total ride time , or a merge for the event time since request and drop off can be different hours"
   ]
  },
  {
   "cell_type": "markdown",
   "metadata": {},
   "source": [
    "## 3.1: checking time between events"
   ]
  },
  {
   "cell_type": "code",
   "execution_count": 52,
   "metadata": {},
   "outputs": [],
   "source": [
    "timedif=ridertime.copy()"
   ]
  },
  {
   "cell_type": "code",
   "execution_count": 53,
   "metadata": {},
   "outputs": [
    {
     "data": {
      "text/html": [
       "<div>\n",
       "<style scoped>\n",
       "    .dataframe tbody tr th:only-of-type {\n",
       "        vertical-align: middle;\n",
       "    }\n",
       "\n",
       "    .dataframe tbody tr th {\n",
       "        vertical-align: top;\n",
       "    }\n",
       "\n",
       "    .dataframe thead th {\n",
       "        text-align: right;\n",
       "    }\n",
       "</style>\n",
       "<table border=\"1\" class=\"dataframe\">\n",
       "  <thead>\n",
       "    <tr style=\"text-align: right;\">\n",
       "      <th></th>\n",
       "      <th>ride_id</th>\n",
       "      <th>event</th>\n",
       "      <th>timestamp</th>\n",
       "      <th>month</th>\n",
       "      <th>day</th>\n",
       "      <th>weekday</th>\n",
       "      <th>hour</th>\n",
       "    </tr>\n",
       "  </thead>\n",
       "  <tbody>\n",
       "    <tr>\n",
       "      <th>0</th>\n",
       "      <td>00003037a262d9ee40e61b5c0718f7f0</td>\n",
       "      <td>requested_at</td>\n",
       "      <td>2016-06-13 09:39:19</td>\n",
       "      <td>6.0</td>\n",
       "      <td>13.0</td>\n",
       "      <td>0.0</td>\n",
       "      <td>9.0</td>\n",
       "    </tr>\n",
       "    <tr>\n",
       "      <th>1</th>\n",
       "      <td>00003037a262d9ee40e61b5c0718f7f0</td>\n",
       "      <td>accepted_at</td>\n",
       "      <td>2016-06-13 09:39:51</td>\n",
       "      <td>6.0</td>\n",
       "      <td>13.0</td>\n",
       "      <td>0.0</td>\n",
       "      <td>9.0</td>\n",
       "    </tr>\n",
       "    <tr>\n",
       "      <th>2</th>\n",
       "      <td>00003037a262d9ee40e61b5c0718f7f0</td>\n",
       "      <td>arrived_at</td>\n",
       "      <td>2016-06-13 09:44:31</td>\n",
       "      <td>6.0</td>\n",
       "      <td>13.0</td>\n",
       "      <td>0.0</td>\n",
       "      <td>9.0</td>\n",
       "    </tr>\n",
       "    <tr>\n",
       "      <th>3</th>\n",
       "      <td>00003037a262d9ee40e61b5c0718f7f0</td>\n",
       "      <td>picked_up_at</td>\n",
       "      <td>2016-06-13 09:44:33</td>\n",
       "      <td>6.0</td>\n",
       "      <td>13.0</td>\n",
       "      <td>0.0</td>\n",
       "      <td>9.0</td>\n",
       "    </tr>\n",
       "    <tr>\n",
       "      <th>4</th>\n",
       "      <td>00003037a262d9ee40e61b5c0718f7f0</td>\n",
       "      <td>dropped_off_at</td>\n",
       "      <td>2016-06-13 10:03:05</td>\n",
       "      <td>6.0</td>\n",
       "      <td>13.0</td>\n",
       "      <td>0.0</td>\n",
       "      <td>10.0</td>\n",
       "    </tr>\n",
       "  </tbody>\n",
       "</table>\n",
       "</div>"
      ],
      "text/plain": [
       "                            ride_id           event           timestamp  \\\n",
       "0  00003037a262d9ee40e61b5c0718f7f0    requested_at 2016-06-13 09:39:19   \n",
       "1  00003037a262d9ee40e61b5c0718f7f0     accepted_at 2016-06-13 09:39:51   \n",
       "2  00003037a262d9ee40e61b5c0718f7f0      arrived_at 2016-06-13 09:44:31   \n",
       "3  00003037a262d9ee40e61b5c0718f7f0    picked_up_at 2016-06-13 09:44:33   \n",
       "4  00003037a262d9ee40e61b5c0718f7f0  dropped_off_at 2016-06-13 10:03:05   \n",
       "\n",
       "   month   day  weekday  hour  \n",
       "0    6.0  13.0      0.0   9.0  \n",
       "1    6.0  13.0      0.0   9.0  \n",
       "2    6.0  13.0      0.0   9.0  \n",
       "3    6.0  13.0      0.0   9.0  \n",
       "4    6.0  13.0      0.0  10.0  "
      ]
     },
     "execution_count": 53,
     "metadata": {},
     "output_type": "execute_result"
    }
   ],
   "source": [
    "timedif.head()"
   ]
  },
  {
   "cell_type": "code",
   "execution_count": 54,
   "metadata": {},
   "outputs": [],
   "source": [
    "#most_recent_per_code = timedif.sort_values('timestamp').groupby(['ride_id'], as_index=False).last()\n"
   ]
  },
  {
   "cell_type": "code",
   "execution_count": 55,
   "metadata": {},
   "outputs": [],
   "source": [
    "# driver pay includes time spent waiting, starting one minute after arrival is confirmed\n",
    "# check difference arrived at and picked up at\n",
    "\n",
    "waiting_time=timedif.groupby(['ride_id'], as_index=False).nth([2,3])"
   ]
  },
  {
   "cell_type": "code",
   "execution_count": 56,
   "metadata": {},
   "outputs": [
    {
     "data": {
      "text/html": [
       "<div>\n",
       "<style scoped>\n",
       "    .dataframe tbody tr th:only-of-type {\n",
       "        vertical-align: middle;\n",
       "    }\n",
       "\n",
       "    .dataframe tbody tr th {\n",
       "        vertical-align: top;\n",
       "    }\n",
       "\n",
       "    .dataframe thead th {\n",
       "        text-align: right;\n",
       "    }\n",
       "</style>\n",
       "<table border=\"1\" class=\"dataframe\">\n",
       "  <thead>\n",
       "    <tr style=\"text-align: right;\">\n",
       "      <th></th>\n",
       "      <th>ride_id</th>\n",
       "      <th>event</th>\n",
       "      <th>timestamp</th>\n",
       "      <th>month</th>\n",
       "      <th>day</th>\n",
       "      <th>weekday</th>\n",
       "      <th>hour</th>\n",
       "    </tr>\n",
       "  </thead>\n",
       "  <tbody>\n",
       "    <tr>\n",
       "      <th>2</th>\n",
       "      <td>00003037a262d9ee40e61b5c0718f7f0</td>\n",
       "      <td>arrived_at</td>\n",
       "      <td>2016-06-13 09:44:31</td>\n",
       "      <td>6.0</td>\n",
       "      <td>13.0</td>\n",
       "      <td>0.0</td>\n",
       "      <td>9.0</td>\n",
       "    </tr>\n",
       "    <tr>\n",
       "      <th>3</th>\n",
       "      <td>00003037a262d9ee40e61b5c0718f7f0</td>\n",
       "      <td>picked_up_at</td>\n",
       "      <td>2016-06-13 09:44:33</td>\n",
       "      <td>6.0</td>\n",
       "      <td>13.0</td>\n",
       "      <td>0.0</td>\n",
       "      <td>9.0</td>\n",
       "    </tr>\n",
       "    <tr>\n",
       "      <th>7</th>\n",
       "      <td>00005eae40882760d675da5effb89ae3</td>\n",
       "      <td>arrived_at</td>\n",
       "      <td>2016-05-14 05:26:17</td>\n",
       "      <td>5.0</td>\n",
       "      <td>14.0</td>\n",
       "      <td>5.0</td>\n",
       "      <td>5.0</td>\n",
       "    </tr>\n",
       "    <tr>\n",
       "      <th>8</th>\n",
       "      <td>00005eae40882760d675da5effb89ae3</td>\n",
       "      <td>picked_up_at</td>\n",
       "      <td>2016-05-14 05:26:18</td>\n",
       "      <td>5.0</td>\n",
       "      <td>14.0</td>\n",
       "      <td>5.0</td>\n",
       "      <td>5.0</td>\n",
       "    </tr>\n",
       "    <tr>\n",
       "      <th>12</th>\n",
       "      <td>000061d42cf29f73b591041d9a1b2973</td>\n",
       "      <td>arrived_at</td>\n",
       "      <td>2016-05-16 15:47:29</td>\n",
       "      <td>5.0</td>\n",
       "      <td>16.0</td>\n",
       "      <td>0.0</td>\n",
       "      <td>15.0</td>\n",
       "    </tr>\n",
       "  </tbody>\n",
       "</table>\n",
       "</div>"
      ],
      "text/plain": [
       "                             ride_id         event           timestamp  month  \\\n",
       "2   00003037a262d9ee40e61b5c0718f7f0    arrived_at 2016-06-13 09:44:31    6.0   \n",
       "3   00003037a262d9ee40e61b5c0718f7f0  picked_up_at 2016-06-13 09:44:33    6.0   \n",
       "7   00005eae40882760d675da5effb89ae3    arrived_at 2016-05-14 05:26:17    5.0   \n",
       "8   00005eae40882760d675da5effb89ae3  picked_up_at 2016-05-14 05:26:18    5.0   \n",
       "12  000061d42cf29f73b591041d9a1b2973    arrived_at 2016-05-16 15:47:29    5.0   \n",
       "\n",
       "     day  weekday  hour  \n",
       "2   13.0      0.0   9.0  \n",
       "3   13.0      0.0   9.0  \n",
       "7   14.0      5.0   5.0  \n",
       "8   14.0      5.0   5.0  \n",
       "12  16.0      0.0  15.0  "
      ]
     },
     "execution_count": 56,
     "metadata": {},
     "output_type": "execute_result"
    }
   ],
   "source": [
    "#check if right\n",
    "\n",
    "waiting_time.head()"
   ]
  },
  {
   "cell_type": "code",
   "execution_count": 57,
   "metadata": {},
   "outputs": [],
   "source": [
    "#check time difference between requested and dropped of\n",
    "\n",
    "waiting_time2=waiting_time.groupby(['ride_id'], as_index=False).timestamp.diff()"
   ]
  },
  {
   "cell_type": "code",
   "execution_count": 58,
   "metadata": {},
   "outputs": [],
   "source": [
    "# introduce the ride id again\n",
    "\n",
    "waiting_time2['rideid']=waiting_time['ride_id']"
   ]
  },
  {
   "cell_type": "code",
   "execution_count": 59,
   "metadata": {},
   "outputs": [
    {
     "data": {
      "text/html": [
       "<div>\n",
       "<style scoped>\n",
       "    .dataframe tbody tr th:only-of-type {\n",
       "        vertical-align: middle;\n",
       "    }\n",
       "\n",
       "    .dataframe tbody tr th {\n",
       "        vertical-align: top;\n",
       "    }\n",
       "\n",
       "    .dataframe thead th {\n",
       "        text-align: right;\n",
       "    }\n",
       "</style>\n",
       "<table border=\"1\" class=\"dataframe\">\n",
       "  <thead>\n",
       "    <tr style=\"text-align: right;\">\n",
       "      <th></th>\n",
       "      <th>timestamp</th>\n",
       "      <th>rideid</th>\n",
       "    </tr>\n",
       "  </thead>\n",
       "  <tbody>\n",
       "    <tr>\n",
       "      <th>2</th>\n",
       "      <td>NaT</td>\n",
       "      <td>00003037a262d9ee40e61b5c0718f7f0</td>\n",
       "    </tr>\n",
       "    <tr>\n",
       "      <th>3</th>\n",
       "      <td>0 days 00:00:02</td>\n",
       "      <td>00003037a262d9ee40e61b5c0718f7f0</td>\n",
       "    </tr>\n",
       "    <tr>\n",
       "      <th>7</th>\n",
       "      <td>NaT</td>\n",
       "      <td>00005eae40882760d675da5effb89ae3</td>\n",
       "    </tr>\n",
       "    <tr>\n",
       "      <th>8</th>\n",
       "      <td>0 days 00:00:01</td>\n",
       "      <td>00005eae40882760d675da5effb89ae3</td>\n",
       "    </tr>\n",
       "    <tr>\n",
       "      <th>12</th>\n",
       "      <td>NaT</td>\n",
       "      <td>000061d42cf29f73b591041d9a1b2973</td>\n",
       "    </tr>\n",
       "  </tbody>\n",
       "</table>\n",
       "</div>"
      ],
      "text/plain": [
       "         timestamp                            rideid\n",
       "2              NaT  00003037a262d9ee40e61b5c0718f7f0\n",
       "3  0 days 00:00:02  00003037a262d9ee40e61b5c0718f7f0\n",
       "7              NaT  00005eae40882760d675da5effb89ae3\n",
       "8  0 days 00:00:01  00005eae40882760d675da5effb89ae3\n",
       "12             NaT  000061d42cf29f73b591041d9a1b2973"
      ]
     },
     "execution_count": 59,
     "metadata": {},
     "output_type": "execute_result"
    }
   ],
   "source": [
    "waiting_time2.head()"
   ]
  },
  {
   "cell_type": "code",
   "execution_count": 60,
   "metadata": {},
   "outputs": [],
   "source": [
    "#drop nulls\n",
    "\n",
    "waiting_time2=waiting_time2.dropna() "
   ]
  },
  {
   "cell_type": "code",
   "execution_count": 61,
   "metadata": {},
   "outputs": [
    {
     "data": {
      "text/html": [
       "<div>\n",
       "<style scoped>\n",
       "    .dataframe tbody tr th:only-of-type {\n",
       "        vertical-align: middle;\n",
       "    }\n",
       "\n",
       "    .dataframe tbody tr th {\n",
       "        vertical-align: top;\n",
       "    }\n",
       "\n",
       "    .dataframe thead th {\n",
       "        text-align: right;\n",
       "    }\n",
       "</style>\n",
       "<table border=\"1\" class=\"dataframe\">\n",
       "  <thead>\n",
       "    <tr style=\"text-align: right;\">\n",
       "      <th></th>\n",
       "      <th>timestamp</th>\n",
       "      <th>rideid</th>\n",
       "    </tr>\n",
       "  </thead>\n",
       "  <tbody>\n",
       "    <tr>\n",
       "      <th>3</th>\n",
       "      <td>0 days 00:00:02</td>\n",
       "      <td>00003037a262d9ee40e61b5c0718f7f0</td>\n",
       "    </tr>\n",
       "    <tr>\n",
       "      <th>8</th>\n",
       "      <td>0 days 00:00:01</td>\n",
       "      <td>00005eae40882760d675da5effb89ae3</td>\n",
       "    </tr>\n",
       "    <tr>\n",
       "      <th>13</th>\n",
       "      <td>0 days 00:00:03</td>\n",
       "      <td>000061d42cf29f73b591041d9a1b2973</td>\n",
       "    </tr>\n",
       "    <tr>\n",
       "      <th>18</th>\n",
       "      <td>0 days 00:00:04</td>\n",
       "      <td>00006efeb0d5e3ccad7d921ddeee9900</td>\n",
       "    </tr>\n",
       "    <tr>\n",
       "      <th>23</th>\n",
       "      <td>0 days 00:00:03</td>\n",
       "      <td>0000d9b24d8ccdd991b76258e616fa01</td>\n",
       "    </tr>\n",
       "    <tr>\n",
       "      <th>...</th>\n",
       "      <td>...</td>\n",
       "      <td>...</td>\n",
       "    </tr>\n",
       "    <tr>\n",
       "      <th>970383</th>\n",
       "      <td>0 days 00:00:03</td>\n",
       "      <td>fffebb46effb90ce758fdff68b569355</td>\n",
       "    </tr>\n",
       "    <tr>\n",
       "      <th>970388</th>\n",
       "      <td>0 days 00:00:02</td>\n",
       "      <td>ffff9c38173ddfa17bdd115c463e329f</td>\n",
       "    </tr>\n",
       "    <tr>\n",
       "      <th>970393</th>\n",
       "      <td>0 days 00:00:02</td>\n",
       "      <td>ffff9e431f7fade54b2550ac19ab6e64</td>\n",
       "    </tr>\n",
       "    <tr>\n",
       "      <th>970398</th>\n",
       "      <td>0 days 00:00:01</td>\n",
       "      <td>ffffa07f48f2f885f714765d794ad596</td>\n",
       "    </tr>\n",
       "    <tr>\n",
       "      <th>970403</th>\n",
       "      <td>0 days 00:00:06</td>\n",
       "      <td>ffffccd77f47a3de26dfed9a851464b4</td>\n",
       "    </tr>\n",
       "  </tbody>\n",
       "</table>\n",
       "<p>194081 rows × 2 columns</p>\n",
       "</div>"
      ],
      "text/plain": [
       "             timestamp                            rideid\n",
       "3      0 days 00:00:02  00003037a262d9ee40e61b5c0718f7f0\n",
       "8      0 days 00:00:01  00005eae40882760d675da5effb89ae3\n",
       "13     0 days 00:00:03  000061d42cf29f73b591041d9a1b2973\n",
       "18     0 days 00:00:04  00006efeb0d5e3ccad7d921ddeee9900\n",
       "23     0 days 00:00:03  0000d9b24d8ccdd991b76258e616fa01\n",
       "...                ...                               ...\n",
       "970383 0 days 00:00:03  fffebb46effb90ce758fdff68b569355\n",
       "970388 0 days 00:00:02  ffff9c38173ddfa17bdd115c463e329f\n",
       "970393 0 days 00:00:02  ffff9e431f7fade54b2550ac19ab6e64\n",
       "970398 0 days 00:00:01  ffffa07f48f2f885f714765d794ad596\n",
       "970403 0 days 00:00:06  ffffccd77f47a3de26dfed9a851464b4\n",
       "\n",
       "[194081 rows x 2 columns]"
      ]
     },
     "execution_count": 61,
     "metadata": {},
     "output_type": "execute_result"
    }
   ],
   "source": [
    "#confirm\n",
    "\n",
    "waiting_time2"
   ]
  },
  {
   "cell_type": "code",
   "execution_count": 62,
   "metadata": {
    "scrolled": true
   },
   "outputs": [],
   "source": [
    "#waiting time in minutes\n",
    "\n",
    "waiting_time2['waiting_minutes'] = waiting_time2['timestamp'].dt.total_seconds().div(60).astype(int)"
   ]
  },
  {
   "cell_type": "code",
   "execution_count": 63,
   "metadata": {},
   "outputs": [
    {
     "data": {
      "text/html": [
       "<div>\n",
       "<style scoped>\n",
       "    .dataframe tbody tr th:only-of-type {\n",
       "        vertical-align: middle;\n",
       "    }\n",
       "\n",
       "    .dataframe tbody tr th {\n",
       "        vertical-align: top;\n",
       "    }\n",
       "\n",
       "    .dataframe thead th {\n",
       "        text-align: right;\n",
       "    }\n",
       "</style>\n",
       "<table border=\"1\" class=\"dataframe\">\n",
       "  <thead>\n",
       "    <tr style=\"text-align: right;\">\n",
       "      <th></th>\n",
       "      <th>timestamp</th>\n",
       "      <th>rideid</th>\n",
       "      <th>waiting_minutes</th>\n",
       "    </tr>\n",
       "  </thead>\n",
       "  <tbody>\n",
       "    <tr>\n",
       "      <th>775388</th>\n",
       "      <td>0 days 00:13:51</td>\n",
       "      <td>ccc322deb9027f2652c5b784f46301b7</td>\n",
       "      <td>13</td>\n",
       "    </tr>\n",
       "    <tr>\n",
       "      <th>500398</th>\n",
       "      <td>0 days 00:11:23</td>\n",
       "      <td>845063fbad82733755a21d025b3da831</td>\n",
       "      <td>11</td>\n",
       "    </tr>\n",
       "    <tr>\n",
       "      <th>864318</th>\n",
       "      <td>0 days 00:07:06</td>\n",
       "      <td>e40251551258dc1c387039892e3bd277</td>\n",
       "      <td>7</td>\n",
       "    </tr>\n",
       "    <tr>\n",
       "      <th>30883</th>\n",
       "      <td>0 days 00:05:11</td>\n",
       "      <td>0812d4aa653b5ca9d32a360c9d9f68b9</td>\n",
       "      <td>5</td>\n",
       "    </tr>\n",
       "    <tr>\n",
       "      <th>179278</th>\n",
       "      <td>0 days 00:05:10</td>\n",
       "      <td>2f7a5d23e08e6042e3e8efb11d3e4701</td>\n",
       "      <td>5</td>\n",
       "    </tr>\n",
       "    <tr>\n",
       "      <th>...</th>\n",
       "      <td>...</td>\n",
       "      <td>...</td>\n",
       "      <td>...</td>\n",
       "    </tr>\n",
       "    <tr>\n",
       "      <th>755538</th>\n",
       "      <td>-1 days +23:16:22</td>\n",
       "      <td>c7975399543ee7bf0a1f9cd869d0d80f</td>\n",
       "      <td>-43</td>\n",
       "    </tr>\n",
       "    <tr>\n",
       "      <th>513378</th>\n",
       "      <td>-1 days +23:15:24</td>\n",
       "      <td>87b6e22b8618d40283d93802698fdcbf</td>\n",
       "      <td>-44</td>\n",
       "    </tr>\n",
       "    <tr>\n",
       "      <th>175918</th>\n",
       "      <td>-1 days +23:09:11</td>\n",
       "      <td>2e8b3bf2654e9ea4787d8efd2f2291bd</td>\n",
       "      <td>-50</td>\n",
       "    </tr>\n",
       "    <tr>\n",
       "      <th>692263</th>\n",
       "      <td>-1 days +23:02:04</td>\n",
       "      <td>b6c1bfcb6a1bacfc3733fc24847803f2</td>\n",
       "      <td>-57</td>\n",
       "    </tr>\n",
       "    <tr>\n",
       "      <th>434223</th>\n",
       "      <td>-89841 days +12:15:03.145224192</td>\n",
       "      <td>72f0fa0bd86800e9da5c4dced32c8735</td>\n",
       "      <td>-129370304</td>\n",
       "    </tr>\n",
       "  </tbody>\n",
       "</table>\n",
       "<p>194081 rows × 3 columns</p>\n",
       "</div>"
      ],
      "text/plain": [
       "                             timestamp                            rideid  \\\n",
       "775388                 0 days 00:13:51  ccc322deb9027f2652c5b784f46301b7   \n",
       "500398                 0 days 00:11:23  845063fbad82733755a21d025b3da831   \n",
       "864318                 0 days 00:07:06  e40251551258dc1c387039892e3bd277   \n",
       "30883                  0 days 00:05:11  0812d4aa653b5ca9d32a360c9d9f68b9   \n",
       "179278                 0 days 00:05:10  2f7a5d23e08e6042e3e8efb11d3e4701   \n",
       "...                                ...                               ...   \n",
       "755538               -1 days +23:16:22  c7975399543ee7bf0a1f9cd869d0d80f   \n",
       "513378               -1 days +23:15:24  87b6e22b8618d40283d93802698fdcbf   \n",
       "175918               -1 days +23:09:11  2e8b3bf2654e9ea4787d8efd2f2291bd   \n",
       "692263               -1 days +23:02:04  b6c1bfcb6a1bacfc3733fc24847803f2   \n",
       "434223 -89841 days +12:15:03.145224192  72f0fa0bd86800e9da5c4dced32c8735   \n",
       "\n",
       "        waiting_minutes  \n",
       "775388               13  \n",
       "500398               11  \n",
       "864318                7  \n",
       "30883                 5  \n",
       "179278                5  \n",
       "...                 ...  \n",
       "755538              -43  \n",
       "513378              -44  \n",
       "175918              -50  \n",
       "692263              -57  \n",
       "434223       -129370304  \n",
       "\n",
       "[194081 rows x 3 columns]"
      ]
     },
     "execution_count": 63,
     "metadata": {},
     "output_type": "execute_result"
    }
   ],
   "source": [
    "#check sorter values\n",
    "\n",
    "waiting_time2.sort_values(by=['waiting_minutes'], ascending=False)"
   ]
  },
  {
   "cell_type": "code",
   "execution_count": 64,
   "metadata": {},
   "outputs": [],
   "source": [
    "#only keep minutes >=1\n",
    "\n",
    "waiting_time2['waiting_minutes'] = np.where(waiting_time2['waiting_minutes'] >= 1, waiting_time2['waiting_minutes'], \"Not relevant\")\n"
   ]
  },
  {
   "cell_type": "code",
   "execution_count": 65,
   "metadata": {},
   "outputs": [],
   "source": [
    "#drop non relevant\n",
    "\n",
    "waiting_time2.drop(waiting_time2[waiting_time2['waiting_minutes'] == 'Not relevant'].index, inplace=True)"
   ]
  },
  {
   "cell_type": "code",
   "execution_count": 66,
   "metadata": {},
   "outputs": [
    {
     "data": {
      "text/plain": [
       "1     3780\n",
       "2       19\n",
       "3        8\n",
       "5        5\n",
       "11       1\n",
       "13       1\n",
       "7        1\n",
       "Name: waiting_minutes, dtype: int64"
      ]
     },
     "execution_count": 66,
     "metadata": {},
     "output_type": "execute_result"
    }
   ],
   "source": [
    "#check\n",
    "\n",
    "waiting_time2[\"waiting_minutes\"].value_counts()"
   ]
  },
  {
   "cell_type": "code",
   "execution_count": 67,
   "metadata": {},
   "outputs": [],
   "source": [
    "#change type\n",
    "\n",
    "waiting_time2[\"waiting_minutes\"] = waiting_time2[\"waiting_minutes\"].astype(float)"
   ]
  },
  {
   "cell_type": "code",
   "execution_count": 68,
   "metadata": {},
   "outputs": [
    {
     "data": {
      "text/plain": [
       "timestamp          timedelta64[ns]\n",
       "rideid                      object\n",
       "waiting_minutes            float64\n",
       "dtype: object"
      ]
     },
     "execution_count": 68,
     "metadata": {},
     "output_type": "execute_result"
    }
   ],
   "source": [
    "#confirm\n",
    "\n",
    "waiting_time2.dtypes"
   ]
  },
  {
   "cell_type": "code",
   "execution_count": 69,
   "metadata": {},
   "outputs": [],
   "source": [
    "# adding the cost for waiting time\n",
    "#Cost per Minute $0.22\n",
    "waiting_time2[\"cost_waiting_time$\"]=waiting_time2[\"waiting_minutes\"]*0.22"
   ]
  },
  {
   "cell_type": "code",
   "execution_count": 70,
   "metadata": {},
   "outputs": [
    {
     "data": {
      "text/html": [
       "<div>\n",
       "<style scoped>\n",
       "    .dataframe tbody tr th:only-of-type {\n",
       "        vertical-align: middle;\n",
       "    }\n",
       "\n",
       "    .dataframe tbody tr th {\n",
       "        vertical-align: top;\n",
       "    }\n",
       "\n",
       "    .dataframe thead th {\n",
       "        text-align: right;\n",
       "    }\n",
       "</style>\n",
       "<table border=\"1\" class=\"dataframe\">\n",
       "  <thead>\n",
       "    <tr style=\"text-align: right;\">\n",
       "      <th></th>\n",
       "      <th>timestamp</th>\n",
       "      <th>rideid</th>\n",
       "      <th>waiting_minutes</th>\n",
       "      <th>cost_waiting_time$</th>\n",
       "    </tr>\n",
       "  </thead>\n",
       "  <tbody>\n",
       "    <tr>\n",
       "      <th>78</th>\n",
       "      <td>0 days 00:01:00</td>\n",
       "      <td>000399d2e73490f5ac5e65eae391f6f8</td>\n",
       "      <td>1.0</td>\n",
       "      <td>0.22</td>\n",
       "    </tr>\n",
       "    <tr>\n",
       "      <th>608</th>\n",
       "      <td>0 days 00:01:00</td>\n",
       "      <td>002a1cf462fee4f6c9d8da11fca4830a</td>\n",
       "      <td>1.0</td>\n",
       "      <td>0.22</td>\n",
       "    </tr>\n",
       "    <tr>\n",
       "      <th>708</th>\n",
       "      <td>0 days 00:01:00</td>\n",
       "      <td>003115b37c952878769e2f2a585cf664</td>\n",
       "      <td>1.0</td>\n",
       "      <td>0.22</td>\n",
       "    </tr>\n",
       "    <tr>\n",
       "      <th>1033</th>\n",
       "      <td>0 days 00:01:00</td>\n",
       "      <td>0046dbc3563e3f59405c1a5360863942</td>\n",
       "      <td>1.0</td>\n",
       "      <td>0.22</td>\n",
       "    </tr>\n",
       "    <tr>\n",
       "      <th>1183</th>\n",
       "      <td>0 days 00:01:00</td>\n",
       "      <td>004edbe47f7b98f0ceb65dd3f40b60c3</td>\n",
       "      <td>1.0</td>\n",
       "      <td>0.22</td>\n",
       "    </tr>\n",
       "  </tbody>\n",
       "</table>\n",
       "</div>"
      ],
      "text/plain": [
       "           timestamp                            rideid  waiting_minutes  \\\n",
       "78   0 days 00:01:00  000399d2e73490f5ac5e65eae391f6f8              1.0   \n",
       "608  0 days 00:01:00  002a1cf462fee4f6c9d8da11fca4830a              1.0   \n",
       "708  0 days 00:01:00  003115b37c952878769e2f2a585cf664              1.0   \n",
       "1033 0 days 00:01:00  0046dbc3563e3f59405c1a5360863942              1.0   \n",
       "1183 0 days 00:01:00  004edbe47f7b98f0ceb65dd3f40b60c3              1.0   \n",
       "\n",
       "      cost_waiting_time$  \n",
       "78                  0.22  \n",
       "608                 0.22  \n",
       "708                 0.22  \n",
       "1033                0.22  \n",
       "1183                0.22  "
      ]
     },
     "execution_count": 70,
     "metadata": {},
     "output_type": "execute_result"
    }
   ],
   "source": [
    "#confirm\n",
    "\n",
    "waiting_time2.head()"
   ]
  },
  {
   "cell_type": "markdown",
   "metadata": {},
   "source": [
    "# 2. ANALYSIS"
   ]
  },
  {
   "cell_type": "code",
   "execution_count": 71,
   "metadata": {},
   "outputs": [],
   "source": [
    "#keeping first and last event of the same ride\n",
    "\n",
    "#first_last_code = timedif.groupby(['ride_id'], as_index=False).nth([0,-1])"
   ]
  },
  {
   "cell_type": "code",
   "execution_count": 72,
   "metadata": {},
   "outputs": [],
   "source": [
    "#first_last_code['time_diff_dropoff_req'] = pd.to_datetime(first_last_code['timestamp'].astype(str)).diff(-1).dt.total_seconds().div(60)"
   ]
  },
  {
   "cell_type": "markdown",
   "metadata": {},
   "source": [
    "# 2.1. Value Analysis"
   ]
  },
  {
   "cell_type": "code",
   "execution_count": 73,
   "metadata": {},
   "outputs": [],
   "source": [
    "# Lyft earning assumptions\n",
    "\n",
    "#some assumptions here\n",
    "# if the commission of lyft is less that 1 (minimum fare 5* 0.2), then it has a decrease commission of 5 - driver_revenue_before_commission$ or 0.8(5 - X)\n",
    "#it seems lyft pays the driver if the minimum is not reached\n",
    "# if if the commission of lyft is more than 80 ( maximum fare 400 * 0.2), since the max is 400, the revenue is 80 + (driver_revenue_before_commission$-80)\n",
    "# taking into consideration waiting time too"
   ]
  },
  {
   "cell_type": "code",
   "execution_count": 74,
   "metadata": {},
   "outputs": [
    {
     "data": {
      "text/html": [
       "<div>\n",
       "<style scoped>\n",
       "    .dataframe tbody tr th:only-of-type {\n",
       "        vertical-align: middle;\n",
       "    }\n",
       "\n",
       "    .dataframe tbody tr th {\n",
       "        vertical-align: top;\n",
       "    }\n",
       "\n",
       "    .dataframe thead th {\n",
       "        text-align: right;\n",
       "    }\n",
       "</style>\n",
       "<table border=\"1\" class=\"dataframe\">\n",
       "  <thead>\n",
       "    <tr style=\"text-align: right;\">\n",
       "      <th></th>\n",
       "      <th>timestamp</th>\n",
       "      <th>rideid</th>\n",
       "      <th>waiting_minutes</th>\n",
       "      <th>cost_waiting_time$</th>\n",
       "    </tr>\n",
       "  </thead>\n",
       "  <tbody>\n",
       "    <tr>\n",
       "      <th>78</th>\n",
       "      <td>0 days 00:01:00</td>\n",
       "      <td>000399d2e73490f5ac5e65eae391f6f8</td>\n",
       "      <td>1.0</td>\n",
       "      <td>0.22</td>\n",
       "    </tr>\n",
       "    <tr>\n",
       "      <th>608</th>\n",
       "      <td>0 days 00:01:00</td>\n",
       "      <td>002a1cf462fee4f6c9d8da11fca4830a</td>\n",
       "      <td>1.0</td>\n",
       "      <td>0.22</td>\n",
       "    </tr>\n",
       "    <tr>\n",
       "      <th>708</th>\n",
       "      <td>0 days 00:01:00</td>\n",
       "      <td>003115b37c952878769e2f2a585cf664</td>\n",
       "      <td>1.0</td>\n",
       "      <td>0.22</td>\n",
       "    </tr>\n",
       "    <tr>\n",
       "      <th>1033</th>\n",
       "      <td>0 days 00:01:00</td>\n",
       "      <td>0046dbc3563e3f59405c1a5360863942</td>\n",
       "      <td>1.0</td>\n",
       "      <td>0.22</td>\n",
       "    </tr>\n",
       "    <tr>\n",
       "      <th>1183</th>\n",
       "      <td>0 days 00:01:00</td>\n",
       "      <td>004edbe47f7b98f0ceb65dd3f40b60c3</td>\n",
       "      <td>1.0</td>\n",
       "      <td>0.22</td>\n",
       "    </tr>\n",
       "  </tbody>\n",
       "</table>\n",
       "</div>"
      ],
      "text/plain": [
       "           timestamp                            rideid  waiting_minutes  \\\n",
       "78   0 days 00:01:00  000399d2e73490f5ac5e65eae391f6f8              1.0   \n",
       "608  0 days 00:01:00  002a1cf462fee4f6c9d8da11fca4830a              1.0   \n",
       "708  0 days 00:01:00  003115b37c952878769e2f2a585cf664              1.0   \n",
       "1033 0 days 00:01:00  0046dbc3563e3f59405c1a5360863942              1.0   \n",
       "1183 0 days 00:01:00  004edbe47f7b98f0ceb65dd3f40b60c3              1.0   \n",
       "\n",
       "      cost_waiting_time$  \n",
       "78                  0.22  \n",
       "608                 0.22  \n",
       "708                 0.22  \n",
       "1033                0.22  \n",
       "1183                0.22  "
      ]
     },
     "execution_count": 74,
     "metadata": {},
     "output_type": "execute_result"
    }
   ],
   "source": [
    "waiting_time2.head()"
   ]
  },
  {
   "cell_type": "code",
   "execution_count": 75,
   "metadata": {},
   "outputs": [
    {
     "data": {
      "text/html": [
       "<div>\n",
       "<style scoped>\n",
       "    .dataframe tbody tr th:only-of-type {\n",
       "        vertical-align: middle;\n",
       "    }\n",
       "\n",
       "    .dataframe tbody tr th {\n",
       "        vertical-align: top;\n",
       "    }\n",
       "\n",
       "    .dataframe thead th {\n",
       "        text-align: right;\n",
       "    }\n",
       "</style>\n",
       "<table border=\"1\" class=\"dataframe\">\n",
       "  <thead>\n",
       "    <tr style=\"text-align: right;\">\n",
       "      <th></th>\n",
       "      <th>driver_id</th>\n",
       "      <th>ride_id</th>\n",
       "      <th>ride_distance</th>\n",
       "      <th>ride_duration</th>\n",
       "      <th>ride_prime_time</th>\n",
       "      <th>ride_duration_min</th>\n",
       "      <th>ride_distance_miles</th>\n",
       "      <th>base_fare$</th>\n",
       "      <th>distance_ride_revenue$</th>\n",
       "      <th>duration_ride_revenue$</th>\n",
       "      <th>service_fee$</th>\n",
       "      <th>driver_revenue_before_commission$</th>\n",
       "    </tr>\n",
       "  </thead>\n",
       "  <tbody>\n",
       "    <tr>\n",
       "      <th>0</th>\n",
       "      <td>002be0ffdc997bd5c50703158b7c2491</td>\n",
       "      <td>006d61cf7446e682f7bc50b0f8a5bea5</td>\n",
       "      <td>1811</td>\n",
       "      <td>327</td>\n",
       "      <td>50</td>\n",
       "      <td>5.450000</td>\n",
       "      <td>1.125303</td>\n",
       "      <td>2</td>\n",
       "      <td>1.294099</td>\n",
       "      <td>1.199000</td>\n",
       "      <td>1.75</td>\n",
       "      <td>4.493099</td>\n",
       "    </tr>\n",
       "    <tr>\n",
       "      <th>1</th>\n",
       "      <td>002be0ffdc997bd5c50703158b7c2491</td>\n",
       "      <td>01b522c5c3a756fbdb12e95e87507eda</td>\n",
       "      <td>3362</td>\n",
       "      <td>809</td>\n",
       "      <td>0</td>\n",
       "      <td>13.483333</td>\n",
       "      <td>2.089050</td>\n",
       "      <td>2</td>\n",
       "      <td>2.402407</td>\n",
       "      <td>2.966333</td>\n",
       "      <td>1.75</td>\n",
       "      <td>7.368741</td>\n",
       "    </tr>\n",
       "    <tr>\n",
       "      <th>2</th>\n",
       "      <td>002be0ffdc997bd5c50703158b7c2491</td>\n",
       "      <td>029227c4c2971ce69ff2274dc798ef43</td>\n",
       "      <td>3282</td>\n",
       "      <td>572</td>\n",
       "      <td>0</td>\n",
       "      <td>9.533333</td>\n",
       "      <td>2.039340</td>\n",
       "      <td>2</td>\n",
       "      <td>2.345241</td>\n",
       "      <td>2.097333</td>\n",
       "      <td>1.75</td>\n",
       "      <td>6.442575</td>\n",
       "    </tr>\n",
       "    <tr>\n",
       "      <th>3</th>\n",
       "      <td>002be0ffdc997bd5c50703158b7c2491</td>\n",
       "      <td>034e861343a63ac3c18a9ceb1ce0ac69</td>\n",
       "      <td>65283</td>\n",
       "      <td>3338</td>\n",
       "      <td>25</td>\n",
       "      <td>55.633333</td>\n",
       "      <td>40.564976</td>\n",
       "      <td>2</td>\n",
       "      <td>46.649722</td>\n",
       "      <td>12.239333</td>\n",
       "      <td>1.75</td>\n",
       "      <td>60.889055</td>\n",
       "    </tr>\n",
       "    <tr>\n",
       "      <th>4</th>\n",
       "      <td>002be0ffdc997bd5c50703158b7c2491</td>\n",
       "      <td>034f2e614a2f9fc7f1c2f77647d1b981</td>\n",
       "      <td>4115</td>\n",
       "      <td>823</td>\n",
       "      <td>100</td>\n",
       "      <td>13.716667</td>\n",
       "      <td>2.556942</td>\n",
       "      <td>2</td>\n",
       "      <td>2.940484</td>\n",
       "      <td>3.017667</td>\n",
       "      <td>1.75</td>\n",
       "      <td>7.958150</td>\n",
       "    </tr>\n",
       "  </tbody>\n",
       "</table>\n",
       "</div>"
      ],
      "text/plain": [
       "                          driver_id                           ride_id  \\\n",
       "0  002be0ffdc997bd5c50703158b7c2491  006d61cf7446e682f7bc50b0f8a5bea5   \n",
       "1  002be0ffdc997bd5c50703158b7c2491  01b522c5c3a756fbdb12e95e87507eda   \n",
       "2  002be0ffdc997bd5c50703158b7c2491  029227c4c2971ce69ff2274dc798ef43   \n",
       "3  002be0ffdc997bd5c50703158b7c2491  034e861343a63ac3c18a9ceb1ce0ac69   \n",
       "4  002be0ffdc997bd5c50703158b7c2491  034f2e614a2f9fc7f1c2f77647d1b981   \n",
       "\n",
       "   ride_distance  ride_duration  ride_prime_time  ride_duration_min  \\\n",
       "0           1811            327               50           5.450000   \n",
       "1           3362            809                0          13.483333   \n",
       "2           3282            572                0           9.533333   \n",
       "3          65283           3338               25          55.633333   \n",
       "4           4115            823              100          13.716667   \n",
       "\n",
       "   ride_distance_miles  base_fare$  distance_ride_revenue$  \\\n",
       "0             1.125303           2                1.294099   \n",
       "1             2.089050           2                2.402407   \n",
       "2             2.039340           2                2.345241   \n",
       "3            40.564976           2               46.649722   \n",
       "4             2.556942           2                2.940484   \n",
       "\n",
       "   duration_ride_revenue$  service_fee$  driver_revenue_before_commission$  \n",
       "0                1.199000          1.75                           4.493099  \n",
       "1                2.966333          1.75                           7.368741  \n",
       "2                2.097333          1.75                           6.442575  \n",
       "3               12.239333          1.75                          60.889055  \n",
       "4                3.017667          1.75                           7.958150  "
      ]
     },
     "execution_count": 75,
     "metadata": {},
     "output_type": "execute_result"
    }
   ],
   "source": [
    "riderid.head()"
   ]
  },
  {
   "cell_type": "code",
   "execution_count": 76,
   "metadata": {},
   "outputs": [],
   "source": [
    "#in order to add the waiting time, df with waiting time information needs to be merged with ride information\n",
    "\n",
    "total_revenue_df=riderid.merge(waiting_time2, how=\"left\", left_on=\"ride_id\", right_on=\"rideid\")"
   ]
  },
  {
   "cell_type": "code",
   "execution_count": 77,
   "metadata": {},
   "outputs": [],
   "source": [
    "#the nulls from the merge should be put to zero\n",
    "\n",
    "total_revenue_df[\"cost_waiting_time$\"]=total_revenue_df[\"cost_waiting_time$\"].fillna(0)"
   ]
  },
  {
   "cell_type": "code",
   "execution_count": 78,
   "metadata": {},
   "outputs": [
    {
     "data": {
      "text/html": [
       "<div>\n",
       "<style scoped>\n",
       "    .dataframe tbody tr th:only-of-type {\n",
       "        vertical-align: middle;\n",
       "    }\n",
       "\n",
       "    .dataframe tbody tr th {\n",
       "        vertical-align: top;\n",
       "    }\n",
       "\n",
       "    .dataframe thead th {\n",
       "        text-align: right;\n",
       "    }\n",
       "</style>\n",
       "<table border=\"1\" class=\"dataframe\">\n",
       "  <thead>\n",
       "    <tr style=\"text-align: right;\">\n",
       "      <th></th>\n",
       "      <th>driver_id</th>\n",
       "      <th>ride_id</th>\n",
       "      <th>ride_distance</th>\n",
       "      <th>ride_duration</th>\n",
       "      <th>ride_prime_time</th>\n",
       "      <th>ride_duration_min</th>\n",
       "      <th>ride_distance_miles</th>\n",
       "      <th>base_fare$</th>\n",
       "      <th>distance_ride_revenue$</th>\n",
       "      <th>duration_ride_revenue$</th>\n",
       "      <th>service_fee$</th>\n",
       "      <th>driver_revenue_before_commission$</th>\n",
       "      <th>timestamp</th>\n",
       "      <th>rideid</th>\n",
       "      <th>waiting_minutes</th>\n",
       "      <th>cost_waiting_time$</th>\n",
       "    </tr>\n",
       "  </thead>\n",
       "  <tbody>\n",
       "    <tr>\n",
       "      <th>0</th>\n",
       "      <td>002be0ffdc997bd5c50703158b7c2491</td>\n",
       "      <td>006d61cf7446e682f7bc50b0f8a5bea5</td>\n",
       "      <td>1811</td>\n",
       "      <td>327</td>\n",
       "      <td>50</td>\n",
       "      <td>5.450000</td>\n",
       "      <td>1.125303</td>\n",
       "      <td>2</td>\n",
       "      <td>1.294099</td>\n",
       "      <td>1.199000</td>\n",
       "      <td>1.75</td>\n",
       "      <td>4.493099</td>\n",
       "      <td>NaT</td>\n",
       "      <td>NaN</td>\n",
       "      <td>NaN</td>\n",
       "      <td>0.0</td>\n",
       "    </tr>\n",
       "    <tr>\n",
       "      <th>1</th>\n",
       "      <td>002be0ffdc997bd5c50703158b7c2491</td>\n",
       "      <td>01b522c5c3a756fbdb12e95e87507eda</td>\n",
       "      <td>3362</td>\n",
       "      <td>809</td>\n",
       "      <td>0</td>\n",
       "      <td>13.483333</td>\n",
       "      <td>2.089050</td>\n",
       "      <td>2</td>\n",
       "      <td>2.402407</td>\n",
       "      <td>2.966333</td>\n",
       "      <td>1.75</td>\n",
       "      <td>7.368741</td>\n",
       "      <td>NaT</td>\n",
       "      <td>NaN</td>\n",
       "      <td>NaN</td>\n",
       "      <td>0.0</td>\n",
       "    </tr>\n",
       "    <tr>\n",
       "      <th>2</th>\n",
       "      <td>002be0ffdc997bd5c50703158b7c2491</td>\n",
       "      <td>029227c4c2971ce69ff2274dc798ef43</td>\n",
       "      <td>3282</td>\n",
       "      <td>572</td>\n",
       "      <td>0</td>\n",
       "      <td>9.533333</td>\n",
       "      <td>2.039340</td>\n",
       "      <td>2</td>\n",
       "      <td>2.345241</td>\n",
       "      <td>2.097333</td>\n",
       "      <td>1.75</td>\n",
       "      <td>6.442575</td>\n",
       "      <td>NaT</td>\n",
       "      <td>NaN</td>\n",
       "      <td>NaN</td>\n",
       "      <td>0.0</td>\n",
       "    </tr>\n",
       "    <tr>\n",
       "      <th>3</th>\n",
       "      <td>002be0ffdc997bd5c50703158b7c2491</td>\n",
       "      <td>034e861343a63ac3c18a9ceb1ce0ac69</td>\n",
       "      <td>65283</td>\n",
       "      <td>3338</td>\n",
       "      <td>25</td>\n",
       "      <td>55.633333</td>\n",
       "      <td>40.564976</td>\n",
       "      <td>2</td>\n",
       "      <td>46.649722</td>\n",
       "      <td>12.239333</td>\n",
       "      <td>1.75</td>\n",
       "      <td>60.889055</td>\n",
       "      <td>NaT</td>\n",
       "      <td>NaN</td>\n",
       "      <td>NaN</td>\n",
       "      <td>0.0</td>\n",
       "    </tr>\n",
       "    <tr>\n",
       "      <th>4</th>\n",
       "      <td>002be0ffdc997bd5c50703158b7c2491</td>\n",
       "      <td>034f2e614a2f9fc7f1c2f77647d1b981</td>\n",
       "      <td>4115</td>\n",
       "      <td>823</td>\n",
       "      <td>100</td>\n",
       "      <td>13.716667</td>\n",
       "      <td>2.556942</td>\n",
       "      <td>2</td>\n",
       "      <td>2.940484</td>\n",
       "      <td>3.017667</td>\n",
       "      <td>1.75</td>\n",
       "      <td>7.958150</td>\n",
       "      <td>NaT</td>\n",
       "      <td>NaN</td>\n",
       "      <td>NaN</td>\n",
       "      <td>0.0</td>\n",
       "    </tr>\n",
       "  </tbody>\n",
       "</table>\n",
       "</div>"
      ],
      "text/plain": [
       "                          driver_id                           ride_id  \\\n",
       "0  002be0ffdc997bd5c50703158b7c2491  006d61cf7446e682f7bc50b0f8a5bea5   \n",
       "1  002be0ffdc997bd5c50703158b7c2491  01b522c5c3a756fbdb12e95e87507eda   \n",
       "2  002be0ffdc997bd5c50703158b7c2491  029227c4c2971ce69ff2274dc798ef43   \n",
       "3  002be0ffdc997bd5c50703158b7c2491  034e861343a63ac3c18a9ceb1ce0ac69   \n",
       "4  002be0ffdc997bd5c50703158b7c2491  034f2e614a2f9fc7f1c2f77647d1b981   \n",
       "\n",
       "   ride_distance  ride_duration  ride_prime_time  ride_duration_min  \\\n",
       "0           1811            327               50           5.450000   \n",
       "1           3362            809                0          13.483333   \n",
       "2           3282            572                0           9.533333   \n",
       "3          65283           3338               25          55.633333   \n",
       "4           4115            823              100          13.716667   \n",
       "\n",
       "   ride_distance_miles  base_fare$  distance_ride_revenue$  \\\n",
       "0             1.125303           2                1.294099   \n",
       "1             2.089050           2                2.402407   \n",
       "2             2.039340           2                2.345241   \n",
       "3            40.564976           2               46.649722   \n",
       "4             2.556942           2                2.940484   \n",
       "\n",
       "   duration_ride_revenue$  service_fee$  driver_revenue_before_commission$  \\\n",
       "0                1.199000          1.75                           4.493099   \n",
       "1                2.966333          1.75                           7.368741   \n",
       "2                2.097333          1.75                           6.442575   \n",
       "3               12.239333          1.75                          60.889055   \n",
       "4                3.017667          1.75                           7.958150   \n",
       "\n",
       "  timestamp rideid  waiting_minutes  cost_waiting_time$  \n",
       "0       NaT    NaN              NaN                 0.0  \n",
       "1       NaT    NaN              NaN                 0.0  \n",
       "2       NaT    NaN              NaN                 0.0  \n",
       "3       NaT    NaN              NaN                 0.0  \n",
       "4       NaT    NaN              NaN                 0.0  "
      ]
     },
     "execution_count": 78,
     "metadata": {},
     "output_type": "execute_result"
    }
   ],
   "source": [
    "#confirm \n",
    "\n",
    "total_revenue_df.head()"
   ]
  },
  {
   "cell_type": "code",
   "execution_count": 79,
   "metadata": {},
   "outputs": [],
   "source": [
    "#add the costs to the driver_revenue_before_commission\n",
    "\n",
    "total_revenue_df[\"final_driver_revenue_before_commission$\"]=total_revenue_df[\"driver_revenue_before_commission$\"]+total_revenue_df[\"cost_waiting_time$\"]"
   ]
  },
  {
   "cell_type": "code",
   "execution_count": 80,
   "metadata": {},
   "outputs": [],
   "source": [
    "#ATTENTION prime time is probably in KM, worhth analysing?\n",
    "#check if riders with higher average primetime are the ones earning more?"
   ]
  },
  {
   "cell_type": "code",
   "execution_count": 81,
   "metadata": {},
   "outputs": [],
   "source": [
    "#to calculate lyft revenue some columns are not needed\n",
    "\n",
    "coldrop=[\"ride_distance\",\"ride_duration\",\"ride_prime_time\",\"ride_duration_min\",\"ride_distance_miles\",\"timestamp\",\"rideid\",\"waiting_minutes\",\"driver_revenue_before_commission$\"]\n",
    "lifetime_revenue_df=total_revenue_df.drop(coldrop, axis=1)"
   ]
  },
  {
   "cell_type": "code",
   "execution_count": 82,
   "metadata": {},
   "outputs": [
    {
     "data": {
      "text/html": [
       "<div>\n",
       "<style scoped>\n",
       "    .dataframe tbody tr th:only-of-type {\n",
       "        vertical-align: middle;\n",
       "    }\n",
       "\n",
       "    .dataframe tbody tr th {\n",
       "        vertical-align: top;\n",
       "    }\n",
       "\n",
       "    .dataframe thead th {\n",
       "        text-align: right;\n",
       "    }\n",
       "</style>\n",
       "<table border=\"1\" class=\"dataframe\">\n",
       "  <thead>\n",
       "    <tr style=\"text-align: right;\">\n",
       "      <th></th>\n",
       "      <th>driver_id</th>\n",
       "      <th>ride_id</th>\n",
       "      <th>base_fare$</th>\n",
       "      <th>distance_ride_revenue$</th>\n",
       "      <th>duration_ride_revenue$</th>\n",
       "      <th>service_fee$</th>\n",
       "      <th>cost_waiting_time$</th>\n",
       "      <th>final_driver_revenue_before_commission$</th>\n",
       "    </tr>\n",
       "  </thead>\n",
       "  <tbody>\n",
       "    <tr>\n",
       "      <th>0</th>\n",
       "      <td>002be0ffdc997bd5c50703158b7c2491</td>\n",
       "      <td>006d61cf7446e682f7bc50b0f8a5bea5</td>\n",
       "      <td>2</td>\n",
       "      <td>1.294099</td>\n",
       "      <td>1.199000</td>\n",
       "      <td>1.75</td>\n",
       "      <td>0.0</td>\n",
       "      <td>4.493099</td>\n",
       "    </tr>\n",
       "    <tr>\n",
       "      <th>1</th>\n",
       "      <td>002be0ffdc997bd5c50703158b7c2491</td>\n",
       "      <td>01b522c5c3a756fbdb12e95e87507eda</td>\n",
       "      <td>2</td>\n",
       "      <td>2.402407</td>\n",
       "      <td>2.966333</td>\n",
       "      <td>1.75</td>\n",
       "      <td>0.0</td>\n",
       "      <td>7.368741</td>\n",
       "    </tr>\n",
       "    <tr>\n",
       "      <th>2</th>\n",
       "      <td>002be0ffdc997bd5c50703158b7c2491</td>\n",
       "      <td>029227c4c2971ce69ff2274dc798ef43</td>\n",
       "      <td>2</td>\n",
       "      <td>2.345241</td>\n",
       "      <td>2.097333</td>\n",
       "      <td>1.75</td>\n",
       "      <td>0.0</td>\n",
       "      <td>6.442575</td>\n",
       "    </tr>\n",
       "    <tr>\n",
       "      <th>3</th>\n",
       "      <td>002be0ffdc997bd5c50703158b7c2491</td>\n",
       "      <td>034e861343a63ac3c18a9ceb1ce0ac69</td>\n",
       "      <td>2</td>\n",
       "      <td>46.649722</td>\n",
       "      <td>12.239333</td>\n",
       "      <td>1.75</td>\n",
       "      <td>0.0</td>\n",
       "      <td>60.889055</td>\n",
       "    </tr>\n",
       "    <tr>\n",
       "      <th>4</th>\n",
       "      <td>002be0ffdc997bd5c50703158b7c2491</td>\n",
       "      <td>034f2e614a2f9fc7f1c2f77647d1b981</td>\n",
       "      <td>2</td>\n",
       "      <td>2.940484</td>\n",
       "      <td>3.017667</td>\n",
       "      <td>1.75</td>\n",
       "      <td>0.0</td>\n",
       "      <td>7.958150</td>\n",
       "    </tr>\n",
       "  </tbody>\n",
       "</table>\n",
       "</div>"
      ],
      "text/plain": [
       "                          driver_id                           ride_id  \\\n",
       "0  002be0ffdc997bd5c50703158b7c2491  006d61cf7446e682f7bc50b0f8a5bea5   \n",
       "1  002be0ffdc997bd5c50703158b7c2491  01b522c5c3a756fbdb12e95e87507eda   \n",
       "2  002be0ffdc997bd5c50703158b7c2491  029227c4c2971ce69ff2274dc798ef43   \n",
       "3  002be0ffdc997bd5c50703158b7c2491  034e861343a63ac3c18a9ceb1ce0ac69   \n",
       "4  002be0ffdc997bd5c50703158b7c2491  034f2e614a2f9fc7f1c2f77647d1b981   \n",
       "\n",
       "   base_fare$  distance_ride_revenue$  duration_ride_revenue$  service_fee$  \\\n",
       "0           2                1.294099                1.199000          1.75   \n",
       "1           2                2.402407                2.966333          1.75   \n",
       "2           2                2.345241                2.097333          1.75   \n",
       "3           2               46.649722               12.239333          1.75   \n",
       "4           2                2.940484                3.017667          1.75   \n",
       "\n",
       "   cost_waiting_time$  final_driver_revenue_before_commission$  \n",
       "0                 0.0                                 4.493099  \n",
       "1                 0.0                                 7.368741  \n",
       "2                 0.0                                 6.442575  \n",
       "3                 0.0                                60.889055  \n",
       "4                 0.0                                 7.958150  "
      ]
     },
     "execution_count": 82,
     "metadata": {},
     "output_type": "execute_result"
    }
   ],
   "source": [
    "#check\n",
    "\n",
    "lifetime_revenue_df.head()"
   ]
  },
  {
   "cell_type": "code",
   "execution_count": 83,
   "metadata": {},
   "outputs": [],
   "source": [
    "# lyft commission is 20%\n",
    "\n",
    "lifetime_revenue_df[\"lyft_20_revenue\"]=lifetime_revenue_df[\"final_driver_revenue_before_commission$\"]*0.2"
   ]
  },
  {
   "cell_type": "code",
   "execution_count": 85,
   "metadata": {},
   "outputs": [],
   "source": [
    "#adding min and max fares\n",
    "\n",
    "#some assumptions here\n",
    "# if the commission of lyft is less that 1 (minimum fare 5* 0.2), then it has a decrease commission of 5 - driver_revenue_before_commission$ or 0.8(5 - X)\n",
    "#it seems lyft pays the driver if the minimum is not reached\n",
    "# if if the commission of lyft is more than 80 ( maximum fare 400 * 0.2), since the max is 400, the revenue is  80 +(driver_revenue_before_commission$-400)\n",
    "# taking into consideration waiting time too"
   ]
  },
  {
   "cell_type": "code",
   "execution_count": 86,
   "metadata": {},
   "outputs": [],
   "source": [
    "#add the minimum fare condition\n",
    "\n",
    "lifetime_revenue_df[\"lyft_20_revenue_min\"] = np.where(lifetime_revenue_df[\"lyft_20_revenue\"] < 1,(lifetime_revenue_df[\"lyft_20_revenue\"]-(0.8*(5-lifetime_revenue_df[\"final_driver_revenue_before_commission$\"]))) , lifetime_revenue_df[\"lyft_20_revenue\"])"
   ]
  },
  {
   "cell_type": "code",
   "execution_count": 121,
   "metadata": {},
   "outputs": [
    {
     "data": {
      "text/html": [
       "<div>\n",
       "<style scoped>\n",
       "    .dataframe tbody tr th:only-of-type {\n",
       "        vertical-align: middle;\n",
       "    }\n",
       "\n",
       "    .dataframe tbody tr th {\n",
       "        vertical-align: top;\n",
       "    }\n",
       "\n",
       "    .dataframe thead th {\n",
       "        text-align: right;\n",
       "    }\n",
       "</style>\n",
       "<table border=\"1\" class=\"dataframe\">\n",
       "  <thead>\n",
       "    <tr style=\"text-align: right;\">\n",
       "      <th></th>\n",
       "      <th>driver_id</th>\n",
       "      <th>ride_id</th>\n",
       "      <th>base_fare$</th>\n",
       "      <th>distance_ride_revenue$</th>\n",
       "      <th>duration_ride_revenue$</th>\n",
       "      <th>service_fee$</th>\n",
       "      <th>cost_waiting_time$</th>\n",
       "      <th>final_driver_revenue_before_commission$</th>\n",
       "      <th>lyft_20_revenue</th>\n",
       "      <th>lyft_20_revenue_min</th>\n",
       "      <th>lyft_20_revenue_final</th>\n",
       "    </tr>\n",
       "  </thead>\n",
       "  <tbody>\n",
       "    <tr>\n",
       "      <th>0</th>\n",
       "      <td>002be0ffdc997bd5c50703158b7c2491</td>\n",
       "      <td>006d61cf7446e682f7bc50b0f8a5bea5</td>\n",
       "      <td>2</td>\n",
       "      <td>1.294099</td>\n",
       "      <td>1.199000</td>\n",
       "      <td>1.75</td>\n",
       "      <td>0.0</td>\n",
       "      <td>4.493099</td>\n",
       "      <td>0.898620</td>\n",
       "      <td>0.493099</td>\n",
       "      <td>0.493099</td>\n",
       "    </tr>\n",
       "    <tr>\n",
       "      <th>1</th>\n",
       "      <td>002be0ffdc997bd5c50703158b7c2491</td>\n",
       "      <td>01b522c5c3a756fbdb12e95e87507eda</td>\n",
       "      <td>2</td>\n",
       "      <td>2.402407</td>\n",
       "      <td>2.966333</td>\n",
       "      <td>1.75</td>\n",
       "      <td>0.0</td>\n",
       "      <td>7.368741</td>\n",
       "      <td>1.473748</td>\n",
       "      <td>1.473748</td>\n",
       "      <td>1.473748</td>\n",
       "    </tr>\n",
       "    <tr>\n",
       "      <th>2</th>\n",
       "      <td>002be0ffdc997bd5c50703158b7c2491</td>\n",
       "      <td>029227c4c2971ce69ff2274dc798ef43</td>\n",
       "      <td>2</td>\n",
       "      <td>2.345241</td>\n",
       "      <td>2.097333</td>\n",
       "      <td>1.75</td>\n",
       "      <td>0.0</td>\n",
       "      <td>6.442575</td>\n",
       "      <td>1.288515</td>\n",
       "      <td>1.288515</td>\n",
       "      <td>1.288515</td>\n",
       "    </tr>\n",
       "    <tr>\n",
       "      <th>3</th>\n",
       "      <td>002be0ffdc997bd5c50703158b7c2491</td>\n",
       "      <td>034e861343a63ac3c18a9ceb1ce0ac69</td>\n",
       "      <td>2</td>\n",
       "      <td>46.649722</td>\n",
       "      <td>12.239333</td>\n",
       "      <td>1.75</td>\n",
       "      <td>0.0</td>\n",
       "      <td>60.889055</td>\n",
       "      <td>12.177811</td>\n",
       "      <td>12.177811</td>\n",
       "      <td>12.177811</td>\n",
       "    </tr>\n",
       "    <tr>\n",
       "      <th>4</th>\n",
       "      <td>002be0ffdc997bd5c50703158b7c2491</td>\n",
       "      <td>034f2e614a2f9fc7f1c2f77647d1b981</td>\n",
       "      <td>2</td>\n",
       "      <td>2.940484</td>\n",
       "      <td>3.017667</td>\n",
       "      <td>1.75</td>\n",
       "      <td>0.0</td>\n",
       "      <td>7.958150</td>\n",
       "      <td>1.591630</td>\n",
       "      <td>1.591630</td>\n",
       "      <td>1.591630</td>\n",
       "    </tr>\n",
       "  </tbody>\n",
       "</table>\n",
       "</div>"
      ],
      "text/plain": [
       "                          driver_id                           ride_id  \\\n",
       "0  002be0ffdc997bd5c50703158b7c2491  006d61cf7446e682f7bc50b0f8a5bea5   \n",
       "1  002be0ffdc997bd5c50703158b7c2491  01b522c5c3a756fbdb12e95e87507eda   \n",
       "2  002be0ffdc997bd5c50703158b7c2491  029227c4c2971ce69ff2274dc798ef43   \n",
       "3  002be0ffdc997bd5c50703158b7c2491  034e861343a63ac3c18a9ceb1ce0ac69   \n",
       "4  002be0ffdc997bd5c50703158b7c2491  034f2e614a2f9fc7f1c2f77647d1b981   \n",
       "\n",
       "   base_fare$  distance_ride_revenue$  duration_ride_revenue$  service_fee$  \\\n",
       "0           2                1.294099                1.199000          1.75   \n",
       "1           2                2.402407                2.966333          1.75   \n",
       "2           2                2.345241                2.097333          1.75   \n",
       "3           2               46.649722               12.239333          1.75   \n",
       "4           2                2.940484                3.017667          1.75   \n",
       "\n",
       "   cost_waiting_time$  final_driver_revenue_before_commission$  \\\n",
       "0                 0.0                                 4.493099   \n",
       "1                 0.0                                 7.368741   \n",
       "2                 0.0                                 6.442575   \n",
       "3                 0.0                                60.889055   \n",
       "4                 0.0                                 7.958150   \n",
       "\n",
       "   lyft_20_revenue  lyft_20_revenue_min  lyft_20_revenue_final  \n",
       "0         0.898620             0.493099               0.493099  \n",
       "1         1.473748             1.473748               1.473748  \n",
       "2         1.288515             1.288515               1.288515  \n",
       "3        12.177811            12.177811              12.177811  \n",
       "4         1.591630             1.591630               1.591630  "
      ]
     },
     "execution_count": 121,
     "metadata": {},
     "output_type": "execute_result"
    }
   ],
   "source": [
    "#check\n",
    "\n",
    "lifetime_revenue_df.head()"
   ]
  },
  {
   "cell_type": "code",
   "execution_count": 88,
   "metadata": {},
   "outputs": [],
   "source": [
    "#add the maximum fare condition\n",
    "\n",
    "lifetime_revenue_df[\"lyft_20_revenue_final\"]= np.where(lifetime_revenue_df[\"lyft_20_revenue\"] > 80, (80 + (lifetime_revenue_df[\"final_driver_revenue_before_commission$\"]-400)),lifetime_revenue_df[\"lyft_20_revenue_min\"])\n",
    "                                                                                                                                                                             "
   ]
  },
  {
   "cell_type": "code",
   "execution_count": 89,
   "metadata": {},
   "outputs": [
    {
     "data": {
      "text/html": [
       "<div>\n",
       "<style scoped>\n",
       "    .dataframe tbody tr th:only-of-type {\n",
       "        vertical-align: middle;\n",
       "    }\n",
       "\n",
       "    .dataframe tbody tr th {\n",
       "        vertical-align: top;\n",
       "    }\n",
       "\n",
       "    .dataframe thead th {\n",
       "        text-align: right;\n",
       "    }\n",
       "</style>\n",
       "<table border=\"1\" class=\"dataframe\">\n",
       "  <thead>\n",
       "    <tr style=\"text-align: right;\">\n",
       "      <th></th>\n",
       "      <th>driver_id</th>\n",
       "      <th>ride_id</th>\n",
       "      <th>base_fare$</th>\n",
       "      <th>distance_ride_revenue$</th>\n",
       "      <th>duration_ride_revenue$</th>\n",
       "      <th>service_fee$</th>\n",
       "      <th>cost_waiting_time$</th>\n",
       "      <th>final_driver_revenue_before_commission$</th>\n",
       "      <th>lyft_20_revenue</th>\n",
       "      <th>lyft_20_revenue_min</th>\n",
       "      <th>lyft_20_revenue_final</th>\n",
       "    </tr>\n",
       "  </thead>\n",
       "  <tbody>\n",
       "    <tr>\n",
       "      <th>1921</th>\n",
       "      <td>02d6a6b8a6da15fc219a9570f7ebbe78</td>\n",
       "      <td>e7f8524051edb7b28e86391f6461bc03</td>\n",
       "      <td>2</td>\n",
       "      <td>517.838852</td>\n",
       "      <td>103.414667</td>\n",
       "      <td>1.75</td>\n",
       "      <td>0.0</td>\n",
       "      <td>623.253519</td>\n",
       "      <td>124.650704</td>\n",
       "      <td>124.650704</td>\n",
       "      <td>303.253519</td>\n",
       "    </tr>\n",
       "  </tbody>\n",
       "</table>\n",
       "</div>"
      ],
      "text/plain": [
       "                             driver_id                           ride_id  \\\n",
       "1921  02d6a6b8a6da15fc219a9570f7ebbe78  e7f8524051edb7b28e86391f6461bc03   \n",
       "\n",
       "      base_fare$  distance_ride_revenue$  duration_ride_revenue$  \\\n",
       "1921           2              517.838852              103.414667   \n",
       "\n",
       "      service_fee$  cost_waiting_time$  \\\n",
       "1921          1.75                 0.0   \n",
       "\n",
       "      final_driver_revenue_before_commission$  lyft_20_revenue  \\\n",
       "1921                               623.253519       124.650704   \n",
       "\n",
       "      lyft_20_revenue_min  lyft_20_revenue_final  \n",
       "1921           124.650704             303.253519  "
      ]
     },
     "execution_count": 89,
     "metadata": {},
     "output_type": "execute_result"
    }
   ],
   "source": [
    "#check an example\n",
    "\n",
    "lifetime_revenue_df[lifetime_revenue_df[\"lyft_20_revenue\"]>80]"
   ]
  },
  {
   "cell_type": "code",
   "execution_count": 122,
   "metadata": {},
   "outputs": [],
   "source": [
    "# one last fee needs to be added, the service fee\n",
    "#lyft gets the total ammount\n",
    "\n",
    "lifetime_revenue_df[\"lyft_total_revenue_ride$\"]=lifetime_revenue_df[\"lyft_20_revenue_final\"]+lifetime_revenue_df[\"service_fee$\"]"
   ]
  },
  {
   "cell_type": "code",
   "execution_count": 123,
   "metadata": {},
   "outputs": [
    {
     "data": {
      "text/html": [
       "<div>\n",
       "<style scoped>\n",
       "    .dataframe tbody tr th:only-of-type {\n",
       "        vertical-align: middle;\n",
       "    }\n",
       "\n",
       "    .dataframe tbody tr th {\n",
       "        vertical-align: top;\n",
       "    }\n",
       "\n",
       "    .dataframe thead th {\n",
       "        text-align: right;\n",
       "    }\n",
       "</style>\n",
       "<table border=\"1\" class=\"dataframe\">\n",
       "  <thead>\n",
       "    <tr style=\"text-align: right;\">\n",
       "      <th></th>\n",
       "      <th>driver_id</th>\n",
       "      <th>ride_id</th>\n",
       "      <th>base_fare$</th>\n",
       "      <th>distance_ride_revenue$</th>\n",
       "      <th>duration_ride_revenue$</th>\n",
       "      <th>service_fee$</th>\n",
       "      <th>cost_waiting_time$</th>\n",
       "      <th>final_driver_revenue_before_commission$</th>\n",
       "      <th>lyft_20_revenue</th>\n",
       "      <th>lyft_20_revenue_min</th>\n",
       "      <th>lyft_20_revenue_final</th>\n",
       "      <th>lyft_total_revenue_ride$</th>\n",
       "    </tr>\n",
       "  </thead>\n",
       "  <tbody>\n",
       "    <tr>\n",
       "      <th>0</th>\n",
       "      <td>002be0ffdc997bd5c50703158b7c2491</td>\n",
       "      <td>006d61cf7446e682f7bc50b0f8a5bea5</td>\n",
       "      <td>2</td>\n",
       "      <td>1.294099</td>\n",
       "      <td>1.199000</td>\n",
       "      <td>1.75</td>\n",
       "      <td>0.0</td>\n",
       "      <td>4.493099</td>\n",
       "      <td>0.898620</td>\n",
       "      <td>0.493099</td>\n",
       "      <td>0.493099</td>\n",
       "      <td>2.243099</td>\n",
       "    </tr>\n",
       "    <tr>\n",
       "      <th>1</th>\n",
       "      <td>002be0ffdc997bd5c50703158b7c2491</td>\n",
       "      <td>01b522c5c3a756fbdb12e95e87507eda</td>\n",
       "      <td>2</td>\n",
       "      <td>2.402407</td>\n",
       "      <td>2.966333</td>\n",
       "      <td>1.75</td>\n",
       "      <td>0.0</td>\n",
       "      <td>7.368741</td>\n",
       "      <td>1.473748</td>\n",
       "      <td>1.473748</td>\n",
       "      <td>1.473748</td>\n",
       "      <td>3.223748</td>\n",
       "    </tr>\n",
       "    <tr>\n",
       "      <th>2</th>\n",
       "      <td>002be0ffdc997bd5c50703158b7c2491</td>\n",
       "      <td>029227c4c2971ce69ff2274dc798ef43</td>\n",
       "      <td>2</td>\n",
       "      <td>2.345241</td>\n",
       "      <td>2.097333</td>\n",
       "      <td>1.75</td>\n",
       "      <td>0.0</td>\n",
       "      <td>6.442575</td>\n",
       "      <td>1.288515</td>\n",
       "      <td>1.288515</td>\n",
       "      <td>1.288515</td>\n",
       "      <td>3.038515</td>\n",
       "    </tr>\n",
       "    <tr>\n",
       "      <th>3</th>\n",
       "      <td>002be0ffdc997bd5c50703158b7c2491</td>\n",
       "      <td>034e861343a63ac3c18a9ceb1ce0ac69</td>\n",
       "      <td>2</td>\n",
       "      <td>46.649722</td>\n",
       "      <td>12.239333</td>\n",
       "      <td>1.75</td>\n",
       "      <td>0.0</td>\n",
       "      <td>60.889055</td>\n",
       "      <td>12.177811</td>\n",
       "      <td>12.177811</td>\n",
       "      <td>12.177811</td>\n",
       "      <td>13.927811</td>\n",
       "    </tr>\n",
       "    <tr>\n",
       "      <th>4</th>\n",
       "      <td>002be0ffdc997bd5c50703158b7c2491</td>\n",
       "      <td>034f2e614a2f9fc7f1c2f77647d1b981</td>\n",
       "      <td>2</td>\n",
       "      <td>2.940484</td>\n",
       "      <td>3.017667</td>\n",
       "      <td>1.75</td>\n",
       "      <td>0.0</td>\n",
       "      <td>7.958150</td>\n",
       "      <td>1.591630</td>\n",
       "      <td>1.591630</td>\n",
       "      <td>1.591630</td>\n",
       "      <td>3.341630</td>\n",
       "    </tr>\n",
       "  </tbody>\n",
       "</table>\n",
       "</div>"
      ],
      "text/plain": [
       "                          driver_id                           ride_id  \\\n",
       "0  002be0ffdc997bd5c50703158b7c2491  006d61cf7446e682f7bc50b0f8a5bea5   \n",
       "1  002be0ffdc997bd5c50703158b7c2491  01b522c5c3a756fbdb12e95e87507eda   \n",
       "2  002be0ffdc997bd5c50703158b7c2491  029227c4c2971ce69ff2274dc798ef43   \n",
       "3  002be0ffdc997bd5c50703158b7c2491  034e861343a63ac3c18a9ceb1ce0ac69   \n",
       "4  002be0ffdc997bd5c50703158b7c2491  034f2e614a2f9fc7f1c2f77647d1b981   \n",
       "\n",
       "   base_fare$  distance_ride_revenue$  duration_ride_revenue$  service_fee$  \\\n",
       "0           2                1.294099                1.199000          1.75   \n",
       "1           2                2.402407                2.966333          1.75   \n",
       "2           2                2.345241                2.097333          1.75   \n",
       "3           2               46.649722               12.239333          1.75   \n",
       "4           2                2.940484                3.017667          1.75   \n",
       "\n",
       "   cost_waiting_time$  final_driver_revenue_before_commission$  \\\n",
       "0                 0.0                                 4.493099   \n",
       "1                 0.0                                 7.368741   \n",
       "2                 0.0                                 6.442575   \n",
       "3                 0.0                                60.889055   \n",
       "4                 0.0                                 7.958150   \n",
       "\n",
       "   lyft_20_revenue  lyft_20_revenue_min  lyft_20_revenue_final  \\\n",
       "0         0.898620             0.493099               0.493099   \n",
       "1         1.473748             1.473748               1.473748   \n",
       "2         1.288515             1.288515               1.288515   \n",
       "3        12.177811            12.177811              12.177811   \n",
       "4         1.591630             1.591630               1.591630   \n",
       "\n",
       "   lyft_total_revenue_ride$  \n",
       "0                  2.243099  \n",
       "1                  3.223748  \n",
       "2                  3.038515  \n",
       "3                 13.927811  \n",
       "4                  3.341630  "
      ]
     },
     "execution_count": 123,
     "metadata": {},
     "output_type": "execute_result"
    }
   ],
   "source": [
    "#check\n",
    "\n",
    "lifetime_revenue_df.head()"
   ]
  },
  {
   "cell_type": "code",
   "execution_count": 124,
   "metadata": {},
   "outputs": [],
   "source": [
    "#average per driver\n",
    "\n",
    "driver_mean_df = lifetime_revenue_df.groupby(['driver_id'], as_index = False).agg({ 'lyft_total_revenue_ride$': 'mean'}).sort_values(by='lyft_total_revenue_ride$', ascending = False)\n"
   ]
  },
  {
   "cell_type": "code",
   "execution_count": 125,
   "metadata": {},
   "outputs": [
    {
     "data": {
      "text/html": [
       "<div>\n",
       "<style scoped>\n",
       "    .dataframe tbody tr th:only-of-type {\n",
       "        vertical-align: middle;\n",
       "    }\n",
       "\n",
       "    .dataframe tbody tr th {\n",
       "        vertical-align: top;\n",
       "    }\n",
       "\n",
       "    .dataframe thead th {\n",
       "        text-align: right;\n",
       "    }\n",
       "</style>\n",
       "<table border=\"1\" class=\"dataframe\">\n",
       "  <thead>\n",
       "    <tr style=\"text-align: right;\">\n",
       "      <th></th>\n",
       "      <th>driver_id</th>\n",
       "      <th>lyft_total_revenue_ride$</th>\n",
       "    </tr>\n",
       "  </thead>\n",
       "  <tbody>\n",
       "    <tr>\n",
       "      <th>9</th>\n",
       "      <td>02d6a6b8a6da15fc219a9570f7ebbe78</td>\n",
       "      <td>9.808984</td>\n",
       "    </tr>\n",
       "    <tr>\n",
       "      <th>800</th>\n",
       "      <td>d9ef4b835e202c9b24315b999894362a</td>\n",
       "      <td>5.813543</td>\n",
       "    </tr>\n",
       "    <tr>\n",
       "      <th>87</th>\n",
       "      <td>186d02f3ae489428440a352e3fe503a4</td>\n",
       "      <td>5.164416</td>\n",
       "    </tr>\n",
       "    <tr>\n",
       "      <th>131</th>\n",
       "      <td>22d43c4cd79a3cbab663d9eadd1e5995</td>\n",
       "      <td>5.129261</td>\n",
       "    </tr>\n",
       "    <tr>\n",
       "      <th>859</th>\n",
       "      <td>e680a2b4ece6a7010a4451601d73aa62</td>\n",
       "      <td>5.119327</td>\n",
       "    </tr>\n",
       "    <tr>\n",
       "      <th>...</th>\n",
       "      <td>...</td>\n",
       "      <td>...</td>\n",
       "    </tr>\n",
       "    <tr>\n",
       "      <th>758</th>\n",
       "      <td>ce577ac73e9022772835abf8d37e91d5</td>\n",
       "      <td>3.056216</td>\n",
       "    </tr>\n",
       "    <tr>\n",
       "      <th>640</th>\n",
       "      <td>a7fa04a6b4111cac92989ac266ec40d2</td>\n",
       "      <td>3.027291</td>\n",
       "    </tr>\n",
       "    <tr>\n",
       "      <th>309</th>\n",
       "      <td>4f06c1412e8f2c16c96abb053997112f</td>\n",
       "      <td>2.997937</td>\n",
       "    </tr>\n",
       "    <tr>\n",
       "      <th>119</th>\n",
       "      <td>1ed175c60fdf7380fefc804bf4dd75f3</td>\n",
       "      <td>2.913328</td>\n",
       "    </tr>\n",
       "    <tr>\n",
       "      <th>475</th>\n",
       "      <td>7b625f643d0775f0ac4898e33235377b</td>\n",
       "      <td>2.281675</td>\n",
       "    </tr>\n",
       "  </tbody>\n",
       "</table>\n",
       "<p>937 rows × 2 columns</p>\n",
       "</div>"
      ],
      "text/plain": [
       "                            driver_id  lyft_total_revenue_ride$\n",
       "9    02d6a6b8a6da15fc219a9570f7ebbe78                  9.808984\n",
       "800  d9ef4b835e202c9b24315b999894362a                  5.813543\n",
       "87   186d02f3ae489428440a352e3fe503a4                  5.164416\n",
       "131  22d43c4cd79a3cbab663d9eadd1e5995                  5.129261\n",
       "859  e680a2b4ece6a7010a4451601d73aa62                  5.119327\n",
       "..                                ...                       ...\n",
       "758  ce577ac73e9022772835abf8d37e91d5                  3.056216\n",
       "640  a7fa04a6b4111cac92989ac266ec40d2                  3.027291\n",
       "309  4f06c1412e8f2c16c96abb053997112f                  2.997937\n",
       "119  1ed175c60fdf7380fefc804bf4dd75f3                  2.913328\n",
       "475  7b625f643d0775f0ac4898e33235377b                  2.281675\n",
       "\n",
       "[937 rows x 2 columns]"
      ]
     },
     "execution_count": 125,
     "metadata": {},
     "output_type": "execute_result"
    }
   ],
   "source": [
    "#call the df\n",
    "\n",
    "driver_mean_df"
   ]
  },
  {
   "cell_type": "code",
   "execution_count": 126,
   "metadata": {},
   "outputs": [
    {
     "data": {
      "text/plain": [
       "3.708748038606655"
      ]
     },
     "execution_count": 126,
     "metadata": {},
     "output_type": "execute_result"
    }
   ],
   "source": [
    "# mean earnings per ride per driver\n",
    "\n",
    "driver_mean_df[\"lyft_total_revenue_ride$\"].mean()"
   ]
  },
  {
   "cell_type": "code",
   "execution_count": null,
   "metadata": {},
   "outputs": [],
   "source": [
    "#want to create a cluster for not frequent, regular, frequent drivers"
   ]
  },
  {
   "cell_type": "code",
   "execution_count": 129,
   "metadata": {},
   "outputs": [],
   "source": [
    "driver_frequency_lifetime_df = lifetime_revenue_df.groupby(['driver_id'], as_index = False).agg({ 'ride_id':'count','lyft_total_revenue_ride$': 'mean'}).sort_values(by='ride_id', ascending = False)"
   ]
  },
  {
   "cell_type": "code",
   "execution_count": 130,
   "metadata": {},
   "outputs": [
    {
     "data": {
      "text/html": [
       "<div>\n",
       "<style scoped>\n",
       "    .dataframe tbody tr th:only-of-type {\n",
       "        vertical-align: middle;\n",
       "    }\n",
       "\n",
       "    .dataframe tbody tr th {\n",
       "        vertical-align: top;\n",
       "    }\n",
       "\n",
       "    .dataframe thead th {\n",
       "        text-align: right;\n",
       "    }\n",
       "</style>\n",
       "<table border=\"1\" class=\"dataframe\">\n",
       "  <thead>\n",
       "    <tr style=\"text-align: right;\">\n",
       "      <th></th>\n",
       "      <th>driver_id</th>\n",
       "      <th>ride_id</th>\n",
       "      <th>lyft_total_revenue_ride$</th>\n",
       "    </tr>\n",
       "  </thead>\n",
       "  <tbody>\n",
       "    <tr>\n",
       "      <th>354</th>\n",
       "      <td>5ccc0e6dc9c7475caf785cdce7b8eb7a</td>\n",
       "      <td>919</td>\n",
       "      <td>3.632313</td>\n",
       "    </tr>\n",
       "    <tr>\n",
       "      <th>308</th>\n",
       "      <td>4eb382d1f7d50fae1294964263d1ce82</td>\n",
       "      <td>831</td>\n",
       "      <td>3.531804</td>\n",
       "    </tr>\n",
       "    <tr>\n",
       "      <th>509</th>\n",
       "      <td>844e9be5a30d8d9c1f8e9ddb086ff717</td>\n",
       "      <td>821</td>\n",
       "      <td>3.594008</td>\n",
       "    </tr>\n",
       "    <tr>\n",
       "      <th>401</th>\n",
       "      <td>689bdf87fb2de49f98bf4946cfaa5068</td>\n",
       "      <td>794</td>\n",
       "      <td>3.383696</td>\n",
       "    </tr>\n",
       "    <tr>\n",
       "      <th>217</th>\n",
       "      <td>3788dc9e91f1548816ce8b5af07ddadc</td>\n",
       "      <td>783</td>\n",
       "      <td>3.835977</td>\n",
       "    </tr>\n",
       "    <tr>\n",
       "      <th>...</th>\n",
       "      <td>...</td>\n",
       "      <td>...</td>\n",
       "      <td>...</td>\n",
       "    </tr>\n",
       "    <tr>\n",
       "      <th>435</th>\n",
       "      <td>706466935b9e1d04e4e116be7ce90ea9</td>\n",
       "      <td>19</td>\n",
       "      <td>3.446007</td>\n",
       "    </tr>\n",
       "    <tr>\n",
       "      <th>922</th>\n",
       "      <td>fd831ca1d79ae5c6fc3a679a22e5b8cf</td>\n",
       "      <td>19</td>\n",
       "      <td>3.095905</td>\n",
       "    </tr>\n",
       "    <tr>\n",
       "      <th>424</th>\n",
       "      <td>6df6c8f8d3c2a93314245a604c02bed1</td>\n",
       "      <td>16</td>\n",
       "      <td>4.157381</td>\n",
       "    </tr>\n",
       "    <tr>\n",
       "      <th>494</th>\n",
       "      <td>7ff85c5c0e9324e28d1e0d0589c364bd</td>\n",
       "      <td>3</td>\n",
       "      <td>3.666484</td>\n",
       "    </tr>\n",
       "    <tr>\n",
       "      <th>475</th>\n",
       "      <td>7b625f643d0775f0ac4898e33235377b</td>\n",
       "      <td>3</td>\n",
       "      <td>2.281675</td>\n",
       "    </tr>\n",
       "  </tbody>\n",
       "</table>\n",
       "<p>937 rows × 3 columns</p>\n",
       "</div>"
      ],
      "text/plain": [
       "                            driver_id  ride_id  lyft_total_revenue_ride$\n",
       "354  5ccc0e6dc9c7475caf785cdce7b8eb7a      919                  3.632313\n",
       "308  4eb382d1f7d50fae1294964263d1ce82      831                  3.531804\n",
       "509  844e9be5a30d8d9c1f8e9ddb086ff717      821                  3.594008\n",
       "401  689bdf87fb2de49f98bf4946cfaa5068      794                  3.383696\n",
       "217  3788dc9e91f1548816ce8b5af07ddadc      783                  3.835977\n",
       "..                                ...      ...                       ...\n",
       "435  706466935b9e1d04e4e116be7ce90ea9       19                  3.446007\n",
       "922  fd831ca1d79ae5c6fc3a679a22e5b8cf       19                  3.095905\n",
       "424  6df6c8f8d3c2a93314245a604c02bed1       16                  4.157381\n",
       "494  7ff85c5c0e9324e28d1e0d0589c364bd        3                  3.666484\n",
       "475  7b625f643d0775f0ac4898e33235377b        3                  2.281675\n",
       "\n",
       "[937 rows x 3 columns]"
      ]
     },
     "execution_count": 130,
     "metadata": {},
     "output_type": "execute_result"
    }
   ],
   "source": [
    "#check\n",
    "\n",
    "driver_frequency_lifetime_df"
   ]
  },
  {
   "cell_type": "code",
   "execution_count": 147,
   "metadata": {},
   "outputs": [
    {
     "data": {
      "text/html": [
       "<div>\n",
       "<style scoped>\n",
       "    .dataframe tbody tr th:only-of-type {\n",
       "        vertical-align: middle;\n",
       "    }\n",
       "\n",
       "    .dataframe tbody tr th {\n",
       "        vertical-align: top;\n",
       "    }\n",
       "\n",
       "    .dataframe thead th {\n",
       "        text-align: right;\n",
       "    }\n",
       "</style>\n",
       "<table border=\"1\" class=\"dataframe\">\n",
       "  <thead>\n",
       "    <tr style=\"text-align: right;\">\n",
       "      <th></th>\n",
       "      <th>count</th>\n",
       "      <th>mean</th>\n",
       "      <th>std</th>\n",
       "      <th>min</th>\n",
       "      <th>25%</th>\n",
       "      <th>50%</th>\n",
       "      <th>75%</th>\n",
       "      <th>max</th>\n",
       "    </tr>\n",
       "  </thead>\n",
       "  <tbody>\n",
       "    <tr>\n",
       "      <th>ride_id</th>\n",
       "      <td>937.0</td>\n",
       "      <td>206.512273</td>\n",
       "      <td>173.254063</td>\n",
       "      <td>3.000000</td>\n",
       "      <td>47.000000</td>\n",
       "      <td>200.000000</td>\n",
       "      <td>316.000000</td>\n",
       "      <td>919.000000</td>\n",
       "    </tr>\n",
       "    <tr>\n",
       "      <th>lyft_total_revenue_ride$</th>\n",
       "      <td>937.0</td>\n",
       "      <td>3.708748</td>\n",
       "      <td>0.411728</td>\n",
       "      <td>2.281675</td>\n",
       "      <td>3.467148</td>\n",
       "      <td>3.628549</td>\n",
       "      <td>3.866596</td>\n",
       "      <td>9.808984</td>\n",
       "    </tr>\n",
       "  </tbody>\n",
       "</table>\n",
       "</div>"
      ],
      "text/plain": [
       "                          count        mean         std       min        25%  \\\n",
       "ride_id                   937.0  206.512273  173.254063  3.000000  47.000000   \n",
       "lyft_total_revenue_ride$  937.0    3.708748    0.411728  2.281675   3.467148   \n",
       "\n",
       "                                 50%         75%         max  \n",
       "ride_id                   200.000000  316.000000  919.000000  \n",
       "lyft_total_revenue_ride$    3.628549    3.866596    9.808984  "
      ]
     },
     "execution_count": 147,
     "metadata": {},
     "output_type": "execute_result"
    }
   ],
   "source": [
    "# for the lifetime average, check average count of rides and revenue per ride\n",
    "\n",
    "lifetime_stats=driver_frequency_lifetime_df.describe().transpose()\n",
    "lifetime_stats"
   ]
  },
  {
   "cell_type": "code",
   "execution_count": 149,
   "metadata": {},
   "outputs": [
    {
     "data": {
      "text/plain": [
       "765.9019794642039"
      ]
     },
     "execution_count": 149,
     "metadata": {},
     "output_type": "execute_result"
    }
   ],
   "source": [
    "# average lifetime would then be\n",
    "\n",
    "total_avg_lifetime=206.512273*3.708748\n",
    "total_avg_lifetime"
   ]
  },
  {
   "cell_type": "code",
   "execution_count": 132,
   "metadata": {},
   "outputs": [
    {
     "data": {
      "text/plain": [
       "count    937.000000\n",
       "mean     206.512273\n",
       "std      173.254063\n",
       "min        3.000000\n",
       "25%       47.000000\n",
       "50%      200.000000\n",
       "75%      316.000000\n",
       "max      919.000000\n",
       "Name: ride_id, dtype: float64"
      ]
     },
     "execution_count": 132,
     "metadata": {},
     "output_type": "execute_result"
    }
   ],
   "source": [
    "# check the descriptive statistics\n",
    "# will use the IQR and define the regular driver as the bulk of values, IQR, < IQR as less frequent drivers and > IQR frequent drivers\n",
    "\n",
    "descriptive=driver_frequency_lifetime_df[\"ride_id\"].describe().transpose()\n",
    "\n",
    "descriptive"
   ]
  },
  {
   "cell_type": "code",
   "execution_count": 135,
   "metadata": {},
   "outputs": [
    {
     "name": "stdout",
     "output_type": "stream",
     "text": [
      "IQR 269.0\n",
      "25 47.0\n",
      "75 316.0\n"
     ]
    }
   ],
   "source": [
    "#clustering info\n",
    "\n",
    "descriptive[\"IQR\"] = descriptive[\"75%\"] - descriptive[\"25%\"]\n",
    "print(\"IQR\",descriptive[\"IQR\"])\n",
    "print(\"25\", descriptive[\"25%\"])\n",
    "print(\"75\", descriptive[\"75%\"])"
   ]
  },
  {
   "cell_type": "code",
   "execution_count": 90,
   "metadata": {},
   "outputs": [],
   "source": [
    "# occasional =< 47\n",
    "# 47 < average < 316\n",
    "# frequent >= 316"
   ]
  },
  {
   "cell_type": "code",
   "execution_count": 138,
   "metadata": {},
   "outputs": [],
   "source": [
    "#occasional drivers\n",
    "\n",
    "occasional_df=driver_frequency_lifetime_df.loc[(driver_frequency_lifetime_df[\"ride_id\"]<=47)]\n"
   ]
  },
  {
   "cell_type": "code",
   "execution_count": 139,
   "metadata": {},
   "outputs": [
    {
     "data": {
      "text/html": [
       "<div>\n",
       "<style scoped>\n",
       "    .dataframe tbody tr th:only-of-type {\n",
       "        vertical-align: middle;\n",
       "    }\n",
       "\n",
       "    .dataframe tbody tr th {\n",
       "        vertical-align: top;\n",
       "    }\n",
       "\n",
       "    .dataframe thead th {\n",
       "        text-align: right;\n",
       "    }\n",
       "</style>\n",
       "<table border=\"1\" class=\"dataframe\">\n",
       "  <thead>\n",
       "    <tr style=\"text-align: right;\">\n",
       "      <th></th>\n",
       "      <th>driver_id</th>\n",
       "      <th>ride_id</th>\n",
       "      <th>lyft_total_revenue_ride$</th>\n",
       "    </tr>\n",
       "  </thead>\n",
       "  <tbody>\n",
       "    <tr>\n",
       "      <th>320</th>\n",
       "      <td>52bc8ebc7db90d5b77453bf475677ebd</td>\n",
       "      <td>47</td>\n",
       "      <td>3.475375</td>\n",
       "    </tr>\n",
       "    <tr>\n",
       "      <th>505</th>\n",
       "      <td>838495eb3f025e512228480eae127522</td>\n",
       "      <td>47</td>\n",
       "      <td>3.176864</td>\n",
       "    </tr>\n",
       "    <tr>\n",
       "      <th>900</th>\n",
       "      <td>f395649fb47860aebc4817c7a6ea90e6</td>\n",
       "      <td>47</td>\n",
       "      <td>3.478963</td>\n",
       "    </tr>\n",
       "    <tr>\n",
       "      <th>273</th>\n",
       "      <td>44e9f61af64c2d25412a0f4532ada63c</td>\n",
       "      <td>47</td>\n",
       "      <td>3.086757</td>\n",
       "    </tr>\n",
       "    <tr>\n",
       "      <th>565</th>\n",
       "      <td>94699541835b03d2a18e265299c11213</td>\n",
       "      <td>47</td>\n",
       "      <td>4.382304</td>\n",
       "    </tr>\n",
       "    <tr>\n",
       "      <th>...</th>\n",
       "      <td>...</td>\n",
       "      <td>...</td>\n",
       "      <td>...</td>\n",
       "    </tr>\n",
       "    <tr>\n",
       "      <th>435</th>\n",
       "      <td>706466935b9e1d04e4e116be7ce90ea9</td>\n",
       "      <td>19</td>\n",
       "      <td>3.446007</td>\n",
       "    </tr>\n",
       "    <tr>\n",
       "      <th>922</th>\n",
       "      <td>fd831ca1d79ae5c6fc3a679a22e5b8cf</td>\n",
       "      <td>19</td>\n",
       "      <td>3.095905</td>\n",
       "    </tr>\n",
       "    <tr>\n",
       "      <th>424</th>\n",
       "      <td>6df6c8f8d3c2a93314245a604c02bed1</td>\n",
       "      <td>16</td>\n",
       "      <td>4.157381</td>\n",
       "    </tr>\n",
       "    <tr>\n",
       "      <th>494</th>\n",
       "      <td>7ff85c5c0e9324e28d1e0d0589c364bd</td>\n",
       "      <td>3</td>\n",
       "      <td>3.666484</td>\n",
       "    </tr>\n",
       "    <tr>\n",
       "      <th>475</th>\n",
       "      <td>7b625f643d0775f0ac4898e33235377b</td>\n",
       "      <td>3</td>\n",
       "      <td>2.281675</td>\n",
       "    </tr>\n",
       "  </tbody>\n",
       "</table>\n",
       "<p>245 rows × 3 columns</p>\n",
       "</div>"
      ],
      "text/plain": [
       "                            driver_id  ride_id  lyft_total_revenue_ride$\n",
       "320  52bc8ebc7db90d5b77453bf475677ebd       47                  3.475375\n",
       "505  838495eb3f025e512228480eae127522       47                  3.176864\n",
       "900  f395649fb47860aebc4817c7a6ea90e6       47                  3.478963\n",
       "273  44e9f61af64c2d25412a0f4532ada63c       47                  3.086757\n",
       "565  94699541835b03d2a18e265299c11213       47                  4.382304\n",
       "..                                ...      ...                       ...\n",
       "435  706466935b9e1d04e4e116be7ce90ea9       19                  3.446007\n",
       "922  fd831ca1d79ae5c6fc3a679a22e5b8cf       19                  3.095905\n",
       "424  6df6c8f8d3c2a93314245a604c02bed1       16                  4.157381\n",
       "494  7ff85c5c0e9324e28d1e0d0589c364bd        3                  3.666484\n",
       "475  7b625f643d0775f0ac4898e33235377b        3                  2.281675\n",
       "\n",
       "[245 rows x 3 columns]"
      ]
     },
     "execution_count": 139,
     "metadata": {},
     "output_type": "execute_result"
    }
   ],
   "source": [
    "#confirm\n",
    "\n",
    "occasional_df"
   ]
  },
  {
   "cell_type": "code",
   "execution_count": 140,
   "metadata": {},
   "outputs": [
    {
     "data": {
      "text/plain": [
       "3.698817386629186"
      ]
     },
     "execution_count": 140,
     "metadata": {},
     "output_type": "execute_result"
    }
   ],
   "source": [
    "# mean earnings occasional driver cluster per ride per driver\n",
    "\n",
    "occasional_df[\"lyft_total_revenue_ride$\"].mean()"
   ]
  },
  {
   "cell_type": "code",
   "execution_count": 150,
   "metadata": {},
   "outputs": [
    {
     "data": {
      "text/html": [
       "<div>\n",
       "<style scoped>\n",
       "    .dataframe tbody tr th:only-of-type {\n",
       "        vertical-align: middle;\n",
       "    }\n",
       "\n",
       "    .dataframe tbody tr th {\n",
       "        vertical-align: top;\n",
       "    }\n",
       "\n",
       "    .dataframe thead th {\n",
       "        text-align: right;\n",
       "    }\n",
       "</style>\n",
       "<table border=\"1\" class=\"dataframe\">\n",
       "  <thead>\n",
       "    <tr style=\"text-align: right;\">\n",
       "      <th></th>\n",
       "      <th>count</th>\n",
       "      <th>mean</th>\n",
       "      <th>std</th>\n",
       "      <th>min</th>\n",
       "      <th>25%</th>\n",
       "      <th>50%</th>\n",
       "      <th>75%</th>\n",
       "      <th>max</th>\n",
       "    </tr>\n",
       "  </thead>\n",
       "  <tbody>\n",
       "    <tr>\n",
       "      <th>ride_id</th>\n",
       "      <td>245.0</td>\n",
       "      <td>35.987755</td>\n",
       "      <td>7.631622</td>\n",
       "      <td>3.000000</td>\n",
       "      <td>31.000000</td>\n",
       "      <td>37.000000</td>\n",
       "      <td>42.00000</td>\n",
       "      <td>47.000000</td>\n",
       "    </tr>\n",
       "    <tr>\n",
       "      <th>lyft_total_revenue_ride$</th>\n",
       "      <td>245.0</td>\n",
       "      <td>3.698817</td>\n",
       "      <td>0.431926</td>\n",
       "      <td>2.281675</td>\n",
       "      <td>3.387837</td>\n",
       "      <td>3.643674</td>\n",
       "      <td>3.94524</td>\n",
       "      <td>5.164416</td>\n",
       "    </tr>\n",
       "  </tbody>\n",
       "</table>\n",
       "</div>"
      ],
      "text/plain": [
       "                          count       mean       std       min        25%  \\\n",
       "ride_id                   245.0  35.987755  7.631622  3.000000  31.000000   \n",
       "lyft_total_revenue_ride$  245.0   3.698817  0.431926  2.281675   3.387837   \n",
       "\n",
       "                                50%       75%        max  \n",
       "ride_id                   37.000000  42.00000  47.000000  \n",
       "lyft_total_revenue_ride$   3.643674   3.94524   5.164416  "
      ]
     },
     "execution_count": 150,
     "metadata": {},
     "output_type": "execute_result"
    }
   ],
   "source": [
    "#check the average lifetime value of an occasional driver\n",
    "\n",
    "occasional_df_stats=occasional_df.describe().transpose()\n",
    "occasional_df_stats"
   ]
  },
  {
   "cell_type": "code",
   "execution_count": 151,
   "metadata": {},
   "outputs": [
    {
     "data": {
      "text/plain": [
       "96.123949985835"
      ]
     },
     "execution_count": 151,
     "metadata": {},
     "output_type": "execute_result"
    }
   ],
   "source": [
    "# occasional driver lifetime value taken into consideration the average amount of rides and the value\n",
    "\n",
    "occasional_avg_lifetime=25.987755*3.698817\n",
    "occasional_avg_lifetime"
   ]
  },
  {
   "cell_type": "code",
   "execution_count": 141,
   "metadata": {},
   "outputs": [],
   "source": [
    "#average driver\n",
    "\n",
    "average_df=driver_frequency_lifetime_df.loc[(driver_frequency_lifetime_df[\"ride_id\"]>47)&(driver_frequency_lifetime_df[\"ride_id\"]<316)]"
   ]
  },
  {
   "cell_type": "code",
   "execution_count": 143,
   "metadata": {},
   "outputs": [
    {
     "data": {
      "text/plain": [
       "3.7402017748348073"
      ]
     },
     "execution_count": 143,
     "metadata": {},
     "output_type": "execute_result"
    }
   ],
   "source": [
    "# mean earnings average driver cluster per ride per driver\n",
    "\n",
    "average_df[\"lyft_total_revenue_ride$\"].mean()"
   ]
  },
  {
   "cell_type": "code",
   "execution_count": 152,
   "metadata": {},
   "outputs": [
    {
     "data": {
      "text/html": [
       "<div>\n",
       "<style scoped>\n",
       "    .dataframe tbody tr th:only-of-type {\n",
       "        vertical-align: middle;\n",
       "    }\n",
       "\n",
       "    .dataframe tbody tr th {\n",
       "        vertical-align: top;\n",
       "    }\n",
       "\n",
       "    .dataframe thead th {\n",
       "        text-align: right;\n",
       "    }\n",
       "</style>\n",
       "<table border=\"1\" class=\"dataframe\">\n",
       "  <thead>\n",
       "    <tr style=\"text-align: right;\">\n",
       "      <th></th>\n",
       "      <th>count</th>\n",
       "      <th>mean</th>\n",
       "      <th>std</th>\n",
       "      <th>min</th>\n",
       "      <th>25%</th>\n",
       "      <th>50%</th>\n",
       "      <th>75%</th>\n",
       "      <th>max</th>\n",
       "    </tr>\n",
       "  </thead>\n",
       "  <tbody>\n",
       "    <tr>\n",
       "      <th>ride_id</th>\n",
       "      <td>455.0</td>\n",
       "      <td>173.419780</td>\n",
       "      <td>90.52148</td>\n",
       "      <td>48.000000</td>\n",
       "      <td>66.500000</td>\n",
       "      <td>203.000000</td>\n",
       "      <td>250.500000</td>\n",
       "      <td>315.000000</td>\n",
       "    </tr>\n",
       "    <tr>\n",
       "      <th>lyft_total_revenue_ride$</th>\n",
       "      <td>455.0</td>\n",
       "      <td>3.740202</td>\n",
       "      <td>0.45633</td>\n",
       "      <td>3.027291</td>\n",
       "      <td>3.491933</td>\n",
       "      <td>3.645725</td>\n",
       "      <td>3.899092</td>\n",
       "      <td>9.808984</td>\n",
       "    </tr>\n",
       "  </tbody>\n",
       "</table>\n",
       "</div>"
      ],
      "text/plain": [
       "                          count        mean       std        min        25%  \\\n",
       "ride_id                   455.0  173.419780  90.52148  48.000000  66.500000   \n",
       "lyft_total_revenue_ride$  455.0    3.740202   0.45633   3.027291   3.491933   \n",
       "\n",
       "                                 50%         75%         max  \n",
       "ride_id                   203.000000  250.500000  315.000000  \n",
       "lyft_total_revenue_ride$    3.645725    3.899092    9.808984  "
      ]
     },
     "execution_count": 152,
     "metadata": {},
     "output_type": "execute_result"
    }
   ],
   "source": [
    "#check the average lifetime value of an average driver\n",
    "\n",
    "average_df_stats=average_df.describe().transpose()\n",
    "average_df_stats"
   ]
  },
  {
   "cell_type": "code",
   "execution_count": 154,
   "metadata": {},
   "outputs": [
    {
     "data": {
      "text/plain": [
       "648.62500799556"
      ]
     },
     "execution_count": 154,
     "metadata": {},
     "output_type": "execute_result"
    }
   ],
   "source": [
    "# average driver lifetime value taken into consideration the average amount of rides and the value\n",
    "\n",
    "average_avg_lifetime=173.419780*3.740202\n",
    "average_avg_lifetime"
   ]
  },
  {
   "cell_type": "code",
   "execution_count": 144,
   "metadata": {},
   "outputs": [],
   "source": [
    "#frequent drivers\n",
    "\n",
    "frequent_df=driver_frequency_lifetime_df.loc[(driver_frequency_lifetime_df[\"ride_id\"]>316)]"
   ]
  },
  {
   "cell_type": "code",
   "execution_count": 146,
   "metadata": {},
   "outputs": [
    {
     "data": {
      "text/plain": [
       "3.6561836249835893"
      ]
     },
     "execution_count": 146,
     "metadata": {},
     "output_type": "execute_result"
    }
   ],
   "source": [
    "# mean earnings average driver cluster per ride per driver\n",
    "\n",
    "frequent_df[\"lyft_total_revenue_ride$\"].mean()"
   ]
  },
  {
   "cell_type": "code",
   "execution_count": 155,
   "metadata": {},
   "outputs": [
    {
     "data": {
      "text/html": [
       "<div>\n",
       "<style scoped>\n",
       "    .dataframe tbody tr th:only-of-type {\n",
       "        vertical-align: middle;\n",
       "    }\n",
       "\n",
       "    .dataframe tbody tr th {\n",
       "        vertical-align: top;\n",
       "    }\n",
       "\n",
       "    .dataframe thead th {\n",
       "        text-align: right;\n",
       "    }\n",
       "</style>\n",
       "<table border=\"1\" class=\"dataframe\">\n",
       "  <thead>\n",
       "    <tr style=\"text-align: right;\">\n",
       "      <th></th>\n",
       "      <th>count</th>\n",
       "      <th>mean</th>\n",
       "      <th>std</th>\n",
       "      <th>min</th>\n",
       "      <th>25%</th>\n",
       "      <th>50%</th>\n",
       "      <th>75%</th>\n",
       "      <th>max</th>\n",
       "    </tr>\n",
       "  </thead>\n",
       "  <tbody>\n",
       "    <tr>\n",
       "      <th>ride_id</th>\n",
       "      <td>234.0</td>\n",
       "      <td>447.995726</td>\n",
       "      <td>114.552666</td>\n",
       "      <td>317.000000</td>\n",
       "      <td>360.250000</td>\n",
       "      <td>422.000000</td>\n",
       "      <td>503.25000</td>\n",
       "      <td>919.000000</td>\n",
       "    </tr>\n",
       "    <tr>\n",
       "      <th>lyft_total_revenue_ride$</th>\n",
       "      <td>234.0</td>\n",
       "      <td>3.656184</td>\n",
       "      <td>0.271176</td>\n",
       "      <td>3.231554</td>\n",
       "      <td>3.486121</td>\n",
       "      <td>3.601187</td>\n",
       "      <td>3.76544</td>\n",
       "      <td>5.129261</td>\n",
       "    </tr>\n",
       "  </tbody>\n",
       "</table>\n",
       "</div>"
      ],
      "text/plain": [
       "                          count        mean         std         min  \\\n",
       "ride_id                   234.0  447.995726  114.552666  317.000000   \n",
       "lyft_total_revenue_ride$  234.0    3.656184    0.271176    3.231554   \n",
       "\n",
       "                                 25%         50%        75%         max  \n",
       "ride_id                   360.250000  422.000000  503.25000  919.000000  \n",
       "lyft_total_revenue_ride$    3.486121    3.601187    3.76544    5.129261  "
      ]
     },
     "execution_count": 155,
     "metadata": {},
     "output_type": "execute_result"
    }
   ],
   "source": [
    "#check the average lifetime value of a frequent driver\n",
    "\n",
    "frequent_df_stats=frequent_df.describe().transpose()\n",
    "frequent_df_stats"
   ]
  },
  {
   "cell_type": "code",
   "execution_count": 156,
   "metadata": {},
   "outputs": [
    {
     "data": {
      "text/plain": [
       "1637.954805469584"
      ]
     },
     "execution_count": 156,
     "metadata": {},
     "output_type": "execute_result"
    }
   ],
   "source": [
    "# average driver lifetime value taken into consideration the average amount of rides and the value\n",
    "\n",
    "frequent_avg_lifetime=447.995726*3.656184\n",
    "frequent_avg_lifetime"
   ]
  },
  {
   "cell_type": "code",
   "execution_count": null,
   "metadata": {},
   "outputs": [],
   "source": [
    "#reasons?\n",
    "#can we correlate distance with average earnings?\n",
    "#can we correlate time with average earnings?"
   ]
  },
  {
   "cell_type": "markdown",
   "metadata": {},
   "source": [
    "# Projected lifetime"
   ]
  },
  {
   "cell_type": "code",
   "execution_count": 95,
   "metadata": {},
   "outputs": [],
   "source": [
    "# What is the average projected lifetime of a driver? That is, once a driver is onboarded,\n",
    "#how long does he/she typically continue driving with Lyft.\n"
   ]
  },
  {
   "cell_type": "code",
   "execution_count": 96,
   "metadata": {},
   "outputs": [],
   "source": [
    "#merge tables to get the orboarded time until last recorded drive\n",
    "\n",
    "mergeids=driverid.merge(riderid, left_on=\"driver_id\", right_on=\"driver_id\")"
   ]
  },
  {
   "cell_type": "code",
   "execution_count": 97,
   "metadata": {},
   "outputs": [
    {
     "data": {
      "text/html": [
       "<div>\n",
       "<style scoped>\n",
       "    .dataframe tbody tr th:only-of-type {\n",
       "        vertical-align: middle;\n",
       "    }\n",
       "\n",
       "    .dataframe tbody tr th {\n",
       "        vertical-align: top;\n",
       "    }\n",
       "\n",
       "    .dataframe thead th {\n",
       "        text-align: right;\n",
       "    }\n",
       "</style>\n",
       "<table border=\"1\" class=\"dataframe\">\n",
       "  <thead>\n",
       "    <tr style=\"text-align: right;\">\n",
       "      <th></th>\n",
       "      <th>driver_id</th>\n",
       "      <th>driver_onboard_date</th>\n",
       "      <th>ride_id</th>\n",
       "      <th>ride_distance</th>\n",
       "      <th>ride_duration</th>\n",
       "      <th>ride_prime_time</th>\n",
       "      <th>ride_duration_min</th>\n",
       "      <th>ride_distance_miles</th>\n",
       "      <th>base_fare$</th>\n",
       "      <th>distance_ride_revenue$</th>\n",
       "      <th>duration_ride_revenue$</th>\n",
       "      <th>service_fee$</th>\n",
       "      <th>driver_revenue_before_commission$</th>\n",
       "    </tr>\n",
       "  </thead>\n",
       "  <tbody>\n",
       "    <tr>\n",
       "      <th>0</th>\n",
       "      <td>002be0ffdc997bd5c50703158b7c2491</td>\n",
       "      <td>2016-03-29</td>\n",
       "      <td>006d61cf7446e682f7bc50b0f8a5bea5</td>\n",
       "      <td>1811</td>\n",
       "      <td>327</td>\n",
       "      <td>50</td>\n",
       "      <td>5.450000</td>\n",
       "      <td>1.125303</td>\n",
       "      <td>2</td>\n",
       "      <td>1.294099</td>\n",
       "      <td>1.199000</td>\n",
       "      <td>1.75</td>\n",
       "      <td>4.493099</td>\n",
       "    </tr>\n",
       "    <tr>\n",
       "      <th>1</th>\n",
       "      <td>002be0ffdc997bd5c50703158b7c2491</td>\n",
       "      <td>2016-03-29</td>\n",
       "      <td>01b522c5c3a756fbdb12e95e87507eda</td>\n",
       "      <td>3362</td>\n",
       "      <td>809</td>\n",
       "      <td>0</td>\n",
       "      <td>13.483333</td>\n",
       "      <td>2.089050</td>\n",
       "      <td>2</td>\n",
       "      <td>2.402407</td>\n",
       "      <td>2.966333</td>\n",
       "      <td>1.75</td>\n",
       "      <td>7.368741</td>\n",
       "    </tr>\n",
       "    <tr>\n",
       "      <th>2</th>\n",
       "      <td>002be0ffdc997bd5c50703158b7c2491</td>\n",
       "      <td>2016-03-29</td>\n",
       "      <td>029227c4c2971ce69ff2274dc798ef43</td>\n",
       "      <td>3282</td>\n",
       "      <td>572</td>\n",
       "      <td>0</td>\n",
       "      <td>9.533333</td>\n",
       "      <td>2.039340</td>\n",
       "      <td>2</td>\n",
       "      <td>2.345241</td>\n",
       "      <td>2.097333</td>\n",
       "      <td>1.75</td>\n",
       "      <td>6.442575</td>\n",
       "    </tr>\n",
       "    <tr>\n",
       "      <th>3</th>\n",
       "      <td>002be0ffdc997bd5c50703158b7c2491</td>\n",
       "      <td>2016-03-29</td>\n",
       "      <td>034e861343a63ac3c18a9ceb1ce0ac69</td>\n",
       "      <td>65283</td>\n",
       "      <td>3338</td>\n",
       "      <td>25</td>\n",
       "      <td>55.633333</td>\n",
       "      <td>40.564976</td>\n",
       "      <td>2</td>\n",
       "      <td>46.649722</td>\n",
       "      <td>12.239333</td>\n",
       "      <td>1.75</td>\n",
       "      <td>60.889055</td>\n",
       "    </tr>\n",
       "    <tr>\n",
       "      <th>4</th>\n",
       "      <td>002be0ffdc997bd5c50703158b7c2491</td>\n",
       "      <td>2016-03-29</td>\n",
       "      <td>034f2e614a2f9fc7f1c2f77647d1b981</td>\n",
       "      <td>4115</td>\n",
       "      <td>823</td>\n",
       "      <td>100</td>\n",
       "      <td>13.716667</td>\n",
       "      <td>2.556942</td>\n",
       "      <td>2</td>\n",
       "      <td>2.940484</td>\n",
       "      <td>3.017667</td>\n",
       "      <td>1.75</td>\n",
       "      <td>7.958150</td>\n",
       "    </tr>\n",
       "  </tbody>\n",
       "</table>\n",
       "</div>"
      ],
      "text/plain": [
       "                          driver_id driver_onboard_date  \\\n",
       "0  002be0ffdc997bd5c50703158b7c2491          2016-03-29   \n",
       "1  002be0ffdc997bd5c50703158b7c2491          2016-03-29   \n",
       "2  002be0ffdc997bd5c50703158b7c2491          2016-03-29   \n",
       "3  002be0ffdc997bd5c50703158b7c2491          2016-03-29   \n",
       "4  002be0ffdc997bd5c50703158b7c2491          2016-03-29   \n",
       "\n",
       "                            ride_id  ride_distance  ride_duration  \\\n",
       "0  006d61cf7446e682f7bc50b0f8a5bea5           1811            327   \n",
       "1  01b522c5c3a756fbdb12e95e87507eda           3362            809   \n",
       "2  029227c4c2971ce69ff2274dc798ef43           3282            572   \n",
       "3  034e861343a63ac3c18a9ceb1ce0ac69          65283           3338   \n",
       "4  034f2e614a2f9fc7f1c2f77647d1b981           4115            823   \n",
       "\n",
       "   ride_prime_time  ride_duration_min  ride_distance_miles  base_fare$  \\\n",
       "0               50           5.450000             1.125303           2   \n",
       "1                0          13.483333             2.089050           2   \n",
       "2                0           9.533333             2.039340           2   \n",
       "3               25          55.633333            40.564976           2   \n",
       "4              100          13.716667             2.556942           2   \n",
       "\n",
       "   distance_ride_revenue$  duration_ride_revenue$  service_fee$  \\\n",
       "0                1.294099                1.199000          1.75   \n",
       "1                2.402407                2.966333          1.75   \n",
       "2                2.345241                2.097333          1.75   \n",
       "3               46.649722               12.239333          1.75   \n",
       "4                2.940484                3.017667          1.75   \n",
       "\n",
       "   driver_revenue_before_commission$  \n",
       "0                           4.493099  \n",
       "1                           7.368741  \n",
       "2                           6.442575  \n",
       "3                          60.889055  \n",
       "4                           7.958150  "
      ]
     },
     "execution_count": 97,
     "metadata": {},
     "output_type": "execute_result"
    }
   ],
   "source": [
    "mergeids.head()"
   ]
  },
  {
   "cell_type": "code",
   "execution_count": 98,
   "metadata": {},
   "outputs": [],
   "source": [
    "mergeids2=mergeids.merge(timedif, left_on=\"ride_id\", right_on=\"ride_id\")"
   ]
  },
  {
   "cell_type": "code",
   "execution_count": 99,
   "metadata": {},
   "outputs": [
    {
     "data": {
      "text/html": [
       "<div>\n",
       "<style scoped>\n",
       "    .dataframe tbody tr th:only-of-type {\n",
       "        vertical-align: middle;\n",
       "    }\n",
       "\n",
       "    .dataframe tbody tr th {\n",
       "        vertical-align: top;\n",
       "    }\n",
       "\n",
       "    .dataframe thead th {\n",
       "        text-align: right;\n",
       "    }\n",
       "</style>\n",
       "<table border=\"1\" class=\"dataframe\">\n",
       "  <thead>\n",
       "    <tr style=\"text-align: right;\">\n",
       "      <th></th>\n",
       "      <th>driver_id</th>\n",
       "      <th>driver_onboard_date</th>\n",
       "      <th>ride_id</th>\n",
       "      <th>ride_distance</th>\n",
       "      <th>ride_duration</th>\n",
       "      <th>ride_prime_time</th>\n",
       "      <th>ride_duration_min</th>\n",
       "      <th>ride_distance_miles</th>\n",
       "      <th>base_fare$</th>\n",
       "      <th>distance_ride_revenue$</th>\n",
       "      <th>duration_ride_revenue$</th>\n",
       "      <th>service_fee$</th>\n",
       "      <th>driver_revenue_before_commission$</th>\n",
       "      <th>event</th>\n",
       "      <th>timestamp</th>\n",
       "      <th>month</th>\n",
       "      <th>day</th>\n",
       "      <th>weekday</th>\n",
       "      <th>hour</th>\n",
       "    </tr>\n",
       "  </thead>\n",
       "  <tbody>\n",
       "    <tr>\n",
       "      <th>0</th>\n",
       "      <td>002be0ffdc997bd5c50703158b7c2491</td>\n",
       "      <td>2016-03-29</td>\n",
       "      <td>006d61cf7446e682f7bc50b0f8a5bea5</td>\n",
       "      <td>1811</td>\n",
       "      <td>327</td>\n",
       "      <td>50</td>\n",
       "      <td>5.45</td>\n",
       "      <td>1.125303</td>\n",
       "      <td>2</td>\n",
       "      <td>1.294099</td>\n",
       "      <td>1.199</td>\n",
       "      <td>1.75</td>\n",
       "      <td>4.493099</td>\n",
       "      <td>requested_at</td>\n",
       "      <td>2016-04-23 02:13:50</td>\n",
       "      <td>4.0</td>\n",
       "      <td>23.0</td>\n",
       "      <td>5.0</td>\n",
       "      <td>2.0</td>\n",
       "    </tr>\n",
       "    <tr>\n",
       "      <th>1</th>\n",
       "      <td>002be0ffdc997bd5c50703158b7c2491</td>\n",
       "      <td>2016-03-29</td>\n",
       "      <td>006d61cf7446e682f7bc50b0f8a5bea5</td>\n",
       "      <td>1811</td>\n",
       "      <td>327</td>\n",
       "      <td>50</td>\n",
       "      <td>5.45</td>\n",
       "      <td>1.125303</td>\n",
       "      <td>2</td>\n",
       "      <td>1.294099</td>\n",
       "      <td>1.199</td>\n",
       "      <td>1.75</td>\n",
       "      <td>4.493099</td>\n",
       "      <td>accepted_at</td>\n",
       "      <td>2016-04-23 02:14:15</td>\n",
       "      <td>4.0</td>\n",
       "      <td>23.0</td>\n",
       "      <td>5.0</td>\n",
       "      <td>2.0</td>\n",
       "    </tr>\n",
       "    <tr>\n",
       "      <th>2</th>\n",
       "      <td>002be0ffdc997bd5c50703158b7c2491</td>\n",
       "      <td>2016-03-29</td>\n",
       "      <td>006d61cf7446e682f7bc50b0f8a5bea5</td>\n",
       "      <td>1811</td>\n",
       "      <td>327</td>\n",
       "      <td>50</td>\n",
       "      <td>5.45</td>\n",
       "      <td>1.125303</td>\n",
       "      <td>2</td>\n",
       "      <td>1.294099</td>\n",
       "      <td>1.199</td>\n",
       "      <td>1.75</td>\n",
       "      <td>4.493099</td>\n",
       "      <td>arrived_at</td>\n",
       "      <td>2016-04-23 02:16:36</td>\n",
       "      <td>4.0</td>\n",
       "      <td>23.0</td>\n",
       "      <td>5.0</td>\n",
       "      <td>2.0</td>\n",
       "    </tr>\n",
       "    <tr>\n",
       "      <th>3</th>\n",
       "      <td>002be0ffdc997bd5c50703158b7c2491</td>\n",
       "      <td>2016-03-29</td>\n",
       "      <td>006d61cf7446e682f7bc50b0f8a5bea5</td>\n",
       "      <td>1811</td>\n",
       "      <td>327</td>\n",
       "      <td>50</td>\n",
       "      <td>5.45</td>\n",
       "      <td>1.125303</td>\n",
       "      <td>2</td>\n",
       "      <td>1.294099</td>\n",
       "      <td>1.199</td>\n",
       "      <td>1.75</td>\n",
       "      <td>4.493099</td>\n",
       "      <td>picked_up_at</td>\n",
       "      <td>2016-04-23 02:16:40</td>\n",
       "      <td>4.0</td>\n",
       "      <td>23.0</td>\n",
       "      <td>5.0</td>\n",
       "      <td>2.0</td>\n",
       "    </tr>\n",
       "    <tr>\n",
       "      <th>4</th>\n",
       "      <td>002be0ffdc997bd5c50703158b7c2491</td>\n",
       "      <td>2016-03-29</td>\n",
       "      <td>006d61cf7446e682f7bc50b0f8a5bea5</td>\n",
       "      <td>1811</td>\n",
       "      <td>327</td>\n",
       "      <td>50</td>\n",
       "      <td>5.45</td>\n",
       "      <td>1.125303</td>\n",
       "      <td>2</td>\n",
       "      <td>1.294099</td>\n",
       "      <td>1.199</td>\n",
       "      <td>1.75</td>\n",
       "      <td>4.493099</td>\n",
       "      <td>dropped_off_at</td>\n",
       "      <td>2016-04-23 02:22:07</td>\n",
       "      <td>4.0</td>\n",
       "      <td>23.0</td>\n",
       "      <td>5.0</td>\n",
       "      <td>2.0</td>\n",
       "    </tr>\n",
       "  </tbody>\n",
       "</table>\n",
       "</div>"
      ],
      "text/plain": [
       "                          driver_id driver_onboard_date  \\\n",
       "0  002be0ffdc997bd5c50703158b7c2491          2016-03-29   \n",
       "1  002be0ffdc997bd5c50703158b7c2491          2016-03-29   \n",
       "2  002be0ffdc997bd5c50703158b7c2491          2016-03-29   \n",
       "3  002be0ffdc997bd5c50703158b7c2491          2016-03-29   \n",
       "4  002be0ffdc997bd5c50703158b7c2491          2016-03-29   \n",
       "\n",
       "                            ride_id  ride_distance  ride_duration  \\\n",
       "0  006d61cf7446e682f7bc50b0f8a5bea5           1811            327   \n",
       "1  006d61cf7446e682f7bc50b0f8a5bea5           1811            327   \n",
       "2  006d61cf7446e682f7bc50b0f8a5bea5           1811            327   \n",
       "3  006d61cf7446e682f7bc50b0f8a5bea5           1811            327   \n",
       "4  006d61cf7446e682f7bc50b0f8a5bea5           1811            327   \n",
       "\n",
       "   ride_prime_time  ride_duration_min  ride_distance_miles  base_fare$  \\\n",
       "0               50               5.45             1.125303           2   \n",
       "1               50               5.45             1.125303           2   \n",
       "2               50               5.45             1.125303           2   \n",
       "3               50               5.45             1.125303           2   \n",
       "4               50               5.45             1.125303           2   \n",
       "\n",
       "   distance_ride_revenue$  duration_ride_revenue$  service_fee$  \\\n",
       "0                1.294099                   1.199          1.75   \n",
       "1                1.294099                   1.199          1.75   \n",
       "2                1.294099                   1.199          1.75   \n",
       "3                1.294099                   1.199          1.75   \n",
       "4                1.294099                   1.199          1.75   \n",
       "\n",
       "   driver_revenue_before_commission$           event           timestamp  \\\n",
       "0                           4.493099    requested_at 2016-04-23 02:13:50   \n",
       "1                           4.493099     accepted_at 2016-04-23 02:14:15   \n",
       "2                           4.493099      arrived_at 2016-04-23 02:16:36   \n",
       "3                           4.493099    picked_up_at 2016-04-23 02:16:40   \n",
       "4                           4.493099  dropped_off_at 2016-04-23 02:22:07   \n",
       "\n",
       "   month   day  weekday  hour  \n",
       "0    4.0  23.0      5.0   2.0  \n",
       "1    4.0  23.0      5.0   2.0  \n",
       "2    4.0  23.0      5.0   2.0  \n",
       "3    4.0  23.0      5.0   2.0  \n",
       "4    4.0  23.0      5.0   2.0  "
      ]
     },
     "execution_count": 99,
     "metadata": {},
     "output_type": "execute_result"
    }
   ],
   "source": [
    "mergeids2.head()"
   ]
  },
  {
   "cell_type": "code",
   "execution_count": 100,
   "metadata": {},
   "outputs": [
    {
     "data": {
      "text/html": [
       "<div>\n",
       "<style scoped>\n",
       "    .dataframe tbody tr th:only-of-type {\n",
       "        vertical-align: middle;\n",
       "    }\n",
       "\n",
       "    .dataframe tbody tr th {\n",
       "        vertical-align: top;\n",
       "    }\n",
       "\n",
       "    .dataframe thead th {\n",
       "        text-align: right;\n",
       "    }\n",
       "</style>\n",
       "<table border=\"1\" class=\"dataframe\">\n",
       "  <thead>\n",
       "    <tr style=\"text-align: right;\">\n",
       "      <th></th>\n",
       "      <th>driver_id</th>\n",
       "      <th>driver_onboard_date</th>\n",
       "      <th>ride_id</th>\n",
       "      <th>event</th>\n",
       "      <th>timestamp</th>\n",
       "    </tr>\n",
       "  </thead>\n",
       "  <tbody>\n",
       "    <tr>\n",
       "      <th>0</th>\n",
       "      <td>002be0ffdc997bd5c50703158b7c2491</td>\n",
       "      <td>2016-03-29</td>\n",
       "      <td>006d61cf7446e682f7bc50b0f8a5bea5</td>\n",
       "      <td>requested_at</td>\n",
       "      <td>2016-04-23 02:13:50</td>\n",
       "    </tr>\n",
       "    <tr>\n",
       "      <th>1</th>\n",
       "      <td>002be0ffdc997bd5c50703158b7c2491</td>\n",
       "      <td>2016-03-29</td>\n",
       "      <td>006d61cf7446e682f7bc50b0f8a5bea5</td>\n",
       "      <td>accepted_at</td>\n",
       "      <td>2016-04-23 02:14:15</td>\n",
       "    </tr>\n",
       "    <tr>\n",
       "      <th>2</th>\n",
       "      <td>002be0ffdc997bd5c50703158b7c2491</td>\n",
       "      <td>2016-03-29</td>\n",
       "      <td>006d61cf7446e682f7bc50b0f8a5bea5</td>\n",
       "      <td>arrived_at</td>\n",
       "      <td>2016-04-23 02:16:36</td>\n",
       "    </tr>\n",
       "    <tr>\n",
       "      <th>3</th>\n",
       "      <td>002be0ffdc997bd5c50703158b7c2491</td>\n",
       "      <td>2016-03-29</td>\n",
       "      <td>006d61cf7446e682f7bc50b0f8a5bea5</td>\n",
       "      <td>picked_up_at</td>\n",
       "      <td>2016-04-23 02:16:40</td>\n",
       "    </tr>\n",
       "    <tr>\n",
       "      <th>4</th>\n",
       "      <td>002be0ffdc997bd5c50703158b7c2491</td>\n",
       "      <td>2016-03-29</td>\n",
       "      <td>006d61cf7446e682f7bc50b0f8a5bea5</td>\n",
       "      <td>dropped_off_at</td>\n",
       "      <td>2016-04-23 02:22:07</td>\n",
       "    </tr>\n",
       "  </tbody>\n",
       "</table>\n",
       "</div>"
      ],
      "text/plain": [
       "                          driver_id driver_onboard_date  \\\n",
       "0  002be0ffdc997bd5c50703158b7c2491          2016-03-29   \n",
       "1  002be0ffdc997bd5c50703158b7c2491          2016-03-29   \n",
       "2  002be0ffdc997bd5c50703158b7c2491          2016-03-29   \n",
       "3  002be0ffdc997bd5c50703158b7c2491          2016-03-29   \n",
       "4  002be0ffdc997bd5c50703158b7c2491          2016-03-29   \n",
       "\n",
       "                            ride_id           event           timestamp  \n",
       "0  006d61cf7446e682f7bc50b0f8a5bea5    requested_at 2016-04-23 02:13:50  \n",
       "1  006d61cf7446e682f7bc50b0f8a5bea5     accepted_at 2016-04-23 02:14:15  \n",
       "2  006d61cf7446e682f7bc50b0f8a5bea5      arrived_at 2016-04-23 02:16:36  \n",
       "3  006d61cf7446e682f7bc50b0f8a5bea5    picked_up_at 2016-04-23 02:16:40  \n",
       "4  006d61cf7446e682f7bc50b0f8a5bea5  dropped_off_at 2016-04-23 02:22:07  "
      ]
     },
     "execution_count": 100,
     "metadata": {},
     "output_type": "execute_result"
    }
   ],
   "source": [
    "onboarding_lastridedf = mergeids2.drop([\"ride_distance\",\"ride_duration\",\"ride_prime_time\",\"ride_duration_min\",\"ride_distance_miles\",\"base_fare$\",\"duration_ride_revenue$\",\"distance_ride_revenue$\",\"service_fee$\",\"driver_revenue_before_commission$\",\"month\",\"day\",\"weekday\",\"hour\"], axis=1)\n",
    "\n",
    "onboarding_lastridedf.head()"
   ]
  },
  {
   "cell_type": "code",
   "execution_count": 101,
   "metadata": {},
   "outputs": [],
   "source": [
    "#check the date difference\n",
    "\n",
    "last_ride = onboarding_lastridedf.sort_values('timestamp').groupby(['driver_id'], as_index=False).last()"
   ]
  },
  {
   "cell_type": "code",
   "execution_count": 103,
   "metadata": {},
   "outputs": [
    {
     "data": {
      "text/plain": [
       "driver_id                      object\n",
       "driver_onboard_date    datetime64[ns]\n",
       "ride_id                        object\n",
       "event                          object\n",
       "timestamp              datetime64[ns]\n",
       "dtype: object"
      ]
     },
     "execution_count": 103,
     "metadata": {},
     "output_type": "execute_result"
    }
   ],
   "source": [
    "#check the types for calculation\n",
    "\n",
    "last_ride.dtypes"
   ]
  },
  {
   "cell_type": "code",
   "execution_count": 104,
   "metadata": {},
   "outputs": [],
   "source": [
    "#put on the same\n",
    "\n",
    "last_ride['timestamp'] = last_ride['timestamp'].dt.date\n",
    "last_ride['driver_onboard_date'] = last_ride['driver_onboard_date'].dt.date\n"
   ]
  },
  {
   "cell_type": "code",
   "execution_count": 105,
   "metadata": {},
   "outputs": [],
   "source": [
    "calculate \n",
    "\n",
    "last_ride[\"time_onboard_to_last_ride\"]=last_ride[\"timestamp\"]-last_ride[\"driver_onboard_date\"]"
   ]
  },
  {
   "cell_type": "code",
   "execution_count": 106,
   "metadata": {},
   "outputs": [
    {
     "data": {
      "text/html": [
       "<div>\n",
       "<style scoped>\n",
       "    .dataframe tbody tr th:only-of-type {\n",
       "        vertical-align: middle;\n",
       "    }\n",
       "\n",
       "    .dataframe tbody tr th {\n",
       "        vertical-align: top;\n",
       "    }\n",
       "\n",
       "    .dataframe thead th {\n",
       "        text-align: right;\n",
       "    }\n",
       "</style>\n",
       "<table border=\"1\" class=\"dataframe\">\n",
       "  <thead>\n",
       "    <tr style=\"text-align: right;\">\n",
       "      <th></th>\n",
       "      <th>driver_id</th>\n",
       "      <th>driver_onboard_date</th>\n",
       "      <th>ride_id</th>\n",
       "      <th>event</th>\n",
       "      <th>timestamp</th>\n",
       "      <th>time_onboard_to_last_ride</th>\n",
       "    </tr>\n",
       "  </thead>\n",
       "  <tbody>\n",
       "    <tr>\n",
       "      <th>0</th>\n",
       "      <td>002be0ffdc997bd5c50703158b7c2491</td>\n",
       "      <td>2016-03-29</td>\n",
       "      <td>93075a021099783be0af4afa8b3ee7ed</td>\n",
       "      <td>dropped_off_at</td>\n",
       "      <td>2016-06-23</td>\n",
       "      <td>86 days</td>\n",
       "    </tr>\n",
       "    <tr>\n",
       "      <th>1</th>\n",
       "      <td>007f0389f9c7b03ef97098422f902e62</td>\n",
       "      <td>2016-03-29</td>\n",
       "      <td>d31d7c47c230715656f7842f2ef4641a</td>\n",
       "      <td>dropped_off_at</td>\n",
       "      <td>2016-06-22</td>\n",
       "      <td>85 days</td>\n",
       "    </tr>\n",
       "    <tr>\n",
       "      <th>2</th>\n",
       "      <td>011e5c5dfc5c2c92501b8b24d47509bc</td>\n",
       "      <td>2016-04-05</td>\n",
       "      <td>2029bd672ace7ce8f7d92d69a34a37a1</td>\n",
       "      <td>dropped_off_at</td>\n",
       "      <td>2016-06-12</td>\n",
       "      <td>68 days</td>\n",
       "    </tr>\n",
       "    <tr>\n",
       "      <th>3</th>\n",
       "      <td>0152a2f305e71d26cc964f8d4411add9</td>\n",
       "      <td>2016-04-23</td>\n",
       "      <td>d19a77f52782f6f0e299101dd82af9f0</td>\n",
       "      <td>dropped_off_at</td>\n",
       "      <td>2016-06-26</td>\n",
       "      <td>64 days</td>\n",
       "    </tr>\n",
       "    <tr>\n",
       "      <th>4</th>\n",
       "      <td>01674381af7edd264113d4e6ed55ecda</td>\n",
       "      <td>2016-04-29</td>\n",
       "      <td>c1da2e61a6a44505ee12402f413c0878</td>\n",
       "      <td>dropped_off_at</td>\n",
       "      <td>2016-06-24</td>\n",
       "      <td>56 days</td>\n",
       "    </tr>\n",
       "    <tr>\n",
       "      <th>...</th>\n",
       "      <td>...</td>\n",
       "      <td>...</td>\n",
       "      <td>...</td>\n",
       "      <td>...</td>\n",
       "      <td>...</td>\n",
       "      <td>...</td>\n",
       "    </tr>\n",
       "    <tr>\n",
       "      <th>832</th>\n",
       "      <td>ff419a3476e21e269e340b5f1f05414e</td>\n",
       "      <td>2016-04-26</td>\n",
       "      <td>610509a5b6635f58b48d68c67a94d4e7</td>\n",
       "      <td>dropped_off_at</td>\n",
       "      <td>2016-06-26</td>\n",
       "      <td>61 days</td>\n",
       "    </tr>\n",
       "    <tr>\n",
       "      <th>833</th>\n",
       "      <td>ff714a67ba8c6a108261cd81e3b77f3a</td>\n",
       "      <td>2016-03-28</td>\n",
       "      <td>e8b6f63fc3ab95778bcab5cc81a3f2a4</td>\n",
       "      <td>dropped_off_at</td>\n",
       "      <td>2016-06-17</td>\n",
       "      <td>81 days</td>\n",
       "    </tr>\n",
       "    <tr>\n",
       "      <th>834</th>\n",
       "      <td>fff482c704d36a1afe8b8978d5486283</td>\n",
       "      <td>2016-04-08</td>\n",
       "      <td>e330cc9fc3b9357c4ccc133231eb42b7</td>\n",
       "      <td>dropped_off_at</td>\n",
       "      <td>2016-05-12</td>\n",
       "      <td>34 days</td>\n",
       "    </tr>\n",
       "    <tr>\n",
       "      <th>835</th>\n",
       "      <td>fffecccc49436c5389075b13209f0dfa</td>\n",
       "      <td>2016-05-06</td>\n",
       "      <td>7d929a0c070f94225bb7f918772ab009</td>\n",
       "      <td>dropped_off_at</td>\n",
       "      <td>2016-06-26</td>\n",
       "      <td>51 days</td>\n",
       "    </tr>\n",
       "    <tr>\n",
       "      <th>836</th>\n",
       "      <td>ffff51a71f2f185ec5e97d59dbcd7a78</td>\n",
       "      <td>2016-05-04</td>\n",
       "      <td>f90966687aebca6cc9efcd9e42897b75</td>\n",
       "      <td>dropped_off_at</td>\n",
       "      <td>2016-06-27</td>\n",
       "      <td>54 days</td>\n",
       "    </tr>\n",
       "  </tbody>\n",
       "</table>\n",
       "<p>837 rows × 6 columns</p>\n",
       "</div>"
      ],
      "text/plain": [
       "                            driver_id driver_onboard_date  \\\n",
       "0    002be0ffdc997bd5c50703158b7c2491          2016-03-29   \n",
       "1    007f0389f9c7b03ef97098422f902e62          2016-03-29   \n",
       "2    011e5c5dfc5c2c92501b8b24d47509bc          2016-04-05   \n",
       "3    0152a2f305e71d26cc964f8d4411add9          2016-04-23   \n",
       "4    01674381af7edd264113d4e6ed55ecda          2016-04-29   \n",
       "..                                ...                 ...   \n",
       "832  ff419a3476e21e269e340b5f1f05414e          2016-04-26   \n",
       "833  ff714a67ba8c6a108261cd81e3b77f3a          2016-03-28   \n",
       "834  fff482c704d36a1afe8b8978d5486283          2016-04-08   \n",
       "835  fffecccc49436c5389075b13209f0dfa          2016-05-06   \n",
       "836  ffff51a71f2f185ec5e97d59dbcd7a78          2016-05-04   \n",
       "\n",
       "                              ride_id           event   timestamp  \\\n",
       "0    93075a021099783be0af4afa8b3ee7ed  dropped_off_at  2016-06-23   \n",
       "1    d31d7c47c230715656f7842f2ef4641a  dropped_off_at  2016-06-22   \n",
       "2    2029bd672ace7ce8f7d92d69a34a37a1  dropped_off_at  2016-06-12   \n",
       "3    d19a77f52782f6f0e299101dd82af9f0  dropped_off_at  2016-06-26   \n",
       "4    c1da2e61a6a44505ee12402f413c0878  dropped_off_at  2016-06-24   \n",
       "..                                ...             ...         ...   \n",
       "832  610509a5b6635f58b48d68c67a94d4e7  dropped_off_at  2016-06-26   \n",
       "833  e8b6f63fc3ab95778bcab5cc81a3f2a4  dropped_off_at  2016-06-17   \n",
       "834  e330cc9fc3b9357c4ccc133231eb42b7  dropped_off_at  2016-05-12   \n",
       "835  7d929a0c070f94225bb7f918772ab009  dropped_off_at  2016-06-26   \n",
       "836  f90966687aebca6cc9efcd9e42897b75  dropped_off_at  2016-06-27   \n",
       "\n",
       "    time_onboard_to_last_ride  \n",
       "0                     86 days  \n",
       "1                     85 days  \n",
       "2                     68 days  \n",
       "3                     64 days  \n",
       "4                     56 days  \n",
       "..                        ...  \n",
       "832                   61 days  \n",
       "833                   81 days  \n",
       "834                   34 days  \n",
       "835                   51 days  \n",
       "836                   54 days  \n",
       "\n",
       "[837 rows x 6 columns]"
      ]
     },
     "execution_count": 106,
     "metadata": {},
     "output_type": "execute_result"
    }
   ],
   "source": [
    "last_ride"
   ]
  },
  {
   "cell_type": "code",
   "execution_count": 107,
   "metadata": {},
   "outputs": [],
   "source": [
    "#import ploting and stats lib\n",
    "\n",
    "import matplotlib.pyplot as plt\n",
    "import seaborn as sns\n",
    "import statsmodels.api as sm"
   ]
  },
  {
   "cell_type": "code",
   "execution_count": 108,
   "metadata": {},
   "outputs": [],
   "source": [
    "#convert into int to plot\n",
    "\n",
    "last_ride[\"time_onboard_to_last_ride\"]=last_ride[\"time_onboard_to_last_ride\"].dt.days"
   ]
  },
  {
   "cell_type": "code",
   "execution_count": 109,
   "metadata": {},
   "outputs": [
    {
     "data": {
      "text/plain": [
       "driver_id                    object\n",
       "driver_onboard_date          object\n",
       "ride_id                      object\n",
       "event                        object\n",
       "timestamp                    object\n",
       "time_onboard_to_last_ride     int64\n",
       "dtype: object"
      ]
     },
     "execution_count": 109,
     "metadata": {},
     "output_type": "execute_result"
    }
   ],
   "source": [
    "#check if correct\n",
    "\n",
    "last_ride.dtypes"
   ]
  },
  {
   "cell_type": "code",
   "execution_count": 110,
   "metadata": {},
   "outputs": [
    {
     "data": {
      "text/plain": [
       "55.10513739545998"
      ]
     },
     "execution_count": 110,
     "metadata": {},
     "output_type": "execute_result"
    }
   ],
   "source": [
    "#check min for reference\n",
    "\n",
    "meanline=last_ride[\"time_onboard_to_last_ride\"].mean()\n",
    "meanline"
   ]
  },
  {
   "cell_type": "code",
   "execution_count": 111,
   "metadata": {
    "scrolled": true
   },
   "outputs": [
    {
     "data": {
      "text/plain": [
       "Text(0.5, 1.0, 'Driver`s lifetime (days)')"
      ]
     },
     "execution_count": 111,
     "metadata": {},
     "output_type": "execute_result"
    },
    {
     "data": {
      "image/png": "[encoded data removed]",
      "text/plain": [
       "<Figure size 720x432 with 1 Axes>"
      ]
     },
     "metadata": {
      "needs_background": "light"
     },
     "output_type": "display_data"
    }
   ],
   "source": [
    "#plot checking for trends\n",
    "\n",
    "fig, ax = plt.subplots(figsize=(10,6))\n",
    "sns.barplot(data=last_ride,\n",
    "                x=\"driver_id\",\n",
    "                y=\"time_onboard_to_last_ride\",\n",
    "                order=last_ride.sort_values('time_onboard_to_last_ride').driver_id,\n",
    "                palette=\"rocket\",\n",
    "                ax=ax);\n",
    "ax.axhline (meanline, color=\"black\")\n",
    "plt.xlabel(\"Drivers\", size=10)\n",
    "plt.ylabel(\"Time from onboarding until last ride (days)\", size=10)\n",
    "plt.title(\"Driver`s lifetime (days)\", size=15)"
   ]
  },
  {
   "cell_type": "code",
   "execution_count": 162,
   "metadata": {},
   "outputs": [],
   "source": [
    "driver_onboarding_df=last_ride[[\"driver_id\",\"time_onboard_to_last_ride\"]]"
   ]
  },
  {
   "cell_type": "code",
   "execution_count": 163,
   "metadata": {},
   "outputs": [
    {
     "data": {
      "text/html": [
       "<div>\n",
       "<style scoped>\n",
       "    .dataframe tbody tr th:only-of-type {\n",
       "        vertical-align: middle;\n",
       "    }\n",
       "\n",
       "    .dataframe tbody tr th {\n",
       "        vertical-align: top;\n",
       "    }\n",
       "\n",
       "    .dataframe thead th {\n",
       "        text-align: right;\n",
       "    }\n",
       "</style>\n",
       "<table border=\"1\" class=\"dataframe\">\n",
       "  <thead>\n",
       "    <tr style=\"text-align: right;\">\n",
       "      <th></th>\n",
       "      <th>driver_id</th>\n",
       "      <th>time_onboard_to_last_ride</th>\n",
       "    </tr>\n",
       "  </thead>\n",
       "  <tbody>\n",
       "    <tr>\n",
       "      <th>0</th>\n",
       "      <td>002be0ffdc997bd5c50703158b7c2491</td>\n",
       "      <td>86</td>\n",
       "    </tr>\n",
       "    <tr>\n",
       "      <th>1</th>\n",
       "      <td>007f0389f9c7b03ef97098422f902e62</td>\n",
       "      <td>85</td>\n",
       "    </tr>\n",
       "    <tr>\n",
       "      <th>2</th>\n",
       "      <td>011e5c5dfc5c2c92501b8b24d47509bc</td>\n",
       "      <td>68</td>\n",
       "    </tr>\n",
       "    <tr>\n",
       "      <th>3</th>\n",
       "      <td>0152a2f305e71d26cc964f8d4411add9</td>\n",
       "      <td>64</td>\n",
       "    </tr>\n",
       "    <tr>\n",
       "      <th>4</th>\n",
       "      <td>01674381af7edd264113d4e6ed55ecda</td>\n",
       "      <td>56</td>\n",
       "    </tr>\n",
       "  </tbody>\n",
       "</table>\n",
       "</div>"
      ],
      "text/plain": [
       "                          driver_id  time_onboard_to_last_ride\n",
       "0  002be0ffdc997bd5c50703158b7c2491                         86\n",
       "1  007f0389f9c7b03ef97098422f902e62                         85\n",
       "2  011e5c5dfc5c2c92501b8b24d47509bc                         68\n",
       "3  0152a2f305e71d26cc964f8d4411add9                         64\n",
       "4  01674381af7edd264113d4e6ed55ecda                         56"
      ]
     },
     "execution_count": 163,
     "metadata": {},
     "output_type": "execute_result"
    }
   ],
   "source": [
    "driver_onboarding_df.head()"
   ]
  },
  {
   "cell_type": "code",
   "execution_count": 167,
   "metadata": {},
   "outputs": [
    {
     "data": {
      "text/html": [
       "<div>\n",
       "<style scoped>\n",
       "    .dataframe tbody tr th:only-of-type {\n",
       "        vertical-align: middle;\n",
       "    }\n",
       "\n",
       "    .dataframe tbody tr th {\n",
       "        vertical-align: top;\n",
       "    }\n",
       "\n",
       "    .dataframe thead th {\n",
       "        text-align: right;\n",
       "    }\n",
       "</style>\n",
       "<table border=\"1\" class=\"dataframe\">\n",
       "  <thead>\n",
       "    <tr style=\"text-align: right;\">\n",
       "      <th></th>\n",
       "      <th>driver_id</th>\n",
       "      <th>ride_id</th>\n",
       "      <th>lyft_total_revenue_ride$</th>\n",
       "    </tr>\n",
       "  </thead>\n",
       "  <tbody>\n",
       "    <tr>\n",
       "      <th>354</th>\n",
       "      <td>5ccc0e6dc9c7475caf785cdce7b8eb7a</td>\n",
       "      <td>919</td>\n",
       "      <td>3.632313</td>\n",
       "    </tr>\n",
       "    <tr>\n",
       "      <th>308</th>\n",
       "      <td>4eb382d1f7d50fae1294964263d1ce82</td>\n",
       "      <td>831</td>\n",
       "      <td>3.531804</td>\n",
       "    </tr>\n",
       "    <tr>\n",
       "      <th>509</th>\n",
       "      <td>844e9be5a30d8d9c1f8e9ddb086ff717</td>\n",
       "      <td>821</td>\n",
       "      <td>3.594008</td>\n",
       "    </tr>\n",
       "    <tr>\n",
       "      <th>401</th>\n",
       "      <td>689bdf87fb2de49f98bf4946cfaa5068</td>\n",
       "      <td>794</td>\n",
       "      <td>3.383696</td>\n",
       "    </tr>\n",
       "    <tr>\n",
       "      <th>217</th>\n",
       "      <td>3788dc9e91f1548816ce8b5af07ddadc</td>\n",
       "      <td>783</td>\n",
       "      <td>3.835977</td>\n",
       "    </tr>\n",
       "  </tbody>\n",
       "</table>\n",
       "</div>"
      ],
      "text/plain": [
       "                            driver_id  ride_id  lyft_total_revenue_ride$\n",
       "354  5ccc0e6dc9c7475caf785cdce7b8eb7a      919                  3.632313\n",
       "308  4eb382d1f7d50fae1294964263d1ce82      831                  3.531804\n",
       "509  844e9be5a30d8d9c1f8e9ddb086ff717      821                  3.594008\n",
       "401  689bdf87fb2de49f98bf4946cfaa5068      794                  3.383696\n",
       "217  3788dc9e91f1548816ce8b5af07ddadc      783                  3.835977"
      ]
     },
     "execution_count": 167,
     "metadata": {},
     "output_type": "execute_result"
    }
   ],
   "source": [
    "#call driver_frequency_lifetime_df to merge\n",
    "\n",
    "driver_frequency_lifetime_df.head()"
   ]
  },
  {
   "cell_type": "code",
   "execution_count": 169,
   "metadata": {},
   "outputs": [
    {
     "data": {
      "text/html": [
       "<div>\n",
       "<style scoped>\n",
       "    .dataframe tbody tr th:only-of-type {\n",
       "        vertical-align: middle;\n",
       "    }\n",
       "\n",
       "    .dataframe tbody tr th {\n",
       "        vertical-align: top;\n",
       "    }\n",
       "\n",
       "    .dataframe thead th {\n",
       "        text-align: right;\n",
       "    }\n",
       "</style>\n",
       "<table border=\"1\" class=\"dataframe\">\n",
       "  <thead>\n",
       "    <tr style=\"text-align: right;\">\n",
       "      <th></th>\n",
       "      <th>driver_id</th>\n",
       "      <th>time_onboard_to_last_ride</th>\n",
       "      <th>number_of_rides</th>\n",
       "      <th>lyft_total_revenue_ride$</th>\n",
       "    </tr>\n",
       "  </thead>\n",
       "  <tbody>\n",
       "    <tr>\n",
       "      <th>0</th>\n",
       "      <td>002be0ffdc997bd5c50703158b7c2491</td>\n",
       "      <td>86</td>\n",
       "      <td>277</td>\n",
       "      <td>3.528583</td>\n",
       "    </tr>\n",
       "    <tr>\n",
       "      <th>1</th>\n",
       "      <td>007f0389f9c7b03ef97098422f902e62</td>\n",
       "      <td>85</td>\n",
       "      <td>31</td>\n",
       "      <td>3.058267</td>\n",
       "    </tr>\n",
       "    <tr>\n",
       "      <th>2</th>\n",
       "      <td>011e5c5dfc5c2c92501b8b24d47509bc</td>\n",
       "      <td>68</td>\n",
       "      <td>34</td>\n",
       "      <td>3.824111</td>\n",
       "    </tr>\n",
       "    <tr>\n",
       "      <th>3</th>\n",
       "      <td>0152a2f305e71d26cc964f8d4411add9</td>\n",
       "      <td>64</td>\n",
       "      <td>191</td>\n",
       "      <td>3.812694</td>\n",
       "    </tr>\n",
       "    <tr>\n",
       "      <th>4</th>\n",
       "      <td>01674381af7edd264113d4e6ed55ecda</td>\n",
       "      <td>56</td>\n",
       "      <td>375</td>\n",
       "      <td>3.974707</td>\n",
       "    </tr>\n",
       "  </tbody>\n",
       "</table>\n",
       "</div>"
      ],
      "text/plain": [
       "                          driver_id  time_onboard_to_last_ride  \\\n",
       "0  002be0ffdc997bd5c50703158b7c2491                         86   \n",
       "1  007f0389f9c7b03ef97098422f902e62                         85   \n",
       "2  011e5c5dfc5c2c92501b8b24d47509bc                         68   \n",
       "3  0152a2f305e71d26cc964f8d4411add9                         64   \n",
       "4  01674381af7edd264113d4e6ed55ecda                         56   \n",
       "\n",
       "   number_of_rides  lyft_total_revenue_ride$  \n",
       "0              277                  3.528583  \n",
       "1               31                  3.058267  \n",
       "2               34                  3.824111  \n",
       "3              191                  3.812694  \n",
       "4              375                  3.974707  "
      ]
     },
     "execution_count": 169,
     "metadata": {},
     "output_type": "execute_result"
    }
   ],
   "source": [
    "#check for correlation amount of rides and time staying on board\n",
    "\n",
    "avg_nr_rides_df=driver_onboarding_df.merge(driver_frequency_lifetime_df, left_on=\"driver_id\", right_on=\"driver_id\")\n",
    "avg_nr_rides_df.columns=[\"driver_id\",\"time_onboard_to_last_ride\",\"number_of_rides\",\"lyft_total_revenue_ride$\"]\n",
    "avg_nr_rides_df.head()"
   ]
  },
  {
   "cell_type": "code",
   "execution_count": 170,
   "metadata": {},
   "outputs": [],
   "source": [
    "#import stats library\n",
    "\n",
    "import statsmodels.api as sm"
   ]
  },
  {
   "cell_type": "code",
   "execution_count": 174,
   "metadata": {},
   "outputs": [
    {
     "data": {
      "text/html": [
       "<table class=\"simpletable\">\n",
       "<caption>OLS Regression Results</caption>\n",
       "<tr>\n",
       "  <th>Dep. Variable:</th>    <td>time_onboard_to_last_ride</td> <th>  R-squared:         </th> <td>   0.291</td>\n",
       "</tr>\n",
       "<tr>\n",
       "  <th>Model:</th>                       <td>OLS</td>            <th>  Adj. R-squared:    </th> <td>   0.289</td>\n",
       "</tr>\n",
       "<tr>\n",
       "  <th>Method:</th>                 <td>Least Squares</td>       <th>  F-statistic:       </th> <td>   171.2</td>\n",
       "</tr>\n",
       "<tr>\n",
       "  <th>Date:</th>                 <td>Fri, 18 Dec 2020</td>      <th>  Prob (F-statistic):</th> <td>5.00e-63</td>\n",
       "</tr>\n",
       "<tr>\n",
       "  <th>Time:</th>                     <td>13:29:51</td>          <th>  Log-Likelihood:    </th> <td> -3619.9</td>\n",
       "</tr>\n",
       "<tr>\n",
       "  <th>No. Observations:</th>          <td>   837</td>           <th>  AIC:               </th> <td>   7246.</td>\n",
       "</tr>\n",
       "<tr>\n",
       "  <th>Df Residuals:</th>              <td>   834</td>           <th>  BIC:               </th> <td>   7260.</td>\n",
       "</tr>\n",
       "<tr>\n",
       "  <th>Df Model:</th>                  <td>     2</td>           <th>                     </th>     <td> </td>   \n",
       "</tr>\n",
       "<tr>\n",
       "  <th>Covariance Type:</th>          <td>nonrobust</td>         <th>                     </th>     <td> </td>   \n",
       "</tr>\n",
       "</table>\n",
       "<table class=\"simpletable\">\n",
       "<tr>\n",
       "              <td></td>                <th>coef</th>     <th>std err</th>      <th>t</th>      <th>P>|t|</th>  <th>[0.025</th>    <th>0.975]</th>  \n",
       "</tr>\n",
       "<tr>\n",
       "  <th>const</th>                    <td>   21.6613</td> <td>    5.901</td> <td>    3.671</td> <td> 0.000</td> <td>   10.078</td> <td>   33.245</td>\n",
       "</tr>\n",
       "<tr>\n",
       "  <th>number_of_rides</th>          <td>    0.0661</td> <td>    0.004</td> <td>   18.466</td> <td> 0.000</td> <td>    0.059</td> <td>    0.073</td>\n",
       "</tr>\n",
       "<tr>\n",
       "  <th>lyft_total_revenue_ride$</th> <td>    5.0892</td> <td>    1.542</td> <td>    3.301</td> <td> 0.001</td> <td>    2.064</td> <td>    8.115</td>\n",
       "</tr>\n",
       "</table>\n",
       "<table class=\"simpletable\">\n",
       "<tr>\n",
       "  <th>Omnibus:</th>       <td>45.326</td> <th>  Durbin-Watson:     </th> <td>   1.900</td>\n",
       "</tr>\n",
       "<tr>\n",
       "  <th>Prob(Omnibus):</th> <td> 0.000</td> <th>  Jarque-Bera (JB):  </th> <td>  18.152</td>\n",
       "</tr>\n",
       "<tr>\n",
       "  <th>Skew:</th>          <td>-0.051</td> <th>  Prob(JB):          </th> <td>0.000114</td>\n",
       "</tr>\n",
       "<tr>\n",
       "  <th>Kurtosis:</th>      <td> 2.286</td> <th>  Cond. No.          </th> <td>2.73e+03</td>\n",
       "</tr>\n",
       "</table><br/><br/>Warnings:<br/>[1] Standard Errors assume that the covariance matrix of the errors is correctly specified.<br/>[2] The condition number is large, 2.73e+03. This might indicate that there are<br/>strong multicollinearity or other numerical problems."
      ],
      "text/plain": [
       "<class 'statsmodels.iolib.summary.Summary'>\n",
       "\"\"\"\n",
       "                                OLS Regression Results                               \n",
       "=====================================================================================\n",
       "Dep. Variable:     time_onboard_to_last_ride   R-squared:                       0.291\n",
       "Model:                                   OLS   Adj. R-squared:                  0.289\n",
       "Method:                        Least Squares   F-statistic:                     171.2\n",
       "Date:                       Fri, 18 Dec 2020   Prob (F-statistic):           5.00e-63\n",
       "Time:                               13:29:51   Log-Likelihood:                -3619.9\n",
       "No. Observations:                        837   AIC:                             7246.\n",
       "Df Residuals:                            834   BIC:                             7260.\n",
       "Df Model:                                  2                                         \n",
       "Covariance Type:                   nonrobust                                         \n",
       "============================================================================================\n",
       "                               coef    std err          t      P>|t|      [0.025      0.975]\n",
       "--------------------------------------------------------------------------------------------\n",
       "const                       21.6613      5.901      3.671      0.000      10.078      33.245\n",
       "number_of_rides              0.0661      0.004     18.466      0.000       0.059       0.073\n",
       "lyft_total_revenue_ride$     5.0892      1.542      3.301      0.001       2.064       8.115\n",
       "==============================================================================\n",
       "Omnibus:                       45.326   Durbin-Watson:                   1.900\n",
       "Prob(Omnibus):                  0.000   Jarque-Bera (JB):               18.152\n",
       "Skew:                          -0.051   Prob(JB):                     0.000114\n",
       "Kurtosis:                       2.286   Cond. No.                     2.73e+03\n",
       "==============================================================================\n",
       "\n",
       "Warnings:\n",
       "[1] Standard Errors assume that the covariance matrix of the errors is correctly specified.\n",
       "[2] The condition number is large, 2.73e+03. This might indicate that there are\n",
       "strong multicollinearity or other numerical problems.\n",
       "\"\"\""
      ]
     },
     "execution_count": 174,
     "metadata": {},
     "output_type": "execute_result"
    }
   ],
   "source": [
    "#check linear regression\n",
    "\n",
    "avg_nr_rides_df2=avg_nr_rides_df.copy()\n",
    "\n",
    "avg_nr_rides_df2=sm.add_constant(avg_nr_rides_df2)\n",
    "y=avg_nr_rides_df2[\"time_onboard_to_last_ride\"]\n",
    "X=avg_nr_rides_df2[[\"const\", \"number_of_rides\",\"lyft_total_revenue_ride$\"]]\n",
    "\n",
    "reg=sm.OLS(y, X).fit()\n",
    "\n",
    "reg.summary()"
   ]
  },
  {
   "cell_type": "code",
   "execution_count": 112,
   "metadata": {},
   "outputs": [],
   "source": [
    "#plot\n",
    "#take outliers - only when clustering by money generated?"
   ]
  },
  {
   "cell_type": "code",
   "execution_count": 113,
   "metadata": {},
   "outputs": [],
   "source": [
    "#  What are the main factors that affect a driver’s lifetime value?\n",
    "\n",
    "# time, distance etc?"
   ]
  },
  {
   "cell_type": "code",
   "execution_count": 114,
   "metadata": {},
   "outputs": [],
   "source": [
    "#check how much the ones staying longer earned and how many drives"
   ]
  },
  {
   "cell_type": "code",
   "execution_count": 115,
   "metadata": {},
   "outputs": [],
   "source": [
    "# merge lifetime_revenue_df and last_ride to know how much the drives staying longer earned in average - scatter plot with average time and earning"
   ]
  },
  {
   "cell_type": "code",
   "execution_count": 116,
   "metadata": {},
   "outputs": [],
   "source": [
    "# also check correlation here"
   ]
  },
  {
   "cell_type": "code",
   "execution_count": 117,
   "metadata": {},
   "outputs": [],
   "source": [
    "#drivers churn in 1, 2 or 3 months perspective?\n"
   ]
  },
  {
   "cell_type": "code",
   "execution_count": 118,
   "metadata": {},
   "outputs": [],
   "source": [
    "# drivers at friday and saturday night probably add more value - more rides at least, check if more money?"
   ]
  },
  {
   "cell_type": "code",
   "execution_count": 119,
   "metadata": {},
   "outputs": [],
   "source": [
    "# for the churn, make bins like https://github.com/Brunadiasmiguel/illegal_fishing/blob/master/data_analysis/analysis_prediction_model.ipynb"
   ]
  },
  {
   "cell_type": "markdown",
   "metadata": {},
   "source": [
    "# Churn"
   ]
  },
  {
   "cell_type": "markdown",
   "metadata": {},
   "source": [
    "# Analysis driver perspective"
   ]
  }
 ],
 "metadata": {
  "kernelspec": {
   "display_name": "Python 3",
   "language": "python",
   "name": "python3"
  },
  "language_info": {
   "codemirror_mode": {
    "name": "ipython",
    "version": 3
   },
   "file_extension": ".py",
   "mimetype": "text/x-python",
   "name": "python",
   "nbconvert_exporter": "python",
   "pygments_lexer": "ipython3",
   "version": "3.8.5"
  }
 },
 "nbformat": 4,
 "nbformat_minor": 4
}
